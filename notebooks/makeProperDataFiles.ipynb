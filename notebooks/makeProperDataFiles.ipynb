{
 "cells": [
  {
   "cell_type": "code",
   "execution_count": 1,
   "metadata": {},
   "outputs": [],
   "source": [
    "import pandas as pd"
   ]
  },
  {
   "cell_type": "code",
   "execution_count": 2,
   "metadata": {},
   "outputs": [],
   "source": [
    "raw_datafile = 'data/Thioesterase_Master_List_modified.xlsx'\n",
    "raw_regression_labelfile = 'data/ThioesteraseProductFractionLabel.xlsx'"
   ]
  },
  {
   "cell_type": "code",
   "execution_count": 3,
   "metadata": {},
   "outputs": [],
   "source": [
    "'''Files needed:\n",
    "- 1 csv file with enz_alias,enz_sequence\n",
    "- 3 csv files with enz_alias,enz_labels(multiclass,binary,regression)\n",
    "- 1 csv file with enz_alias,enz_name mapping\n",
    "- 1 fasta file with header as enz_alias and second line as sequence.'''\n",
    "\n",
    "raw_df = pd.read_excel(raw_datafile,sheet_name='characterized_TE',usecols=[1,7,11],nrows=116)"
   ]
  },
  {
   "cell_type": "code",
   "execution_count": 4,
   "metadata": {},
   "outputs": [],
   "source": [
    "#assign proper column names\n",
    "raw_df.columns = ['enzNames','sequence','label']\n",
    "\n",
    "#make all the sequences upper and get rid of -\n",
    "def upSeq(seqString):\n",
    "    return seqString.upper().replace('-','')\n",
    "\n",
    "raw_df['sequence'] = raw_df.sequence.apply(upSeq)\n",
    "\n",
    "#get rid of sequences with values in 'B', 'J', 'O', 'U', 'X' and 'Z'\n",
    "df = raw_df.loc[~raw_df['sequence'].str.contains('B|J|O|U|X|Z')]\n",
    "\n",
    "# give enz_alias\n",
    "enz_alias = [f'enz_{i}' for i in range(len(df['enzNames']))]\n",
    "df = df.assign(enzAlias=enz_alias)\n",
    "\n",
    "# create dictionary mapping between alias and enzyme names\n",
    "enz_mapdict = dict(zip(df['enzAlias'],df['enzNames']))\n",
    "\n",
    "# create binary labels\n",
    "def binaryLabel(val):\n",
    "    if val==3:\n",
    "        return 1\n",
    "    else:\n",
    "        return 0\n",
    "\n",
    "df['binaryLabel'] = df.label.apply(binaryLabel)\n",
    "\n",
    "# create regression labels\n",
    "raw_df_reg = pd.read_excel(raw_regression_labelfile,header=None)\n",
    "raw_df_reg.loc[114,0] = 'Prunus_sibirica_L._(Siberian apricot)' #useless modification\n",
    "raw_df_reg.loc[111,0] = 'UcFatB1(R197M, M199H, T231K)' #useless modification\n",
    "raw_df_reg.loc[112,0] = 'UcFatB1(197M, M199H)' #useless modification\n",
    "df_reg = raw_df_reg.merge(df.loc[:,['enzNames','sequence','enzAlias']],right_on='enzNames',left_on=0)"
   ]
  },
  {
   "cell_type": "code",
   "execution_count": 5,
   "metadata": {},
   "outputs": [],
   "source": [
    "# save the csv sequence file\n",
    "df.loc[:,['enzAlias','sequence']].to_csv('data/SeqFile/EnzymeSequence.csv',header=None,index=None)\n",
    "\n",
    "#save the csv label files\n",
    "df.loc[:,['enzAlias','label']].to_csv('data/LabelFiles/EnzymeLabelsMultiClass.csv',header=None,index=None)\n",
    "df.loc[:,['enzAlias','binaryLabel']].to_csv('data/LabelFiles/EnzymeLabelsBinary.csv',header=None,index=None)\n",
    "df_reg.loc[:,['enzAlias',1]].to_csv('data/LabelFiles/EnzymeLabelsRegression.csv',header=None,index=None)\n",
    "\n",
    "#save the enzyme name mappings\n",
    "df.loc[:,['enzAlias','enzNames']].to_csv('data/EnzymeNameMap.csv',header=None,index=None)\n",
    "\n",
    "#createFastafile\n",
    "with open('data/SeqFile/EnzymeFasta.fa','w') as f:\n",
    "    for enzal,enzseq in zip(df.enzAlias,df.sequence):\n",
    "        f.write('>'+enzal)\n",
    "        f.write('\\n')\n",
    "        f.write(enzseq+'\\n')"
   ]
  }
 ],
 "metadata": {
  "kernelspec": {
   "display_name": "Python 3",
   "language": "python",
   "name": "python3"
  },
  "language_info": {
   "codemirror_mode": {
    "name": "ipython",
    "version": 3
   },
   "file_extension": ".py",
   "mimetype": "text/x-python",
   "name": "python",
   "nbconvert_exporter": "python",
   "pygments_lexer": "ipython3",
   "version": "3.7.9"
  }
 },
 "nbformat": 4,
 "nbformat_minor": 4
}
