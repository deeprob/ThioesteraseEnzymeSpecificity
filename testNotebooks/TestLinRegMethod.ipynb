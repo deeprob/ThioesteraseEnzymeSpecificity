{
 "cells": [
  {
   "cell_type": "code",
   "execution_count": 2,
   "metadata": {},
   "outputs": [],
   "source": [
    "import pandas as pd\n",
    "import sys\n",
    "\n",
    "sys.path.append('../')"
   ]
  },
  {
   "cell_type": "code",
   "execution_count": 3,
   "metadata": {},
   "outputs": [],
   "source": [
    "import helper"
   ]
  },
  {
   "cell_type": "code",
   "execution_count": 4,
   "metadata": {},
   "outputs": [],
   "source": [
    "labelfile = '../Data/ThioesteraseProductFractionLabel.xlsx'\n",
    "seqfile = '../Data/Enzyme_Dataset.txt'"
   ]
  },
  {
   "cell_type": "code",
   "execution_count": 5,
   "metadata": {},
   "outputs": [],
   "source": [
    "df = pd.read_excel(labelfile,header=None)"
   ]
  },
  {
   "cell_type": "code",
   "execution_count": 6,
   "metadata": {},
   "outputs": [],
   "source": [
    "Xnameref,y = df.iloc[:,0].values,df.iloc[:,1].values"
   ]
  },
  {
   "cell_type": "code",
   "execution_count": 7,
   "metadata": {},
   "outputs": [],
   "source": [
    "seq,label,Xname = helper.parseEnzymeFile(seqfile)"
   ]
  },
  {
   "cell_type": "code",
   "execution_count": 8,
   "metadata": {},
   "outputs": [],
   "source": [
    "seqdictmap = dict(zip(Xname,seq))"
   ]
  },
  {
   "cell_type": "code",
   "execution_count": 9,
   "metadata": {},
   "outputs": [],
   "source": [
    "labeldictmap = dict(zip(Xnameref,y))"
   ]
  },
  {
   "cell_type": "code",
   "execution_count": 10,
   "metadata": {},
   "outputs": [
    {
     "name": "stdout",
     "output_type": "stream",
     "text": [
      "Cuphea_viscosissima_(CvFatB1)\n",
      "Cuphea_viscosissima_(CvFatB2)\n",
      "Cuphea_carthagenesis_(CcFatB)\n"
     ]
    }
   ],
   "source": [
    "enzname = []\n",
    "X = []\n",
    "y = []\n",
    "\n",
    "for xn in seqdictmap.keys():\n",
    "    if xn in labeldictmap:\n",
    "        enzname.append(xn)\n",
    "        X.append(seqdictmap[xn])\n",
    "        y.append(labeldictmap[xn])\n",
    "    else:\n",
    "        print(xn)"
   ]
  },
  {
   "cell_type": "code",
   "execution_count": 11,
   "metadata": {},
   "outputs": [],
   "source": [
    "# with open('../Data/RegressionData.txt','w') as f:\n",
    "#     for name,seq,label in zip(enzname,X,y):\n",
    "#         f.write(name + ',' + seq + ',' + str(label))\n",
    "#         f.write('\\n')\n",
    "    "
   ]
  },
  {
   "cell_type": "code",
   "execution_count": 12,
   "metadata": {},
   "outputs": [
    {
     "data": {
      "text/plain": [
       "103"
      ]
     },
     "execution_count": 12,
     "metadata": {},
     "output_type": "execute_result"
    }
   ],
   "source": [
    "len(enzname)"
   ]
  },
  {
   "cell_type": "code",
   "execution_count": 13,
   "metadata": {},
   "outputs": [
    {
     "data": {
      "text/plain": [
       "103"
      ]
     },
     "execution_count": 13,
     "metadata": {},
     "output_type": "execute_result"
    }
   ],
   "source": [
    "len(X)"
   ]
  },
  {
   "cell_type": "code",
   "execution_count": 14,
   "metadata": {},
   "outputs": [],
   "source": [
    "import numpy as np\n",
    "enzname,X,y = np.array(enzname),np.array(X),np.array(y)"
   ]
  },
  {
   "cell_type": "code",
   "execution_count": 15,
   "metadata": {},
   "outputs": [],
   "source": [
    "from sklearn.svm import SVR"
   ]
  },
  {
   "cell_type": "code",
   "execution_count": 17,
   "metadata": {},
   "outputs": [],
   "source": [
    "from sklearn.linear_model import LinearRegression\n",
    "from sklearn.decomposition import PCA\n",
    "from sklearn.pipeline import Pipeline\n",
    "def get_model(n_comp):\n",
    "#     steps = [('pca',PCA(n_components=n_comp)),('LR',LinearRegression())]\n",
    "    steps = [('pca',PCA(n_components=n_comp)),('SVR',SVR())]\n",
    "    pipe = Pipeline(steps)\n",
    "    return pipe\n",
    "    "
   ]
  },
  {
   "cell_type": "code",
   "execution_count": 18,
   "metadata": {},
   "outputs": [],
   "source": [
    "from FeatEngg.ngramEnc import Ngram"
   ]
  },
  {
   "cell_type": "code",
   "execution_count": 19,
   "metadata": {},
   "outputs": [],
   "source": [
    "teidx,tridx = helper.modified_split(enzname)"
   ]
  },
  {
   "cell_type": "code",
   "execution_count": 20,
   "metadata": {},
   "outputs": [],
   "source": [
    "ngram = Ngram(X[tridx],7,1)\n",
    "ngram.fit()"
   ]
  },
  {
   "cell_type": "code",
   "execution_count": 21,
   "metadata": {},
   "outputs": [],
   "source": [
    "X_ng_tr = ngram.transform(X[tridx])"
   ]
  },
  {
   "cell_type": "code",
   "execution_count": 22,
   "metadata": {},
   "outputs": [],
   "source": [
    "y_tr = y[tridx]"
   ]
  },
  {
   "cell_type": "code",
   "execution_count": 23,
   "metadata": {
    "scrolled": true
   },
   "outputs": [],
   "source": [
    "mypipe = get_model(40)\n",
    "\n",
    "model = mypipe.fit(X_ng_tr,y_tr)"
   ]
  },
  {
   "cell_type": "code",
   "execution_count": 24,
   "metadata": {},
   "outputs": [],
   "source": [
    "y_pred_tr = model.predict(X_ng_tr)"
   ]
  },
  {
   "cell_type": "code",
   "execution_count": 25,
   "metadata": {},
   "outputs": [],
   "source": [
    "from sklearn.metrics import mean_squared_error"
   ]
  },
  {
   "cell_type": "code",
   "execution_count": 26,
   "metadata": {},
   "outputs": [
    {
     "data": {
      "text/plain": [
       "0.011166208871416484"
      ]
     },
     "execution_count": 26,
     "metadata": {},
     "output_type": "execute_result"
    }
   ],
   "source": [
    "mean_squared_error(y_tr,y_pred_tr)"
   ]
  },
  {
   "cell_type": "code",
   "execution_count": 27,
   "metadata": {},
   "outputs": [],
   "source": [
    "X_ng_te = ngram.transform(X[teidx])"
   ]
  },
  {
   "cell_type": "code",
   "execution_count": 28,
   "metadata": {},
   "outputs": [],
   "source": [
    "y_pred_te = model.predict(X_ng_te)"
   ]
  },
  {
   "cell_type": "code",
   "execution_count": 29,
   "metadata": {},
   "outputs": [],
   "source": [
    "y_te = y[teidx]"
   ]
  },
  {
   "cell_type": "code",
   "execution_count": 30,
   "metadata": {},
   "outputs": [
    {
     "data": {
      "text/plain": [
       "0.032083198371674636"
      ]
     },
     "execution_count": 30,
     "metadata": {},
     "output_type": "execute_result"
    }
   ],
   "source": [
    "mean_squared_error(y_te,y_pred_te)"
   ]
  },
  {
   "cell_type": "code",
   "execution_count": 31,
   "metadata": {},
   "outputs": [
    {
     "data": {
      "text/plain": [
       "array([0.23      , 0.561     , 0.683     , 0.47272727, 0.083     ,\n",
       "       0.109     , 0.81      , 0.486     , 0.35      , 0.403     ,\n",
       "       0.799     , 0.        , 0.919     , 0.02160761, 0.343     ,\n",
       "       0.52      , 0.087     , 0.001     , 0.167     , 0.00791766,\n",
       "       0.044     , 0.98      , 0.388     , 0.477     ])"
      ]
     },
     "execution_count": 31,
     "metadata": {},
     "output_type": "execute_result"
    }
   ],
   "source": [
    "y_te"
   ]
  },
  {
   "cell_type": "code",
   "execution_count": 32,
   "metadata": {},
   "outputs": [
    {
     "data": {
      "text/plain": [
       "array([0.27727397, 0.56409851, 0.60678747, 0.61904121, 0.32560692,\n",
       "       0.46234146, 0.58022309, 0.26926058, 0.259993  , 0.56737253,\n",
       "       0.73377411, 0.33459882, 0.68883832, 0.15224383, 0.50826801,\n",
       "       0.42804332, 0.25099367, 0.1592824 , 0.21851386, 0.19532108,\n",
       "       0.15068909, 0.84643282, 0.66252711, 0.55186996])"
      ]
     },
     "execution_count": 32,
     "metadata": {},
     "output_type": "execute_result"
    }
   ],
   "source": [
    "y_pred_te"
   ]
  },
  {
   "cell_type": "code",
   "execution_count": 33,
   "metadata": {},
   "outputs": [],
   "source": [
    "from FeatEngg.gaacEnc import GAAC"
   ]
  },
  {
   "cell_type": "code",
   "execution_count": 34,
   "metadata": {},
   "outputs": [],
   "source": [
    "gaac = GAAC()\n",
    "Xgaac = gaac.transform(X)"
   ]
  },
  {
   "cell_type": "code",
   "execution_count": 35,
   "metadata": {},
   "outputs": [],
   "source": [
    "ngram = Ngram(Xgaac[tridx],7,1)\n",
    "ngram.fit()"
   ]
  },
  {
   "cell_type": "code",
   "execution_count": 36,
   "metadata": {},
   "outputs": [],
   "source": [
    "X_ngaac_tr = ngram.transform(Xgaac[tridx])"
   ]
  },
  {
   "cell_type": "code",
   "execution_count": 52,
   "metadata": {},
   "outputs": [],
   "source": [
    "newpipe = get_model(40)"
   ]
  },
  {
   "cell_type": "code",
   "execution_count": 53,
   "metadata": {},
   "outputs": [],
   "source": [
    "new_model = newpipe.fit(X_ngaac_tr,y_tr)"
   ]
  },
  {
   "cell_type": "code",
   "execution_count": 54,
   "metadata": {},
   "outputs": [],
   "source": [
    "X_ngaac_te = ngram.transform(Xgaac[teidx])\n",
    "y_pred_te = new_model.predict(X_ngaac_te)"
   ]
  },
  {
   "cell_type": "code",
   "execution_count": 55,
   "metadata": {},
   "outputs": [
    {
     "data": {
      "text/plain": [
       "0.02490700268813226"
      ]
     },
     "execution_count": 55,
     "metadata": {},
     "output_type": "execute_result"
    }
   ],
   "source": [
    "mean_squared_error(y_te,y_pred_te)"
   ]
  },
  {
   "cell_type": "code",
   "execution_count": 56,
   "metadata": {},
   "outputs": [
    {
     "data": {
      "text/plain": [
       "array([0.23      , 0.561     , 0.683     , 0.47272727, 0.083     ,\n",
       "       0.109     , 0.81      , 0.486     , 0.35      , 0.403     ,\n",
       "       0.799     , 0.        , 0.919     , 0.02160761, 0.343     ,\n",
       "       0.52      , 0.087     , 0.001     , 0.167     , 0.00791766,\n",
       "       0.044     , 0.98      , 0.388     , 0.477     ])"
      ]
     },
     "execution_count": 56,
     "metadata": {},
     "output_type": "execute_result"
    }
   ],
   "source": [
    "y_te"
   ]
  },
  {
   "cell_type": "code",
   "execution_count": 57,
   "metadata": {},
   "outputs": [
    {
     "data": {
      "text/plain": [
       "array([0.18983587, 0.60409654, 0.61144767, 0.63326297, 0.25862359,\n",
       "       0.43839968, 0.55704672, 0.28199395, 0.31248027, 0.56321048,\n",
       "       0.7967865 , 0.22155424, 0.75827047, 0.21699955, 0.47409085,\n",
       "       0.38170444, 0.15333932, 0.07815398, 0.15333932, 0.12441097,\n",
       "       0.18342671, 0.86977744, 0.67073363, 0.5565467 ])"
      ]
     },
     "execution_count": 57,
     "metadata": {},
     "output_type": "execute_result"
    }
   ],
   "source": [
    "y_pred_te"
   ]
  },
  {
   "cell_type": "code",
   "execution_count": 58,
   "metadata": {},
   "outputs": [],
   "source": [
    "import pickle\n",
    "\n",
    "file = pickle.load(open('../Data/TE_ML_Data_pickle.p','rb'))"
   ]
  },
  {
   "cell_type": "code",
   "execution_count": 59,
   "metadata": {},
   "outputs": [],
   "source": [
    "pmap = dict(zip(file[0],file[1]))"
   ]
  },
  {
   "cell_type": "code",
   "execution_count": 60,
   "metadata": {},
   "outputs": [],
   "source": [
    "Xp = np.array([pmap[e] for e in enzname])"
   ]
  },
  {
   "cell_type": "code",
   "execution_count": 62,
   "metadata": {},
   "outputs": [],
   "source": [
    "pospipe = get_model(50)\n",
    "\n",
    "posmodel = pospipe.fit(Xp[tridx],y[tridx])"
   ]
  },
  {
   "cell_type": "code",
   "execution_count": 63,
   "metadata": {},
   "outputs": [],
   "source": [
    "y_pred_te = posmodel.predict(Xp[teidx])"
   ]
  },
  {
   "cell_type": "code",
   "execution_count": 64,
   "metadata": {},
   "outputs": [
    {
     "data": {
      "text/plain": [
       "0.037008174619685724"
      ]
     },
     "execution_count": 64,
     "metadata": {},
     "output_type": "execute_result"
    }
   ],
   "source": [
    "mean_squared_error(y_te,y_pred_te)"
   ]
  },
  {
   "cell_type": "code",
   "execution_count": 65,
   "metadata": {},
   "outputs": [
    {
     "data": {
      "text/plain": [
       "array([0.23      , 0.561     , 0.683     , 0.47272727, 0.083     ,\n",
       "       0.109     , 0.81      , 0.486     , 0.35      , 0.403     ,\n",
       "       0.799     , 0.        , 0.919     , 0.02160761, 0.343     ,\n",
       "       0.52      , 0.087     , 0.001     , 0.167     , 0.00791766,\n",
       "       0.044     , 0.98      , 0.388     , 0.477     ])"
      ]
     },
     "execution_count": 65,
     "metadata": {},
     "output_type": "execute_result"
    }
   ],
   "source": [
    "y_te"
   ]
  },
  {
   "cell_type": "code",
   "execution_count": 66,
   "metadata": {},
   "outputs": [
    {
     "data": {
      "text/plain": [
       "array([0.18404035, 0.62628381, 0.62706767, 0.62780577, 0.26249361,\n",
       "       0.76703471, 0.49748694, 0.33891463, 0.31828073, 0.64781553,\n",
       "       0.7726876 , 0.10673095, 0.70219593, 0.16701442, 0.43603869,\n",
       "       0.31722937, 0.21092143, 0.0600093 , 0.15200974, 0.16701442,\n",
       "       0.18813523, 0.88351566, 0.40819417, 0.54262801])"
      ]
     },
     "execution_count": 66,
     "metadata": {},
     "output_type": "execute_result"
    }
   ],
   "source": [
    "y_pred_te"
   ]
  },
  {
   "cell_type": "code",
   "execution_count": 67,
   "metadata": {},
   "outputs": [
    {
     "data": {
      "text/plain": [
       "array(['Lindera_communis', 'Cuphea_viscosisssima_(CvB2MT31',\n",
       "       'Cuphea_viscosisssima_(CvB2MT27', 'Cuphea_avigera_(Ca2FatB2)',\n",
       "       'Diploknema_butyracea', 'rTE44', 'rTE15', 'rTE56',\n",
       "       'Cuphea_viscosisssima_(CvB2MT28', 'Cuphea_viscosisssima_(CvB2MT36',\n",
       "       'Cuphea_viscosisssima_(CvB2MT42', 'Helianthus_Annuus_(HaFatB1)',\n",
       "       'Cuphea_viscosisssima_(CvB2MT40', 'Cuphea_hookeriana_(ChFatB1)',\n",
       "       'Cuphea_viscosisssima_(CvB2MT2', 'Cocos_nucifera_(CnFatB3)',\n",
       "       'Cuphea_viscosisssima_(CvB2MT43', 'Ricinus_communis',\n",
       "       'Cuphea_viscosisssima_(CvFatB2', 'Cuphea_decandra_(Cd1FatB1)',\n",
       "       'Cuphea_viscosisssima_(CvB2MT24', 'Cuphea_palustris_(CpFatB1)',\n",
       "       'rTE8', 'Cuphea_viscosisssima_(CvB2MT37'], dtype='<U34')"
      ]
     },
     "execution_count": 67,
     "metadata": {},
     "output_type": "execute_result"
    }
   ],
   "source": [
    "enzname[teidx]"
   ]
  },
  {
   "cell_type": "code",
   "execution_count": null,
   "metadata": {},
   "outputs": [],
   "source": []
  }
 ],
 "metadata": {
  "kernelspec": {
   "display_name": "Python 3",
   "language": "python",
   "name": "python3"
  },
  "language_info": {
   "codemirror_mode": {
    "name": "ipython",
    "version": 3
   },
   "file_extension": ".py",
   "mimetype": "text/x-python",
   "name": "python",
   "nbconvert_exporter": "python",
   "pygments_lexer": "ipython3",
   "version": "3.6.7"
  }
 },
 "nbformat": 4,
 "nbformat_minor": 4
}
