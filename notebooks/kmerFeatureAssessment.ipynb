{
 "cells": [
  {
   "cell_type": "code",
   "execution_count": 1,
   "metadata": {},
   "outputs": [],
   "source": [
    "import os\n",
    "import pandas as pd\n",
    "from sklearn.model_selection import train_test_split\n",
    "import itertools \n",
    "import multiprocessing as mp\n",
    "import numpy as np\n",
    "import sys\n",
    "\n",
    "sys.path.append('../')\n",
    "from baseModels.SVM.model import SVM\n",
    "from featEngg.online.kmerMethods.models import ngModel,gaangModel"
   ]
  },
  {
   "cell_type": "code",
   "execution_count": 2,
   "metadata": {},
   "outputs": [],
   "source": [
    "enzseqdata = '../data/SeqFile/EnzymeSequence.csv'\n",
    "labelfile = '../data/LabelFiles/EnzymeLabelsMultiClass.csv'"
   ]
  },
  {
   "cell_type": "code",
   "execution_count": 3,
   "metadata": {},
   "outputs": [],
   "source": [
    "df1 = pd.read_csv(enzseqdata,header=None)\n",
    "df2 = pd.read_csv(labelfile,header=None)\n",
    "df = df1.merge(df2,on=0)\n",
    "enz_names = df[0].values\n",
    "X = df.iloc[:,1].values\n",
    "y = df.iloc[:,-1].values"
   ]
  },
  {
   "cell_type": "code",
   "execution_count": 4,
   "metadata": {},
   "outputs": [],
   "source": [
    "def get_model_online(X_train,X_valid,y_train,y_valid):\n",
    "\n",
    "    if X_train.shape[1]<55:\n",
    "        pca_components = int(0.75*X_train.shape[1])\n",
    "    else:\n",
    "        pca_components=55\n",
    "\n",
    "    obj = SVM(X_train,X_valid,y_train,y_valid,pca_comp=pca_components,verbose=False)\n",
    "    return obj.acc_train,obj.acc_valid\n"
   ]
  },
  {
   "cell_type": "code",
   "execution_count": 5,
   "metadata": {},
   "outputs": [],
   "source": [
    "def model_evaluate(random_seed):\n",
    "    X_train, X_valid, y_train, y_valid,enz_train,enz_valid = train_test_split(X, y,enz_names, test_size=0.25, random_state=random_seed)\n",
    "    ng_i = ngModel(X_train,X_valid)\n",
    "    gaang_i = gaangModel(X_train,X_valid)\n",
    "    ng_acctr,ng_accte = get_model_online(ng_i.Xtrain,ng_i.Xvalid,y_train,y_valid)\n",
    "    gaang_acctr,gaang_accte = get_model_online(gaang_i.Xtrain,gaang_i.Xvalid,y_train,y_valid)\n",
    "    return ((ng_acctr,ng_accte),(gaang_acctr,gaang_accte))"
   ]
  },
  {
   "cell_type": "code",
   "execution_count": 6,
   "metadata": {},
   "outputs": [],
   "source": [
    "def get_model_stats(accs):\n",
    "    mnames = ['NG','GAANG']\n",
    "    ngstats = [i[0] for i in accs]\n",
    "    gaangstats = [i[1] for i in accs]\n",
    "    train_ngs = [i[0] for i in ngstats]\n",
    "    test_ngs = [i[1] for i in ngstats]\n",
    "    train_gaangs = [i[0] for i in gaangstats]\n",
    "    test_gaangs = [i[1] for i in gaangstats]\n",
    "    \n",
    "    return {'NG':{'train_min':min(train_ngs),'train_mean':np.mean(train_ngs),\n",
    "            'train_max':max(train_ngs),'train_std':np.std(train_ngs),\n",
    "            'test_min':min(test_ngs),'test_mean':np.mean(test_ngs),\n",
    "            'test_max':max(test_ngs),'test_std':np.std(test_ngs)},\n",
    "            'GAANG':{'train_min':min(train_gaangs),'train_mean':np.mean(train_gaangs),\n",
    "            'train_max':max(train_gaangs),'train_std':np.std(train_gaangs),\n",
    "            'test_min':min(test_gaangs),'test_mean':np.mean(test_gaangs),\n",
    "            'test_max':max(test_gaangs),'test_std':np.std(test_gaangs)}}"
   ]
  },
  {
   "cell_type": "code",
   "execution_count": 7,
   "metadata": {},
   "outputs": [
    {
     "name": "stdout",
     "output_type": "stream",
     "text": [
      "CPU times: user 124 ms, sys: 89.6 ms, total: 213 ms\n",
      "Wall time: 1min 24s\n"
     ]
    }
   ],
   "source": [
    "%%time\n",
    "pool = mp.Pool(mp.cpu_count())\n",
    "model_accs = list(pool.map(model_evaluate,range(10000)))"
   ]
  },
  {
   "cell_type": "code",
   "execution_count": 8,
   "metadata": {},
   "outputs": [],
   "source": [
    "results_dict = get_model_stats(model_accs)"
   ]
  },
  {
   "cell_type": "code",
   "execution_count": 9,
   "metadata": {},
   "outputs": [],
   "source": [
    "results_df = pd.DataFrame(results_dict).T"
   ]
  },
  {
   "cell_type": "code",
   "execution_count": 10,
   "metadata": {},
   "outputs": [
    {
     "data": {
      "text/html": [
       "<div>\n",
       "<style scoped>\n",
       "    .dataframe tbody tr th:only-of-type {\n",
       "        vertical-align: middle;\n",
       "    }\n",
       "\n",
       "    .dataframe tbody tr th {\n",
       "        vertical-align: top;\n",
       "    }\n",
       "\n",
       "    .dataframe thead th {\n",
       "        text-align: right;\n",
       "    }\n",
       "</style>\n",
       "<table border=\"1\" class=\"dataframe\">\n",
       "  <thead>\n",
       "    <tr style=\"text-align: right;\">\n",
       "      <th></th>\n",
       "      <th>train_min</th>\n",
       "      <th>train_mean</th>\n",
       "      <th>train_max</th>\n",
       "      <th>train_std</th>\n",
       "      <th>test_min</th>\n",
       "      <th>test_mean</th>\n",
       "      <th>test_max</th>\n",
       "      <th>test_std</th>\n",
       "    </tr>\n",
       "  </thead>\n",
       "  <tbody>\n",
       "    <tr>\n",
       "      <th>NG</th>\n",
       "      <td>0.720930</td>\n",
       "      <td>0.824529</td>\n",
       "      <td>0.930233</td>\n",
       "      <td>0.036551</td>\n",
       "      <td>0.37931</td>\n",
       "      <td>0.686890</td>\n",
       "      <td>0.965517</td>\n",
       "      <td>0.080228</td>\n",
       "    </tr>\n",
       "    <tr>\n",
       "      <th>GAANG</th>\n",
       "      <td>0.732558</td>\n",
       "      <td>0.847505</td>\n",
       "      <td>0.941860</td>\n",
       "      <td>0.028474</td>\n",
       "      <td>0.37931</td>\n",
       "      <td>0.708759</td>\n",
       "      <td>1.000000</td>\n",
       "      <td>0.080503</td>\n",
       "    </tr>\n",
       "  </tbody>\n",
       "</table>\n",
       "</div>"
      ],
      "text/plain": [
       "       train_min  train_mean  train_max  train_std  test_min  test_mean  \\\n",
       "NG      0.720930    0.824529   0.930233   0.036551   0.37931   0.686890   \n",
       "GAANG   0.732558    0.847505   0.941860   0.028474   0.37931   0.708759   \n",
       "\n",
       "       test_max  test_std  \n",
       "NG     0.965517  0.080228  \n",
       "GAANG  1.000000  0.080503  "
      ]
     },
     "execution_count": 10,
     "metadata": {},
     "output_type": "execute_result"
    }
   ],
   "source": [
    "results_df"
   ]
  },
  {
   "cell_type": "code",
   "execution_count": 11,
   "metadata": {},
   "outputs": [],
   "source": [
    "results_df.to_csv('../data/SimResults/kmerFeatResults.csv',index=True)"
   ]
  }
 ],
 "metadata": {
  "kernelspec": {
   "display_name": "Python 3",
   "language": "python",
   "name": "python3"
  },
  "language_info": {
   "codemirror_mode": {
    "name": "ipython",
    "version": 3
   },
   "file_extension": ".py",
   "mimetype": "text/x-python",
   "name": "python",
   "nbconvert_exporter": "python",
   "pygments_lexer": "ipython3",
   "version": "3.8.3"
  }
 },
 "nbformat": 4,
 "nbformat_minor": 4
}
