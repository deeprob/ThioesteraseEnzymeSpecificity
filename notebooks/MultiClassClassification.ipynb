{
 "cells": [
  {
   "cell_type": "code",
   "execution_count": 2,
   "metadata": {},
   "outputs": [],
   "source": [
    "# modules\n",
    "import os\n",
    "import sys\n",
    "import numpy as np\n",
    "import pandas as pd\n",
    "import multiprocessing as mp\n",
    "from sklearn.metrics import precision_score\n",
    "from sklearn.model_selection import train_test_split\n",
    "\n",
    "sys.path.append('../')\n",
    "from baseModels.SVM.model import SVM\n",
    "from ensemble.model import Ensemble"
   ]
  },
  {
   "cell_type": "code",
   "execution_count": 4,
   "metadata": {},
   "outputs": [],
   "source": [
    "X1 = np.random.rand(3,2)"
   ]
  },
  {
   "cell_type": "code",
   "execution_count": 5,
   "metadata": {},
   "outputs": [
    {
     "data": {
      "text/plain": [
       "array([[0.25912286, 0.39379832],\n",
       "       [0.32468393, 0.74724571],\n",
       "       [0.60384247, 0.14165171]])"
      ]
     },
     "execution_count": 5,
     "metadata": {},
     "output_type": "execute_result"
    }
   ],
   "source": [
    "X1"
   ]
  },
  {
   "cell_type": "code",
   "execution_count": 6,
   "metadata": {},
   "outputs": [],
   "source": [
    "X2 = np.random.rand(2,2)"
   ]
  },
  {
   "cell_type": "code",
   "execution_count": null,
   "metadata": {},
   "outputs": [],
   "source": [
    "X2"
   ]
  },
  {
   "cell_type": "code",
   "execution_count": 2,
   "metadata": {},
   "outputs": [],
   "source": [
    "class Base:\n",
    "    def __init__(self,SVM=True,GBC=False,NN=False,pca_components=45,regCparam=30,\n",
    "        kernparam='rbf',nestparam=250,lrateparam=0.01,mdepthparam=5,ssampleparam=1,hlayer=(50,10),\n",
    "        lrateinit=0.01,regparam=0.1,random_seed=None,optimizeQ=False,verboseQ=False):\n",
    "        \n",
    "        self.pca_components=pca_components\n",
    "        self.optimizeQ=optimizeQ\n",
    "        self.verboseQ=verboseQ\n",
    "        self.rs=random_seed\n",
    "        \n",
    "        if SVM:\n",
    "            self.regCparam=regCparam\n",
    "            self.kernparam=kernparam\n",
    "            \n",
    "        elif GBC:\n",
    "            self.nestparam=nestparam\n",
    "            self.lrateparam=lrateparam\n",
    "            self.mdepthparam=mdepthparam\n",
    "\n",
    "\n",
    "        elif NN:\n",
    "            self.hlayer=hlayer\n",
    "            self.lrateparam=lrateinit\n",
    "            self.reg=regparam\n",
    "\n",
    "            \n",
    "        else:\n",
    "            raise ValueError('No model initiated')\n",
    "            \n",
    "    def get_SVM(self,Xtrain,Xtest,ytrain,ytest):\n",
    "        return SVM(Xtrain,Xtest,ytrain,ytest,pca_comp=self.pca_components,regC=self.regCparam,kern=self.kernparam,optimize=self.optimizeQ,verbose=self.verboseQ,random_seed=self.rs)\n",
    "    \n",
    "    def get_GBC(self,Xtrain,Xtest,ytrain,ytest):\n",
    "        return GBC(Xtrain,Xtest,ytrain,ytest,pca_comp=self.pca_components,nest=self.nestparam,lrate=self.lrateparam,mdepth=self.mdepthparam,optimize=self.optimizeQ,verbose=self.verboseQ,random_seed=self.rs)\n",
    "\n",
    "    def get_NN(self,Xtrain,Xtest,ytrain,ytest):\n",
    "        return NN(Xtrain,Xtest,ytrain,ytest,pca_comp=self.pca_components,hlayers=self.hlayer,lrateinit=self.lrateparam,regparam=self.reg,optimize=self.optimizeQ,verbose=self.verboseQ,random_seed=self.rs)\n",
    "\n",
    "\n",
    "class TEClassification(Base):\n",
    "    \n",
    "    def __init__(self,enzseqdata,testenzseqdata,labelfile,trainfeaturefiledirs,testfeaturefiledirs,model='SVM',random_seed=None,pca_components=55,n_models=17,validation_fraction=0.25):\n",
    "        \n",
    "        self.random_seed = random_seed\n",
    "        self.model=model\n",
    "        self.default_pca_components = pca_components\n",
    "        self.n_models = n_models\n",
    "        self.validation_fraction = validation_fraction\n",
    "        \n",
    "        \n",
    "        #initialize super class\n",
    "        if self.model=='SVM':\n",
    "            super().__init__(optimizeQ=False)\n",
    "        else:\n",
    "            if self.model=='GBC':\n",
    "                super().__init__(SVM=False,GBC=True)\n",
    "            elif self.model=='NN':\n",
    "                super().__init__(SVM=False,NN=True)\n",
    "            else:\n",
    "                raise ValueError('Wrong Model Assigned')\n",
    "        \n",
    "        self.object_map = {'SVM':self.get_SVM,'NN':self.get_NN,'GBC':self.get_GBC}\n",
    "        \n",
    "        # original data based on which everything is obtained\n",
    "        df1 = pd.read_csv(enzseqdata,header=None)\n",
    "        df2 = pd.read_csv(labelfile,header=None)\n",
    "        self.train_df = df1.merge(df2,on=0)\n",
    "        \n",
    "        self.enz_names = self.train_df[0].values\n",
    "        self.X = self.train_df.iloc[:,1].values\n",
    "        self.y = self.train_df.iloc[:,-1].values\n",
    "        \n",
    "        # training and testing data for general use\n",
    "        self.X_train, self.X_valid, self.y_train, self.y_valid,self.enz_train,self.enz_valid = train_test_split(self.X, self.y,self.enz_names, test_size=self.validation_fraction, random_state=self.random_seed)\n",
    "        \n",
    "        self.label_file = labelfile\n",
    "        \n",
    "        #generate a list of names from the directories\n",
    "        trainfeatfiles = [d+f.name for d in trainfeaturefiledirs for f in os.scandir(d) if f.name.endswith('.csv.gz')]\n",
    "        self.featnames = [f.name.replace('.csv.gz','') for d in trainfeaturefiledirs for f in os.scandir(d) if f.name.endswith('.csv.gz')]\n",
    "        \n",
    "        # getting all SVM objects together\n",
    "        self.objects = list(map(self.get_model_feat,trainfeatfiles))\n",
    "\n",
    "        \n",
    "        # select only the best models based on training\n",
    "        self.best_idx,self.best_models = self.select_top_models(self.objects)\n",
    "        self.best_model_names = np.array(self.featnames)[self.best_idx]\n",
    "        \n",
    "        # getting all model predictions together\n",
    "        self.all_model_preds = [o.ypredtest for o in self.best_models]\n",
    "        self.en = Ensemble(self.all_model_preds,self.y_valid)\n",
    "        self.precision = precision_score(self.y_valid,self.en.preds,labels=[3],average='micro')\n",
    "        \n",
    "        pass\n",
    "    \n",
    "    \n",
    "    def get_model_feat(self,featfilename):\n",
    "        df1 = pd.read_csv(featfilename,header=None)\n",
    "        df2 = pd.read_csv(self.label_file,header=None)\n",
    "        df_feat = df1.merge(df2,on=0).set_index(0)\n",
    "        df_feat_train = df_feat.loc[self.enz_train]\n",
    "        df_feat_valid = df_feat.loc[self.enz_valid]\n",
    "        X_train_feat,y_train_feat = df_feat_train.iloc[:,0:-1].values,df_feat_train.iloc[:,-1].values\n",
    "        X_valid_feat,y_valid_feat = df_feat_valid.iloc[:,0:-1].values,df_feat_valid.iloc[:,-1].values\n",
    "\n",
    "        if X_train_feat.shape[1]<self.default_pca_components:\n",
    "            self.pca_components = int(0.75*X_train_feat.shape[1])\n",
    "        else:\n",
    "            self.pca_components=self.default_pca_components\n",
    "        \n",
    "        obj = self.object_map[self.model](X_train_feat,X_valid_feat,y_train_feat,y_valid_feat)\n",
    "        return obj\n",
    "        \n",
    "    def select_top_models(self,Os):\n",
    "        o_valid_accs = [o.acc_train for o in Os]\n",
    "        sorted_idx = np.argsort(o_valid_accs)[::-1]\n",
    "        best_idx = sorted_idx[:self.n_models]\n",
    "        return best_idx,np.array(Os)[best_idx]\n",
    "        "
   ]
  },
  {
   "cell_type": "code",
   "execution_count": 3,
   "metadata": {
    "scrolled": true
   },
   "outputs": [
    {
     "name": "stdout",
     "output_type": "stream",
     "text": [
      "CPU times: user 6.12 s, sys: 132 ms, total: 6.25 s\n",
      "Wall time: 6.27 s\n"
     ]
    }
   ],
   "source": [
    "%%time\n",
    "if __name__=='__main__':\n",
    "    # Sequence and label files \n",
    "    enz_file = '../data/SeqFile/EnzymeSequence.csv'\n",
    "    label_file = '../data/LabelFiles/EnzymeLabelsMultiClass.csv'\n",
    "\n",
    "    # Feature dir for iFeature,kernel,pssm \n",
    "    ifeatdatadir = '../featEngg/ifeatMethods/data/featvec/'\n",
    "    kerneldatadir = '../featEngg/kernelMethods/data/featvec/'\n",
    "    pssmdatadir = '../featEngg/pssmMethods/data/featvec/'\n",
    "    trainfeatdirs = [ifeatdatadir,kerneldatadir,pssmdatadir]\n",
    "\n",
    "\n",
    "    te = TEClassification(enz_file,None,label_file,trainfeatdirs,None,random_seed=7)\n",
    "    \n",
    "#     def multi_func(rs):\n",
    "#         te_i = TEClassification(enz_file,label_file,featdirs,random_seed=rs)\n",
    "#         return te_i.precision,te_i.en.acc    \n",
    "    \n",
    "#     pool = mp.Pool(mp.cpu_count())\n",
    "\n",
    "    \n",
    "    \n",
    "    \n",
    "#     metrics = list(pool.map(multi_func,range(100)))\n",
    "    \n"
   ]
  },
  {
   "cell_type": "code",
   "execution_count": 4,
   "metadata": {},
   "outputs": [
    {
     "data": {
      "text/plain": [
       "array(['dp_pssm', 'pse_pssm', 's_fpssm', 'CTDC', 'rpm_pssm',\n",
       "       'gappyKernel', 'spectrumKernel', 'pssm_composition', 'CKSAAGP',\n",
       "       'TPC', 'GDPC', 'GTPC', 'DPC', 'DDE', 'PAAC', 'APAAC', 'CKSAAP'],\n",
       "      dtype='<U24')"
      ]
     },
     "execution_count": 4,
     "metadata": {},
     "output_type": "execute_result"
    }
   ],
   "source": [
    "te.best_model_names"
   ]
  },
  {
   "cell_type": "code",
   "execution_count": 5,
   "metadata": {},
   "outputs": [
    {
     "data": {
      "text/plain": [
       "0.7241379310344828"
      ]
     },
     "execution_count": 5,
     "metadata": {},
     "output_type": "execute_result"
    }
   ],
   "source": [
    "te.en.acc"
   ]
  },
  {
   "cell_type": "code",
   "execution_count": 6,
   "metadata": {},
   "outputs": [
    {
     "data": {
      "text/plain": [
       "0.6923076923076923"
      ]
     },
     "execution_count": 6,
     "metadata": {},
     "output_type": "execute_result"
    }
   ],
   "source": [
    "te.precision"
   ]
  },
  {
   "cell_type": "code",
   "execution_count": 9,
   "metadata": {},
   "outputs": [
    {
     "data": {
      "text/plain": [
       "array(['dp_pssm', 'pse_pssm', 's_fpssm', 'CTDC', 'rpm_pssm',\n",
       "       'gappyKernel', 'spectrumKernel', 'pssm_composition', 'CKSAAGP',\n",
       "       'TPC', 'GDPC', 'GTPC', 'DPC', 'DDE', 'PAAC', 'APAAC', 'CKSAAP'],\n",
       "      dtype='<U24')"
      ]
     },
     "execution_count": 9,
     "metadata": {},
     "output_type": "execute_result"
    }
   ],
   "source": [
    "te.best_model_names"
   ]
  },
  {
   "cell_type": "code",
   "execution_count": 6,
   "metadata": {},
   "outputs": [
    {
     "data": {
      "text/plain": [
       "array(['mismatchKernel', 'spectrumKernel', 'DDE', 'DPC', 'TPC',\n",
       "       'gappyKernel', 'CKSAAP', 'KSCTriad', 'Geary', 'NMBroto', 'CTriad',\n",
       "       's_fpssm', 'CKSAAGP', 'Moran', 'GTPC', 'SOCNumber', 'aac_pssm'],\n",
       "      dtype='<U24')"
      ]
     },
     "execution_count": 6,
     "metadata": {},
     "output_type": "execute_result"
    }
   ],
   "source": [
    "te.best_model_names"
   ]
  },
  {
   "cell_type": "code",
   "execution_count": 4,
   "metadata": {},
   "outputs": [],
   "source": [
    "prec = [metr[0] for metr in metrics]\n",
    "accs = [metr[1] for metr in metrics]"
   ]
  },
  {
   "cell_type": "code",
   "execution_count": 5,
   "metadata": {},
   "outputs": [
    {
     "name": "stdout",
     "output_type": "stream",
     "text": [
      "0.4 0.8647021571106052 1.0 0.09289527542039411\n"
     ]
    }
   ],
   "source": [
    "print(min(prec),np.mean(prec),max(prec),np.std(prec))"
   ]
  },
  {
   "cell_type": "code",
   "execution_count": 6,
   "metadata": {},
   "outputs": [
    {
     "name": "stdout",
     "output_type": "stream",
     "text": [
      "0.4827586206896552 0.7785758620689656 1.0 0.07104290467315877\n"
     ]
    }
   ],
   "source": [
    "print(min(accs),np.mean(accs),max(accs),np.std(accs))"
   ]
  },
  {
   "cell_type": "code",
   "execution_count": 7,
   "metadata": {},
   "outputs": [],
   "source": [
    "def saveResults(filename):\n",
    "    with open('../data/SimResults/EnsembleResults/'+filename,'w') as f:\n",
    "        for rs,score in enumerate(metrics):\n",
    "            f.write(str(rs)+','+str(score[0])+','+str(score[1])+'\\n')\n",
    "    return"
   ]
  },
  {
   "cell_type": "code",
   "execution_count": 8,
   "metadata": {},
   "outputs": [],
   "source": [
    "saveResults('MultiClassEnsemble.csv')"
   ]
  },
  {
   "cell_type": "code",
   "execution_count": 9,
   "metadata": {},
   "outputs": [],
   "source": [
    "import matplotlib.pyplot as plt\n",
    "%matplotlib inline"
   ]
  },
  {
   "cell_type": "code",
   "execution_count": 10,
   "metadata": {},
   "outputs": [
    {
     "data": {
      "text/plain": [
       "(array([   4.,    9.,   28.,  121.,  342.,  835., 1689., 2309., 3050.,\n",
       "        1613.]),\n",
       " array([0.4 , 0.46, 0.52, 0.58, 0.64, 0.7 , 0.76, 0.82, 0.88, 0.94, 1.  ]),\n",
       " <BarContainer object of 10 artists>)"
      ]
     },
     "execution_count": 10,
     "metadata": {},
     "output_type": "execute_result"
    },
    {
     "data": {
      "image/png": "[encoded data removed]",
      "text/plain": [
       "<Figure size 432x288 with 1 Axes>"
      ]
     },
     "metadata": {
      "needs_background": "light"
     },
     "output_type": "display_data"
    }
   ],
   "source": [
    "plt.hist(prec)"
   ]
  },
  {
   "cell_type": "code",
   "execution_count": 11,
   "metadata": {
    "scrolled": false
   },
   "outputs": [
    {
     "data": {
      "text/plain": [
       "(array([  11.,   91.,  202.,  431., 2158., 1751., 3613., 1072.,  641.,\n",
       "          30.]),\n",
       " array([0.48275862, 0.53448276, 0.5862069 , 0.63793103, 0.68965517,\n",
       "        0.74137931, 0.79310345, 0.84482759, 0.89655172, 0.94827586,\n",
       "        1.        ]),\n",
       " <BarContainer object of 10 artists>)"
      ]
     },
     "execution_count": 11,
     "metadata": {},
     "output_type": "execute_result"
    },
    {
     "data": {
      "image/png": "[encoded data removed]",
      "text/plain": [
       "<Figure size 432x288 with 1 Axes>"
      ]
     },
     "metadata": {
      "needs_background": "light"
     },
     "output_type": "display_data"
    }
   ],
   "source": [
    "plt.hist(accs)"
   ]
  },
  {
   "cell_type": "code",
   "execution_count": 12,
   "metadata": {},
   "outputs": [
    {
     "data": {
      "text/plain": [
       "(0.7931034482758621, 0.8666666666666667)"
      ]
     },
     "execution_count": 12,
     "metadata": {},
     "output_type": "execute_result"
    }
   ],
   "source": [
    "np.median(accs),np.median(prec)"
   ]
  }
 ],
 "metadata": {
  "kernelspec": {
   "display_name": "Python 3",
   "language": "python",
   "name": "python3"
  },
  "language_info": {
   "codemirror_mode": {
    "name": "ipython",
    "version": 3
   },
   "file_extension": ".py",
   "mimetype": "text/x-python",
   "name": "python",
   "nbconvert_exporter": "python",
   "pygments_lexer": "ipython3",
   "version": "3.8.3"
  }
 },
 "nbformat": 4,
 "nbformat_minor": 4
}
