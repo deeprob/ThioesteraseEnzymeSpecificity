{
 "cells": [
  {
   "cell_type": "code",
   "execution_count": 3,
   "metadata": {},
   "outputs": [],
   "source": [
    "import pandas as pd"
   ]
  },
  {
   "cell_type": "code",
   "execution_count": 8,
   "metadata": {},
   "outputs": [],
   "source": [
    "import sys\n",
    "sys.path.append('../')\n",
    "import helper"
   ]
  },
  {
   "cell_type": "code",
   "execution_count": 1,
   "metadata": {},
   "outputs": [],
   "source": [
    "labelfile = '../Data/ThioesteraseProductFractionLabel.xlsx'\n",
    "alignedseqfile = '../Data/Modified-Enzyme-Alignment.txt'"
   ]
  },
  {
   "cell_type": "code",
   "execution_count": 4,
   "metadata": {},
   "outputs": [],
   "source": [
    "df = pd.read_excel(labelfile,header=None)"
   ]
  },
  {
   "cell_type": "code",
   "execution_count": 6,
   "metadata": {},
   "outputs": [],
   "source": [
    "Xnameref,y = df.iloc[:,0].values,df.iloc[:,1].values\n"
   ]
  },
  {
   "cell_type": "code",
   "execution_count": 10,
   "metadata": {},
   "outputs": [],
   "source": [
    "seq,label,Xname = helper.parseEnzymeFile(alignedseqfile)"
   ]
  },
  {
   "cell_type": "code",
   "execution_count": 14,
   "metadata": {},
   "outputs": [
    {
     "name": "stdout",
     "output_type": "stream",
     "text": [
      "Cuphea_carthagenesis_(CcFatB)\n",
      "Cuphea_viscosissima_(CvFatB1)\n",
      "Cuphea_viscosissima_(CvFatB2)\n",
      "\"UcFatB1(197M-M199H)\"\n",
      "\"UcFatB1(R197M-M199H-T231K)\"\n"
     ]
    }
   ],
   "source": [
    "seqdictmap = dict(zip(Xname,seq))\n",
    "labeldictmap = dict(zip(Xnameref,y))\n",
    "\n",
    "enzname = []\n",
    "X = []\n",
    "y = []\n",
    "\n",
    "for xn in seqdictmap.keys():\n",
    "    if xn in labeldictmap:\n",
    "        enzname.append(xn)\n",
    "        X.append(seqdictmap[xn])\n",
    "        y.append(labeldictmap[xn])\n",
    "    else:\n",
    "        print(xn)"
   ]
  },
  {
   "cell_type": "code",
   "execution_count": 15,
   "metadata": {
    "scrolled": true
   },
   "outputs": [
    {
     "data": {
      "text/plain": [
       "[111, 111, 111]"
      ]
     },
     "execution_count": 15,
     "metadata": {},
     "output_type": "execute_result"
    }
   ],
   "source": [
    "list(map(len,[enzname,X,y]))"
   ]
  },
  {
   "cell_type": "code",
   "execution_count": 16,
   "metadata": {},
   "outputs": [],
   "source": [
    "with open('../Data/AlignedRegressionData.txt','w') as f:\n",
    "    for name,seq,label in zip(enzname,X,y):\n",
    "        f.write(name + ',' + seq + ',' + str(label))\n",
    "        f.write('\\n')"
   ]
  }
 ],
 "metadata": {
  "kernelspec": {
   "display_name": "Python 3",
   "language": "python",
   "name": "python3"
  },
  "language_info": {
   "codemirror_mode": {
    "name": "ipython",
    "version": 3
   },
   "file_extension": ".py",
   "mimetype": "text/x-python",
   "name": "python",
   "nbconvert_exporter": "python",
   "pygments_lexer": "ipython3",
   "version": "3.6.7"
  }
 },
 "nbformat": 4,
 "nbformat_minor": 4
}
