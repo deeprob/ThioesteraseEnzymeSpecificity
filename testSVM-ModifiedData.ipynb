{
 "cells": [
  {
   "cell_type": "code",
   "execution_count": 1,
   "metadata": {},
   "outputs": [],
   "source": [
    "# import self-written modules\n",
    "from IndModels.models import PosModel,NGModel,GAACModel\n",
    "from Ensemble.model import Ensemble"
   ]
  },
  {
   "cell_type": "code",
   "execution_count": 2,
   "metadata": {},
   "outputs": [],
   "source": [
    "import pickle\n",
    "import matplotlib.pyplot as plt\n",
    "%matplotlib inline"
   ]
  },
  {
   "cell_type": "code",
   "execution_count": 3,
   "metadata": {},
   "outputs": [],
   "source": [
    "# import modules\n",
    "import numpy as np\n",
    "\n",
    "np.random.seed(4802)"
   ]
  },
  {
   "cell_type": "code",
   "execution_count": 4,
   "metadata": {},
   "outputs": [],
   "source": [
    "from helper import parseEnzymeFile,modified_split"
   ]
  },
  {
   "cell_type": "code",
   "execution_count": 5,
   "metadata": {},
   "outputs": [],
   "source": [
    "enzyme_filename = 'Data/Enzyme-Dataset-Modified.csv'\n",
    "\n",
    "X,y,enz_names = parseEnzymeFile(enzyme_filename)"
   ]
  },
  {
   "cell_type": "code",
   "execution_count": 6,
   "metadata": {},
   "outputs": [],
   "source": [
    "test_idx,train_idx = modified_split(enz_names)"
   ]
  },
  {
   "cell_type": "markdown",
   "metadata": {},
   "source": [
    "# Auto-Position-Model\n",
    "\n",
    "- Bring in Auto Pos\n",
    "- Align, find best positions \n",
    "- Encode those positions using GAA k Mer \n",
    "- Predict using SVM"
   ]
  },
  {
   "cell_type": "code",
   "execution_count": 7,
   "metadata": {},
   "outputs": [],
   "source": [
    "Aligned_Data_File = 'Data/Modified-Enzyme-Alignment.txt'"
   ]
  },
  {
   "cell_type": "code",
   "execution_count": 8,
   "metadata": {},
   "outputs": [],
   "source": [
    "from AutoPos.model import OhePosModel\n",
    "from sklearn.feature_selection import mutual_info_classif"
   ]
  },
  {
   "cell_type": "code",
   "execution_count": 9,
   "metadata": {},
   "outputs": [],
   "source": [
    "def multi_func(iterations):\n",
    "    autoPosObj = OhePosModel(Aligned_Data_File,mutual_info_classif,None,100)\n",
    "    return autoPosObj.BestPositions\n",
    "    \n",
    "    "
   ]
  },
  {
   "cell_type": "code",
   "execution_count": 10,
   "metadata": {},
   "outputs": [],
   "source": [
    "import multiprocessing as mp\n",
    "pool = mp.Pool(mp.cpu_count())"
   ]
  },
  {
   "cell_type": "code",
   "execution_count": 11,
   "metadata": {},
   "outputs": [],
   "source": [
    "best_poss = list(pool.map(multi_func,[i for i in range(100)]))"
   ]
  },
  {
   "cell_type": "code",
   "execution_count": 12,
   "metadata": {},
   "outputs": [],
   "source": [
    "def func(mylist):\n",
    "    newlist = [i//10 for i in mylist]\n",
    "    return set(newlist)"
   ]
  },
  {
   "cell_type": "code",
   "execution_count": 13,
   "metadata": {},
   "outputs": [],
   "source": [
    "best_poss_parsed = list(map(func,best_poss))"
   ]
  },
  {
   "cell_type": "code",
   "execution_count": 14,
   "metadata": {},
   "outputs": [],
   "source": [
    "curr_count_dict = {}\n",
    "for poss in best_poss:\n",
    "    for pos in poss:\n",
    "        if pos not in curr_count_dict:\n",
    "            curr_count_dict[pos] = 1\n",
    "        else:\n",
    "            curr_count_dict[pos] += 1"
   ]
  },
  {
   "cell_type": "code",
   "execution_count": 15,
   "metadata": {},
   "outputs": [],
   "source": [
    "parsed_imp_pos = [k for k,v in curr_count_dict.items() if v>10]"
   ]
  },
  {
   "cell_type": "code",
   "execution_count": 16,
   "metadata": {},
   "outputs": [],
   "source": [
    "def get_pos_imp(p_imp_list,max_len=533):\n",
    "    p_imp = []\n",
    "    for p in sorted(p_imp_list):\n",
    "        pos_start = p*10\n",
    "        pos_end = pos_start+10\n",
    "        p_imp.extend(list(range(pos_start,min(pos_end,max_len-1))))\n",
    "    return p_imp"
   ]
  },
  {
   "cell_type": "code",
   "execution_count": 17,
   "metadata": {},
   "outputs": [],
   "source": [
    "# curr_set = None\n",
    "\n",
    "# for poss in best_poss_parsed:\n",
    "#     if not curr_set:\n",
    "#         curr_set = set(poss)\n",
    "#     else:\n",
    "#         curr_set = curr_set.union(set(poss))\n",
    "    "
   ]
  },
  {
   "cell_type": "code",
   "execution_count": 18,
   "metadata": {},
   "outputs": [],
   "source": [
    "# autoPosObj = OhePosModel(Aligned_Data_File,mutual_info_classif,'Data/new_aligned_best_positions.txt',100)"
   ]
  },
  {
   "cell_type": "code",
   "execution_count": 19,
   "metadata": {},
   "outputs": [],
   "source": [
    "imp_pos = get_pos_imp(parsed_imp_pos) #\n",
    "imp_pos = [i for i in range(140,505)]"
   ]
  },
  {
   "cell_type": "code",
   "execution_count": 20,
   "metadata": {},
   "outputs": [],
   "source": [
    "X_algn,y,enz_names = parseEnzymeFile(Aligned_Data_File)"
   ]
  },
  {
   "cell_type": "code",
   "execution_count": 21,
   "metadata": {},
   "outputs": [],
   "source": [
    "X_imp = np.array(list(map(list,X_algn)))[:,imp_pos]"
   ]
  },
  {
   "cell_type": "code",
   "execution_count": 22,
   "metadata": {},
   "outputs": [
    {
     "data": {
      "text/plain": [
       "(116, 365)"
      ]
     },
     "execution_count": 22,
     "metadata": {},
     "output_type": "execute_result"
    }
   ],
   "source": [
    "X_imp.shape"
   ]
  },
  {
   "cell_type": "code",
   "execution_count": 23,
   "metadata": {},
   "outputs": [
    {
     "name": "stdout",
     "output_type": "stream",
     "text": [
      "-----Initial Model Evaluation-----\n",
      "-----Training Accuracy:0.9655172413793104-----\n",
      "-----Testing Accuracy:0.48148148148148145-----\n"
     ]
    }
   ],
   "source": [
    "autoposModel = GAACModel(enz_names,X_imp,y,train_idx,test_idx,k=7,s=1,random_seed=4308,verboseQ=True)"
   ]
  },
  {
   "cell_type": "code",
   "execution_count": 24,
   "metadata": {},
   "outputs": [
    {
     "name": "stdout",
     "output_type": "stream",
     "text": [
      "-----Initial Model Evaluation-----\n",
      "-----Training Accuracy:0.9770114942528736-----\n",
      "-----Testing Accuracy:0.48148148148148145-----\n"
     ]
    }
   ],
   "source": [
    "autoposModel2 = NGModel(enz_names,X_imp,y,train_idx,test_idx,k=7,s=1,random_seed=4308,verboseQ=True)"
   ]
  },
  {
   "cell_type": "code",
   "execution_count": 25,
   "metadata": {},
   "outputs": [],
   "source": [
    "yhat1 = autoposModel.SVMobject.ypredtest"
   ]
  },
  {
   "cell_type": "code",
   "execution_count": 26,
   "metadata": {},
   "outputs": [],
   "source": [
    "# posModel = PosModel('Data/TE_ML_Data_pickle.p',enz_names,X,y,train_idx,test_idx,verboseQ=True,random_seed=7)"
   ]
  },
  {
   "cell_type": "markdown",
   "metadata": {},
   "source": [
    "# NG only model"
   ]
  },
  {
   "cell_type": "code",
   "execution_count": 27,
   "metadata": {},
   "outputs": [
    {
     "name": "stdout",
     "output_type": "stream",
     "text": [
      "-----Initial Model Evaluation-----\n",
      "-----Training Accuracy:0.9655172413793104-----\n",
      "-----Testing Accuracy:0.5185185185185185-----\n"
     ]
    }
   ],
   "source": [
    "ngModel = NGModel(enz_names,X,y,train_idx,test_idx,k=7,s=1,classweight={3:0.55,2:0.2,1:0.25},verboseQ=True,random_seed=4308)"
   ]
  },
  {
   "cell_type": "code",
   "execution_count": 28,
   "metadata": {},
   "outputs": [],
   "source": [
    "yhat2 = ngModel.SVMobject.ypredtest"
   ]
  },
  {
   "cell_type": "markdown",
   "metadata": {},
   "source": [
    "# GAAC and NG model"
   ]
  },
  {
   "cell_type": "code",
   "execution_count": 29,
   "metadata": {},
   "outputs": [
    {
     "name": "stdout",
     "output_type": "stream",
     "text": [
      "-----Initial Model Evaluation-----\n",
      "-----Training Accuracy:0.9885057471264368-----\n",
      "-----Testing Accuracy:0.48148148148148145-----\n"
     ]
    }
   ],
   "source": [
    "gaacModel = GAACModel(enz_names,X,y,train_idx,test_idx,k=7,s=1,pca_components=40,probability=True,verboseQ=True,random_seed=4308)"
   ]
  },
  {
   "cell_type": "code",
   "execution_count": 30,
   "metadata": {},
   "outputs": [],
   "source": [
    "yhat3 = gaacModel.SVMobject.ypredtest"
   ]
  },
  {
   "cell_type": "markdown",
   "metadata": {},
   "source": [
    "# Majority Vote Classifier\n",
    "\n",
    "- Only after autopos"
   ]
  },
  {
   "cell_type": "code",
   "execution_count": 31,
   "metadata": {},
   "outputs": [],
   "source": [
    "EModel = Ensemble([autoposModel.model,gaacModel.model,ngModel.model],\n",
    "                  [autoposModel.Xtest,gaacModel.Xtest,ngModel.Xtest],y[test_idx])"
   ]
  },
  {
   "cell_type": "code",
   "execution_count": 32,
   "metadata": {},
   "outputs": [],
   "source": [
    "yhat4 = EModel.preds"
   ]
  },
  {
   "cell_type": "markdown",
   "metadata": {},
   "source": [
    "# Predictions"
   ]
  },
  {
   "cell_type": "code",
   "execution_count": 33,
   "metadata": {},
   "outputs": [
    {
     "data": {
      "text/plain": [
       "0.5185185185185185"
      ]
     },
     "execution_count": 33,
     "metadata": {},
     "output_type": "execute_result"
    }
   ],
   "source": [
    "EModel.acc"
   ]
  },
  {
   "cell_type": "code",
   "execution_count": 34,
   "metadata": {},
   "outputs": [
    {
     "name": "stdout",
     "output_type": "stream",
     "text": [
      "Cuphea_viscosisssima_(CvB2MT13 2 2 2 2 2\n",
      "Physcomitrella_patens 3 1 1 1 1\n",
      "Cinnamomum_camphorum 1 3 3 3 2\n",
      "Sorghum_bicolor_1 1 1 1 1 1\n",
      "rTE52 3 3 3 3 3\n",
      "Gossypium_hirsutum 1 1 1 1 1\n",
      "Cocos_nucifera_(CnFatB1) 1 1 1 1 2\n",
      "Cuphea_viscosisssima_(CvB2MT28 1 3 3 3 2\n",
      "Cuphea_viscosisssima_(CvB2MT17) 1 1 1 1 3\n",
      "Cuphea_viscosisssima_(CvB2MT11 1 1 1 1 2\n",
      "Cocos_nucifera_(CnFatB2) 1 1 1 1 1\n",
      "Cuphea_viscosisssima_(CvB2MT38 3 3 3 3 1\n",
      "Cuphea_viscosisssima_(CvFatB1 3 3 3 3 3\n",
      "Iris_germanica_2 1 1 1 1 1\n",
      "Auxenochlorella_protothecoides 1 1 1 1 1\n",
      "rTE40 3 3 3 3 2\n",
      "Cuphea_viscosisssima_(CvFatB2 1 1 1 1 2\n",
      "UcFatB1(T231K) 1 1 1 1 3\n",
      "Cuphea_viscosisssima_(CvB2MT10 3 3 2 3 3\n",
      "Cuphea_viscosisssima_(CvB2MT6) 1 1 1 1 3\n",
      "Iris_germanica_1 1 1 1 1 1\n",
      "Cuphea_viscosisssima_(CvB2MT23 1 1 1 1 1\n",
      "rTE44 3 3 3 3 2\n",
      "Cuphea_aequipetala_(Ca1FatB2) 3 3 3 3 3\n",
      "rTE15 3 3 3 3 3\n",
      "Cuphea_viscosisssima_(CvB2MT21 1 3 3 3 2\n",
      "Elaeis_guineensis 1 1 1 1 2\n"
     ]
    }
   ],
   "source": [
    "for e,i,j,k,l,m in zip(enz_names[test_idx],yhat1,yhat2,yhat3,yhat4,y[test_idx]):\n",
    "    print(e,i,j,k,l,m)"
   ]
  },
  {
   "cell_type": "markdown",
   "metadata": {},
   "source": [
    "# Different random seeds"
   ]
  },
  {
   "cell_type": "code",
   "execution_count": 35,
   "metadata": {},
   "outputs": [],
   "source": [
    "def multiprocess_func(randomseed):\n",
    "    np.random.seed(randomseed)\n",
    "    test_idx_i,train_idx_i = modified_split(enz_names)\n",
    "    \n",
    "#     posModel_i = PosModel('Data/TE_ML_Data_pickle.p',enz_names,X,y,train_idx_i,test_idx_i)\n",
    "    autoposModel_i = GAACModel(enz_names,X_imp,y,train_idx_i,test_idx_i,k=7,s=1,random_seed=randomseed)\n",
    "#     autoposModel_i2 = NGModel(enz_names,X_imp,y,train_idx_i,test_idx_i,k=7,s=1,random_seed=randomseed)\n",
    "    ngModel_i = NGModel(enz_names,X,y,train_idx_i,test_idx_i,k=7,s=1,classweight={3:0.55,2:0.2,1:0.25},random_seed=randomseed)\n",
    "    gaacModel_i = GAACModel(enz_names,X,y,train_idx_i,test_idx_i,k=7,s=1,inc_count=False,random_seed=randomseed)\n",
    "    \n",
    "    EModel_i = Ensemble([autoposModel_i.model,gaacModel_i.model,ngModel_i.model],\n",
    "                  [autoposModel_i.Xtest,gaacModel_i.Xtest,ngModel_i.Xtest],y[test_idx_i])\n",
    "    \n",
    "    return autoposModel_i.SVMobject.acc_test,ngModel_i.SVMobject.acc_test,gaacModel_i.SVMobject.acc_test,EModel_i.acc,#autoposModel_i2.SVMobject.acc_test\n",
    "    \n",
    "    \n",
    "    \n",
    "    "
   ]
  },
  {
   "cell_type": "code",
   "execution_count": 36,
   "metadata": {},
   "outputs": [
    {
     "name": "stdout",
     "output_type": "stream",
     "text": [
      "20\n"
     ]
    }
   ],
   "source": [
    "import multiprocessing as mp\n",
    "print(mp.cpu_count())\n",
    "pool = mp.Pool(mp.cpu_count())"
   ]
  },
  {
   "cell_type": "code",
   "execution_count": 37,
   "metadata": {},
   "outputs": [
    {
     "name": "stdout",
     "output_type": "stream",
     "text": [
      "CPU times: user 237 ms, sys: 54 ms, total: 291 ms\n",
      "Wall time: 3min 39s\n"
     ]
    }
   ],
   "source": [
    "%%time\n",
    "accs = list(pool.map(multiprocess_func,[i for i in range(10000)]))"
   ]
  },
  {
   "cell_type": "code",
   "execution_count": 38,
   "metadata": {},
   "outputs": [
    {
     "data": {
      "text/plain": [
       "<matplotlib.legend.Legend at 0x2b3c9197b7b8>"
      ]
     },
     "execution_count": 38,
     "metadata": {},
     "output_type": "execute_result"
    },
    {
     "data": {
      "image/png": "[encoded data removed]",
      "text/plain": [
       "<Figure size 432x288 with 1 Axes>"
      ]
     },
     "metadata": {
      "needs_background": "light"
     },
     "output_type": "display_data"
    }
   ],
   "source": [
    "plt.plot(range(len(accs)),accs)\n",
    "plt.legend(['POS','NG','GAAC','Ensemble'])\n",
    "# plt.legend(['POS','NG','GAAC','Ensemble','POS2'])"
   ]
  },
  {
   "cell_type": "code",
   "execution_count": 39,
   "metadata": {},
   "outputs": [],
   "source": [
    "pos_preds = [a[0] for a in accs]\n",
    "ng_preds = [a[1] for a in accs]\n",
    "gaac_preds = [a[2] for a in accs]\n",
    "ensemble_preds = [a[3] for a in accs]\n",
    "# pos2_preds = [a[4] for a in accs]"
   ]
  },
  {
   "cell_type": "code",
   "execution_count": 40,
   "metadata": {},
   "outputs": [
    {
     "data": {
      "text/plain": [
       "(0.48148148148148145, 0.7783629629629629, 0.0747446532030332)"
      ]
     },
     "execution_count": 40,
     "metadata": {},
     "output_type": "execute_result"
    }
   ],
   "source": [
    "min(pos_preds),np.mean(pos_preds),np.std(pos_preds)"
   ]
  },
  {
   "cell_type": "code",
   "execution_count": 41,
   "metadata": {},
   "outputs": [
    {
     "data": {
      "text/plain": [
       "(0.4074074074074074, 0.7677222222222223, 0.07762231155427417)"
      ]
     },
     "execution_count": 41,
     "metadata": {},
     "output_type": "execute_result"
    }
   ],
   "source": [
    "min(ng_preds),np.mean(ng_preds),np.std(ng_preds)"
   ]
  },
  {
   "cell_type": "code",
   "execution_count": 42,
   "metadata": {},
   "outputs": [
    {
     "data": {
      "text/plain": [
       "(0.4444444444444444, 0.7694666666666667, 0.07500932397460712)"
      ]
     },
     "execution_count": 42,
     "metadata": {},
     "output_type": "execute_result"
    }
   ],
   "source": [
    "min(gaac_preds),np.mean(gaac_preds),np.std(gaac_preds)"
   ]
  },
  {
   "cell_type": "code",
   "execution_count": 43,
   "metadata": {},
   "outputs": [
    {
     "data": {
      "text/plain": [
       "(0.4444444444444444, 0.7789333333333334, 0.07383690327554616)"
      ]
     },
     "execution_count": 43,
     "metadata": {},
     "output_type": "execute_result"
    }
   ],
   "source": [
    "min(ensemble_preds),np.mean(ensemble_preds),np.std(ensemble_preds)"
   ]
  },
  {
   "cell_type": "code",
   "execution_count": 44,
   "metadata": {},
   "outputs": [],
   "source": [
    "# min(pos2_preds),np.mean(pos2_preds),np.std(pos2_preds)"
   ]
  },
  {
   "cell_type": "markdown",
   "metadata": {},
   "source": [
    "# How many below a threshold of 0.5"
   ]
  },
  {
   "cell_type": "code",
   "execution_count": 45,
   "metadata": {},
   "outputs": [],
   "source": [
    "def get_below_thres(preds,thres=0.5):\n",
    "    return len(np.where(np.array(preds)<thres)[0])"
   ]
  },
  {
   "cell_type": "code",
   "execution_count": 46,
   "metadata": {},
   "outputs": [
    {
     "data": {
      "text/plain": [
       "(5, 10, 4, 5)"
      ]
     },
     "execution_count": 46,
     "metadata": {},
     "output_type": "execute_result"
    }
   ],
   "source": [
    "get_below_thres(pos_preds),get_below_thres(ng_preds),get_below_thres(gaac_preds),get_below_thres(ensemble_preds)"
   ]
  },
  {
   "cell_type": "code",
   "execution_count": 47,
   "metadata": {
    "scrolled": false
   },
   "outputs": [
    {
     "data": {
      "text/plain": [
       "350"
      ]
     },
     "execution_count": 47,
     "metadata": {},
     "output_type": "execute_result"
    }
   ],
   "source": [
    "np.argmin(pos_preds)"
   ]
  },
  {
   "cell_type": "code",
   "execution_count": null,
   "metadata": {},
   "outputs": [],
   "source": [
    "def save_results(filename,mylist):\n",
    "    with open(f'Reports/Results/{filename}','w') as f:\n",
    "        for line in mylist:\n",
    "            f.write(str(line))\n",
    "            f.write('\\n')\n",
    "    return \n",
    "\n",
    "def save_figure(figurename,mylist):\n",
    "    plt.figure()\n",
    "    values = plt.hist(mylist,bins=5);\n",
    "    b=values[1]\n",
    "    plt.xlabel('Accuracy bin');\n",
    "    plt.ylabel('Count');\n",
    "    plt.xticks(b)\n",
    "    plt.title(f'{figurename} Test Accuracy Histogram');\n",
    "    plt.savefig(f\"Reports/Results/{'-'.join(figurename.split(' '))}.png\");\n",
    "    return"
   ]
  },
  {
   "cell_type": "code",
   "execution_count": 30,
   "metadata": {},
   "outputs": [],
   "source": [
    "# save_results('Positional-Model.txt',pos_preds),save_results('k-mer-Model.txt',ng_preds),save_results('GAA-kmer-Model.txt',gaac_preds),save_results('Ensemble-Model.txt',ensemble_preds)"
   ]
  },
  {
   "cell_type": "code",
   "execution_count": 31,
   "metadata": {},
   "outputs": [],
   "source": [
    "# save_figure('Positional Feature Model',pos_preds),save_figure('kmer Motif Model',ng_preds),save_figure('GAA Motif Model',gaac_preds),save_figure('Ensemble Model',ensemble_preds)"
   ]
  },
  {
   "cell_type": "code",
   "execution_count": null,
   "metadata": {},
   "outputs": [],
   "source": []
  }
 ],
 "metadata": {
  "kernelspec": {
   "display_name": "Python 3",
   "language": "python",
   "name": "python3"
  },
  "language_info": {
   "codemirror_mode": {
    "name": "ipython",
    "version": 3
   },
   "file_extension": ".py",
   "mimetype": "text/x-python",
   "name": "python",
   "nbconvert_exporter": "python",
   "pygments_lexer": "ipython3",
   "version": "3.7.9"
  }
 },
 "nbformat": 4,
 "nbformat_minor": 4
}
