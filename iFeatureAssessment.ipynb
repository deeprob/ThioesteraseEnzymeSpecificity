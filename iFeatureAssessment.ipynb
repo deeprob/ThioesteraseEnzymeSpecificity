{
 "cells": [
  {
   "cell_type": "code",
   "execution_count": 1,
   "metadata": {},
   "outputs": [],
   "source": [
    "import os\n",
    "import pandas as pd\n",
    "from sklearn.model_selection import train_test_split\n",
    "from mySVM.model import SVM\n",
    "import itertools \n",
    "import multiprocessing as mp\n",
    "import numpy as np"
   ]
  },
  {
   "cell_type": "code",
   "execution_count": 2,
   "metadata": {},
   "outputs": [],
   "source": [
    "feature_dir = 'Data/FeatureVectors/iFeatureVectors/'\n",
    "feature_files = [f.name for f in os.scandir(feature_dir)]"
   ]
  },
  {
   "cell_type": "code",
   "execution_count": 3,
   "metadata": {},
   "outputs": [],
   "source": [
    "label_dir = 'Data/Labels/'\n",
    "label_file = 'Labels_Classification.csv'"
   ]
  },
  {
   "cell_type": "code",
   "execution_count": 4,
   "metadata": {},
   "outputs": [],
   "source": [
    "def model_evaluate(filename,random_seed):\n",
    "    df1 = pd.read_csv(feature_dir+filename,header=None)\n",
    "    df2 = pd.read_csv(label_dir+label_file,header=None)\n",
    "    df = df1.merge(df2,on=0)\n",
    "    enz_names = df[0].values\n",
    "    X = df.iloc[:,1:-1].values\n",
    "    y = df.iloc[:,-1].values\n",
    "    if X.shape[1]<40:\n",
    "        n_comp = int(0.75*X.shape[1])\n",
    "    else:\n",
    "        n_comp=40\n",
    "    X_train, X_test, y_train, y_test,enz_train,enz_test = train_test_split(X, y,enz_names, test_size=0.25, random_state=random_seed)\n",
    "    svm = SVM(X_train,X_test,y_train,y_test,verbose=False,optimize=False, pca_comp=n_comp)\n",
    "    return svm.acc_test\n",
    " "
   ]
  },
  {
   "cell_type": "code",
   "execution_count": 5,
   "metadata": {},
   "outputs": [
    {
     "data": {
      "text/plain": [
       "24"
      ]
     },
     "execution_count": 5,
     "metadata": {},
     "output_type": "execute_result"
    }
   ],
   "source": [
    "mp.cpu_count()"
   ]
  },
  {
   "cell_type": "code",
   "execution_count": 6,
   "metadata": {},
   "outputs": [],
   "source": [
    "pool = mp.Pool(mp.cpu_count())"
   ]
  },
  {
   "cell_type": "code",
   "execution_count": 7,
   "metadata": {},
   "outputs": [],
   "source": [
    "iterable = list(itertools.product(feature_files,range(10000)))"
   ]
  },
  {
   "cell_type": "code",
   "execution_count": 8,
   "metadata": {},
   "outputs": [
    {
     "name": "stdout",
     "output_type": "stream",
     "text": [
      "CPU times: user 2.45 s, sys: 1.62 s, total: 4.07 s\n",
      "Wall time: 48min 30s\n"
     ]
    }
   ],
   "source": [
    "%%time\n",
    "model_accs = list(pool.starmap(model_evaluate,iterable))"
   ]
  },
  {
   "cell_type": "code",
   "execution_count": 9,
   "metadata": {},
   "outputs": [],
   "source": [
    "mydict = dict()\n",
    "\n",
    "for m,acc in zip(iterable,model_accs):\n",
    "    model_name=m[0].replace('.csv','')\n",
    "    seed = m[1]\n",
    "    if model_name not in mydict:\n",
    "        mydict[model_name] = {seed:acc}\n",
    "    else:\n",
    "        mydict[model_name][seed] = acc"
   ]
  },
  {
   "cell_type": "code",
   "execution_count": 10,
   "metadata": {},
   "outputs": [],
   "source": [
    "def get_model_stats(mname):\n",
    "    accs = [v for k,v in mydict[mname].items()]\n",
    "    return {'min':min(accs),'mean':np.mean(accs),\n",
    "            'max':max(accs),'std':np.std(accs)}"
   ]
  },
  {
   "cell_type": "code",
   "execution_count": 11,
   "metadata": {},
   "outputs": [
    {
     "data": {
      "text/plain": [
       "{'min': 0.3103448275862069,\n",
       " 'mean': 0.6733517241379312,\n",
       " 'max': 0.9310344827586207,\n",
       " 'std': 0.07768239370995797}"
      ]
     },
     "execution_count": 11,
     "metadata": {},
     "output_type": "execute_result"
    }
   ],
   "source": [
    "get_model_stats('Geary')"
   ]
  },
  {
   "cell_type": "code",
   "execution_count": 13,
   "metadata": {},
   "outputs": [],
   "source": [
    "results_dict= {mname:get_model_stats(mname) for mname in mydict.keys()}\n",
    "    "
   ]
  },
  {
   "cell_type": "code",
   "execution_count": 16,
   "metadata": {},
   "outputs": [],
   "source": [
    "results_df = pd.DataFrame(results_dict).T"
   ]
  },
  {
   "cell_type": "code",
   "execution_count": 17,
   "metadata": {},
   "outputs": [],
   "source": [
    "results_df.to_csv('Data/SimResults/iFeatResults.csv',index=True)"
   ]
  },
  {
   "cell_type": "code",
   "execution_count": 18,
   "metadata": {},
   "outputs": [
    {
     "data": {
      "text/html": [
       "<div>\n",
       "<style scoped>\n",
       "    .dataframe tbody tr th:only-of-type {\n",
       "        vertical-align: middle;\n",
       "    }\n",
       "\n",
       "    .dataframe tbody tr th {\n",
       "        vertical-align: top;\n",
       "    }\n",
       "\n",
       "    .dataframe thead th {\n",
       "        text-align: right;\n",
       "    }\n",
       "</style>\n",
       "<table border=\"1\" class=\"dataframe\">\n",
       "  <thead>\n",
       "    <tr style=\"text-align: right;\">\n",
       "      <th></th>\n",
       "      <th>min</th>\n",
       "      <th>mean</th>\n",
       "      <th>max</th>\n",
       "      <th>std</th>\n",
       "    </tr>\n",
       "  </thead>\n",
       "  <tbody>\n",
       "    <tr>\n",
       "      <th>Geary</th>\n",
       "      <td>0.310345</td>\n",
       "      <td>0.673352</td>\n",
       "      <td>0.931034</td>\n",
       "      <td>0.077682</td>\n",
       "    </tr>\n",
       "    <tr>\n",
       "      <th>GTPC</th>\n",
       "      <td>0.310345</td>\n",
       "      <td>0.678107</td>\n",
       "      <td>0.931034</td>\n",
       "      <td>0.074774</td>\n",
       "    </tr>\n",
       "    <tr>\n",
       "      <th>APAAC</th>\n",
       "      <td>0.344828</td>\n",
       "      <td>0.618321</td>\n",
       "      <td>0.896552</td>\n",
       "      <td>0.078522</td>\n",
       "    </tr>\n",
       "    <tr>\n",
       "      <th>Moran</th>\n",
       "      <td>0.310345</td>\n",
       "      <td>0.674614</td>\n",
       "      <td>0.931034</td>\n",
       "      <td>0.077750</td>\n",
       "    </tr>\n",
       "    <tr>\n",
       "      <th>CKSAAGP</th>\n",
       "      <td>0.310345</td>\n",
       "      <td>0.659000</td>\n",
       "      <td>0.931034</td>\n",
       "      <td>0.079622</td>\n",
       "    </tr>\n",
       "    <tr>\n",
       "      <th>GDPC</th>\n",
       "      <td>0.275862</td>\n",
       "      <td>0.618234</td>\n",
       "      <td>0.896552</td>\n",
       "      <td>0.081038</td>\n",
       "    </tr>\n",
       "    <tr>\n",
       "      <th>CKSAAP</th>\n",
       "      <td>0.344828</td>\n",
       "      <td>0.675783</td>\n",
       "      <td>0.931034</td>\n",
       "      <td>0.078370</td>\n",
       "    </tr>\n",
       "    <tr>\n",
       "      <th>KSCTriad</th>\n",
       "      <td>0.310345</td>\n",
       "      <td>0.675966</td>\n",
       "      <td>0.931034</td>\n",
       "      <td>0.078120</td>\n",
       "    </tr>\n",
       "    <tr>\n",
       "      <th>PAAC</th>\n",
       "      <td>0.310345</td>\n",
       "      <td>0.615145</td>\n",
       "      <td>0.896552</td>\n",
       "      <td>0.078536</td>\n",
       "    </tr>\n",
       "    <tr>\n",
       "      <th>AAC</th>\n",
       "      <td>0.310345</td>\n",
       "      <td>0.618986</td>\n",
       "      <td>0.896552</td>\n",
       "      <td>0.077558</td>\n",
       "    </tr>\n",
       "    <tr>\n",
       "      <th>CTDT</th>\n",
       "      <td>0.310345</td>\n",
       "      <td>0.659710</td>\n",
       "      <td>0.931034</td>\n",
       "      <td>0.077382</td>\n",
       "    </tr>\n",
       "    <tr>\n",
       "      <th>GAAC</th>\n",
       "      <td>0.310345</td>\n",
       "      <td>0.586086</td>\n",
       "      <td>0.862069</td>\n",
       "      <td>0.078204</td>\n",
       "    </tr>\n",
       "    <tr>\n",
       "      <th>DPC</th>\n",
       "      <td>0.344828</td>\n",
       "      <td>0.671569</td>\n",
       "      <td>0.931034</td>\n",
       "      <td>0.079084</td>\n",
       "    </tr>\n",
       "    <tr>\n",
       "      <th>NMBroto</th>\n",
       "      <td>0.310345</td>\n",
       "      <td>0.667724</td>\n",
       "      <td>0.931034</td>\n",
       "      <td>0.077733</td>\n",
       "    </tr>\n",
       "    <tr>\n",
       "      <th>CTDC</th>\n",
       "      <td>0.310345</td>\n",
       "      <td>0.610990</td>\n",
       "      <td>0.896552</td>\n",
       "      <td>0.080937</td>\n",
       "    </tr>\n",
       "    <tr>\n",
       "      <th>CTriad</th>\n",
       "      <td>0.310345</td>\n",
       "      <td>0.675966</td>\n",
       "      <td>0.931034</td>\n",
       "      <td>0.078120</td>\n",
       "    </tr>\n",
       "    <tr>\n",
       "      <th>DDE</th>\n",
       "      <td>0.310345</td>\n",
       "      <td>0.682828</td>\n",
       "      <td>0.931034</td>\n",
       "      <td>0.078158</td>\n",
       "    </tr>\n",
       "    <tr>\n",
       "      <th>SOCNumber</th>\n",
       "      <td>0.344828</td>\n",
       "      <td>0.679145</td>\n",
       "      <td>0.931034</td>\n",
       "      <td>0.078437</td>\n",
       "    </tr>\n",
       "    <tr>\n",
       "      <th>QSOrder</th>\n",
       "      <td>0.310345</td>\n",
       "      <td>0.628017</td>\n",
       "      <td>0.896552</td>\n",
       "      <td>0.078357</td>\n",
       "    </tr>\n",
       "    <tr>\n",
       "      <th>CTDD</th>\n",
       "      <td>0.275862</td>\n",
       "      <td>0.616717</td>\n",
       "      <td>0.896552</td>\n",
       "      <td>0.079684</td>\n",
       "    </tr>\n",
       "    <tr>\n",
       "      <th>TPC</th>\n",
       "      <td>0.310345</td>\n",
       "      <td>0.679234</td>\n",
       "      <td>0.931034</td>\n",
       "      <td>0.077607</td>\n",
       "    </tr>\n",
       "  </tbody>\n",
       "</table>\n",
       "</div>"
      ],
      "text/plain": [
       "                min      mean       max       std\n",
       "Geary      0.310345  0.673352  0.931034  0.077682\n",
       "GTPC       0.310345  0.678107  0.931034  0.074774\n",
       "APAAC      0.344828  0.618321  0.896552  0.078522\n",
       "Moran      0.310345  0.674614  0.931034  0.077750\n",
       "CKSAAGP    0.310345  0.659000  0.931034  0.079622\n",
       "GDPC       0.275862  0.618234  0.896552  0.081038\n",
       "CKSAAP     0.344828  0.675783  0.931034  0.078370\n",
       "KSCTriad   0.310345  0.675966  0.931034  0.078120\n",
       "PAAC       0.310345  0.615145  0.896552  0.078536\n",
       "AAC        0.310345  0.618986  0.896552  0.077558\n",
       "CTDT       0.310345  0.659710  0.931034  0.077382\n",
       "GAAC       0.310345  0.586086  0.862069  0.078204\n",
       "DPC        0.344828  0.671569  0.931034  0.079084\n",
       "NMBroto    0.310345  0.667724  0.931034  0.077733\n",
       "CTDC       0.310345  0.610990  0.896552  0.080937\n",
       "CTriad     0.310345  0.675966  0.931034  0.078120\n",
       "DDE        0.310345  0.682828  0.931034  0.078158\n",
       "SOCNumber  0.344828  0.679145  0.931034  0.078437\n",
       "QSOrder    0.310345  0.628017  0.896552  0.078357\n",
       "CTDD       0.275862  0.616717  0.896552  0.079684\n",
       "TPC        0.310345  0.679234  0.931034  0.077607"
      ]
     },
     "execution_count": 18,
     "metadata": {},
     "output_type": "execute_result"
    }
   ],
   "source": [
    "results_df"
   ]
  },
  {
   "cell_type": "code",
   "execution_count": null,
   "metadata": {},
   "outputs": [],
   "source": []
  }
 ],
 "metadata": {
  "kernelspec": {
   "display_name": "Python 3",
   "language": "python",
   "name": "python3"
  },
  "language_info": {
   "codemirror_mode": {
    "name": "ipython",
    "version": 3
   },
   "file_extension": ".py",
   "mimetype": "text/x-python",
   "name": "python",
   "nbconvert_exporter": "python",
   "pygments_lexer": "ipython3",
   "version": "3.7.9"
  }
 },
 "nbformat": 4,
 "nbformat_minor": 4
}
