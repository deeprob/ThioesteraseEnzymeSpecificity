{
 "cells": [
  {
   "cell_type": "code",
   "execution_count": 1,
   "metadata": {},
   "outputs": [],
   "source": [
    "import pickle\n",
    "import numpy as np\n",
    "from sklearn.cluster import KMeans\n",
    "from sklearn.decomposition import PCA\n",
    "from sklearn.model_selection import train_test_split\n",
    "from sklearn.metrics import precision_score,recall_score,f1_score,confusion_matrix,accuracy_score\n",
    "import matplotlib.pyplot as plt\n",
    "from sklearn.svm import SVC\n",
    "%matplotlib inline"
   ]
  },
  {
   "cell_type": "code",
   "execution_count": 2,
   "metadata": {},
   "outputs": [
    {
     "data": {
      "text/plain": [
       "[109, 109, 109]"
      ]
     },
     "execution_count": 2,
     "metadata": {},
     "output_type": "execute_result"
    }
   ],
   "source": [
    "file = pickle.load(open('TE_ML_Data_pickle.p','rb'))\n",
    "\n",
    "list(map(len,file))"
   ]
  },
  {
   "cell_type": "code",
   "execution_count": 3,
   "metadata": {},
   "outputs": [],
   "source": [
    "X,y = file[1],file[2]"
   ]
  },
  {
   "cell_type": "code",
   "execution_count": 4,
   "metadata": {},
   "outputs": [],
   "source": [
    "def pca(X_arr,components):\n",
    "    pca = PCA(n_components=components)\n",
    "    pca.fit(X_arr)\n",
    "    X_pca_arr = pca.transform(X_arr)  \n",
    "    return X_pca_arr"
   ]
  },
  {
   "cell_type": "code",
   "execution_count": 5,
   "metadata": {},
   "outputs": [
    {
     "data": {
      "text/plain": [
       "<matplotlib.legend.Legend at 0x1a1a411a50>"
      ]
     },
     "execution_count": 5,
     "metadata": {},
     "output_type": "execute_result"
    },
    {
     "data": {
      "image/png": "[encoded data removed]",
      "text/plain": [
       "<Figure size 432x288 with 1 Axes>"
      ]
     },
     "metadata": {
      "needs_background": "light"
     },
     "output_type": "display_data"
    }
   ],
   "source": [
    "X_pca = pca(X,2)\n",
    "\n",
    "fig = plt.figure()\n",
    "ax = fig.add_subplot(111)\n",
    "\n",
    "group = y\n",
    "cdict = {1:'red',2:'blue',3:'green'}\n",
    "\n",
    "plt.scatter(X_pca[:,0],X_pca[:,1])\n",
    "\n",
    "for g in np.unique(group):\n",
    "    ix = np.where(group == g)\n",
    "    ax.scatter(X_pca[:,0][ix], X_pca[:,1][ix], c = cdict[g], label = g, s = 40)\n",
    "ax.legend()"
   ]
  },
  {
   "cell_type": "code",
   "execution_count": 6,
   "metadata": {},
   "outputs": [],
   "source": [
    "diff_val = [len(np.nonzero(file[1][i]-file[1][j])[0]) for i in range(27,73) for j in range(27,73)]"
   ]
  },
  {
   "cell_type": "code",
   "execution_count": 7,
   "metadata": {},
   "outputs": [
    {
     "data": {
      "image/png": "[encoded data removed]",
      "text/plain": [
       "<Figure size 432x288 with 1 Axes>"
      ]
     },
     "metadata": {
      "needs_background": "light"
     },
     "output_type": "display_data"
    }
   ],
   "source": [
    "plt.hist(diff_val);"
   ]
  },
  {
   "cell_type": "code",
   "execution_count": 8,
   "metadata": {},
   "outputs": [
    {
     "data": {
      "text/plain": [
       "10.039697542533082"
      ]
     },
     "execution_count": 8,
     "metadata": {},
     "output_type": "execute_result"
    }
   ],
   "source": [
    "np.mean(diff_val)"
   ]
  },
  {
   "cell_type": "code",
   "execution_count": 9,
   "metadata": {},
   "outputs": [
    {
     "data": {
      "text/plain": [
       "array(['Cuphea_viscosisssima_(CvB2MT1', 'Cuphea_viscosisssima_(CvB2MT10',\n",
       "       'Cuphea_viscosisssima_(CvB2MT11', 'Cuphea_viscosisssima_(CvB2MT12',\n",
       "       'Cuphea_viscosisssima_(CvB2MT13', 'Cuphea_viscosisssima_(CvB2MT14',\n",
       "       'Cuphea_viscosisssima_(CvB2MT15', 'Cuphea_viscosisssima_(CvB2MT16',\n",
       "       'Cuphea_viscosisssima_(CvB2MT17)',\n",
       "       'Cuphea_viscosisssima_(CvB2MT18', 'Cuphea_viscosisssima_(CvB2MT19',\n",
       "       'Cuphea_viscosisssima_(CvB2MT2', 'Cuphea_viscosisssima_(CvB2MT20',\n",
       "       'Cuphea_viscosisssima_(CvB2MT21', 'Cuphea_viscosisssima_(CvB2MT22',\n",
       "       'Cuphea_viscosisssima_(CvB2MT23', 'Cuphea_viscosisssima_(CvB2MT24',\n",
       "       'Cuphea_viscosisssima_(CvB2MT25)',\n",
       "       'Cuphea_viscosisssima_(CvB2MT26', 'Cuphea_viscosisssima_(CvB2MT27',\n",
       "       'Cuphea_viscosisssima_(CvB2MT28', 'Cuphea_viscosisssima_(CvB2MT29',\n",
       "       'Cuphea_viscosisssima_(CvB2MT3', 'Cuphea_viscosisssima_(CvB2MT30',\n",
       "       'Cuphea_viscosisssima_(CvB2MT31', 'Cuphea_viscosisssima_(CvB2MT32',\n",
       "       'Cuphea_viscosisssima_(CvB2MT33)',\n",
       "       'Cuphea_viscosisssima_(CvB2MT34)',\n",
       "       'Cuphea_viscosisssima_(CvB2MT35', 'Cuphea_viscosisssima_(CvB2MT36',\n",
       "       'Cuphea_viscosisssima_(CvB2MT37', 'Cuphea_viscosisssima_(CvB2MT38',\n",
       "       'Cuphea_viscosisssima_(CvB2MT4', 'Cuphea_viscosisssima_(CvB2MT40',\n",
       "       'Cuphea_viscosisssima_(CvB2MT41', 'Cuphea_viscosisssima_(CvB2MT42',\n",
       "       'Cuphea_viscosisssima_(CvB2MT43', 'Cuphea_viscosisssima_(CvB2MT44',\n",
       "       'Cuphea_viscosisssima_(CvB2MT45', 'Cuphea_viscosisssima_(CvB2MT47',\n",
       "       'Cuphea_viscosisssima_(CvB2MT48', 'Cuphea_viscosisssima_(CvB2MT5',\n",
       "       'Cuphea_viscosisssima_(CvB2MT6)', 'Cuphea_viscosisssima_(CvB2MT7',\n",
       "       'Cuphea_viscosisssima_(CvB2MT8', 'Cuphea_viscosisssima_(CvB2MT9'],\n",
       "      dtype='<U34')"
      ]
     },
     "execution_count": 9,
     "metadata": {},
     "output_type": "execute_result"
    }
   ],
   "source": [
    "file[0][27:73]"
   ]
  },
  {
   "cell_type": "code",
   "execution_count": 10,
   "metadata": {},
   "outputs": [],
   "source": [
    "def get_classifier_score(X,y,c,k):\n",
    "    X_train,X_test,y_train,y_test = train_test_split(X,y)\n",
    "    pca = PCA(n_components=60)\n",
    "    pca.fit(X_train)\n",
    "    Xtrain = pca.transform(X_train)\n",
    "    Xtest = pca.transform(X_test)\n",
    "    clf = SVC(C = c,kernel=k,gamma='scale',tol=1e-6,class_weight='balanced')\n",
    "    clf.fit(Xtrain,y_train)\n",
    "    y_pred_train = clf.predict(Xtrain)\n",
    "    y_pred_test = clf.predict(Xtest)\n",
    "    return accuracy_score(y_train,y_pred_train),accuracy_score(y_test,y_pred_test)"
   ]
  },
  {
   "cell_type": "code",
   "execution_count": 11,
   "metadata": {},
   "outputs": [],
   "source": [
    "f1_scores = []\n",
    "\n",
    "for i in range(1000):\n",
    "    f1_sc = get_classifier_score(X,y,1.3,'rbf')\n",
    "    f1_scores.append(f1_sc)"
   ]
  },
  {
   "cell_type": "code",
   "execution_count": 12,
   "metadata": {},
   "outputs": [
    {
     "data": {
      "image/png": "[encoded data removed]",
      "text/plain": [
       "<Figure size 432x288 with 1 Axes>"
      ]
     },
     "metadata": {
      "needs_background": "light"
     },
     "output_type": "display_data"
    }
   ],
   "source": [
    "plt.hist([f[0] for f in f1_scores]);"
   ]
  },
  {
   "cell_type": "code",
   "execution_count": 13,
   "metadata": {},
   "outputs": [
    {
     "data": {
      "image/png": "[encoded data removed]",
      "text/plain": [
       "<Figure size 432x288 with 1 Axes>"
      ]
     },
     "metadata": {
      "needs_background": "light"
     },
     "output_type": "display_data"
    }
   ],
   "source": [
    "plt.hist([f[1] for f in f1_scores]);"
   ]
  }
 ],
 "metadata": {
  "kernelspec": {
   "display_name": "Python 3",
   "language": "python",
   "name": "python3"
  },
  "language_info": {
   "codemirror_mode": {
    "name": "ipython",
    "version": 3
   },
   "file_extension": ".py",
   "mimetype": "text/x-python",
   "name": "python",
   "nbconvert_exporter": "python",
   "pygments_lexer": "ipython3",
   "version": "3.7.4"
  }
 },
 "nbformat": 4,
 "nbformat_minor": 2
}
