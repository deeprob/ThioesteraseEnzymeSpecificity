{
 "cells": [
  {
   "cell_type": "code",
   "execution_count": 1,
   "metadata": {},
   "outputs": [],
   "source": [
    "# import self-written modules\n",
    "from IndModels.models import PosModel,NGModel,GAACModel\n",
    "from Ensemble.model import Ensemble"
   ]
  },
  {
   "cell_type": "code",
   "execution_count": 2,
   "metadata": {},
   "outputs": [],
   "source": [
    "import pickle\n",
    "import matplotlib.pyplot as plt\n",
    "%matplotlib inline"
   ]
  },
  {
   "cell_type": "code",
   "execution_count": 3,
   "metadata": {},
   "outputs": [],
   "source": [
    "# import modules\n",
    "import numpy as np\n",
    "\n",
    "np.random.seed(1511)"
   ]
  },
  {
   "cell_type": "code",
   "execution_count": 4,
   "metadata": {},
   "outputs": [],
   "source": [
    "file = pickle.load(open('Data/TE_ML_Data_pickle.p','rb'))"
   ]
  },
  {
   "cell_type": "code",
   "execution_count": 5,
   "metadata": {},
   "outputs": [],
   "source": [
    "from helper import parseEnzymeFile,modified_split"
   ]
  },
  {
   "cell_type": "code",
   "execution_count": 6,
   "metadata": {},
   "outputs": [],
   "source": [
    "enzyme_filename = 'Data/Enzyme_Dataset.txt'\n",
    "\n",
    "X,y,enz_names = parseEnzymeFile(enzyme_filename)"
   ]
  },
  {
   "cell_type": "code",
   "execution_count": 7,
   "metadata": {},
   "outputs": [],
   "source": [
    "test_idx,train_idx = modified_split(enz_names)"
   ]
  },
  {
   "cell_type": "markdown",
   "metadata": {},
   "source": [
    "# Position-Model"
   ]
  },
  {
   "cell_type": "code",
   "execution_count": 8,
   "metadata": {},
   "outputs": [
    {
     "name": "stdout",
     "output_type": "stream",
     "text": [
      "-----Initial Model Evaluation-----\n",
      "-----Training Accuracy:0.9259259259259259-----\n",
      "-----Testing Accuracy:0.52-----\n"
     ]
    }
   ],
   "source": [
    "posModel = PosModel('Data/TE_ML_Data_pickle.p',enz_names,X,y,train_idx,test_idx,verboseQ=True,random_seed=7)"
   ]
  },
  {
   "cell_type": "markdown",
   "metadata": {},
   "source": [
    "# NG only model"
   ]
  },
  {
   "cell_type": "code",
   "execution_count": 9,
   "metadata": {},
   "outputs": [
    {
     "name": "stdout",
     "output_type": "stream",
     "text": [
      "-----Initial Model Evaluation-----\n",
      "-----Training Accuracy:0.9753086419753086-----\n",
      "-----Testing Accuracy:0.52-----\n"
     ]
    }
   ],
   "source": [
    "ngModel = NGModel(enz_names,X,y,train_idx,test_idx,k=7,s=1,verboseQ=True,random_seed=7)"
   ]
  },
  {
   "cell_type": "markdown",
   "metadata": {},
   "source": [
    "# GAAC and NG model"
   ]
  },
  {
   "cell_type": "code",
   "execution_count": 10,
   "metadata": {},
   "outputs": [
    {
     "name": "stdout",
     "output_type": "stream",
     "text": [
      "-----Initial Model Evaluation-----\n",
      "-----Training Accuracy:0.9753086419753086-----\n",
      "-----Testing Accuracy:0.52-----\n"
     ]
    }
   ],
   "source": [
    "gaacModel = GAACModel(enz_names,X,y,train_idx,test_idx,k=9,s=1,pca_components=40,verboseQ=True,random_seed=7)"
   ]
  },
  {
   "cell_type": "markdown",
   "metadata": {},
   "source": [
    "# Majority Vote Classifier"
   ]
  },
  {
   "cell_type": "code",
   "execution_count": 11,
   "metadata": {},
   "outputs": [],
   "source": [
    "EModel = Ensemble([posModel.model,gaacModel.model,ngModel.model],\n",
    "                  [posModel.Xtest,gaacModel.Xtest,ngModel.Xtest],y[test_idx])"
   ]
  },
  {
   "cell_type": "code",
   "execution_count": 12,
   "metadata": {},
   "outputs": [
    {
     "data": {
      "text/plain": [
       "0.48"
      ]
     },
     "execution_count": 12,
     "metadata": {},
     "output_type": "execute_result"
    }
   ],
   "source": [
    "EModel.acc"
   ]
  },
  {
   "cell_type": "markdown",
   "metadata": {},
   "source": [
    "# Different random seeds"
   ]
  },
  {
   "cell_type": "code",
   "execution_count": 13,
   "metadata": {},
   "outputs": [],
   "source": [
    "def multiprocess_func(randomseed):\n",
    "    np.random.seed(randomseed)\n",
    "    test_idx_i,train_idx_i = modified_split(enz_names,'Data/Enzyme-with-accession.txt')\n",
    "    \n",
    "    posModel_i = PosModel('Data/TE_ML_Data_pickle.p',enz_names,X,y,train_idx_i,test_idx_i)\n",
    "    ngModel_i = NGModel(enz_names,X,y,train_idx_i,test_idx_i)\n",
    "    gaacModel_i = GAACModel(enz_names,X,y,train_idx_i,test_idx_i,inc_count=False)\n",
    "    \n",
    "    EModel_i = Ensemble([posModel_i.model,gaacModel_i.model,ngModel_i.model],\n",
    "                  [posModel_i.Xtest,gaacModel_i.Xtest,ngModel_i.Xtest],y[test_idx_i])\n",
    "    \n",
    "    return posModel_i.SVMobject.acc_test,ngModel_i.SVMobject.acc_test,gaacModel_i.SVMobject.acc_test,EModel_i.acc\n",
    "    \n",
    "    \n",
    "    \n",
    "    "
   ]
  },
  {
   "cell_type": "code",
   "execution_count": 14,
   "metadata": {},
   "outputs": [
    {
     "name": "stdout",
     "output_type": "stream",
     "text": [
      "8\n"
     ]
    }
   ],
   "source": [
    "import multiprocessing as mp\n",
    "print(mp.cpu_count())\n",
    "pool = mp.Pool(mp.cpu_count())"
   ]
  },
  {
   "cell_type": "code",
   "execution_count": 15,
   "metadata": {},
   "outputs": [
    {
     "name": "stdout",
     "output_type": "stream",
     "text": [
      "CPU times: user 405 ms, sys: 279 ms, total: 684 ms\n",
      "Wall time: 9min 32s\n"
     ]
    }
   ],
   "source": [
    "%%time\n",
    "accs = list(pool.map(multiprocess_func,[i for i in range(10000)]))"
   ]
  },
  {
   "cell_type": "code",
   "execution_count": 16,
   "metadata": {},
   "outputs": [
    {
     "data": {
      "text/plain": [
       "<matplotlib.legend.Legend at 0x7f990c12b550>"
      ]
     },
     "execution_count": 16,
     "metadata": {},
     "output_type": "execute_result"
    },
    {
     "data": {
      "image/png": "[encoded data removed]",
      "text/plain": [
       "<Figure size 432x288 with 1 Axes>"
      ]
     },
     "metadata": {
      "needs_background": "light"
     },
     "output_type": "display_data"
    }
   ],
   "source": [
    "plt.plot(range(len(accs)),accs)\n",
    "plt.legend(['POS','NG','GAAC','Ensemble'])"
   ]
  },
  {
   "cell_type": "code",
   "execution_count": 17,
   "metadata": {},
   "outputs": [],
   "source": [
    "pos_preds = [a[0] for a in accs]\n",
    "ng_preds = [a[1] for a in accs]\n",
    "gaac_preds = [a[2] for a in accs]\n",
    "ensemble_preds = [a[3] for a in accs]"
   ]
  },
  {
   "cell_type": "code",
   "execution_count": 18,
   "metadata": {},
   "outputs": [
    {
     "data": {
      "text/plain": [
       "(0.44, 0.7707320000000001, 0.08058501210522959)"
      ]
     },
     "execution_count": 18,
     "metadata": {},
     "output_type": "execute_result"
    }
   ],
   "source": [
    "min(pos_preds),np.mean(pos_preds),np.std(pos_preds)"
   ]
  },
  {
   "cell_type": "code",
   "execution_count": 19,
   "metadata": {},
   "outputs": [
    {
     "data": {
      "text/plain": [
       "(0.4, 0.746732, 0.0839206778809609)"
      ]
     },
     "execution_count": 19,
     "metadata": {},
     "output_type": "execute_result"
    }
   ],
   "source": [
    "min(ng_preds),np.mean(ng_preds),np.std(ng_preds)"
   ]
  },
  {
   "cell_type": "code",
   "execution_count": 20,
   "metadata": {},
   "outputs": [
    {
     "data": {
      "text/plain": [
       "(0.44, 0.769392, 0.07932383208090744)"
      ]
     },
     "execution_count": 20,
     "metadata": {},
     "output_type": "execute_result"
    }
   ],
   "source": [
    "min(gaac_preds),np.mean(gaac_preds),np.std(gaac_preds)"
   ]
  },
  {
   "cell_type": "code",
   "execution_count": 21,
   "metadata": {},
   "outputs": [
    {
     "data": {
      "text/plain": [
       "(0.48, 0.7837280000000001, 0.07863753566840712)"
      ]
     },
     "execution_count": 21,
     "metadata": {},
     "output_type": "execute_result"
    }
   ],
   "source": [
    "min(ensemble_preds),np.mean(ensemble_preds),np.std(ensemble_preds)"
   ]
  },
  {
   "cell_type": "code",
   "execution_count": 62,
   "metadata": {},
   "outputs": [],
   "source": [
    "def save_results(filename,mylist):\n",
    "    with open(f'Reports/Results/{filename}','w') as f:\n",
    "        for line in mylist:\n",
    "            f.write(str(line))\n",
    "            f.write('\\n')\n",
    "    return \n",
    "\n",
    "def save_figure(figurename,mylist):\n",
    "    plt.figure()\n",
    "    values = plt.hist(mylist,bins=5);\n",
    "    b=values[1]\n",
    "    plt.xlabel('Accuracy bin');\n",
    "    plt.ylabel('Count');\n",
    "    plt.xticks(b)\n",
    "    plt.title(f'{figurename} Test Accuracy Histogram');\n",
    "    plt.savefig(f\"Reports/Results/{'-'.join(figurename.split(' '))}.png\");\n",
    "    return"
   ]
  },
  {
   "cell_type": "code",
   "execution_count": 63,
   "metadata": {},
   "outputs": [
    {
     "data": {
      "text/plain": [
       "(None, None, None, None)"
      ]
     },
     "execution_count": 63,
     "metadata": {},
     "output_type": "execute_result"
    }
   ],
   "source": [
    "# save_results('Positional-Model.txt',pos_preds),save_results('k-mer-Model.txt',ng_preds),save_results('GAA-kmer-Model.txt',gaac_preds),save_results('Ensemble-Model.txt',ensemble_preds)"
   ]
  },
  {
   "cell_type": "code",
   "execution_count": 64,
   "metadata": {},
   "outputs": [
    {
     "data": {
      "text/plain": [
       "(None, None, None, None)"
      ]
     },
     "execution_count": 64,
     "metadata": {},
     "output_type": "execute_result"
    },
    {
     "data": {
      "image/png": "[encoded data removed]",
      "text/plain": [
       "<Figure size 432x288 with 1 Axes>"
      ]
     },
     "metadata": {
      "needs_background": "light"
     },
     "output_type": "display_data"
    },
    {
     "data": {
      "image/png": "[encoded data removed]",
      "text/plain": [
       "<Figure size 432x288 with 1 Axes>"
      ]
     },
     "metadata": {
      "needs_background": "light"
     },
     "output_type": "display_data"
    },
    {
     "data": {
      "image/png": "[encoded data removed]",
      "text/plain": [
       "<Figure size 432x288 with 1 Axes>"
      ]
     },
     "metadata": {
      "needs_background": "light"
     },
     "output_type": "display_data"
    },
    {
     "data": {
      "image/png": "[encoded data removed]",
      "text/plain": [
       "<Figure size 432x288 with 1 Axes>"
      ]
     },
     "metadata": {
      "needs_background": "light"
     },
     "output_type": "display_data"
    }
   ],
   "source": [
    "# save_figure('Positional Feature Model',pos_preds),save_figure('kmer Motif Model',ng_preds),save_figure('GAA Motif Model',gaac_preds),save_figure('Ensemble Model',ensemble_preds)"
   ]
  },
  {
   "cell_type": "code",
   "execution_count": null,
   "metadata": {},
   "outputs": [],
   "source": []
  }
 ],
 "metadata": {
  "kernelspec": {
   "display_name": "Python 3",
   "language": "python",
   "name": "python3"
  },
  "language_info": {
   "codemirror_mode": {
    "name": "ipython",
    "version": 3
   },
   "file_extension": ".py",
   "mimetype": "text/x-python",
   "name": "python",
   "nbconvert_exporter": "python",
   "pygments_lexer": "ipython3",
   "version": "3.6.7"
  }
 },
 "nbformat": 4,
 "nbformat_minor": 4
}
