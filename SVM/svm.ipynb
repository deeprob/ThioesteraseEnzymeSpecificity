{
 "cells": [
  {
   "cell_type": "code",
   "execution_count": 1,
   "metadata": {},
   "outputs": [],
   "source": [
    "#import modules\n",
    "\n",
    "import pandas as pd \n",
    "import numpy as np\n",
    "import matplotlib.pyplot as plt\n",
    "from sklearn.preprocessing import OneHotEncoder\n",
    "from sklearn.decomposition import PCA\n",
    "from sklearn.model_selection import train_test_split,GridSearchCV\n",
    "from sklearn.metrics import precision_score,recall_score,f1_score,confusion_matrix,accuracy_score\n",
    "from sklearn.svm import SVC\n",
    "from sklearn.pipeline import Pipeline\n",
    "from tqdm import tqdm"
   ]
  },
  {
   "cell_type": "code",
   "execution_count": 2,
   "metadata": {},
   "outputs": [],
   "source": [
    "class SVM:\n",
    "    \n",
    "    def __init__(self,enzyme_datafile,random_seed=None,kmer=7,pca_comp=20,regC=1,kern='rbf',optimize=True,verbose=True):\n",
    "        np.random.seed(random_seed)\n",
    "        \n",
    "        with open(enzyme_datafile,'r') as f:\n",
    "            enzyme_names = []\n",
    "            X = []\n",
    "            y = []\n",
    "            for lines in f:\n",
    "                line  = lines.strip().split(',')\n",
    "                enzyme_names.append(line[0])\n",
    "                X.append(line[1])\n",
    "                y.append(int(line[2]))\n",
    "        \n",
    "        # Storing the values obtained from the file\n",
    "        self.X = np.array(X)\n",
    "        self.y = np.array(y)\n",
    "        self.enzyme_names = np.array(enzyme_names)\n",
    "        \n",
    "        # Creating train and test index, with a modified split function\n",
    "        self.test_idx,self.train_idx = self._modified_split()\n",
    "        \n",
    "        # Creating train & test features and labels\n",
    "        self.Xtrain_raw = self.X[self.train_idx]\n",
    "        self.Xtest_raw = self.X[self.test_idx]\n",
    "        self.ytrain = self.y[self.train_idx]\n",
    "        self.ytest = self.y[self.test_idx]\n",
    "        \n",
    "        # Creating the feature space\n",
    "        self.encoder_dict = self._Ngram_encoder_fit(self.Xtrain_raw,kmer)\n",
    "        \n",
    "        self.Xtrain = self._Ngram_encoder_transform(self.Xtrain_raw,kmer)\n",
    "        self.Xtest = self._Ngram_encoder_transform(self.Xtest_raw,kmer)\n",
    "        \n",
    "        \n",
    "        # Lowering the dimension of the feature space using PCA\n",
    "        self.Xtrain_pca,self.Xtest_pca = self._conduct_PCA(self.Xtrain,self.Xtest,pca_comp)\n",
    "        \n",
    "        # Training the initial SVM model\n",
    "        init_model = self._train_SVM(self.Xtrain_pca,self.ytrain,regC,kern)\n",
    "        \n",
    "        # print evaluation results\n",
    "        self.ypredtrain = self._predict_SVM(init_model,self.Xtrain_pca)\n",
    "        self.ypredtest = self._predict_SVM(init_model,self.Xtest_pca)\n",
    "        self.acc_train = accuracy_score(self.ytrain,self.ypredtrain)\n",
    "        self.acc_test = accuracy_score(self.ytest,self.ypredtest)\n",
    "        \n",
    "        if verbose:\n",
    "            print('-'*5+'Initial Model Evaluation'+'-'*5)\n",
    "            print('-'*5+'Training Accuracy:'+str(self.acc_train)+'-'*5)\n",
    "            print('-'*5+'Testing Accuracy:'+str(self.acc_test)+'-'*5)\n",
    "        \n",
    "        # Hyperparameter Optimization\n",
    "        \n",
    "        if optimize:\n",
    "            print('-'*5+'Hyperparameter Optimization'+'-'*5)\n",
    "            steps = [('pca',PCA()),('SVM',SVC())]\n",
    "            pipeline = Pipeline(steps)\n",
    "\n",
    "            parameters = {'pca__n_components':[1,5,10,15,25,40],\n",
    "                         'SVM__C':[0.001,0.1,10,100,10e5],\n",
    "                         'SVM__gamma':['scale','auto',0.1,0.01],\n",
    "                         'SVM__kernel':['linear','rbf']}\n",
    "\n",
    "            self.grid = GridSearchCV(pipeline, param_grid=parameters, cv=5, n_jobs=-1,scoring='accuracy',verbose=2)\n",
    "            self.grid.fit(self.Xtrain, self.ytrain)\n",
    "            \n",
    "            # print evaluation results\n",
    "\n",
    "            print(\"score = %3.2f\" %(self.grid.score(self.Xtest,self.ytest)))\n",
    "\n",
    "            print(self.grid.best_params_)\n",
    "            \n",
    "            best_pipeline = self.grid.best_estimator_\n",
    "        \n",
    "        \n",
    "        \n",
    "    \n",
    "    def _modified_split(self,split=0.25):\n",
    "        r = range(len(self.enzyme_names))\n",
    "        cuphea_idx = [idx for idx in r if self.enzyme_names[idx].startswith('Cuphea_viscosisssima')]\n",
    "        other_idx = [idx for idx in r if idx not in cuphea_idx]\n",
    "        np.random.shuffle(other_idx)\n",
    "        np.random.shuffle(cuphea_idx)\n",
    "        lr_other = int(split*len(other_idx))\n",
    "        lr_cuphea = int(split*len(cuphea_idx))\n",
    "        test_split_idx = np.append(other_idx[:lr_other],cuphea_idx[:lr_cuphea])\n",
    "        train_split_idx = np.append(other_idx[lr_other:],cuphea_idx[lr_cuphea:])\n",
    "\n",
    "        np.random.shuffle(test_split_idx)\n",
    "        np.random.shuffle(train_split_idx)\n",
    "        \n",
    "        \n",
    "        return test_split_idx,train_split_idx \n",
    "    \n",
    "    \n",
    "    def _Ngram_encoder_fit(self,sequences,n):\n",
    "        ngramdict = dict()\n",
    "        for sequence in sequences:\n",
    "            i=0\n",
    "            while i+n<=len(sequence):\n",
    "                seq = sequence[i:i+n]\n",
    "\n",
    "                if seq in ngramdict:\n",
    "                    ngramdict[seq] += 1\n",
    "                else:\n",
    "                    ngramdict[seq] = 1\n",
    "                i+=1\n",
    "                \n",
    "        feature_list = sorted([k for k,v in ngramdict.items() if v>1])\n",
    "        \n",
    "        return dict(zip(feature_list,list(range(len(feature_list)))))\n",
    "    \n",
    "    def _Ngram_encoder_transform(self,sequences,n):\n",
    "        \n",
    "        X_motif = []\n",
    "\n",
    "        for sequence in sequences:\n",
    "            ind_vector = np.zeros(len(self.encoder_dict))\n",
    "            \n",
    "            i=0\n",
    "            while i+n<=len(sequence):\n",
    "                seq = sequence[i:i+n]\n",
    "\n",
    "                if seq in self.encoder_dict:\n",
    "                    ind_vector[self.encoder_dict[seq]] = 1\n",
    "\n",
    "                i+=1\n",
    "                \n",
    "            X_motif.append(ind_vector)\n",
    "            \n",
    "        return np.array(X_motif)\n",
    "        \n",
    "        \n",
    "    def _conduct_PCA(self,X_train,X_test,n_comp):\n",
    "        pca = PCA(n_comp)\n",
    "        pca.fit(X_train)\n",
    "        return pca.transform(X_train),pca.transform(X_test)\n",
    "    \n",
    "    def _train_SVM(self,X_train,y_train,c,k):\n",
    "        clf = SVC(C = c,kernel=k,gamma='scale',tol=1e-6,class_weight='balanced')\n",
    "        clf.fit(X_train,y_train)\n",
    "        return clf\n",
    "    \n",
    "    def _predict_SVM(self,svm_model,X_val):\n",
    "        return svm_model.predict(X_val)\n",
    "        "
   ]
  },
  {
   "cell_type": "code",
   "execution_count": 3,
   "metadata": {
    "scrolled": true
   },
   "outputs": [
    {
     "name": "stdout",
     "output_type": "stream",
     "text": [
      "-----Initial Model Evaluation-----\n",
      "-----Training Accuracy:0.7530864197530864-----\n",
      "-----Testing Accuracy:0.64-----\n"
     ]
    }
   ],
   "source": [
    "file='Data/Enzyme_Dataset.txt'\n",
    "model = SVM(file,random_seed=7,kmer=3,pca_comp=20,regC=1,optimize=False)"
   ]
  },
  {
   "cell_type": "markdown",
   "metadata": {},
   "source": [
    "## Model Evaluation by varying k-mer"
   ]
  },
  {
   "cell_type": "code",
   "execution_count": 4,
   "metadata": {},
   "outputs": [],
   "source": [
    "kmers = [2,3,5,7,9,11,13,15,17,25,35]\n",
    "accs_train = []\n",
    "accs_test = []\n",
    " \n",
    "for km in kmers:\n",
    "    kmodel = SVM(file,random_seed=7,kmer=km,pca_comp=40,regC=10,optimize=False,verbose=False)\n",
    "    accs_train.append(kmodel.acc_train)\n",
    "    accs_test.append(kmodel.acc_test)"
   ]
  },
  {
   "cell_type": "code",
   "execution_count": 5,
   "metadata": {},
   "outputs": [
    {
     "data": {
      "image/png": "[encoded data removed]",
      "text/plain": [
       "<Figure size 432x288 with 1 Axes>"
      ]
     },
     "metadata": {
      "needs_background": "light"
     },
     "output_type": "display_data"
    }
   ],
   "source": [
    "import matplotlib.pyplot as plt\n",
    "%matplotlib inline\n",
    "\n",
    "plt.plot(np.arange(len(kmers)),accs_train,label='Train')\n",
    "plt.plot(np.arange(len(kmers)),accs_test,label='Test')\n",
    "plt.legend()\n",
    "plt.title('k-Mers vs Accuracy')\n",
    "plt.xlabel('k-Mers')\n",
    "plt.ylabel('Accuracy')\n",
    "plt.xticks(np.arange(len(kmers)),kmers)\n",
    "plt.savefig('../Images/VaryingKmer.png');"
   ]
  },
  {
   "cell_type": "markdown",
   "metadata": {},
   "source": [
    "# Final Model Evaluation"
   ]
  },
  {
   "cell_type": "code",
   "execution_count": 12,
   "metadata": {},
   "outputs": [],
   "source": [
    "final_model = SVM(file,random_seed=7,kmer=11,pca_comp=40,regC=10,optimize=False,verbose=False)"
   ]
  },
  {
   "cell_type": "code",
   "execution_count": 14,
   "metadata": {},
   "outputs": [
    {
     "data": {
      "text/plain": [
       "(0.9629629629629629, 0.8)"
      ]
     },
     "execution_count": 14,
     "metadata": {},
     "output_type": "execute_result"
    }
   ],
   "source": [
    "final_model.acc_train,final_model.acc_test"
   ]
  },
  {
   "cell_type": "code",
   "execution_count": 17,
   "metadata": {},
   "outputs": [
    {
     "data": {
      "text/plain": [
       "(0.9646090534979423, 0.837090909090909)"
      ]
     },
     "execution_count": 17,
     "metadata": {},
     "output_type": "execute_result"
    }
   ],
   "source": [
    "precision_score(final_model.ytrain,final_model.ypredtrain,average='weighted'),precision_score(final_model.ytest,final_model.ypredtest,average='weighted')"
   ]
  },
  {
   "cell_type": "code",
   "execution_count": 18,
   "metadata": {},
   "outputs": [
    {
     "data": {
      "text/plain": [
       "(0.9629629629629629, 0.8)"
      ]
     },
     "execution_count": 18,
     "metadata": {},
     "output_type": "execute_result"
    }
   ],
   "source": [
    "recall_score(final_model.ytrain,final_model.ypredtrain,average='weighted'),recall_score(final_model.ytest,final_model.ypredtest,average='weighted')"
   ]
  },
  {
   "cell_type": "code",
   "execution_count": 19,
   "metadata": {},
   "outputs": [
    {
     "data": {
      "text/plain": [
       "array([[ 8,  0,  1],\n",
       "       [ 0,  2,  0],\n",
       "       [ 2,  2, 10]])"
      ]
     },
     "execution_count": 19,
     "metadata": {},
     "output_type": "execute_result"
    }
   ],
   "source": [
    "confusion_matrix(final_model.ytest,final_model.ypredtest)"
   ]
  },
  {
   "cell_type": "code",
   "execution_count": 31,
   "metadata": {},
   "outputs": [
    {
     "data": {
      "text/plain": [
       "array([2, 2, 1, 1, 3, 3, 3, 1, 3, 1, 2, 3, 1, 1, 1, 3, 3, 3, 1, 1, 3, 3,\n",
       "       1, 3, 2])"
      ]
     },
     "execution_count": 31,
     "metadata": {},
     "output_type": "execute_result"
    }
   ],
   "source": [
    "final_model.ypredtest"
   ]
  },
  {
   "cell_type": "code",
   "execution_count": 33,
   "metadata": {},
   "outputs": [
    {
     "data": {
      "text/plain": [
       "array([3, 3, 1, 1, 3, 3, 3, 1, 3, 3, 2, 3, 1, 1, 1, 3, 3, 3, 1, 1, 3, 1,\n",
       "       3, 3, 2])"
      ]
     },
     "execution_count": 33,
     "metadata": {},
     "output_type": "execute_result"
    }
   ],
   "source": [
    "final_model.ytest"
   ]
  },
  {
   "cell_type": "code",
   "execution_count": 32,
   "metadata": {},
   "outputs": [
    {
     "data": {
      "text/plain": [
       "array(['Umbellularia_californica_(UcFatB2)',\n",
       "       'Cuphea_viscosisssima_(CvB2MT17)',\n",
       "       'Cuphea_viscosisssima_(CvB2MT43', 'Cuphea_viscosisssima_(CvB2MT23',\n",
       "       'Cuphea_viscosisssima_(CvB2MT44', 'rTE16',\n",
       "       'Cuphea_viscosisssima_(CvB2MT42',\n",
       "       'Cuphea_palustris(long)_(CpFatB2)',\n",
       "       'Cuphea_aequipetala_(Ca1FatB2)', 'Cuphea_viscosisssima_(CvB2MT6)',\n",
       "       'Elaeis_guineensis', 'rTE12', 'Cuphea_leptopoda_(Cl3FatB1)',\n",
       "       'Gossypium_hirsutum', 'Cuphea_viscosisssima_(CvB2MT14', 'rTE15',\n",
       "       'Cuphea_viscosisssima_(CvB2MT30', 'Cuphea_viscosisssima_(CvB2MT10',\n",
       "       'Cuphea_leptopoda_(Cl1FatB1)', 'Arabidopsis_thaliana',\n",
       "       'Cuphea_viscosisssima_(CvB2MT45', 'Cuphea_viscosisssima_(CvB2MT29',\n",
       "       'Umbellularia_californica_(UcFatB1)',\n",
       "       'Cuphea_hookeriana(short)_(ChFatB2)', 'Cinnamomum_camphorum'],\n",
       "      dtype='<U34')"
      ]
     },
     "execution_count": 32,
     "metadata": {},
     "output_type": "execute_result"
    }
   ],
   "source": [
    "final_model.enzyme_names[final_model.test_idx]"
   ]
  },
  {
   "cell_type": "code",
   "execution_count": 25,
   "metadata": {},
   "outputs": [],
   "source": [
    "incorrectly_classified = [enz for enz,tr,pr in \n",
    "                          zip(final_model.enzyme_names[final_model.test_idx],\n",
    "                              final_model.ytest,final_model.ypredtest) if tr!=pr]"
   ]
  },
  {
   "cell_type": "code",
   "execution_count": 26,
   "metadata": {},
   "outputs": [
    {
     "data": {
      "text/plain": [
       "['Umbellularia_californica_(UcFatB2)',\n",
       " 'Cuphea_viscosisssima_(CvB2MT17)',\n",
       " 'Cuphea_viscosisssima_(CvB2MT6)',\n",
       " 'Cuphea_viscosisssima_(CvB2MT29',\n",
       " 'Umbellularia_californica_(UcFatB1)']"
      ]
     },
     "execution_count": 26,
     "metadata": {},
     "output_type": "execute_result"
    }
   ],
   "source": [
    "incorrectly_classified"
   ]
  },
  {
   "cell_type": "code",
   "execution_count": 29,
   "metadata": {},
   "outputs": [],
   "source": [
    "incorrectly_classified_tr = [enz for enz,tr,pr in \n",
    "                          zip(final_model.enzyme_names[final_model.train_idx],\n",
    "                              final_model.ytrain,final_model.ypredtrain) if tr!=pr]"
   ]
  },
  {
   "cell_type": "code",
   "execution_count": 30,
   "metadata": {},
   "outputs": [
    {
     "data": {
      "text/plain": [
       "['Cuphea_viscosisssima_(CvFatB2',\n",
       " 'Cuphea_viscosisssima_(CvB2MT11',\n",
       " 'Cuphea_viscosisssima_(CvB2MT19']"
      ]
     },
     "execution_count": 30,
     "metadata": {},
     "output_type": "execute_result"
    }
   ],
   "source": [
    "incorrectly_classified_tr"
   ]
  },
  {
   "cell_type": "markdown",
   "metadata": {},
   "source": [
    "# Variance in model prediction"
   ]
  },
  {
   "cell_type": "code",
   "execution_count": 6,
   "metadata": {},
   "outputs": [
    {
     "name": "stderr",
     "output_type": "stream",
     "text": [
      "100%|██████████| 10000/10000 [11:04<00:00, 15.06it/s]\n"
     ]
    }
   ],
   "source": [
    "train_accs= []\n",
    "test_accs = []\n",
    "\n",
    "for i in tqdm(range(10000)):\n",
    "    kmodel = SVM(file,random_seed=i,kmer=11,pca_comp=40,regC=10,optimize=False,verbose=False)\n",
    "    train_accs.append(kmodel.acc_train)\n",
    "    test_accs.append(kmodel.acc_test) "
   ]
  },
  {
   "cell_type": "code",
   "execution_count": 7,
   "metadata": {},
   "outputs": [
    {
     "data": {
      "image/png": "[encoded data removed]",
      "text/plain": [
       "<Figure size 432x288 with 1 Axes>"
      ]
     },
     "metadata": {
      "needs_background": "light"
     },
     "output_type": "display_data"
    }
   ],
   "source": [
    "plt.hist(train_accs)\n",
    "plt.xlabel('Accuracy')\n",
    "plt.ylabel('Counts')\n",
    "plt.title('Train Accuracy Histogram')\n",
    "plt.savefig('../Images/ModelTrainAcc.png');"
   ]
  },
  {
   "cell_type": "code",
   "execution_count": 8,
   "metadata": {},
   "outputs": [
    {
     "data": {
      "image/png": "[encoded data removed]",
      "text/plain": [
       "<Figure size 432x288 with 1 Axes>"
      ]
     },
     "metadata": {
      "needs_background": "light"
     },
     "output_type": "display_data"
    }
   ],
   "source": [
    "plt.hist(test_accs)\n",
    "plt.xlabel('Accuracy')\n",
    "plt.ylabel('Counts')\n",
    "plt.title('Test Accuracy Histogram');\n",
    "plt.savefig('../Images/ModelTestAcc.png');"
   ]
  },
  {
   "cell_type": "code",
   "execution_count": 9,
   "metadata": {},
   "outputs": [
    {
     "name": "stdout",
     "output_type": "stream",
     "text": [
      "The mean of training and testing accuracy is 0.9347567901234568 and 0.709072 respectively\n"
     ]
    }
   ],
   "source": [
    "print(f'The mean of training and testing accuracy is {np.mean(train_accs)} and {np.mean(test_accs)} respectively')"
   ]
  },
  {
   "cell_type": "code",
   "execution_count": 10,
   "metadata": {
    "scrolled": true
   },
   "outputs": [
    {
     "name": "stdout",
     "output_type": "stream",
     "text": [
      "The standard deviation of training and testing accuracy is 0.01956564581775447 and 0.09180642034193469 respectively\n"
     ]
    }
   ],
   "source": [
    "print(f'The standard deviation of training and testing accuracy is {np.std(train_accs)} and {np.std(test_accs)} respectively')"
   ]
  },
  {
   "cell_type": "code",
   "execution_count": 11,
   "metadata": {},
   "outputs": [],
   "source": [
    "# Optimized Hyperparameter file\n",
    "# import pickle\n",
    "# import gzip\n",
    "\n",
    "# cross_val_results = pickle.load(gzip.open(\"Data/HyperparameterOptimization.pkl.gz\",'rb'))"
   ]
  }
 ],
 "metadata": {
  "kernelspec": {
   "display_name": "Python 3",
   "language": "python",
   "name": "python3"
  },
  "language_info": {
   "codemirror_mode": {
    "name": "ipython",
    "version": 3
   },
   "file_extension": ".py",
   "mimetype": "text/x-python",
   "name": "python",
   "nbconvert_exporter": "python",
   "pygments_lexer": "ipython3",
   "version": "3.7.4"
  }
 },
 "nbformat": 4,
 "nbformat_minor": 2
}
