{
 "cells": [
  {
   "cell_type": "code",
   "execution_count": 1,
   "metadata": {},
   "outputs": [],
   "source": [
    "import os\n",
    "import pandas as pd"
   ]
  },
  {
   "cell_type": "code",
   "execution_count": 2,
   "metadata": {},
   "outputs": [],
   "source": [
    "data_file_dir = '../data/featfiles/trainfiles/'\n",
    "output_file_dir = '../data/featvec/'"
   ]
  },
  {
   "cell_type": "code",
   "execution_count": 3,
   "metadata": {},
   "outputs": [],
   "source": [
    "def get_train_bool(row):\n",
    "    if row.startswith(('test_','thyme_')):\n",
    "        return False\n",
    "    else:\n",
    "        return True\n",
    "\n",
    "def get_test_bool(row):\n",
    "    if row.startswith('test_'):\n",
    "        return True\n",
    "    else:\n",
    "        return False\n",
    "    \n",
    "def get_thyme_bool(row):\n",
    "    if row.startswith('thyme_'):\n",
    "        return True\n",
    "    else:\n",
    "        return False"
   ]
  },
  {
   "cell_type": "code",
   "execution_count": 4,
   "metadata": {},
   "outputs": [],
   "source": [
    "def save_featvec(output_dir_suffix, feat_file):\n",
    "    df = pd.read_csv(data_file_dir+feat_file,header=None,skiprows=1)\n",
    "    df_train = df.loc[df[0].apply(get_train_bool)]\n",
    "    df_test = df.loc[df[0].apply(get_test_bool)]\n",
    "    df_thyme = df.loc[df[0].apply(get_thyme_bool)]\n",
    "    df_train = df_train.set_index(0)\n",
    "    df_test = df_test.set_index(0)\n",
    "    df_thyme = df_thyme.set_index(0)\n",
    "    feat_file = feat_file.replace(output_dir_suffix[-2],'')\n",
    "    df_train.to_csv(output_file_dir+output_dir_suffix+'train/'+feat_file,index=True,header=False,compression='gzip')\n",
    "    df_test.to_csv(output_file_dir+output_dir_suffix+'test/'+feat_file,index=True,header=False,compression='gzip')\n",
    "    df_thyme.to_csv(output_file_dir+output_dir_suffix+'thyme/'+feat_file,index=True,header=False,compression='gzip')\n",
    "    return"
   ]
  },
  {
   "cell_type": "code",
   "execution_count": 5,
   "metadata": {},
   "outputs": [],
   "source": [
    "for file_endings in ['1','2']:\n",
    "    for file in os.scandir(data_file_dir):\n",
    "        if file.name.endswith(file_endings+'.csv.gz'):\n",
    "            prefix_file = 'thymefiles' + file_endings +'/'\n",
    "            save_featvec(prefix_file, file.name)"
   ]
  }
 ],
 "metadata": {
  "kernelspec": {
   "display_name": "Python 3",
   "language": "python",
   "name": "python3"
  },
  "language_info": {
   "codemirror_mode": {
    "name": "ipython",
    "version": 3
   },
   "file_extension": ".py",
   "mimetype": "text/x-python",
   "name": "python",
   "nbconvert_exporter": "python",
   "pygments_lexer": "ipython3",
   "version": "3.8.3"
  }
 },
 "nbformat": 4,
 "nbformat_minor": 4
}
