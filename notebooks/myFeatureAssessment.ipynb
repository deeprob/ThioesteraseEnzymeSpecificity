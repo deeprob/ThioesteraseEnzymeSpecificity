{
 "cells": [
  {
   "cell_type": "markdown",
   "metadata": {},
   "source": [
    "# AutoPos"
   ]
  },
  {
   "cell_type": "code",
   "execution_count": 1,
   "metadata": {},
   "outputs": [],
   "source": [
    "from AutoPos.AutoPosModel import AutoPosClass\n",
    "from sklearn.feature_selection import chi2\n",
    "from IndModels.ModelsEdited import NGModel,Model,GAACModel\n",
    "from Ensemble.model import Ensemble\n",
    "\n",
    "from sklearn.model_selection import train_test_split\n",
    "import helper\n",
    "import pandas as pd\n",
    "\n",
    "import multiprocessing as mp\n",
    "import numpy as np"
   ]
  },
  {
   "cell_type": "code",
   "execution_count": 2,
   "metadata": {},
   "outputs": [],
   "source": [
    "Aligned_Data_File = 'Data/TE_ML_Data/EnzymeDatasetAligned.csv'\n",
    "df = pd.read_csv(Aligned_Data_File,header=None)\n",
    "enz_names = df[0].values\n",
    "X = df.iloc[:,1].values\n",
    "y = df.iloc[:,-1].values\n",
    "X_train, X_test, y_train, y_test,enz_train,enz_test = train_test_split(X, y,enz_names, test_size=0.25, random_state=7)\n",
    "sc_func = chi2\n",
    "n_positions=50\n",
    "apmodel = AutoPosClass(X_train,X_test,y_train,y_test,sc_func,None,n_positions,imp=True,verbose=False)\n",
    "\n"
   ]
  },
  {
   "cell_type": "code",
   "execution_count": 3,
   "metadata": {
    "scrolled": true
   },
   "outputs": [
    {
     "data": {
      "text/plain": [
       "0.7931034482758621"
      ]
     },
     "execution_count": 3,
     "metadata": {},
     "output_type": "execute_result"
    }
   ],
   "source": [
    "apmodel.SVMobject.acc_test"
   ]
  },
  {
   "cell_type": "markdown",
   "metadata": {},
   "source": [
    "# IndModels"
   ]
  },
  {
   "cell_type": "code",
   "execution_count": 4,
   "metadata": {},
   "outputs": [
    {
     "data": {
      "text/plain": [
       "(0.8275862068965517, 0.8620689655172413)"
      ]
     },
     "execution_count": 4,
     "metadata": {},
     "output_type": "execute_result"
    }
   ],
   "source": [
    "enz_datafile = 'Data/TE_ML_Data/EnzymeDataset.csv'\n",
    "df_k = pd.read_csv(enz_datafile,header=None)\n",
    "enz_names_k = df_k[0].values\n",
    "X_k = df_k.iloc[:,1].values\n",
    "y_k = df_k.iloc[:,-1].values\n",
    "\n",
    "\n",
    "X_train_k, X_test_k, y_train_k, y_test_k,enz_train_k,enz_test_k = train_test_split(X_k, y_k,enz_names_k, test_size=0.25, random_state=7)\n",
    "\n",
    "m = Model(X_train_k,X_test_k,y_train_k,y_test_k)\n",
    "\n",
    "ngmodel = NGModel(X_train_k,X_test_k,y_train_k,y_test_k)\n",
    "\n",
    "\n",
    "\n",
    "gmodel = GAACModel(X_train_k,X_test_k,y_train_k,y_test_k)\n",
    "\n",
    "ngmodel.SVMobject.acc_test,gmodel.SVMobject.acc_test"
   ]
  },
  {
   "cell_type": "markdown",
   "metadata": {},
   "source": [
    "# Ensemble"
   ]
  },
  {
   "cell_type": "code",
   "execution_count": 5,
   "metadata": {},
   "outputs": [],
   "source": [
    "en = Ensemble([apmodel.SVMobject.ypredtest,ngmodel.SVMobject.ypredtest,gmodel.SVMobject.ypredtest],y_test_k)"
   ]
  },
  {
   "cell_type": "code",
   "execution_count": 6,
   "metadata": {},
   "outputs": [
    {
     "data": {
      "text/plain": [
       "0.8275862068965517"
      ]
     },
     "execution_count": 6,
     "metadata": {},
     "output_type": "execute_result"
    }
   ],
   "source": [
    "en.acc"
   ]
  },
  {
   "cell_type": "markdown",
   "metadata": {},
   "source": [
    "# Multiprocessing"
   ]
  },
  {
   "cell_type": "code",
   "execution_count": 7,
   "metadata": {},
   "outputs": [],
   "source": [
    "def model_evaluate(random_seed):\n",
    "    Aligned_Data_File = 'Data/TE_ML_Data/EnzymeDatasetAligned.csv'\n",
    "    df = pd.read_csv(Aligned_Data_File,header=None)\n",
    "    enz_names = df[0].values\n",
    "    X = df.iloc[:,1].values\n",
    "    y = df.iloc[:,-1].values\n",
    "    X_train, X_test, y_train, y_test,enz_train,enz_test = train_test_split(X, y,enz_names, test_size=0.25, random_state=random_seed)\n",
    "    sc_func = chi2\n",
    "    n_positions=50\n",
    "    apmodel = AutoPosClass(X_train,X_test,y_train,y_test,sc_func,None,n_positions,imp=False,verbose=False)\n",
    "    \n",
    "    enz_datafile = 'Data/TE_ML_Data/EnzymeDataset.csv'\n",
    "    df_k = pd.read_csv(enz_datafile,header=None)\n",
    "    enz_names_k = df_k[0].values\n",
    "    X_k = df_k.iloc[:,1].values\n",
    "    y_k = df_k.iloc[:,-1].values\n",
    "    X_train_k, X_test_k, y_train_k, y_test_k,enz_train_k,enz_test_k = train_test_split(X_k, y_k,enz_names_k, test_size=0.25, random_state=random_seed)\n",
    "    ngmodel = NGModel(X_train_k,X_test_k,y_train_k,y_test_k)\n",
    "    gmodel = GAACModel(X_train_k,X_test_k,y_train_k,y_test_k)\n",
    "    \n",
    "    en = Ensemble([apmodel.SVMobject.ypredtest,ngmodel.SVMobject.ypredtest,gmodel.SVMobject.ypredtest],y_test_k)\n",
    "    \n",
    "    return apmodel.SVMobject.acc_test,ngmodel.SVMobject.acc_test,gmodel.SVMobject.acc_test,en.acc,all(enz_test_k == enz_test)\n"
   ]
  },
  {
   "cell_type": "code",
   "execution_count": 8,
   "metadata": {},
   "outputs": [
    {
     "data": {
      "text/plain": [
       "(0.7586206896551724,\n",
       " 0.7931034482758621,\n",
       " 0.7931034482758621,\n",
       " 0.7931034482758621,\n",
       " True)"
      ]
     },
     "execution_count": 8,
     "metadata": {},
     "output_type": "execute_result"
    }
   ],
   "source": [
    "model_evaluate(3)"
   ]
  },
  {
   "cell_type": "code",
   "execution_count": 9,
   "metadata": {},
   "outputs": [
    {
     "data": {
      "text/plain": [
       "24"
      ]
     },
     "execution_count": 9,
     "metadata": {},
     "output_type": "execute_result"
    }
   ],
   "source": [
    "mp.cpu_count()"
   ]
  },
  {
   "cell_type": "code",
   "execution_count": 10,
   "metadata": {},
   "outputs": [],
   "source": [
    "pool = mp.Pool(mp.cpu_count())"
   ]
  },
  {
   "cell_type": "code",
   "execution_count": 11,
   "metadata": {},
   "outputs": [
    {
     "name": "stdout",
     "output_type": "stream",
     "text": [
      "CPU times: user 290 ms, sys: 106 ms, total: 396 ms\n",
      "Wall time: 3min 5s\n"
     ]
    }
   ],
   "source": [
    "%%time\n",
    "model_accs = list(pool.map(model_evaluate,range(10000)))"
   ]
  },
  {
   "cell_type": "code",
   "execution_count": 12,
   "metadata": {},
   "outputs": [],
   "source": [
    "def get_model_stats(accs):\n",
    "    mnames = ['AutoPos','NG','GAANG','Ensemble']\n",
    "    maccs = [[accs[i][j] for i in range(len(accs)) ] for j in range(4)]\n",
    "    return {mnames[i]:{'min':min(maccs[i]),'mean':np.mean(maccs[i]),\n",
    "            'max':max(maccs[i]),'std':np.std(maccs[i])} for i in range(len(mnames))}"
   ]
  },
  {
   "cell_type": "code",
   "execution_count": 13,
   "metadata": {},
   "outputs": [],
   "source": [
    "results_dict = get_model_stats(model_accs)"
   ]
  },
  {
   "cell_type": "code",
   "execution_count": 14,
   "metadata": {},
   "outputs": [],
   "source": [
    "results_df = pd.DataFrame(results_dict).T"
   ]
  },
  {
   "cell_type": "code",
   "execution_count": 15,
   "metadata": {},
   "outputs": [],
   "source": [
    "results_df.to_csv('Data/SimResults/myFeatResults.csv',index=True)"
   ]
  },
  {
   "cell_type": "code",
   "execution_count": 16,
   "metadata": {
    "scrolled": true
   },
   "outputs": [
    {
     "data": {
      "text/html": [
       "<div>\n",
       "<style scoped>\n",
       "    .dataframe tbody tr th:only-of-type {\n",
       "        vertical-align: middle;\n",
       "    }\n",
       "\n",
       "    .dataframe tbody tr th {\n",
       "        vertical-align: top;\n",
       "    }\n",
       "\n",
       "    .dataframe thead th {\n",
       "        text-align: right;\n",
       "    }\n",
       "</style>\n",
       "<table border=\"1\" class=\"dataframe\">\n",
       "  <thead>\n",
       "    <tr style=\"text-align: right;\">\n",
       "      <th></th>\n",
       "      <th>min</th>\n",
       "      <th>mean</th>\n",
       "      <th>max</th>\n",
       "      <th>std</th>\n",
       "    </tr>\n",
       "  </thead>\n",
       "  <tbody>\n",
       "    <tr>\n",
       "      <th>AutoPos</th>\n",
       "      <td>0.275862</td>\n",
       "      <td>0.707566</td>\n",
       "      <td>0.965517</td>\n",
       "      <td>0.081022</td>\n",
       "    </tr>\n",
       "    <tr>\n",
       "      <th>NG</th>\n",
       "      <td>0.379310</td>\n",
       "      <td>0.735452</td>\n",
       "      <td>0.965517</td>\n",
       "      <td>0.080011</td>\n",
       "    </tr>\n",
       "    <tr>\n",
       "      <th>GAANG</th>\n",
       "      <td>0.482759</td>\n",
       "      <td>0.768797</td>\n",
       "      <td>0.965517</td>\n",
       "      <td>0.072594</td>\n",
       "    </tr>\n",
       "    <tr>\n",
       "      <th>Ensemble</th>\n",
       "      <td>0.448276</td>\n",
       "      <td>0.763821</td>\n",
       "      <td>0.965517</td>\n",
       "      <td>0.072177</td>\n",
       "    </tr>\n",
       "  </tbody>\n",
       "</table>\n",
       "</div>"
      ],
      "text/plain": [
       "               min      mean       max       std\n",
       "AutoPos   0.275862  0.707566  0.965517  0.081022\n",
       "NG        0.379310  0.735452  0.965517  0.080011\n",
       "GAANG     0.482759  0.768797  0.965517  0.072594\n",
       "Ensemble  0.448276  0.763821  0.965517  0.072177"
      ]
     },
     "execution_count": 16,
     "metadata": {},
     "output_type": "execute_result"
    }
   ],
   "source": [
    "results_df"
   ]
  },
  {
   "cell_type": "code",
   "execution_count": null,
   "metadata": {},
   "outputs": [],
   "source": []
  }
 ],
 "metadata": {
  "kernelspec": {
   "display_name": "Python 3",
   "language": "python",
   "name": "python3"
  },
  "language_info": {
   "codemirror_mode": {
    "name": "ipython",
    "version": 3
   },
   "file_extension": ".py",
   "mimetype": "text/x-python",
   "name": "python",
   "nbconvert_exporter": "python",
   "pygments_lexer": "ipython3",
   "version": "3.8.3"
  }
 },
 "nbformat": 4,
 "nbformat_minor": 4
}
