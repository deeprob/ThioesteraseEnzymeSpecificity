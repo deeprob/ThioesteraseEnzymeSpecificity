{
 "cells": [
  {
   "cell_type": "code",
   "execution_count": 1,
   "metadata": {},
   "outputs": [],
   "source": [
    "import pandas as pd"
   ]
  },
  {
   "cell_type": "code",
   "execution_count": 2,
   "metadata": {},
   "outputs": [],
   "source": [
    "excel_file = '../Data/Thioesterase_Master_List_modified.xlsx'"
   ]
  },
  {
   "cell_type": "code",
   "execution_count": 6,
   "metadata": {},
   "outputs": [],
   "source": [
    "df = pd.read_excel(excel_file,sheet_name='characterized_TE',nrows=116,usecols=[1,7,11])"
   ]
  },
  {
   "cell_type": "code",
   "execution_count": 17,
   "metadata": {},
   "outputs": [],
   "source": [
    "df.loc[2,'Sequence'] = df['Sequence'][2].upper()"
   ]
  },
  {
   "cell_type": "code",
   "execution_count": 19,
   "metadata": {},
   "outputs": [],
   "source": [
    "df.columns = ['Enzyme-Names','Sequence','label']"
   ]
  },
  {
   "cell_type": "code",
   "execution_count": 20,
   "metadata": {},
   "outputs": [],
   "source": [
    "normal_file = '../Data/Enzyme-Dataset-Modified.csv'\n",
    "df.to_csv(normal_file,header=False,index=False)"
   ]
  },
  {
   "cell_type": "code",
   "execution_count": 21,
   "metadata": {},
   "outputs": [
    {
     "data": {
      "text/plain": [
       "'MVATAATSSIFPIPSPNQDSGAKNAKLGTGSAGLGLKSKSASGSLQVKANAQAPSKINGTSVGLATVESGKNGDDMSSPPARTFINQLPDWSVLLAAITTIFLAAEKQWTMLDWKPKRPDMLIDPFGLGRIVQDGLVFRQNFSIRSYEIGADRTASIETLMNHLQETALNHVKTAGLLGDGFGSTPEMSVRNLIWVVTKMQVVVDRYPTWGDVVQVDTWVSASGKNGMRRDWILQDCKTGQILTRATSVWVMMNKLTRRLSKIPDEVRGEIEPFFMNSPPVVEEDSRKLLKLDDKTADFVRTGLTPRWGDLDINQHVNNVKYIGWILESAPLPILESHELSSLTLEYRRECGRDSVLQSLTAVSGADIGNLGSNGGVECQHLLRLEEGAEIVRGRTEWRPKYANNLGIVGQLPAESA'"
      ]
     },
     "execution_count": 21,
     "metadata": {},
     "output_type": "execute_result"
    }
   ],
   "source": [
    "'mvataatssifpipspnqdsgaknaklgtgsaglglksksasgslqvkanaqapskingtsvglatvesgkngddmssppartfinqlpdwsvllaaittiflaaekqwtmldwkpkrpdmlidpfglgrivqdglvfrqnfsirsyeigadrtasietlmnhlqetalnhvktagllgdgfgstpemsvrnliwvvtkmqvvvdryptwgdvvqvdtwvsasgkngmrrdwilqdcktgqiltratsvwvmmnkltrrlskipdevrgeiepffmnsppvveedsrkllklddktadfvrtgltprwgdldinqhvnnvkyigwilesaplpileshelssltleyrrecgrdsvlqsltavsgadignlgsnggvecqhllrleegaeivrgrtewrpkyannlgivgqlpaesa'.upper()"
   ]
  },
  {
   "cell_type": "code",
   "execution_count": null,
   "metadata": {},
   "outputs": [],
   "source": []
  }
 ],
 "metadata": {
  "kernelspec": {
   "display_name": "Python 3",
   "language": "python",
   "name": "python3"
  },
  "language_info": {
   "codemirror_mode": {
    "name": "ipython",
    "version": 3
   },
   "file_extension": ".py",
   "mimetype": "text/x-python",
   "name": "python",
   "nbconvert_exporter": "python",
   "pygments_lexer": "ipython3",
   "version": "3.6.7"
  }
 },
 "nbformat": 4,
 "nbformat_minor": 4
}
