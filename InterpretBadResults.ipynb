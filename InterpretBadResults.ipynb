{
 "cells": [
  {
   "cell_type": "code",
   "execution_count": 31,
   "metadata": {},
   "outputs": [],
   "source": [
    "import numpy as np\n",
    "import helper"
   ]
  },
  {
   "cell_type": "code",
   "execution_count": 32,
   "metadata": {},
   "outputs": [],
   "source": [
    "enzyme_filename = 'Data/Enzyme_Dataset.txt'\n",
    "\n",
    "X,y,enz_names = helper.parseEnzymeFile(enzyme_filename)"
   ]
  },
  {
   "cell_type": "code",
   "execution_count": 33,
   "metadata": {},
   "outputs": [],
   "source": [
    "badresultsidx = []\n",
    "with open('Data/BadResultsIdx.txt','r') as f:\n",
    "    for lines in f:\n",
    "        badresultsidx.append(int(lines.strip()))\n",
    "    "
   ]
  },
  {
   "cell_type": "code",
   "execution_count": 34,
   "metadata": {},
   "outputs": [],
   "source": [
    "mydict = {}\n",
    "\n",
    "for i in badresultsidx:\n",
    "    np.random.seed(i)\n",
    "    teidx,tridx = helper.modified_split(enz_names)\n",
    "    mydict[i] = (np.array(sorted(tridx)),np.array(sorted(teidx)))\n",
    "    "
   ]
  },
  {
   "cell_type": "code",
   "execution_count": 35,
   "metadata": {},
   "outputs": [
    {
     "data": {
      "text/plain": [
       "array([1, 1, 3, 2, 2, 1, 1, 1, 1, 3, 3, 3, 2, 2, 3, 3, 3, 3, 3, 1, 2, 3,\n",
       "       2, 2, 2])"
      ]
     },
     "execution_count": 35,
     "metadata": {},
     "output_type": "execute_result"
    }
   ],
   "source": [
    "y[mydict[44][1]]"
   ]
  },
  {
   "cell_type": "code",
   "execution_count": 36,
   "metadata": {},
   "outputs": [],
   "source": [
    "def func(idx):\n",
    "    tridxs = mydict[idx][0]\n",
    "    return np.unique(y[tridxs],return_counts=True)"
   ]
  },
  {
   "cell_type": "code",
   "execution_count": 37,
   "metadata": {},
   "outputs": [
    {
     "data": {
      "text/plain": [
       "dict_keys([44, 101, 116, 151, 310, 397, 746, 809, 1047, 1115, 1198, 1362, 1437, 1511, 1624, 1627, 1670, 1720, 1818, 1916, 2124, 2181, 2625, 2705, 2823, 2843, 2870, 3334, 3350, 3623, 3798, 3813, 3947, 4265, 4624, 4717, 4723, 4744, 4872, 5039, 5213, 5230, 5322, 5465, 5505, 5660, 5706, 5885, 5987, 6273, 6423, 6453, 6693, 6721, 6887, 7017, 7157, 7235, 7319, 7419, 7449, 7501, 7525, 7583, 7750, 7998, 8052, 8058, 8370, 8478, 8618, 8782, 8877, 8917, 8980, 8984, 9015, 9082, 9095, 9123, 9143, 9258, 9453, 9538, 9760])"
      ]
     },
     "execution_count": 37,
     "metadata": {},
     "output_type": "execute_result"
    }
   ],
   "source": [
    "mydict.keys()"
   ]
  },
  {
   "cell_type": "code",
   "execution_count": 38,
   "metadata": {},
   "outputs": [
    {
     "data": {
      "text/plain": [
       "(array([1, 2, 3]), array([24, 10, 47]))"
      ]
     },
     "execution_count": 38,
     "metadata": {},
     "output_type": "execute_result"
    }
   ],
   "source": [
    "func(1047)"
   ]
  },
  {
   "cell_type": "code",
   "execution_count": null,
   "metadata": {},
   "outputs": [],
   "source": []
  }
 ],
 "metadata": {
  "kernelspec": {
   "display_name": "Python 3",
   "language": "python",
   "name": "python3"
  },
  "language_info": {
   "codemirror_mode": {
    "name": "ipython",
    "version": 3
   },
   "file_extension": ".py",
   "mimetype": "text/x-python",
   "name": "python",
   "nbconvert_exporter": "python",
   "pygments_lexer": "ipython3",
   "version": "3.6.7"
  }
 },
 "nbformat": 4,
 "nbformat_minor": 4
}
