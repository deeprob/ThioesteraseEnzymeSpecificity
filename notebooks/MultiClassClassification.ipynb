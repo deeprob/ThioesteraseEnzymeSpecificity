{
 "cells": [
  {
   "cell_type": "code",
   "execution_count": 1,
   "metadata": {},
   "outputs": [],
   "source": [
    "# modules\n",
    "import os\n",
    "import sys\n",
    "import itertools\n",
    "import numpy as np\n",
    "import pandas as pd\n",
    "import multiprocessing as mp\n",
    "from sklearn.metrics import precision_score\n",
    "from sklearn.model_selection import train_test_split\n",
    "\n",
    "sys.path.append('../')\n",
    "from ensemble.model import Ensemble\n",
    "from baseModels.SVM.model import SVM\n",
    "from featEngg.kmerMethods.models import ngModel,gaangModel"
   ]
  },
  {
   "cell_type": "code",
   "execution_count": 2,
   "metadata": {},
   "outputs": [],
   "source": [
    "class Base:\n",
    "    def __init__(self,SVM=True,GBC=False,NN=False,pca_components=55,regCparam=30,\n",
    "        kernparam='rbf',nestparam=250,lrateparam=0.01,mdepthparam=5,ssampleparam=1,hlayer=(50,10),\n",
    "        lrateinit=0.01,regparam=0.1,random_seed=None,optimizeQ=False,verboseQ=False):\n",
    "        \n",
    "        self.pca_components=pca_components\n",
    "        self.optimizeQ=optimizeQ\n",
    "        self.verboseQ=verboseQ\n",
    "        self.rs=random_seed\n",
    "        \n",
    "        if SVM:\n",
    "            self.regCparam=regCparam\n",
    "            self.kernparam=kernparam\n",
    "            \n",
    "        elif GBC:\n",
    "            self.nestparam=nestparam\n",
    "            self.lrateparam=lrateparam\n",
    "            self.mdepthparam=mdepthparam\n",
    "\n",
    "\n",
    "        elif NN:\n",
    "            self.hlayer=hlayer\n",
    "            self.lrateparam=lrateinit\n",
    "            self.reg=regparam\n",
    "\n",
    "            \n",
    "        else:\n",
    "            raise ValueError('No model initiated')\n",
    "            \n",
    "    def get_SVM(self,Xtrain,Xvalid,ytrain,yvalid,Xtest=None):\n",
    "        return SVM(Xtrain,Xvalid,ytrain,yvalid,Xtest,pca_comp=self.pca_components,regC=self.regCparam,kern=self.kernparam,optimize=self.optimizeQ,verbose=self.verboseQ,random_seed=self.rs)\n",
    "    \n",
    "    def get_GBC(self,Xtrain,Xvalid,ytrain,yvalid,Xtest=None):\n",
    "        return GBC(Xtrain,Xvalid,ytrain,yvalid,Xtest,pca_comp=self.pca_components,nest=self.nestparam,lrate=self.lrateparam,mdepth=self.mdepthparam,optimize=self.optimizeQ,verbose=self.verboseQ,random_seed=self.rs)\n",
    "\n",
    "    def get_NN(self,Xtrain,Xvalid,ytrain,yvalid,Xtest=None):\n",
    "        return NN(Xtrain,Xvalid,ytrain,yvalid,Xtest,pca_comp=self.pca_components,hlayers=self.hlayer,lrateinit=self.lrateparam,regparam=self.reg,optimize=self.optimizeQ,verbose=self.verboseQ,random_seed=self.rs)\n",
    "\n",
    "\n",
    "class TEClassification(Base):\n",
    "    \n",
    "    def __init__(self,enzseqdata,testenzseqdata,labelfile,trainfeaturefiledirs,testfeaturefiledirs,model='SVM',random_seed=None,pca_components=55,n_models=17,validation_fraction=0.25):\n",
    "        \n",
    "        self.random_seed = random_seed\n",
    "        self.model=model\n",
    "        self.default_pca_components = pca_components\n",
    "        self.n_models = n_models\n",
    "        self.validation_fraction = validation_fraction\n",
    "        self.test = True if testfeaturefiledirs else False\n",
    "        \n",
    "        \n",
    "        #initialize super class\n",
    "        if self.model=='SVM':\n",
    "            super().__init__(optimizeQ=False)\n",
    "        else:\n",
    "            if self.model=='GBC':\n",
    "                super().__init__(SVM=False,GBC=True)\n",
    "            elif self.model=='NN':\n",
    "                super().__init__(SVM=False,NN=True)\n",
    "            else:\n",
    "                raise ValueError('Wrong Model Assigned')\n",
    "        \n",
    "        self.object_map = {'SVM':self.get_SVM,'NN':self.get_NN,'GBC':self.get_GBC}\n",
    "        \n",
    "        # original data based on which everything is obtained\n",
    "        df1 = pd.read_csv(enzseqdata,header=None)\n",
    "        df2 = pd.read_csv(labelfile,header=None)\n",
    "        self.train_df = df1.merge(df2,on=0)\n",
    "        \n",
    "        self.enz_names = self.train_df[0].values\n",
    "        self.X = self.train_df.iloc[:,1].values\n",
    "        self.y = self.train_df.iloc[:,-1].values\n",
    "        \n",
    "        # training and validation data for general use\n",
    "        self.X_train, self.X_valid, self.y_train, self.y_valid,self.enz_train,self.enz_valid = train_test_split(self.X, self.y,self.enz_names, test_size=self.validation_fraction, random_state=self.random_seed)\n",
    "        \n",
    "        self.label_file = labelfile\n",
    "        \n",
    "        # test data\n",
    "        if self.test:\n",
    "            self.test_df = pd.read_csv(testenzseqdata,header=None)\n",
    "            self.testenz_names = self.test_df[0].values\n",
    "            self.X_test = self.test_df.iloc[:,1].values\n",
    "        else:\n",
    "            self.X_test=None\n",
    "            \n",
    "            \n",
    "        # kmer and gaakmer\n",
    "        ng = ngModel(self.X_train,self.X_valid,self.X_test)\n",
    "        gaang = gaangModel(self.X_train,self.X_valid,self.X_test)\n",
    "        kmernames = ['kmer','gaakmer']\n",
    "        kmerObjs = [self.get_model_online(ng.Xtrain,ng.Xvalid,self.y_train,self.y_valid,ng.Xtest),self.get_model_online(gaang.Xtrain,gaang.Xvalid,self.y_train,self.y_valid,gaang.Xtest)]\n",
    "\n",
    "        \n",
    "        #generate a list of names from the directories\n",
    "        trainfeatfiles = [d+f.name for d in trainfeaturefiledirs for f in os.scandir(d) if f.name.endswith('.csv.gz')]            \n",
    "        self.featnames = [f.name.replace('.csv.gz','') for d in trainfeaturefiledirs for f in os.scandir(d) if f.name.endswith('.csv.gz')]\n",
    "        \n",
    "        if self.test:\n",
    "            testfeatfiles = [d+f.name for d in testfeaturefiledirs for f in os.scandir(d) if f.name.endswith('.csv.gz')]\n",
    "            func_iter = list(zip(trainfeatfiles,testfeatfiles))\n",
    "            assert [f.name for d in trainfeaturefiledirs for f in os.scandir(d) if f.name.endswith('.csv.gz')]==[f.name for d in testfeaturefiledirs for f in os.scandir(d) if f.name.endswith('.csv.gz')]\n",
    "            self.objects=list(itertools.starmap(self.get_model_feat,func_iter))\n",
    "\n",
    "        else:\n",
    "            # getting all SVM objects together\n",
    "            self.objects = list(map(self.get_model_feat,trainfeatfiles))\n",
    "            \n",
    "        self.featnames.extend(kmernames)\n",
    "        self.objects.extend(kmerObjs)\n",
    "            \n",
    "        \n",
    "        # select only the best models based on training or validation\n",
    "        self.best_idx,self.best_models = self.select_top_models(self.objects)\n",
    "        self.best_model_names = np.array(self.featnames)[self.best_idx]\n",
    "        \n",
    "        # getting all model predictions together for ensemble\n",
    "        if not self.test:\n",
    "            self.all_model_preds = [o.ypredvalid for o in self.best_models]\n",
    "            self.en = Ensemble(self.all_model_preds,self.y_valid)\n",
    "            self.precision = precision_score(self.y_valid,self.en.preds,labels=[3],average='micro')\n",
    "            \n",
    "        else:\n",
    "            self.all_model_preds = [o.yhattest for o in self.best_models]\n",
    "            self.en = Ensemble(self.all_model_preds)\n",
    "        \n",
    "        pass\n",
    "    \n",
    "    def get_model_online(self,X_train,X_valid,y_train,y_valid,X_test=None):\n",
    "\n",
    "        if X_train.shape[1]<self.default_pca_components:\n",
    "            self.pca_components = int(0.75*X_train.shape[1])\n",
    "        else:\n",
    "            self.pca_components=self.default_pca_components\n",
    "            \n",
    "        if self.test:\n",
    "            obj = self.object_map[self.model](X_train,X_valid,y_train,y_valid,X_test)\n",
    "        else:\n",
    "            obj = self.object_map[self.model](X_train,X_valid,y_train,y_valid)\n",
    "        return obj\n",
    "    \n",
    "    \n",
    "    def get_model_feat(self,featfilename,testfeatfilename=None):\n",
    "        \n",
    "        df1 = pd.read_csv(featfilename,header=None)\n",
    "        df2 = pd.read_csv(self.label_file,header=None)\n",
    "        df_feat = df1.merge(df2,on=0).set_index(0)\n",
    "        df_feat_train = df_feat.loc[self.enz_train]\n",
    "        df_feat_valid = df_feat.loc[self.enz_valid]\n",
    "        X_train_feat,y_train_feat = df_feat_train.iloc[:,0:-1].values,df_feat_train.iloc[:,-1].values\n",
    "        X_valid_feat,y_valid_feat = df_feat_valid.iloc[:,0:-1].values,df_feat_valid.iloc[:,-1].values\n",
    "\n",
    "        if X_train_feat.shape[1]<self.default_pca_components:\n",
    "            self.pca_components = int(0.75*X_train_feat.shape[1])\n",
    "        else:\n",
    "            self.pca_components=self.default_pca_components\n",
    "            \n",
    "        if self.test:\n",
    "            df_feat_test = pd.read_csv(testfeatfilename,header=None).set_index(0)\n",
    "            X_test_feat = df_feat_test.loc[self.testenz_names].values\n",
    "            if X_train_feat.shape[1] != X_test_feat.shape[1]:\n",
    "                print(featfilename)\n",
    "            obj = self.object_map[self.model](X_train_feat,X_valid_feat,y_train_feat,y_valid_feat,X_test_feat)\n",
    "        else:\n",
    "            obj = self.object_map[self.model](X_train_feat,X_valid_feat,y_train_feat,y_valid_feat)\n",
    "        return obj\n",
    "        \n",
    "    def select_top_models(self,Os):\n",
    "        o_valid_accs = [o.acc_valid for o in Os] if self.test else [o.acc_train for o in Os] \n",
    "        sorted_idx = np.argsort(o_valid_accs)[::-1]\n",
    "        best_idx = sorted_idx[:self.n_models]\n",
    "        return best_idx,np.array(Os)[best_idx]\n",
    "        "
   ]
  },
  {
   "cell_type": "code",
   "execution_count": 3,
   "metadata": {
    "scrolled": true
   },
   "outputs": [
    {
     "name": "stdout",
     "output_type": "stream",
     "text": [
      "CPU times: user 8.04 s, sys: 381 ms, total: 8.42 s\n",
      "Wall time: 24min 59s\n"
     ]
    }
   ],
   "source": [
    "%%time\n",
    "if __name__=='__main__':\n",
    "    # Sequence and label files \n",
    "    enz_file = '../data/SeqFile/EnzymeSequence.csv'\n",
    "    label_file = '../data/LabelFiles/EnzymeLabelsMultiClass.csv'\n",
    "    \n",
    "    testenz_file = '../data/SeqFile/TestEnzymeSequence.csv'\n",
    "\n",
    "    # Feature dir for iFeature,kernel,pssm \n",
    "    ifeatdatadir = '../featEngg/ifeatMethods/data/featvec/trainfiles/'\n",
    "    kerneldatadir = '../featEngg/kernelMethods/data/featvec/trainfiles/'\n",
    "    pssmdatadir = '../featEngg/pssmMethods/data/featvec/trainfiles/'\n",
    "\n",
    "    ifeattestdatadir = '../featEngg/ifeatMethods/data/featvec/testfiles/'\n",
    "    kerneltestdatadir = '../featEngg/kernelMethods/data/featvec/testfiles/'\n",
    "    pssmtestdatadir = '../featEngg/pssmMethods/data/featvec/testfiles/'\n",
    "\n",
    "    trainfeatdirs = [ifeatdatadir,pssmdatadir] #kerneldatadir,\n",
    "    testfeatdirs = [ifeattestdatadir,pssmtestdatadir] #kerneltestdatadir\n",
    "\n",
    "\n",
    "    te = TEClassification(enz_file,testenz_file,label_file,trainfeatdirs,testfeatdirs,random_seed=17)\n",
    "    te_notest = TEClassification(enz_file,None,label_file,trainfeatdirs,None,random_seed=17)\n",
    "    \n",
    "    def multi_func(rs):\n",
    "        te_i = TEClassification(enz_file,None,label_file,trainfeatdirs,None,random_seed=rs)\n",
    "        return te_i.precision,te_i.en.acc    \n",
    "    \n",
    "    pool = mp.Pool(mp.cpu_count())\n",
    "\n",
    "    \n",
    "    \n",
    "    \n",
    "    metrics = list(pool.map(multi_func,range(10000)))\n",
    "    \n"
   ]
  },
  {
   "cell_type": "code",
   "execution_count": 4,
   "metadata": {},
   "outputs": [],
   "source": [
    "prec = [metr[0] for metr in metrics]\n",
    "accs = [metr[1] for metr in metrics]"
   ]
  },
  {
   "cell_type": "code",
   "execution_count": 5,
   "metadata": {},
   "outputs": [
    {
     "name": "stdout",
     "output_type": "stream",
     "text": [
      "0.36363636363636365 0.8857611335892499 1.0 0.0900794101115528\n"
     ]
    }
   ],
   "source": [
    "print(min(prec),np.mean(prec),max(prec),np.std(prec))"
   ]
  },
  {
   "cell_type": "code",
   "execution_count": 6,
   "metadata": {},
   "outputs": [
    {
     "name": "stdout",
     "output_type": "stream",
     "text": [
      "0.4827586206896552 0.7876620689655173 1.0 0.07047738659600744\n"
     ]
    }
   ],
   "source": [
    "print(min(accs),np.mean(accs),max(accs),np.std(accs))"
   ]
  },
  {
   "cell_type": "code",
   "execution_count": 7,
   "metadata": {},
   "outputs": [],
   "source": [
    "def saveResults(filename):\n",
    "    with open('../data/SimResults/EnsembleResults/'+filename,'w') as f:\n",
    "        for rs,score in enumerate(metrics):\n",
    "            f.write(str(rs)+','+str(score[0])+','+str(score[1])+'\\n')\n",
    "    return"
   ]
  },
  {
   "cell_type": "code",
   "execution_count": 8,
   "metadata": {},
   "outputs": [],
   "source": [
    "saveResults('MultiClassEnsemble.csv')"
   ]
  },
  {
   "cell_type": "code",
   "execution_count": 9,
   "metadata": {},
   "outputs": [],
   "source": [
    "import matplotlib.pyplot as plt\n",
    "%matplotlib inline"
   ]
  },
  {
   "cell_type": "code",
   "execution_count": 10,
   "metadata": {},
   "outputs": [
    {
     "data": {
      "text/plain": [
       "(array([1.000e+00, 1.000e+00, 2.200e+01, 5.500e+01, 1.590e+02, 4.590e+02,\n",
       "        1.148e+03, 2.201e+03, 3.442e+03, 2.512e+03]),\n",
       " array([0.36363636, 0.42727273, 0.49090909, 0.55454545, 0.61818182,\n",
       "        0.68181818, 0.74545455, 0.80909091, 0.87272727, 0.93636364,\n",
       "        1.        ]),\n",
       " <a list of 10 Patch objects>)"
      ]
     },
     "execution_count": 10,
     "metadata": {},
     "output_type": "execute_result"
    },
    {
     "data": {
      "image/png": "[encoded data removed]",
      "text/plain": [
       "<Figure size 432x288 with 1 Axes>"
      ]
     },
     "metadata": {
      "needs_background": "light"
     },
     "output_type": "display_data"
    }
   ],
   "source": [
    "plt.hist(prec)"
   ]
  },
  {
   "cell_type": "code",
   "execution_count": 11,
   "metadata": {
    "scrolled": false
   },
   "outputs": [
    {
     "data": {
      "text/plain": [
       "(array([   9.,   67.,  157.,  333., 1911., 1635., 3756., 1268.,  820.,\n",
       "          44.]),\n",
       " array([0.48275862, 0.53448276, 0.5862069 , 0.63793103, 0.68965517,\n",
       "        0.74137931, 0.79310345, 0.84482759, 0.89655172, 0.94827586,\n",
       "        1.        ]),\n",
       " <a list of 10 Patch objects>)"
      ]
     },
     "execution_count": 11,
     "metadata": {},
     "output_type": "execute_result"
    },
    {
     "data": {
      "image/png": "[encoded data removed]",
      "text/plain": [
       "<Figure size 432x288 with 1 Axes>"
      ]
     },
     "metadata": {
      "needs_background": "light"
     },
     "output_type": "display_data"
    }
   ],
   "source": [
    "plt.hist(accs)"
   ]
  },
  {
   "cell_type": "code",
   "execution_count": 12,
   "metadata": {},
   "outputs": [
    {
     "data": {
      "text/plain": [
       "(0.7931034482758621, 0.9090909090909091)"
      ]
     },
     "execution_count": 12,
     "metadata": {},
     "output_type": "execute_result"
    }
   ],
   "source": [
    "np.median(accs),np.median(prec)"
   ]
  },
  {
   "cell_type": "markdown",
   "metadata": {},
   "source": [
    "# Model Predictions"
   ]
  },
  {
   "cell_type": "code",
   "execution_count": 13,
   "metadata": {},
   "outputs": [],
   "source": [
    "testenzmapfile = '../data/TestEnzymeNameMap.csv'\n",
    "testenznamemapdf = pd.read_csv(testenzmapfile,header=None)\n",
    "test_enz_mapdict = dict(zip(testenznamemapdf[0],testenznamemapdf[1]))"
   ]
  },
  {
   "cell_type": "code",
   "execution_count": 14,
   "metadata": {},
   "outputs": [],
   "source": [
    "with open('../data/SimResults/TestSetPredictions.txt','w') as f:\n",
    "    f.write(f'Model Name: Ensemble')\n",
    "    f.write('\\n')\n",
    "    for name,val in zip(te.testenz_names,te.en.preds):\n",
    "        f.write(f'{test_enz_mapdict[name]} {\"-\"*5}> {str(val)}')\n",
    "        f.write('\\n')\n",
    "    f.write(f'{\"-\"*50}')\n",
    "    f.write('\\n')\n",
    "    for index,model_name in enumerate(te.featnames):\n",
    "        f.write(f'Model Name: {model_name}')\n",
    "        f.write('\\n')\n",
    "        for name,val in zip(te.testenz_names,te.objects[index].yhattest):\n",
    "            f.write(f'{test_enz_mapdict[name]} {\"-\"*5}> {str(val)}')\n",
    "            f.write('\\n')\n",
    "        f.write(f'{\"-\"*50}')\n",
    "        f.write('\\n')"
   ]
  }
 ],
 "metadata": {
  "kernelspec": {
   "display_name": "Python 3",
   "language": "python",
   "name": "python3"
  },
  "language_info": {
   "codemirror_mode": {
    "name": "ipython",
    "version": 3
   },
   "file_extension": ".py",
   "mimetype": "text/x-python",
   "name": "python",
   "nbconvert_exporter": "python",
   "pygments_lexer": "ipython3",
   "version": "3.8.3"
  }
 },
 "nbformat": 4,
 "nbformat_minor": 4
}
