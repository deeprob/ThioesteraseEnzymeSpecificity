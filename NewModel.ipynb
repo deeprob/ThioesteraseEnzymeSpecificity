{
 "cells": [
  {
   "cell_type": "code",
   "execution_count": 1,
   "metadata": {},
   "outputs": [
    {
     "name": "stderr",
     "output_type": "stream",
     "text": [
      "/storage/home/dzb5732/.conda/envs/thio-env/lib/python3.6/importlib/_bootstrap.py:219: RuntimeWarning: numpy.ufunc size changed, may indicate binary incompatibility. Expected 192 from C header, got 216 from PyObject\n",
      "  return f(*args, **kwds)\n",
      "/storage/home/dzb5732/.conda/envs/thio-env/lib/python3.6/importlib/_bootstrap.py:219: RuntimeWarning: numpy.ufunc size changed, may indicate binary incompatibility. Expected 192 from C header, got 216 from PyObject\n",
      "  return f(*args, **kwds)\n"
     ]
    }
   ],
   "source": [
    "import pandas as pd\n",
    "import pickle\n",
    "import numpy as np\n",
    "import matplotlib.pyplot as plt\n",
    "from sklearn.preprocessing import OneHotEncoder\n",
    "from sklearn.cluster import KMeans\n",
    "from sklearn.decomposition import PCA,TruncatedSVD,SparsePCA\n",
    "from sklearn.model_selection import train_test_split\n",
    "from sklearn.metrics import precision_score,recall_score,f1_score,confusion_matrix,accuracy_score\n",
    "from sklearn.svm import SVC\n",
    "from sklearn.pipeline import Pipeline"
   ]
  },
  {
   "cell_type": "code",
   "execution_count": 2,
   "metadata": {},
   "outputs": [],
   "source": [
    "datafile = 'Data/Enzyme_aligned.txt'\n",
    "\n",
    "enz_names = []\n",
    "X = []\n",
    "y = []\n",
    "\n",
    "with open(datafile,'r') as f:\n",
    "    for lines in f:\n",
    "        enz_val = lines.strip('\\n').split(',')\n",
    "        enz_names.append(enz_val[0])\n",
    "        X.append(list(enz_val[1]))\n",
    "        y.append(enz_val[2])"
   ]
  },
  {
   "cell_type": "code",
   "execution_count": 3,
   "metadata": {},
   "outputs": [],
   "source": [
    "smallX = [x[:5] for x in X]"
   ]
  },
  {
   "cell_type": "code",
   "execution_count": 4,
   "metadata": {},
   "outputs": [],
   "source": [
    "smallXarr = np.array(smallX)"
   ]
  },
  {
   "cell_type": "code",
   "execution_count": 5,
   "metadata": {},
   "outputs": [],
   "source": [
    "Xarr = np.array(X)"
   ]
  },
  {
   "cell_type": "code",
   "execution_count": 6,
   "metadata": {},
   "outputs": [
    {
     "data": {
      "text/plain": [
       "OneHotEncoder()"
      ]
     },
     "execution_count": 6,
     "metadata": {},
     "output_type": "execute_result"
    }
   ],
   "source": [
    "ohe = OneHotEncoder()\n",
    "ohe.fit(Xarr)\n"
   ]
  },
  {
   "cell_type": "code",
   "execution_count": 7,
   "metadata": {},
   "outputs": [],
   "source": [
    "X_enc = ohe.transform(Xarr).toarray()\n",
    "y_enc = np.array(y)"
   ]
  },
  {
   "cell_type": "code",
   "execution_count": 8,
   "metadata": {},
   "outputs": [],
   "source": [
    "lencat = [(ci,lc) for ci,lc in zip(range(len(ohe.categories_)),list(map(len,ohe.categories_)))]"
   ]
  },
  {
   "cell_type": "code",
   "execution_count": 9,
   "metadata": {},
   "outputs": [],
   "source": [
    "catnummap = {}\n",
    "\n",
    "currval = 0\n",
    "nextval = 0\n",
    "\n",
    "for i,j in lencat:\n",
    "    nextval += j\n",
    "    catnummap[i] = list(range(currval,nextval))\n",
    "    currval=nextval\n",
    "    "
   ]
  },
  {
   "cell_type": "code",
   "execution_count": 10,
   "metadata": {},
   "outputs": [],
   "source": [
    "numcatmap = {num:cat for cat,nums in catnummap.items() for num in nums}"
   ]
  },
  {
   "cell_type": "code",
   "execution_count": 11,
   "metadata": {},
   "outputs": [
    {
     "data": {
      "text/plain": [
       "SelectKBest(score_func=<function chi2 at 0x2b4b0ee2cae8>)"
      ]
     },
     "execution_count": 11,
     "metadata": {},
     "output_type": "execute_result"
    }
   ],
   "source": [
    "from sklearn.feature_selection import SelectKBest,f_classif,mutual_info_classif,chi2\n",
    "\n",
    "skbest = SelectKBest(score_func=chi2)\n",
    "skbest.fit(X_enc,y_enc)"
   ]
  },
  {
   "cell_type": "code",
   "execution_count": 12,
   "metadata": {},
   "outputs": [
    {
     "data": {
      "text/plain": [
       "array([1336, 1240,  644, 1257,  632, 1332, 1333, 1334, 1335,  631,  621,\n",
       "       1365, 1370,  585, 1548,  580, 1233, 1225, 1221, 1220,  948,  966,\n",
       "        843, 1007,  788,  782,  781,  573,  740,  735,  714, 1197, 1210,\n",
       "       1213,  693, 1217,  739, 1588,  923, 1626, 1618,  376,  673,  272,\n",
       "        844,  634,  586,  312, 1356,  737])"
      ]
     },
     "execution_count": 12,
     "metadata": {},
     "output_type": "execute_result"
    }
   ],
   "source": [
    "np.argsort(skbest.scores_)[:50]"
   ]
  },
  {
   "cell_type": "code",
   "execution_count": 13,
   "metadata": {},
   "outputs": [],
   "source": [
    "best50pos = []\n",
    "\n",
    "for idx in np.argsort(skbest.scores_)[:50]:\n",
    "    best50pos.append(numcatmap[idx])"
   ]
  },
  {
   "cell_type": "code",
   "execution_count": 14,
   "metadata": {},
   "outputs": [],
   "source": [
    "mypos = sorted(set(best50pos))"
   ]
  },
  {
   "cell_type": "code",
   "execution_count": 15,
   "metadata": {
    "scrolled": true
   },
   "outputs": [
    {
     "data": {
      "text/plain": [
       "[89,\n",
       " 101,\n",
       " 119,\n",
       " 158,\n",
       " 161,\n",
       " 164,\n",
       " 165,\n",
       " 178,\n",
       " 181,\n",
       " 182,\n",
       " 183,\n",
       " 186,\n",
       " 193,\n",
       " 197,\n",
       " 204,\n",
       " 209,\n",
       " 210,\n",
       " 211,\n",
       " 212,\n",
       " 223,\n",
       " 224,\n",
       " 226,\n",
       " 240,\n",
       " 241,\n",
       " 261,\n",
       " 269,\n",
       " 274,\n",
       " 286,\n",
       " 327,\n",
       " 331,\n",
       " 333,\n",
       " 335,\n",
       " 337,\n",
       " 338,\n",
       " 340,\n",
       " 343,\n",
       " 346,\n",
       " 352,\n",
       " 368,\n",
       " 369,\n",
       " 370,\n",
       " 371,\n",
       " 372,\n",
       " 377,\n",
       " 380,\n",
       " 382,\n",
       " 414,\n",
       " 427,\n",
       " 435,\n",
       " 437]"
      ]
     },
     "execution_count": 15,
     "metadata": {},
     "output_type": "execute_result"
    }
   ],
   "source": [
    "mypos"
   ]
  },
  {
   "cell_type": "code",
   "execution_count": 16,
   "metadata": {},
   "outputs": [
    {
     "data": {
      "text/plain": [
       "50"
      ]
     },
     "execution_count": 16,
     "metadata": {},
     "output_type": "execute_result"
    }
   ],
   "source": [
    "len(mypos)"
   ]
  },
  {
   "cell_type": "code",
   "execution_count": 22,
   "metadata": {},
   "outputs": [],
   "source": [
    "with open('Data/BestPosition.txt','w') as f:\n",
    "    for pos in mypos:\n",
    "        f.write(str(pos))\n",
    "        f.write('\\n')"
   ]
  },
  {
   "cell_type": "code",
   "execution_count": 281,
   "metadata": {},
   "outputs": [
    {
     "data": {
      "text/plain": [
       "array(['-', 'K', 'N', 'R', 'S'], dtype='<U1')"
      ]
     },
     "execution_count": 281,
     "metadata": {},
     "output_type": "execute_result"
    }
   ],
   "source": [
    "ohe.categories_[146]"
   ]
  },
  {
   "cell_type": "code",
   "execution_count": 282,
   "metadata": {},
   "outputs": [
    {
     "data": {
      "text/plain": [
       "array([['-', '-', '-', ..., '-', '-', '-'],\n",
       "       ['-', '-', '-', ..., '-', '-', '-'],\n",
       "       ['-', '-', '-', ..., '-', '-', '-'],\n",
       "       ...,\n",
       "       ['-', '-', 'M', ..., '-', '-', '-'],\n",
       "       ['-', '-', 'M', ..., '-', '-', '-'],\n",
       "       ['-', '-', 'M', ..., '-', '-', '-']], dtype='<U1')"
      ]
     },
     "execution_count": 282,
     "metadata": {},
     "output_type": "execute_result"
    }
   ],
   "source": [
    "Xarr"
   ]
  },
  {
   "cell_type": "code",
   "execution_count": 283,
   "metadata": {},
   "outputs": [],
   "source": [
    "X_processed = Xarr[:,mypos]"
   ]
  },
  {
   "cell_type": "code",
   "execution_count": 284,
   "metadata": {},
   "outputs": [
    {
     "data": {
      "text/plain": [
       "array([['-', '-', '-', ..., '-', '-', '-'],\n",
       "       ['-', '-', '-', ..., '-', '-', '-'],\n",
       "       ['-', '-', '-', ..., '-', '-', '-'],\n",
       "       ...,\n",
       "       ['K', 'I', 'S', ..., '-', '-', '-'],\n",
       "       ['K', 'I', 'S', ..., '-', '-', '-'],\n",
       "       ['K', 'I', 'S', ..., '-', '-', '-']], dtype='<U1')"
      ]
     },
     "execution_count": 284,
     "metadata": {},
     "output_type": "execute_result"
    }
   ],
   "source": [
    "X_processed"
   ]
  },
  {
   "cell_type": "code",
   "execution_count": 285,
   "metadata": {},
   "outputs": [
    {
     "data": {
      "text/plain": [
       "array(['3', '3', '1', '1', '2', '1', '2', '3', '1', '1', '2', '1', '3',\n",
       "       '3', '1', '2', '2', '3', '1', '1', '1', '1', '1', '1', '1', '1',\n",
       "       '1', '1', '1', '1', '1', '3', '2', '1', '1', '1', '3', '1', '1',\n",
       "       '3', '3', '3', '3', '3', '3', '3', '3', '3', '2', '1', '3', '3',\n",
       "       '2', '2', '3', '3', '3', '2', '1', '3', '3', '3', '3', '3', '3',\n",
       "       '3', '3', '3', '3', '3', '3', '3', '1', '3', '2', '3', '2', '3',\n",
       "       '3', '3', '3', '3', '3', '3', '2', '3', '3', '3', '3', '3', '3',\n",
       "       '1', '1', '1', '2', '2', '3', '1', '1', '1', '1', '1', '1', '2',\n",
       "       '2', '2'], dtype='<U1')"
      ]
     },
     "execution_count": 285,
     "metadata": {},
     "output_type": "execute_result"
    }
   ],
   "source": [
    "y_enc"
   ]
  },
  {
   "cell_type": "code",
   "execution_count": 286,
   "metadata": {},
   "outputs": [
    {
     "data": {
      "text/plain": [
       "OneHotEncoder()"
      ]
     },
     "execution_count": 286,
     "metadata": {},
     "output_type": "execute_result"
    }
   ],
   "source": [
    "ohe_proc = OneHotEncoder()\n",
    "ohe_proc.fit(X_processed)"
   ]
  },
  {
   "cell_type": "code",
   "execution_count": 287,
   "metadata": {},
   "outputs": [],
   "source": [
    "Xtrain = ohe_proc.transform(X_processed).toarray()"
   ]
  },
  {
   "cell_type": "code",
   "execution_count": 288,
   "metadata": {},
   "outputs": [
    {
     "data": {
      "text/plain": [
       "array([[1., 0., 0., ..., 0., 0., 0.],\n",
       "       [1., 0., 0., ..., 0., 0., 0.],\n",
       "       [1., 0., 0., ..., 0., 0., 0.],\n",
       "       ...,\n",
       "       [0., 1., 0., ..., 0., 0., 0.],\n",
       "       [0., 1., 0., ..., 0., 0., 0.],\n",
       "       [0., 1., 0., ..., 0., 0., 0.]])"
      ]
     },
     "execution_count": 288,
     "metadata": {},
     "output_type": "execute_result"
    }
   ],
   "source": [
    "Xtrain"
   ]
  },
  {
   "cell_type": "code",
   "execution_count": 289,
   "metadata": {},
   "outputs": [
    {
     "data": {
      "text/plain": [
       "(106, 230)"
      ]
     },
     "execution_count": 289,
     "metadata": {},
     "output_type": "execute_result"
    }
   ],
   "source": [
    "Xtrain.shape"
   ]
  },
  {
   "cell_type": "code",
   "execution_count": 290,
   "metadata": {},
   "outputs": [],
   "source": [
    "steps = [('pca',PCA(n_components=35)),('SVM',SVC(C=1,gamma='scale',kernel='rbf'))]\n",
    "pipe = Pipeline(steps)\n"
   ]
  },
  {
   "cell_type": "code",
   "execution_count": 291,
   "metadata": {},
   "outputs": [
    {
     "data": {
      "text/plain": [
       "Pipeline(steps=[('pca', PCA(n_components=35)), ('SVM', SVC(C=1))])"
      ]
     },
     "execution_count": 291,
     "metadata": {},
     "output_type": "execute_result"
    }
   ],
   "source": [
    "pipe.fit(Xtrain,y_enc)"
   ]
  },
  {
   "cell_type": "code",
   "execution_count": 292,
   "metadata": {},
   "outputs": [],
   "source": [
    "ypred = pipe.predict(Xtrain)"
   ]
  },
  {
   "cell_type": "code",
   "execution_count": 293,
   "metadata": {},
   "outputs": [
    {
     "data": {
      "text/plain": [
       "0.8301886792452831"
      ]
     },
     "execution_count": 293,
     "metadata": {},
     "output_type": "execute_result"
    }
   ],
   "source": [
    "accuracy_score(ypred,y_enc)"
   ]
  },
  {
   "cell_type": "code",
   "execution_count": 294,
   "metadata": {},
   "outputs": [
    {
     "data": {
      "text/plain": [
       "(106, 45)"
      ]
     },
     "execution_count": 294,
     "metadata": {},
     "output_type": "execute_result"
    }
   ],
   "source": [
    "X_processed.shape"
   ]
  },
  {
   "cell_type": "code",
   "execution_count": 295,
   "metadata": {},
   "outputs": [
    {
     "name": "stdout",
     "output_type": "stream",
     "text": [
      "0\n",
      "10\n",
      "20\n",
      "30\n",
      "40\n",
      "50\n",
      "60\n",
      "70\n",
      "80\n",
      "90\n"
     ]
    }
   ],
   "source": [
    "tracc = []\n",
    "teacc = []\n",
    "for i in range(100):\n",
    "    X_train, X_test, y_train, y_test = train_test_split(X_processed, y_enc, test_size=0.33, random_state=i)\n",
    "    oheenc= OneHotEncoder(handle_unknown='ignore')\n",
    "    oheenc.fit(X_train)\n",
    "    X_train_e = oheenc.transform(X_train).toarray()\n",
    "    X_test_e = oheenc.transform(X_test).toarray()\n",
    "    steps = [('pca',PCA(n_components=35)),('SVM',SVC(C=1,gamma='scale',kernel='rbf'))]\n",
    "    pipe = Pipeline(steps)\n",
    "    pipe.fit(X_train_e,y_train)\n",
    "    ypredtrain = pipe.predict(X_train_e)\n",
    "    ypredtest = pipe.predict(X_test_e)\n",
    "    trainacc = accuracy_score(y_train,ypredtrain)\n",
    "    testacc = accuracy_score(y_test,ypredtest)\n",
    "    tracc.append(trainacc)\n",
    "    teacc.append(testacc)\n",
    "    if i%10==0:\n",
    "        print(i)"
   ]
  },
  {
   "cell_type": "code",
   "execution_count": 296,
   "metadata": {},
   "outputs": [
    {
     "data": {
      "text/plain": [
       "<matplotlib.legend.Legend at 0x2ab5a0baca58>"
      ]
     },
     "execution_count": 296,
     "metadata": {},
     "output_type": "execute_result"
    },
    {
     "data": {
      "image/png": "[encoded data removed]",
      "text/plain": [
       "<Figure size 432x288 with 1 Axes>"
      ]
     },
     "metadata": {
      "needs_background": "light"
     },
     "output_type": "display_data"
    }
   ],
   "source": [
    "plt.plot(tracc,label='train')\n",
    "plt.plot(teacc,label='test')\n",
    "plt.legend()"
   ]
  },
  {
   "cell_type": "code",
   "execution_count": 297,
   "metadata": {},
   "outputs": [
    {
     "data": {
      "text/plain": [
       "0.6711428571428572"
      ]
     },
     "execution_count": 297,
     "metadata": {},
     "output_type": "execute_result"
    }
   ],
   "source": [
    "np.mean(teacc)"
   ]
  },
  {
   "cell_type": "code",
   "execution_count": 298,
   "metadata": {},
   "outputs": [
    {
     "data": {
      "text/plain": [
       "0.8142253521126761"
      ]
     },
     "execution_count": 298,
     "metadata": {},
     "output_type": "execute_result"
    }
   ],
   "source": [
    "np.mean(tracc)"
   ]
  },
  {
   "cell_type": "code",
   "execution_count": 299,
   "metadata": {},
   "outputs": [
    {
     "data": {
      "text/plain": [
       "0.42857142857142855"
      ]
     },
     "execution_count": 299,
     "metadata": {},
     "output_type": "execute_result"
    }
   ],
   "source": [
    "min(teacc)"
   ]
  },
  {
   "cell_type": "code",
   "execution_count": 300,
   "metadata": {},
   "outputs": [
    {
     "data": {
      "text/plain": [
       "0.704225352112676"
      ]
     },
     "execution_count": 300,
     "metadata": {},
     "output_type": "execute_result"
    }
   ],
   "source": [
    "min(tracc)"
   ]
  },
  {
   "cell_type": "code",
   "execution_count": 301,
   "metadata": {},
   "outputs": [
    {
     "data": {
      "text/plain": [
       "0.07233651518127918"
      ]
     },
     "execution_count": 301,
     "metadata": {},
     "output_type": "execute_result"
    }
   ],
   "source": [
    "np.std(teacc)"
   ]
  },
  {
   "cell_type": "code",
   "execution_count": 302,
   "metadata": {},
   "outputs": [
    {
     "data": {
      "text/plain": [
       "(array([ 2.,  0.,  1.,  5., 10., 36., 14., 20.,  5.,  7.]),\n",
       " array([0.42857143, 0.46857143, 0.50857143, 0.54857143, 0.58857143,\n",
       "        0.62857143, 0.66857143, 0.70857143, 0.74857143, 0.78857143,\n",
       "        0.82857143]),\n",
       " <BarContainer object of 10 artists>)"
      ]
     },
     "execution_count": 302,
     "metadata": {},
     "output_type": "execute_result"
    },
    {
     "data": {
      "image/png": "[encoded data removed]",
      "text/plain": [
       "<Figure size 432x288 with 1 Axes>"
      ]
     },
     "metadata": {
      "needs_background": "light"
     },
     "output_type": "display_data"
    }
   ],
   "source": [
    "plt.hist(teacc)"
   ]
  },
  {
   "cell_type": "code",
   "execution_count": null,
   "metadata": {},
   "outputs": [],
   "source": []
  }
 ],
 "metadata": {
  "kernelspec": {
   "display_name": "Python 3",
   "language": "python",
   "name": "python3"
  },
  "language_info": {
   "codemirror_mode": {
    "name": "ipython",
    "version": 3
   },
   "file_extension": ".py",
   "mimetype": "text/x-python",
   "name": "python",
   "nbconvert_exporter": "python",
   "pygments_lexer": "ipython3",
   "version": "3.6.7"
  }
 },
 "nbformat": 4,
 "nbformat_minor": 4
}
