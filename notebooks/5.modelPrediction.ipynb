{
 "cells": [
  {
   "cell_type": "markdown",
   "metadata": {},
   "source": [
    "# Prediction of the 9 test subjects"
   ]
  },
  {
   "cell_type": "code",
   "execution_count": 32,
   "metadata": {},
   "outputs": [],
   "source": [
    "import sys\n",
    "import tqdm\n",
    "import multiprocessing as mp\n",
    "from collections import Counter\n",
    "from operator import itemgetter"
   ]
  },
  {
   "cell_type": "code",
   "execution_count": 2,
   "metadata": {},
   "outputs": [],
   "source": [
    "sys.path.append('../scripts/')"
   ]
  },
  {
   "cell_type": "code",
   "execution_count": 3,
   "metadata": {},
   "outputs": [],
   "source": [
    "from MultiClassClassification import TEClassification"
   ]
  },
  {
   "cell_type": "code",
   "execution_count": 4,
   "metadata": {},
   "outputs": [],
   "source": [
    "# Sequence and label files \n",
    "enz_file = '../data/seq/EnzymeSequence.csv'\n",
    "test_enz_file = '../data/seq/TestEnzymeSequence.csv'\n",
    "test_enz_map_file = '../data/TestEnzymeNameMap.csv'\n",
    "label_file = '../data/label/EnzymeLabelsMultiClass.csv'\n",
    "indhpoptfile = '../data/results/hpopt/IndHPOpt.csv'\n",
    "\n",
    "# Feature dir for iFeature,kernel,pssm \n",
    "ifeatdatadir = '../featEngg/offline/ifeatMethods/data/featvec/trainfiles/'\n",
    "kerneldatadir = '../featEngg/offline/kernelMethods/data/featvec/thymefiles1/train/'\n",
    "pssmdatadir = '../featEngg/offline/pssmMethods/data/featvec/trainfiles/'\n",
    "\n",
    "trainfeatdirs = [ifeatdatadir,kerneldatadir,pssmdatadir]\n",
    "\n",
    "ifeattestdatadir = '../featEngg/offline/ifeatMethods/data/featvec/testfiles/'\n",
    "kerneltestdatadir = '../featEngg/offline/kernelMethods/data/featvec/thymefiles1/test/'\n",
    "pssmtestdatadir = '../featEngg/offline/pssmMethods/data/featvec/testfiles/'\n",
    "\n",
    "testfeatdirs = [ifeattestdatadir,kerneltestdatadir,pssmtestdatadir]"
   ]
  },
  {
   "cell_type": "code",
   "execution_count": 5,
   "metadata": {},
   "outputs": [],
   "source": [
    "def get_test_map_dict(filename):\n",
    "    map_dict = dict()\n",
    "    with open(filename,'r') as f:\n",
    "        for lines in f:\n",
    "            data = lines.strip().split(\",\")\n",
    "            map_dict[data[0]] = data[1]\n",
    "    return map_dict\n",
    "\n",
    "def function_predict_test(rs):\n",
    "    enz_map_dict = get_test_map_dict(test_enz_map_file)\n",
    "    names = []\n",
    "    te = TEClassification(enz_file,test_enz_file,label_file,trainfeatdirs,testfeatdirs,hyperparamfile=indhpoptfile,random_seed=rs, model='SVM', optimize=False)\n",
    "    for name,pred in zip(te.testenz_names, te.en.preds):\n",
    "        if pred == 3:\n",
    "            names.append(enz_map_dict[name])\n",
    "    return names\n",
    "\n",
    "def test_pred_multifunc(N):\n",
    "    pool = mp.Pool(mp.cpu_count())\n",
    "    all_names = list(tqdm.tqdm(pool.imap(function_predict_test, range(N)), total=N))\n",
    "    return all_names\n",
    "\n",
    "def save_test_preds(N):\n",
    "    test_preds = test_pred_multifunc(N)\n",
    "    \n",
    "    filename_all = '../data/predictions/test/test_multipreds.csv'\n",
    "    filename_set = '../data/predictions/test/testset_multipreds.csv'\n",
    "    \n",
    "    set_test_preds = set(sum(test_preds,[]))\n",
    "    with open(filename_set, 'w') as f:\n",
    "        for enz in set_test_preds:\n",
    "            f.write(enz)\n",
    "            f.write('\\n')\n",
    "    \n",
    "    with open(filename_all, 'w') as f:\n",
    "        for rs, enz_list in zip(range(N), test_preds):\n",
    "            f.write(f'{rs},{\",\".join(enz_list)}')\n",
    "            f.write('\\n')\n",
    "    return"
   ]
  },
  {
   "cell_type": "code",
   "execution_count": 6,
   "metadata": {},
   "outputs": [
    {
     "name": "stderr",
     "output_type": "stream",
     "text": [
      "100%|██████████| 1000/1000 [11:52<00:00,  1.40it/s]\n"
     ]
    }
   ],
   "source": [
    "save_test_preds(1000)"
   ]
  },
  {
   "cell_type": "markdown",
   "metadata": {},
   "source": [
    "# Prediction of thyme1 sequences"
   ]
  },
  {
   "cell_type": "code",
   "execution_count": 7,
   "metadata": {},
   "outputs": [],
   "source": [
    "# Sequence and mapping files \n",
    "thyme1_enz_file = '../data/seq/ThymeEnzymeSequence1.csv'\n",
    "thyme_enz_map_file = '../data/ThymeEnzymeNameMap.csv'\n",
    "\n",
    "\n",
    "ifeatthyme1datadir = '../featEngg/offline/ifeatMethods/data/featvec/thymefiles1/'\n",
    "kernelthyme1datadir = '../featEngg/offline/kernelMethods/data/featvec/thymefiles1/thyme/'\n",
    "pssmthyme1datadir = '../featEngg/offline/pssmMethods/data/featvec/thymefiles1/'\n",
    "\n",
    "thyme1featdirs = [ifeatthyme1datadir,kernelthyme1datadir,pssmthyme1datadir]"
   ]
  },
  {
   "cell_type": "code",
   "execution_count": 8,
   "metadata": {},
   "outputs": [],
   "source": [
    "def function_predict_thyme1(rs):\n",
    "    enz_map_dict = get_test_map_dict(thyme_enz_map_file)\n",
    "    names = []\n",
    "    te_thyme1 = TEClassification(enz_file,thyme1_enz_file,label_file,trainfeatdirs,thyme1featdirs,hyperparamfile=indhpoptfile,random_seed=rs, model='SVM', optimize=False)\n",
    "    for name,pred in zip(te_thyme1.testenz_names, te_thyme1.en.preds):\n",
    "        if pred == 3:\n",
    "            names.append(enz_map_dict[name])   \n",
    "    return names\n",
    "\n",
    "def thyme1_pred_multifunc(N):\n",
    "    pool = mp.Pool(mp.cpu_count())\n",
    "    all_names = list(tqdm.tqdm(pool.imap(function_predict_thyme1, range(N)), total=N))\n",
    "    return all_names\n",
    "\n",
    "def save_thyme1_preds(N):\n",
    "    thyme1_preds = thyme1_pred_multifunc(N)\n",
    "    \n",
    "    filename_all = '../data/predictions/thyme/thyme1_multipreds.csv'\n",
    "    filename_set = '../data/predictions/thyme/thyme1set_multipreds.csv'\n",
    "    \n",
    "    set_thyme1_preds = set(sum(thyme1_preds,[]))\n",
    "    with open(filename_set, 'w') as f:\n",
    "        for enz in set_thyme1_preds:\n",
    "            f.write(enz)\n",
    "            f.write('\\n')\n",
    "    \n",
    "    with open(filename_all, 'w') as f:\n",
    "        for rs, enz_list in zip(range(N), thyme1_preds):\n",
    "            f.write(f'{rs},{\",\".join(enz_list)}')\n",
    "            f.write('\\n')\n",
    "    return"
   ]
  },
  {
   "cell_type": "code",
   "execution_count": 9,
   "metadata": {},
   "outputs": [
    {
     "name": "stderr",
     "output_type": "stream",
     "text": [
      "100%|██████████| 1000/1000 [15:13<00:00,  1.09it/s]\n"
     ]
    }
   ],
   "source": [
    "save_thyme1_preds(1000)"
   ]
  },
  {
   "cell_type": "markdown",
   "metadata": {},
   "source": [
    "# Prediction of thyme2 sequences"
   ]
  },
  {
   "cell_type": "code",
   "execution_count": 10,
   "metadata": {},
   "outputs": [],
   "source": [
    "# Sequence and label files \n",
    "thyme2_enz_file = '../data/seq/ThymeEnzymeSequence2.csv'\n",
    "\n",
    "kernelthyme2datadir = '../featEngg/offline/kernelMethods/data/featvec/thymefiles2/train/'\n",
    "\n",
    "trainthyme2featdirs = [ifeatdatadir,kernelthyme2datadir,pssmdatadir]\n",
    "\n",
    "ifeatthyme2datadir = '../featEngg/offline/ifeatMethods/data/featvec/thymefiles2/'\n",
    "kernelthyme2datadir = '../featEngg/offline/kernelMethods/data/featvec/thymefiles2/thyme/'\n",
    "pssmthyme2datadir = '../featEngg/offline/pssmMethods/data/featvec/thymefiles2/'\n",
    "\n",
    "thyme2featdirs = [ifeatthyme2datadir,kernelthyme2datadir,pssmthyme2datadir]"
   ]
  },
  {
   "cell_type": "code",
   "execution_count": 11,
   "metadata": {},
   "outputs": [],
   "source": [
    "def function_predict_thyme2(rs):\n",
    "    enz_map_dict = get_test_map_dict(thyme_enz_map_file)\n",
    "    names = []\n",
    "    te_thyme2 = TEClassification(enz_file,thyme2_enz_file,label_file,trainthyme2featdirs,thyme2featdirs,hyperparamfile=indhpoptfile,random_seed=rs, model='SVM', optimize=False)\n",
    "    for name,pred in zip(te_thyme2.testenz_names, te_thyme2.en.preds):\n",
    "        if pred == 3:\n",
    "            names.append(enz_map_dict[name])   \n",
    "    return names\n",
    "\n",
    "def thyme2_pred_multifunc(N):\n",
    "    pool = mp.Pool(mp.cpu_count())\n",
    "    all_names = list(tqdm.tqdm(pool.imap(function_predict_thyme2, range(N)), total=N))\n",
    "    return all_names\n",
    "\n",
    "def save_thyme2_preds(N):\n",
    "    thyme2_preds = thyme2_pred_multifunc(N)\n",
    "    \n",
    "    filename_all = '../data/predictions/thyme/thyme2_multipreds.csv'\n",
    "    filename_set = '../data/predictions/thyme/thyme2set_multipreds.csv'\n",
    "    \n",
    "    set_thyme2_preds = set(sum(thyme2_preds,[]))\n",
    "    with open(filename_set, 'w') as f:\n",
    "        for enz in set_thyme2_preds:\n",
    "            f.write(enz)\n",
    "            f.write('\\n')\n",
    "    \n",
    "    with open(filename_all, 'w') as f:\n",
    "        for rs, enz_list in zip(range(N), thyme2_preds):\n",
    "            f.write(f'{rs},{\",\".join(enz_list)}')\n",
    "            f.write('\\n')\n",
    "    return"
   ]
  },
  {
   "cell_type": "code",
   "execution_count": 12,
   "metadata": {
    "scrolled": true
   },
   "outputs": [
    {
     "name": "stderr",
     "output_type": "stream",
     "text": [
      "100%|██████████| 1000/1000 [15:15<00:00,  1.09it/s]\n"
     ]
    }
   ],
   "source": [
    "save_thyme2_preds(1000)"
   ]
  },
  {
   "cell_type": "markdown",
   "metadata": {},
   "source": [
    "# Get the maximum counts from predicted file"
   ]
  },
  {
   "cell_type": "markdown",
   "metadata": {},
   "source": [
    "## Test Enzymes"
   ]
  },
  {
   "cell_type": "code",
   "execution_count": 35,
   "metadata": {},
   "outputs": [],
   "source": [
    "def read_enzymes(filename):\n",
    "    enzymes = []\n",
    "    with open(filename,'r') as f:\n",
    "        for line in f:\n",
    "            data = line.strip().split(',')\n",
    "            enzymes.extend(data[1:])\n",
    "    return enzymes\n",
    "\n",
    "\n",
    "def save_enzyme_counts(filename, enz_list):\n",
    "    count = Counter(enz_list)\n",
    "    with open(filename, 'w') as f:\n",
    "        for key, value in count.most_common():\n",
    "            f.write(f'{key},{value}')\n",
    "            f.write('\\n')\n",
    "    return"
   ]
  },
  {
   "cell_type": "code",
   "execution_count": 36,
   "metadata": {},
   "outputs": [],
   "source": [
    "test_enz_file = '../data/predictions/test/test_multipreds.csv'\n",
    "\n",
    "test_enz_preds = read_enzymes(test_enz_file)\n",
    "save_enzyme_counts('../data/predictions/test/test_enzcount.csv', test_enz_preds)"
   ]
  },
  {
   "cell_type": "markdown",
   "metadata": {},
   "source": [
    "## Thyme Enzymes"
   ]
  },
  {
   "cell_type": "code",
   "execution_count": 37,
   "metadata": {},
   "outputs": [],
   "source": [
    "thyme1_enz_file = '../data/predictions/thyme/thyme1_multipreds.csv'\n",
    "\n",
    "thyme1_enz_preds = read_enzymes(thyme1_enz_file)\n",
    "save_enzyme_counts('../data/predictions/thyme/thyme1_enzcount.csv', thyme1_enz_preds)\n",
    "\n",
    "thyme2_enz_file = '../data/predictions/thyme/thyme2_multipreds.csv'\n",
    "\n",
    "thyme2_enz_preds = read_enzymes(thyme2_enz_file)\n",
    "save_enzyme_counts('../data/predictions/thyme/thyme2_enzcount.csv', thyme2_enz_preds)"
   ]
  }
 ],
 "metadata": {
  "kernelspec": {
   "display_name": "Python 3",
   "language": "python",
   "name": "python3"
  },
  "language_info": {
   "codemirror_mode": {
    "name": "ipython",
    "version": 3
   },
   "file_extension": ".py",
   "mimetype": "text/x-python",
   "name": "python",
   "nbconvert_exporter": "python",
   "pygments_lexer": "ipython3",
   "version": "3.8.3"
  }
 },
 "nbformat": 4,
 "nbformat_minor": 4
}
