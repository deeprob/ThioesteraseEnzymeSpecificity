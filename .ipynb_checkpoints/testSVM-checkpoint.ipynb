{
 "cells": [
  {
   "cell_type": "code",
   "execution_count": 1,
   "metadata": {},
   "outputs": [],
   "source": [
    "def warn(*args, **kwargs):\n",
    "    pass\n",
    "import warnings\n",
    "warnings.warn = warn"
   ]
  },
  {
   "cell_type": "code",
   "execution_count": 2,
   "metadata": {},
   "outputs": [],
   "source": [
    "# import self-written modules\n",
    "from IndModels.models import PosModel,NGModel,GAACModel\n",
    "from Ensemble.model import Ensemble"
   ]
  },
  {
   "cell_type": "code",
   "execution_count": 3,
   "metadata": {},
   "outputs": [],
   "source": [
    "import pickle\n",
    "import matplotlib.pyplot as plt\n",
    "%matplotlib inline"
   ]
  },
  {
   "cell_type": "code",
   "execution_count": 4,
   "metadata": {},
   "outputs": [],
   "source": [
    "# import modules\n",
    "import numpy as np\n",
    "\n",
    "np.random.seed(1511)"
   ]
  },
  {
   "cell_type": "code",
   "execution_count": 5,
   "metadata": {},
   "outputs": [],
   "source": [
    "file = pickle.load(open('Data/TE_ML_Data_pickle.p','rb'))"
   ]
  },
  {
   "cell_type": "code",
   "execution_count": 6,
   "metadata": {},
   "outputs": [],
   "source": [
    "from helper import parseEnzymeFile,modified_split"
   ]
  },
  {
   "cell_type": "code",
   "execution_count": 7,
   "metadata": {},
   "outputs": [],
   "source": [
    "enzyme_filename = 'Data/Enzyme_Dataset.txt'\n",
    "\n",
    "X,y,enz_names = parseEnzymeFile(enzyme_filename)"
   ]
  },
  {
   "cell_type": "code",
   "execution_count": 8,
   "metadata": {},
   "outputs": [],
   "source": [
    "test_idx,train_idx = modified_split(enz_names)"
   ]
  },
  {
   "cell_type": "markdown",
   "metadata": {},
   "source": [
    "# Position-Model"
   ]
  },
  {
   "cell_type": "code",
   "execution_count": 9,
   "metadata": {},
   "outputs": [
    {
     "name": "stdout",
     "output_type": "stream",
     "text": [
      "-----Initial Model Evaluation-----\n",
      "-----Training Accuracy:0.9259259259259259-----\n",
      "-----Testing Accuracy:0.52-----\n"
     ]
    }
   ],
   "source": [
    "posModel = PosModel('Data/TE_ML_Data_pickle.p',enz_names,X,y,train_idx,test_idx,verboseQ=True,random_seed=1511,optimizeQ=False,probability=True)"
   ]
  },
  {
   "cell_type": "code",
   "execution_count": 12,
   "metadata": {},
   "outputs": [],
   "source": [
    "wrongidx = np.where(y[test_idx]!=posModel.SVMobject.ypredtest)[0]"
   ]
  },
  {
   "cell_type": "code",
   "execution_count": 62,
   "metadata": {},
   "outputs": [],
   "source": [
    "wrteidx = test_idx[wrongidx]"
   ]
  },
  {
   "cell_type": "code",
   "execution_count": 63,
   "metadata": {},
   "outputs": [
    {
     "data": {
      "text/plain": [
       "array([ 10,  92, 103,  87,  48, 104,  96,   4,  16,  89,  60,  57])"
      ]
     },
     "execution_count": 63,
     "metadata": {},
     "output_type": "execute_result"
    }
   ],
   "source": [
    "wrteidx"
   ]
  },
  {
   "cell_type": "code",
   "execution_count": 67,
   "metadata": {},
   "outputs": [
    {
     "data": {
      "text/plain": [
       "array([1, 2, 1, 2, 1, 1, 1, 1, 1, 1, 1, 1])"
      ]
     },
     "execution_count": 67,
     "metadata": {},
     "output_type": "execute_result"
    }
   ],
   "source": [
    "EModel.preds[wrongidx]"
   ]
  },
  {
   "cell_type": "code",
   "execution_count": 56,
   "metadata": {},
   "outputs": [
    {
     "data": {
      "text/plain": [
       "array([2, 1, 2, 3, 2, 2, 3, 2, 2, 3, 3, 2])"
      ]
     },
     "execution_count": 56,
     "metadata": {},
     "output_type": "execute_result"
    }
   ],
   "source": [
    "wrteidx"
   ]
  },
  {
   "cell_type": "code",
   "execution_count": 68,
   "metadata": {},
   "outputs": [
    {
     "data": {
      "text/plain": [
       "array([2, 1, 2, 3, 2, 2, 3, 2, 2, 3, 3, 2])"
      ]
     },
     "execution_count": 68,
     "metadata": {},
     "output_type": "execute_result"
    }
   ],
   "source": [
    "y[wrteidx]"
   ]
  },
  {
   "cell_type": "code",
   "execution_count": 69,
   "metadata": {},
   "outputs": [
    {
     "data": {
      "text/plain": [
       "array(['Elaeis_guineensis', 'Cuphea_viscosisssima_(CvB2MT9',\n",
       "       'Cuphea_viscosisssima_(CvB2MT28', 'Cuphea_viscosisssima_(CvB2MT26',\n",
       "       'rTE24', 'Cuphea_viscosisssima_(CvB2MT21',\n",
       "       'Cuphea_viscosisssima_(CvFatB2', 'Cocos_nucifera_(CnFatB1)',\n",
       "       'Lindera_communis', 'Cuphea_viscosisssima_(CvB2MT1',\n",
       "       'Cuphea_viscosisssima_(CvB2MT6)', 'rTE56'], dtype='<U34')"
      ]
     },
     "execution_count": 69,
     "metadata": {},
     "output_type": "execute_result"
    }
   ],
   "source": [
    "enz_names[wrteidx]"
   ]
  },
  {
   "cell_type": "code",
   "execution_count": 43,
   "metadata": {},
   "outputs": [
    {
     "data": {
      "text/plain": [
       "array([2, 1, 2, 3, 2, 2, 3, 2, 2, 3, 3, 2])"
      ]
     },
     "execution_count": 43,
     "metadata": {},
     "output_type": "execute_result"
    }
   ],
   "source": [
    "y[wrteidx]"
   ]
  },
  {
   "cell_type": "code",
   "execution_count": 73,
   "metadata": {},
   "outputs": [
    {
     "name": "stdout",
     "output_type": "stream",
     "text": [
      "10 Elaeis_guineensis 1 2\n",
      "92 Cuphea_viscosisssima_(CvB2MT9 2 1\n",
      "103 Cuphea_viscosisssima_(CvB2MT28 1 2\n",
      "87 Cuphea_viscosisssima_(CvB2MT26 2 3\n",
      "48 rTE24 1 2\n",
      "104 Cuphea_viscosisssima_(CvB2MT21 1 2\n",
      "96 Cuphea_viscosisssima_(CvFatB2 1 3\n",
      "4 Cocos_nucifera_(CnFatB1) 1 2\n",
      "16 Lindera_communis 1 2\n",
      "89 Cuphea_viscosisssima_(CvB2MT1 1 3\n",
      "60 Cuphea_viscosisssima_(CvB2MT6) 1 3\n",
      "57 rTE56 1 2\n"
     ]
    }
   ],
   "source": [
    "for i,ename,pred,actual in zip(wrteidx,enz_names[wrteidx],EModel.preds[wrongidx],y[wrteidx]):\n",
    "    print(i,ename,pred,actual)"
   ]
  },
  {
   "cell_type": "code",
   "execution_count": 13,
   "metadata": {},
   "outputs": [
    {
     "data": {
      "text/plain": [
       "array([[0.7259758 , 0.18126333, 0.09276087],\n",
       "       [0.58925162, 0.22008977, 0.1906586 ],\n",
       "       [0.5382761 , 0.26975342, 0.19197049],\n",
       "       [0.09679943, 0.22719664, 0.67600393],\n",
       "       [0.55290042, 0.15241821, 0.29468137],\n",
       "       [0.5498186 , 0.25388908, 0.19629232],\n",
       "       [0.71268882, 0.15275967, 0.13455151],\n",
       "       [0.72787376, 0.17163673, 0.10048951],\n",
       "       [0.71027722, 0.15730524, 0.13241754],\n",
       "       [0.65429471, 0.18001546, 0.16568983],\n",
       "       [0.16180529, 0.18863964, 0.64955508],\n",
       "       [0.55290042, 0.15241821, 0.29468137]])"
      ]
     },
     "execution_count": 13,
     "metadata": {},
     "output_type": "execute_result"
    }
   ],
   "source": [
    "posModel.SVMobject.model.predict_proba(posModel.Xtest)[wrongidx,:]"
   ]
  },
  {
   "cell_type": "markdown",
   "metadata": {},
   "source": [
    "# NG only model"
   ]
  },
  {
   "cell_type": "code",
   "execution_count": 14,
   "metadata": {},
   "outputs": [
    {
     "name": "stdout",
     "output_type": "stream",
     "text": [
      "-----Initial Model Evaluation-----\n",
      "-----Training Accuracy:0.9753086419753086-----\n",
      "-----Testing Accuracy:0.52-----\n"
     ]
    }
   ],
   "source": [
    "ngModel = NGModel(enz_names,X,y,train_idx,test_idx,k=7,s=1,verboseQ=True,random_seed=1511,optimizeQ=False,probability=True)"
   ]
  },
  {
   "cell_type": "code",
   "execution_count": 82,
   "metadata": {},
   "outputs": [
    {
     "data": {
      "text/plain": [
       "(array([1, 2, 3]), array([ 8,  7, 10]))"
      ]
     },
     "execution_count": 82,
     "metadata": {},
     "output_type": "execute_result"
    }
   ],
   "source": [
    "np.unique(ngModel.SVMobject.ytest,return_counts=True)"
   ]
  },
  {
   "cell_type": "code",
   "execution_count": 76,
   "metadata": {},
   "outputs": [
    {
     "data": {
      "text/plain": [
       "array([1, 2, 3, 1, 1, 1, 2, 1, 1, 3, 2, 3, 2, 3, 3, 2, 3, 2, 3, 3, 1, 3,\n",
       "       3, 1, 2])"
      ]
     },
     "execution_count": 76,
     "metadata": {},
     "output_type": "execute_result"
    }
   ],
   "source": [
    "ngModel.SVMobject.ytest"
   ]
  },
  {
   "cell_type": "code",
   "execution_count": 74,
   "metadata": {},
   "outputs": [
    {
     "data": {
      "text/plain": [
       "array([1, 1, 3, 1, 1, 2, 2, 1, 1, 2, 1, 3, 1, 1, 3, 1, 3, 1, 1, 1, 1, 3,\n",
       "       2, 1, 1])"
      ]
     },
     "execution_count": 74,
     "metadata": {},
     "output_type": "execute_result"
    }
   ],
   "source": [
    "ngModel.SVMobject.ypredtest"
   ]
  },
  {
   "cell_type": "code",
   "execution_count": 85,
   "metadata": {},
   "outputs": [],
   "source": [
    "def get_fp_tp(label,y,yhat):\n",
    "    tot_tp = 0\n",
    "    tp = 0\n",
    "    tot_fp = 0\n",
    "    fp=0\n",
    "    for yi,yhati in zip(y,yhat):\n",
    "        if yi==label:\n",
    "            tot_tp+=1\n",
    "            if yi==yhati: #true positive\n",
    "                tp+=1\n",
    "        if yhati==label:\n",
    "            tot_fp+=1\n",
    "            if yi!=label: #false positive\n",
    "                fp+=1\n",
    "    return tp/tot_tp,fp/tot_fp,tp,tot_tp,fp,tot_fp"
   ]
  },
  {
   "cell_type": "code",
   "execution_count": 88,
   "metadata": {},
   "outputs": [
    {
     "data": {
      "text/plain": [
       "(0.14285714285714285, 0.75, 1, 7, 3, 4)"
      ]
     },
     "execution_count": 88,
     "metadata": {},
     "output_type": "execute_result"
    }
   ],
   "source": [
    "get_fp_tp(2,ngModel.SVMobject.ytest,ngModel.SVMobject.ypredtest)"
   ]
  },
  {
   "cell_type": "code",
   "execution_count": 15,
   "metadata": {},
   "outputs": [
    {
     "data": {
      "text/plain": [
       "array([[0.74738657, 0.09927336, 0.15334008],\n",
       "       [0.59579294, 0.19343972, 0.21076733],\n",
       "       [0.53026411, 0.23750756, 0.23222833],\n",
       "       [0.07044636, 0.21229209, 0.71726155],\n",
       "       [0.67288482, 0.1180279 , 0.20908727],\n",
       "       [0.47328602, 0.21162842, 0.31508555],\n",
       "       [0.56078069, 0.14880207, 0.29041724],\n",
       "       [0.70461447, 0.10490968, 0.19047585],\n",
       "       [0.52704107, 0.14405153, 0.3289074 ],\n",
       "       [0.7492679 , 0.13548379, 0.1152483 ],\n",
       "       [0.07201307, 0.16959822, 0.75838872],\n",
       "       [0.65498431, 0.14049013, 0.20452556]])"
      ]
     },
     "execution_count": 15,
     "metadata": {},
     "output_type": "execute_result"
    }
   ],
   "source": [
    "ngModel.SVMobject.model.predict_proba(ngModel.Xtest)[wrongidx,:]"
   ]
  },
  {
   "cell_type": "markdown",
   "metadata": {},
   "source": [
    "# GAAC and NG model"
   ]
  },
  {
   "cell_type": "code",
   "execution_count": 17,
   "metadata": {},
   "outputs": [
    {
     "name": "stdout",
     "output_type": "stream",
     "text": [
      "-----Initial Model Evaluation-----\n",
      "-----Training Accuracy:0.9506172839506173-----\n",
      "-----Testing Accuracy:0.56-----\n"
     ]
    }
   ],
   "source": [
    "gaacModel = GAACModel(enz_names,X,y,train_idx,test_idx,k=7,s=1,pca_components=40,verboseQ=True,random_seed=1511,optimizeQ=False,probability=True)"
   ]
  },
  {
   "cell_type": "code",
   "execution_count": 18,
   "metadata": {},
   "outputs": [
    {
     "data": {
      "text/plain": [
       "array([[0.79659455, 0.10307319, 0.10033226],\n",
       "       [0.74480685, 0.17358309, 0.08161006],\n",
       "       [0.31298503, 0.2651072 , 0.42190777],\n",
       "       [0.01914521, 0.14782576, 0.83302903],\n",
       "       [0.56036425, 0.12201333, 0.31762242],\n",
       "       [0.31298503, 0.2651072 , 0.42190777],\n",
       "       [0.78935207, 0.13907434, 0.07157359],\n",
       "       [0.81013349, 0.09685879, 0.09300772],\n",
       "       [0.76852901, 0.11733963, 0.11413136],\n",
       "       [0.77076269, 0.14809162, 0.08114569],\n",
       "       [0.21451744, 0.19691211, 0.58857045],\n",
       "       [0.55590196, 0.18324655, 0.26085149]])"
      ]
     },
     "execution_count": 18,
     "metadata": {},
     "output_type": "execute_result"
    }
   ],
   "source": [
    "gaacModel.SVMobject.model.predict_proba(gaacModel.Xtest)[wrongidx,:]"
   ]
  },
  {
   "cell_type": "markdown",
   "metadata": {},
   "source": [
    "# Majority Vote Classifier"
   ]
  },
  {
   "cell_type": "code",
   "execution_count": 24,
   "metadata": {},
   "outputs": [],
   "source": [
    "a = posModel.SVMobject.ypredtest"
   ]
  },
  {
   "cell_type": "code",
   "execution_count": 25,
   "metadata": {},
   "outputs": [],
   "source": [
    "b = ngModel.SVMobject.ypredtest"
   ]
  },
  {
   "cell_type": "code",
   "execution_count": 26,
   "metadata": {},
   "outputs": [],
   "source": [
    "c = gaacModel.SVMobject.ypredtest"
   ]
  },
  {
   "cell_type": "code",
   "execution_count": 32,
   "metadata": {},
   "outputs": [],
   "source": [
    "p = EModel.preds"
   ]
  },
  {
   "cell_type": "code",
   "execution_count": 33,
   "metadata": {},
   "outputs": [],
   "source": [
    "ac = y[test_idx]"
   ]
  },
  {
   "cell_type": "code",
   "execution_count": 44,
   "metadata": {},
   "outputs": [
    {
     "name": "stdout",
     "output_type": "stream",
     "text": [
      "1 1 1 1 1\n",
      "1 1 1 1 2\n",
      "No\n",
      "Noooo\n",
      "3 3 3 3 3\n",
      "1 1 1 1 1\n",
      "1 1 1 1 1\n",
      "2 2 1 2 1\n",
      "No\n",
      "1 2 1 1 2\n",
      "No\n",
      "1 1 1 1 1\n",
      "1 1 1 1 1\n",
      "2 2 3 2 3\n",
      "No\n",
      "1 1 1 1 2\n",
      "No\n",
      "Noooo\n",
      "3 3 3 3 3\n",
      "1 1 1 1 2\n",
      "No\n",
      "Noooo\n",
      "1 1 1 1 3\n",
      "No\n",
      "Noooo\n",
      "3 3 3 3 3\n",
      "1 1 1 1 2\n",
      "No\n",
      "Noooo\n",
      "3 3 3 3 3\n",
      "1 1 1 1 2\n",
      "No\n",
      "Noooo\n",
      "1 1 1 1 3\n",
      "No\n",
      "Noooo\n",
      "1 1 1 1 3\n",
      "No\n",
      "Noooo\n",
      "1 1 1 1 1\n",
      "3 3 3 3 3\n",
      "3 2 2 2 3\n",
      "No\n",
      "1 1 1 1 1\n",
      "1 1 1 1 2\n",
      "No\n",
      "Noooo\n"
     ]
    }
   ],
   "source": [
    "for i,j,k,l,m in zip(a,b,c,p,ac):\n",
    "    print(i,j,k,l,m)\n",
    "    if l!=m:\n",
    "        print('No')\n",
    "        if i==j==k:\n",
    "\n",
    "                print('Noooo')"
   ]
  },
  {
   "cell_type": "code",
   "execution_count": 29,
   "metadata": {},
   "outputs": [],
   "source": [
    "EModel = Ensemble([posModel.model,gaacModel.model,ngModel.model],\n",
    "                  [posModel.Xtest,gaacModel.Xtest,ngModel.Xtest],y[test_idx])"
   ]
  },
  {
   "cell_type": "code",
   "execution_count": 30,
   "metadata": {},
   "outputs": [
    {
     "data": {
      "text/plain": [
       "array([1, 1, 3, 1, 1, 2, 1, 1, 1, 2, 1, 3, 1, 1, 3, 1, 3, 1, 1, 1, 1, 3,\n",
       "       2, 1, 1])"
      ]
     },
     "execution_count": 30,
     "metadata": {},
     "output_type": "execute_result"
    }
   ],
   "source": [
    "EModel.preds"
   ]
  },
  {
   "cell_type": "code",
   "execution_count": 31,
   "metadata": {
    "scrolled": true
   },
   "outputs": [
    {
     "data": {
      "text/plain": [
       "0.48"
      ]
     },
     "execution_count": 31,
     "metadata": {},
     "output_type": "execute_result"
    }
   ],
   "source": [
    "EModel.acc"
   ]
  },
  {
   "cell_type": "markdown",
   "metadata": {},
   "source": [
    "# Different random seeds"
   ]
  },
  {
   "cell_type": "code",
   "execution_count": 66,
   "metadata": {},
   "outputs": [],
   "source": [
    "def multiprocess_func(randomseed):\n",
    "    np.random.seed(randomseed)\n",
    "    test_idx_i,train_idx_i = modified_split(enz_names,'Data/Enzyme-with-accession.txt')\n",
    "    \n",
    "    posModel_i = PosModel('Data/TE_ML_Data_pickle.p',enz_names,X,y,train_idx_i,test_idx_i)\n",
    "    ngModel_i = NGModel(enz_names,X,y,train_idx_i,test_idx_i,inc_count=False)\n",
    "    gaacModel_i = GAACModel(enz_names,X,y,train_idx_i,test_idx_i,inc_count=False)\n",
    "    \n",
    "    EModel_i = Ensemble([posModel_i.model,gaacModel_i.model,ngModel_i.model],\n",
    "                  [posModel_i.Xtest,gaacModel_i.Xtest,ngModel_i.Xtest],y[test_idx_i])\n",
    "    \n",
    "    return posModel_i.SVMobject.acc_test,ngModel_i.SVMobject.acc_test,gaacModel_i.SVMobject.acc_test,EModel_i.acc\n",
    "    \n",
    "    \n",
    "    \n",
    "    "
   ]
  },
  {
   "cell_type": "code",
   "execution_count": 67,
   "metadata": {},
   "outputs": [
    {
     "name": "stdout",
     "output_type": "stream",
     "text": [
      "24\n"
     ]
    }
   ],
   "source": [
    "import multiprocessing as mp\n",
    "print(mp.cpu_count())\n",
    "pool = mp.Pool(mp.cpu_count())"
   ]
  },
  {
   "cell_type": "code",
   "execution_count": 68,
   "metadata": {},
   "outputs": [
    {
     "name": "stdout",
     "output_type": "stream",
     "text": [
      "CPU times: user 93 ms, sys: 26 ms, total: 119 ms\n",
      "Wall time: 56.7 s\n"
     ]
    }
   ],
   "source": [
    "%%time\n",
    "accs = list(pool.map(multiprocess_func,[i for i in range(10000)]))"
   ]
  },
  {
   "cell_type": "code",
   "execution_count": 69,
   "metadata": {},
   "outputs": [
    {
     "data": {
      "text/plain": [
       "<matplotlib.legend.Legend at 0x2b6c65508518>"
      ]
     },
     "execution_count": 69,
     "metadata": {},
     "output_type": "execute_result"
    },
    {
     "data": {
      "image/png": "[encoded data removed]",
      "text/plain": [
       "<Figure size 432x288 with 1 Axes>"
      ]
     },
     "metadata": {
      "needs_background": "light"
     },
     "output_type": "display_data"
    }
   ],
   "source": [
    "plt.plot(range(len(accs)),accs)\n",
    "plt.legend(['POS','NG','GAAC','Ensemble'])"
   ]
  },
  {
   "cell_type": "code",
   "execution_count": 70,
   "metadata": {},
   "outputs": [],
   "source": [
    "pos_preds = [a[0] for a in accs]\n",
    "ng_preds = [a[1] for a in accs]\n",
    "gaac_preds = [a[2] for a in accs]\n",
    "ensemble_preds = [a[3] for a in accs]"
   ]
  },
  {
   "cell_type": "code",
   "execution_count": 71,
   "metadata": {},
   "outputs": [
    {
     "data": {
      "text/plain": [
       "(0.44, 0.77074, 0.08057997517994156)"
      ]
     },
     "execution_count": 71,
     "metadata": {},
     "output_type": "execute_result"
    }
   ],
   "source": [
    "min(pos_preds),np.mean(pos_preds),np.std(pos_preds)"
   ]
  },
  {
   "cell_type": "code",
   "execution_count": 72,
   "metadata": {},
   "outputs": [
    {
     "data": {
      "text/plain": [
       "(0.4, 0.746708, 0.08383485394512237)"
      ]
     },
     "execution_count": 72,
     "metadata": {},
     "output_type": "execute_result"
    }
   ],
   "source": [
    "min(ng_preds),np.mean(ng_preds),np.std(ng_preds)"
   ]
  },
  {
   "cell_type": "code",
   "execution_count": 73,
   "metadata": {},
   "outputs": [
    {
     "data": {
      "text/plain": [
       "(0.44, 0.769392, 0.07932383208090744)"
      ]
     },
     "execution_count": 73,
     "metadata": {},
     "output_type": "execute_result"
    }
   ],
   "source": [
    "min(gaac_preds),np.mean(gaac_preds),np.std(gaac_preds)"
   ]
  },
  {
   "cell_type": "code",
   "execution_count": 74,
   "metadata": {},
   "outputs": [
    {
     "data": {
      "text/plain": [
       "(0.48, 0.783752, 0.07861400954028487)"
      ]
     },
     "execution_count": 74,
     "metadata": {},
     "output_type": "execute_result"
    }
   ],
   "source": [
    "min(ensemble_preds),np.mean(ensemble_preds),np.std(ensemble_preds)"
   ]
  },
  {
   "cell_type": "code",
   "execution_count": 55,
   "metadata": {},
   "outputs": [],
   "source": [
    "minidx = np.argmin(ensemble_preds)\n",
    "\n",
    "minidx, ensemble_preds[minidx]"
   ]
  },
  {
   "cell_type": "markdown",
   "metadata": {},
   "source": [
    "Save bad result indices"
   ]
  },
  {
   "cell_type": "code",
   "execution_count": 24,
   "metadata": {},
   "outputs": [],
   "source": [
    "with open('Data/BadResultsIdx.txt','w') as f:\n",
    "    for idx,acc in enumerate(ensemble_preds):\n",
    "        if acc<0.6:\n",
    "            f.write(str(idx))\n",
    "            f.write('\\n')"
   ]
  },
  {
   "cell_type": "code",
   "execution_count": 25,
   "metadata": {},
   "outputs": [
    {
     "data": {
      "text/plain": [
       "1511"
      ]
     },
     "execution_count": 25,
     "metadata": {},
     "output_type": "execute_result"
    }
   ],
   "source": [
    "np.argmin(ensemble_preds)"
   ]
  },
  {
   "cell_type": "code",
   "execution_count": 26,
   "metadata": {},
   "outputs": [
    {
     "data": {
      "text/plain": [
       "92"
      ]
     },
     "execution_count": 26,
     "metadata": {},
     "output_type": "execute_result"
    }
   ],
   "source": [
    "len(np.where(np.array(ensemble_preds)<0.6)[0])"
   ]
  },
  {
   "cell_type": "code",
   "execution_count": 27,
   "metadata": {},
   "outputs": [
    {
     "data": {
      "text/plain": [
       "(array([  19,   73,  200, 1234, 1347, 1850, 3694,  997,  462,  124]),\n",
       " array([0.48 , 0.532, 0.584, 0.636, 0.688, 0.74 , 0.792, 0.844, 0.896,\n",
       "        0.948, 1.   ]))"
      ]
     },
     "execution_count": 27,
     "metadata": {},
     "output_type": "execute_result"
    }
   ],
   "source": [
    "np.histogram(ensemble_preds)"
   ]
  },
  {
   "cell_type": "code",
   "execution_count": 28,
   "metadata": {},
   "outputs": [],
   "source": [
    "def save_results(filename,mylist):\n",
    "    with open(f'Reports/Results/{filename}','w') as f:\n",
    "        for line in mylist:\n",
    "            f.write(str(line))\n",
    "            f.write('\\n')\n",
    "    return \n",
    "\n",
    "def save_figure(figurename,mylist):\n",
    "    plt.figure()\n",
    "    values = plt.hist(mylist,bins=5);\n",
    "    b=values[1]\n",
    "    plt.xlabel('Accuracy bin');\n",
    "    plt.ylabel('Count');\n",
    "    plt.xticks(b)\n",
    "    plt.title(f'{figurename} Test Accuracy Histogram');\n",
    "    plt.savefig(f\"Reports/Results/{'-'.join(figurename.split(' '))}.png\");\n",
    "    return"
   ]
  },
  {
   "cell_type": "code",
   "execution_count": 29,
   "metadata": {},
   "outputs": [],
   "source": [
    "# save_results('Positional-Model.txt',pos_preds),save_results('k-mer-Model.txt',ng_preds),save_results('GAA-kmer-Model.txt',gaac_preds),save_results('Ensemble-Model.txt',ensemble_preds)"
   ]
  },
  {
   "cell_type": "code",
   "execution_count": 30,
   "metadata": {},
   "outputs": [],
   "source": [
    "# save_figure('Positional Feature Model',pos_preds),save_figure('kmer Motif Model',ng_preds),save_figure('GAA Motif Model',gaac_preds),save_figure('Ensemble Model',ensemble_preds)"
   ]
  },
  {
   "cell_type": "code",
   "execution_count": null,
   "metadata": {},
   "outputs": [],
   "source": []
  }
 ],
 "metadata": {
  "kernelspec": {
   "display_name": "Python 3",
   "language": "python",
   "name": "python3"
  },
  "language_info": {
   "codemirror_mode": {
    "name": "ipython",
    "version": 3
   },
   "file_extension": ".py",
   "mimetype": "text/x-python",
   "name": "python",
   "nbconvert_exporter": "python",
   "pygments_lexer": "ipython3",
   "version": "3.6.7"
  }
 },
 "nbformat": 4,
 "nbformat_minor": 4
}
