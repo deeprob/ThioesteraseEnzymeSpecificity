{
 "cells": [
  {
   "cell_type": "code",
   "execution_count": 2,
   "metadata": {},
   "outputs": [],
   "source": [
    "import pickle\n",
    "import numpy as np\n",
    "\n",
    "import ngramEnc\n",
    "import gaaEnc"
   ]
  },
  {
   "cell_type": "code",
   "execution_count": 11,
   "metadata": {},
   "outputs": [],
   "source": [
    "class ngModel:\n",
    "    # NGram model\n",
    "    def __init__(self,Xtrain,Xvalid,Xtest=None,k=7,s=1,inc_count=False):\n",
    "        \n",
    "        self.Xtrain_raw,self.Xvalid_raw = Xtrain,Xvalid\n",
    "        self.ng = ngramEnc.Ngram(self.Xtrain_raw,k,s,inc_count)\n",
    "        self.ng.fit()\n",
    "        self.Xtrain,self.Xvalid = self.ng.transform(self.Xtrain_raw),self.ng.transform(self.Xvalid_raw)\n",
    "        \n",
    "        if Xtest is not None:\n",
    "            self.Xtest=self.ng.transform(Xtest)\n",
    "            \n",
    "\n",
    "\n",
    "        \n",
    "\n",
    "class gaangModel:\n",
    "    # GAA-NGram model\n",
    "    def __init__(self,Xtrain,Xvalid,Xtest=None,k=7,s=1,inc_count=True):\n",
    "\n",
    "        self.gc = gaaEnc.GAA()\n",
    "        X_gaac_train = self.gc.transform(Xtrain)\n",
    "        X_gaac_valid = self.gc.transform(Xvalid)\n",
    "        self.Xtrain_raw,self.Xvalid_raw = X_gaac_train,X_gaac_valid\n",
    "        self.ng = ngramEnc.Ngram(self.Xtrain_raw,k,s,inc_count)\n",
    "        self.ng.fit()\n",
    "        self.Xtrain,self.Xvalid = self.ng.transform(self.Xtrain_raw),self.ng.transform(self.Xvalid_raw)\n",
    "        \n",
    "        if Xtest is not None:\n",
    "            self.Xtest=self.ng.transform(Xtest)\n",
    "\n",
    "        "
   ]
  },
  {
   "cell_type": "code",
   "execution_count": 12,
   "metadata": {},
   "outputs": [],
   "source": [
    "if __name__=='__main__':\n",
    "    import pandas as pd\n",
    "    from sklearn.model_selection import train_test_split\n",
    "    enz_datafile = '../../data/SeqFile/EnzymeSequence.csv'\n",
    "    label_file = '../../data/LabelFiles/EnzymeLabelsMultiClass.csv'\n",
    "    df1 = pd.read_csv(enz_datafile,header=None)\n",
    "    df2 = pd.read_csv(label_file,header=None)\n",
    "    df = df1.merge(df2,on=0)\n",
    "    enz_names = df[0].values\n",
    "    X = df.iloc[:,1].values\n",
    "    y = df.iloc[:,-1].values\n",
    "    X_train, X_test, y_train, y_test,enz_train,enz_test = train_test_split(X, y,enz_names, test_size=0.25, random_state=7)\n",
    "    ngmodel = ngModel(X_train,X_test)\n",
    "    gaamodel = gaangModel(X_train,X_test)"
   ]
  },
  {
   "cell_type": "code",
   "execution_count": null,
   "metadata": {},
   "outputs": [],
   "source": []
  }
 ],
 "metadata": {
  "kernelspec": {
   "display_name": "Python 3",
   "language": "python",
   "name": "python3"
  },
  "language_info": {
   "codemirror_mode": {
    "name": "ipython",
    "version": 3
   },
   "file_extension": ".py",
   "mimetype": "text/x-python",
   "name": "python",
   "nbconvert_exporter": "python",
   "pygments_lexer": "ipython3",
   "version": "3.8.3"
  }
 },
 "nbformat": 4,
 "nbformat_minor": 4
}
