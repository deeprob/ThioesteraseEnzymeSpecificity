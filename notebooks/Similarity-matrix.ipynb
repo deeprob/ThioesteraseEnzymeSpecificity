{
 "cells": [
  {
   "cell_type": "code",
   "execution_count": 1,
   "id": "instant-arthur",
   "metadata": {},
   "outputs": [],
   "source": [
    "import numpy as np\n",
    "\n",
    "similarity_matrix = '../similarity/similarity_matrix.txt'\n",
    "\n",
    "def get_matrix():\n",
    "    mat = np.loadtxt(similarity_matrix, delimiter=',')\n",
    "    return mat"
   ]
  },
  {
   "cell_type": "code",
   "execution_count": 2,
   "id": "average-effort",
   "metadata": {},
   "outputs": [],
   "source": [
    "matrix = get_matrix()"
   ]
  },
  {
   "cell_type": "code",
   "execution_count": 22,
   "id": "vital-wilderness",
   "metadata": {
    "scrolled": false
   },
   "outputs": [
    {
     "data": {
      "text/plain": [
       "array([  0.   ,  22.05 ,  26.132, ...,  99.682,  99.683, 100.   ])"
      ]
     },
     "execution_count": 22,
     "metadata": {},
     "output_type": "execute_result"
    }
   ],
   "source": [
    "np.unique(matrix.ravel(), return_counts=True)[0]"
   ]
  },
  {
   "cell_type": "code",
   "execution_count": 12,
   "id": "sealed-protocol",
   "metadata": {},
   "outputs": [
    {
     "data": {
      "text/plain": [
       "(array([26, 26, 26, 26, 26, 26, 26, 26, 26, 28, 28, 29, 29, 29, 29, 30, 30,\n",
       "        30, 31, 31, 31, 32, 32, 33, 33, 33, 33, 33, 33, 34, 34, 34, 35, 35,\n",
       "        35, 36, 37, 37, 37, 37, 39, 39, 39, 39, 40, 40, 40, 41, 41, 41, 42,\n",
       "        42, 42, 42, 43, 43, 44, 44, 44, 45, 46, 47, 47, 47, 48, 48, 49, 49,\n",
       "        49, 52, 52, 52, 53, 53, 54, 54, 54, 55, 55, 56, 56, 57, 57, 57, 58,\n",
       "        59, 59, 60, 60, 60, 61, 62, 63, 64, 64, 65, 66, 68, 69, 69, 69, 70,\n",
       "        70, 71, 71, 72, 72, 72, 73, 73, 73, 75, 75, 75, 75, 75, 75, 75, 75,\n",
       "        75]),\n",
       " array([28, 39, 60, 64, 69, 70, 71, 72, 73, 26, 75, 34, 35, 39, 66, 33, 72,\n",
       "        73, 34, 39, 60, 35, 69, 30, 36, 41, 42, 43, 44, 29, 31, 37, 29, 32,\n",
       "        37, 33, 34, 35, 45, 46, 26, 29, 31, 75, 63, 65, 68, 33, 47, 48, 33,\n",
       "        47, 49, 53, 33, 49, 33, 48, 53, 37, 37, 41, 42, 52, 41, 44, 42, 43,\n",
       "        52, 47, 49, 54, 42, 44, 52, 55, 56, 54, 57, 54, 57, 55, 56, 62, 59,\n",
       "        58, 61, 26, 31, 75, 59, 57, 40, 26, 75, 40, 29, 40, 26, 32, 75, 26,\n",
       "        75, 26, 75, 26, 30, 75, 26, 30, 75, 28, 39, 60, 64, 69, 70, 71, 72,\n",
       "        73]))"
      ]
     },
     "execution_count": 12,
     "metadata": {},
     "output_type": "execute_result"
    }
   ],
   "source": [
    "np.where(matrix==99.683)"
   ]
  },
  {
   "cell_type": "code",
   "execution_count": 23,
   "id": "saved-opening",
   "metadata": {},
   "outputs": [
    {
     "data": {
      "text/plain": [
       "99.683"
      ]
     },
     "execution_count": 23,
     "metadata": {},
     "output_type": "execute_result"
    }
   ],
   "source": [
    "matrix[26,28]"
   ]
  },
  {
   "cell_type": "code",
   "execution_count": null,
   "id": "legitimate-bathroom",
   "metadata": {},
   "outputs": [],
   "source": []
  }
 ],
 "metadata": {
  "kernelspec": {
   "display_name": "Python 3",
   "language": "python",
   "name": "python3"
  },
  "language_info": {
   "codemirror_mode": {
    "name": "ipython",
    "version": 3
   },
   "file_extension": ".py",
   "mimetype": "text/x-python",
   "name": "python",
   "nbconvert_exporter": "python",
   "pygments_lexer": "ipython3",
   "version": "3.9.2"
  }
 },
 "nbformat": 4,
 "nbformat_minor": 5
}
