{
 "cells": [
  {
   "cell_type": "markdown",
   "metadata": {},
   "source": [
    "# Prediction of test subjects"
   ]
  },
  {
   "cell_type": "code",
   "execution_count": 1,
   "metadata": {},
   "outputs": [],
   "source": [
    "import sys\n",
    "import tqdm\n",
    "import multiprocessing as mp\n",
    "from collections import Counter\n",
    "from operator import itemgetter"
   ]
  },
  {
   "cell_type": "code",
   "execution_count": 2,
   "metadata": {},
   "outputs": [],
   "source": [
    "sys.path.append('../')"
   ]
  },
  {
   "cell_type": "code",
   "execution_count": 3,
   "metadata": {},
   "outputs": [],
   "source": [
    "from utils import helper"
   ]
  },
  {
   "cell_type": "code",
   "execution_count": 4,
   "metadata": {},
   "outputs": [],
   "source": [
    "# Sequence and label files \n",
    "enz_file = '../data/seq/train_enzyme_sequence.csv'\n",
    "test_enz_file = '../data/seq/test_enzyme_sequence.csv'\n",
    "test_enz_map_file = '../data/mappings/test_enzyme_name_map.csv'\n",
    "label_file = '../data/label/train_enzyme_labels.csv'\n",
    "indhpoptfile = '../data/results/hpopt/IndHPOpt.csv'\n",
    "\n",
    "# Feature dir for iFeature,kernel,pssm \n",
    "ifeatdatadir = '../data/features/ifeature/featvec/train/'\n",
    "kerneldatadir = '../data/features/kernel/featvec/train/'\n",
    "pssmdatadir = '../data/features/possum/featvec/train/'\n",
    "\n",
    "trainfeatdirs = [ifeatdatadir,kerneldatadir,pssmdatadir]\n",
    "\n",
    "ifeattestdatadir = '../data/features/ifeature/featvec/test/'\n",
    "kerneltestdatadir = '../data/features/kernel/featvec/test/'\n",
    "pssmtestdatadir = '../data/features/possum/featvec/test/'\n",
    "\n",
    "testfeatdirs = [ifeattestdatadir,kerneltestdatadir,pssmtestdatadir]"
   ]
  },
  {
   "cell_type": "code",
   "execution_count": 5,
   "metadata": {},
   "outputs": [],
   "source": [
    "def test_pred_multifunc(enz_file, test_enz_file, label_file, train_feat_dirs, test_feat_dirs, hyper_param_file, base_algo, k, opt, N, test_enz_map_file):\n",
    "    pool = mp.Pool(mp.cpu_count())\n",
    "    \n",
    "    iter_func = zip([enz_file for _ in range(N)],\n",
    "           [test_enz_file for _ in range(N)],\n",
    "           [label_file for _ in range(N)],\n",
    "           [train_feat_dirs for _ in range(N)],\n",
    "           [test_feat_dirs for _ in range(N)],\n",
    "           [hyper_param_file for _ in range(N)],\n",
    "           [base_algo for _ in range(N)],\n",
    "           [k for _ in range(N)],\n",
    "           [opt for _ in range(N)],\n",
    "           range(N),\n",
    "           [test_enz_map_file for _ in range(N)],)\n",
    "    \n",
    "    all_names = list(pool.starmap(helper.function_predict_test, iter_func))\n",
    "    return all_names\n",
    "\n",
    "\n",
    "def save_test_preds(enz_file, test_enz_file, label_file, train_feat_dirs, test_feat_dirs, hyper_param_file, base_algo, k, opt, N, test_enz_map_file):\n",
    "    test_preds = test_pred_multifunc(enz_file, test_enz_file, label_file, train_feat_dirs, test_feat_dirs, hyper_param_file, base_algo, k, opt, N, test_enz_map_file)\n",
    "    \n",
    "    filename_all = '../data/predictions/thyme/test_multipreds.csv'\n",
    "    filename_set = '../data/predictions/thyme/testset_multipreds.csv'\n",
    "    \n",
    "    set_test_preds = set(sum(test_preds,[]))\n",
    "    with open(filename_set, 'w') as f:\n",
    "        for enz in set_test_preds:\n",
    "            f.write(enz)\n",
    "            f.write('\\n')\n",
    "    \n",
    "    with open(filename_all, 'w') as f:\n",
    "        for rs, enz_list in zip(range(N), test_preds):\n",
    "            f.write(f'{rs},{\",\".join(enz_list)}')\n",
    "            f.write('\\n')\n",
    "    return"
   ]
  },
  {
   "cell_type": "code",
   "execution_count": 6,
   "metadata": {},
   "outputs": [
    {
     "name": "stdout",
     "output_type": "stream",
     "text": [
      "CPU times: user 300 ms, sys: 131 ms, total: 432 ms\n",
      "Wall time: 19min 34s\n"
     ]
    }
   ],
   "source": [
    "%%time\n",
    "save_test_preds(enz_file, test_enz_file, label_file, trainfeatdirs, testfeatdirs, indhpoptfile, 'SVM', 5, False, 1000, test_enz_map_file)"
   ]
  },
  {
   "cell_type": "markdown",
   "metadata": {},
   "source": [
    "# Get the maximum counts from predicted file"
   ]
  },
  {
   "cell_type": "code",
   "execution_count": 7,
   "metadata": {},
   "outputs": [],
   "source": [
    "def read_enzymes(filename):\n",
    "    enzymes = []\n",
    "    with open(filename,'r') as f:\n",
    "        for line in f:\n",
    "            data = line.strip().split(',')\n",
    "            enzymes.extend(data[1:])\n",
    "    return enzymes\n",
    "\n",
    "\n",
    "def save_enzyme_counts(filename, enz_list):\n",
    "    count = Counter(enz_list)\n",
    "    with open(filename, 'w') as f:\n",
    "        for key, value in count.most_common():\n",
    "            f.write(f'{key},{value}')\n",
    "            f.write('\\n')\n",
    "    return"
   ]
  },
  {
   "cell_type": "code",
   "execution_count": 8,
   "metadata": {},
   "outputs": [],
   "source": [
    "test_enz_file = '../data/predictions/thyme/test_multipreds.csv'\n",
    "\n",
    "test_enz_preds = read_enzymes(test_enz_file)\n",
    "save_enzyme_counts('../data/predictions/thyme/test_enzcount.csv', test_enz_preds)"
   ]
  }
 ],
 "metadata": {
  "kernelspec": {
   "display_name": "Python 3",
   "language": "python",
   "name": "python3"
  },
  "language_info": {
   "codemirror_mode": {
    "name": "ipython",
    "version": 3
   },
   "file_extension": ".py",
   "mimetype": "text/x-python",
   "name": "python",
   "nbconvert_exporter": "python",
   "pygments_lexer": "ipython3",
   "version": "3.8.3"
  }
 },
 "nbformat": 4,
 "nbformat_minor": 4
}
