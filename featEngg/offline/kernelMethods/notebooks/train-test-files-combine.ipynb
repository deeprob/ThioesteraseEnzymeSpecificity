{
 "cells": [
  {
   "cell_type": "code",
   "execution_count": 1,
   "id": "elementary-asbestos",
   "metadata": {},
   "outputs": [],
   "source": [
    "fastafile1 = '../../../data/SeqFile/EnzymeFasta.fa'\n",
    "fastafile2 = '../../../data/SeqFile/TestEnzymeFasta.fa'\n",
    "\n",
    "with open('../data/temporary_combined_file.fa','w') as cf:\n",
    "    with open(fastafile1,'r') as f1:\n",
    "        for lines1 in f1:\n",
    "            cf.write(lines1)\n",
    "    with open(fastafile2,'r') as f2:\n",
    "        for lines2 in f2:\n",
    "            cf.write(lines2)"
   ]
  }
 ],
 "metadata": {
  "kernelspec": {
   "display_name": "Python 3",
   "language": "python",
   "name": "python3"
  },
  "language_info": {
   "codemirror_mode": {
    "name": "ipython",
    "version": 3
   },
   "file_extension": ".py",
   "mimetype": "text/x-python",
   "name": "python",
   "nbconvert_exporter": "python",
   "pygments_lexer": "ipython3",
   "version": "3.9.1"
  }
 },
 "nbformat": 4,
 "nbformat_minor": 5
}
