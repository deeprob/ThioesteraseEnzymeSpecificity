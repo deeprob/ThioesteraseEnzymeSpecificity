{
 "cells": [
  {
   "cell_type": "code",
   "execution_count": 1,
   "metadata": {},
   "outputs": [],
   "source": [
    "# modules\n",
    "import os\n",
    "import sys\n",
    "import numpy as np\n",
    "import pandas as pd\n",
    "import multiprocessing as mp\n",
    "from sklearn.metrics import precision_score\n",
    "from sklearn.model_selection import train_test_split\n",
    "\n",
    "sys.path.append('../')\n",
    "from baseModels.SVM.model import SVMRegressor\n",
    "from ensemble.model import EnsembleRegression"
   ]
  },
  {
   "cell_type": "code",
   "execution_count": 2,
   "metadata": {},
   "outputs": [],
   "source": [
    "class TERegression:\n",
    "    \n",
    "    def __init__(self,enzseqdata,labelfile,featurefiledirs,random_seed=None):\n",
    "        \n",
    "        self.random_seed = random_seed\n",
    "        \n",
    "        # original data based on which everything is obtained\n",
    "        df1 = pd.read_csv(enzseqdata,header=None)\n",
    "        df2 = pd.read_csv(label_file,header=None)\n",
    "        self.df = df1.merge(df2,on=0)\n",
    "        \n",
    "        self.enz_names = self.df[0].values\n",
    "        self.X = self.df.iloc[:,1].values\n",
    "        self.y = self.df.iloc[:,-1].values\n",
    "        \n",
    "        # training and testing data for general use\n",
    "        self.X_train, self.X_test, self.y_train, self.y_test,self.enz_train,self.enz_test = train_test_split(self.X, self.y,self.enz_names, test_size=0.25, random_state=self.random_seed)\n",
    "        \n",
    "        \n",
    "        \n",
    "        self.label_file = labelfile\n",
    "        \n",
    "        #generate a list of names from the directories\n",
    "        featfiles = [d+f.name for d in featurefiledirs for f in os.scandir(d) if f.name.endswith('.csv.gz')]\n",
    "        self.featnames = [f.name.replace('.csv.gz','') for d in featurefiledirs for f in os.scandir(d) if f.name.endswith('.csv.gz')]\n",
    "        \n",
    "        # getting all SVM objects together \n",
    "        self.objects = list(map(self.get_model_feat,featfiles))\n",
    "\n",
    "        \n",
    "        # select only the best models based on training\n",
    "        self.best_idx,self.best_models = self.select_top_models(self.objects)\n",
    "        self.best_model_names = np.array(self.featnames)[self.best_idx]\n",
    "        \n",
    "        # getting all model predictions together\n",
    "        self.all_model_preds = [svmo.ypredtest for svmo in self.best_models]\n",
    "        self.en = EnsembleRegression(self.all_model_preds,self.y_test)\n",
    "        \n",
    "        pass\n",
    "    \n",
    "    \n",
    "    def get_model_feat(self,featfilename):\n",
    "        df1 = pd.read_csv(featfilename,header=None)\n",
    "        df2 = pd.read_csv(self.label_file,header=None)\n",
    "        df_feat = df1.merge(df2,on=0).set_index(0)\n",
    "        df_feat_train = df_feat.loc[self.enz_train]\n",
    "        df_feat_test = df_feat.loc[self.enz_test]\n",
    "        X_train_feat,y_train_feat = df_feat_train.iloc[:,0:-1].values,df_feat_train.iloc[:,-1].values\n",
    "        X_test_feat,y_test_feat = df_feat_test.iloc[:,0:-1].values,df_feat_test.iloc[:,-1].values\n",
    "\n",
    "        if X_train_feat.shape[1]<40:\n",
    "            n_comp = int(0.75*X_train_feat.shape[1])\n",
    "        else:\n",
    "            n_comp=40\n",
    "            \n",
    "        obj = SVMRegressor(X_train_feat,X_test_feat,y_train_feat,y_test_feat,verbose=False,optimize=False, pca_comp=n_comp,random_seed=self.random_seed,regC=30,kern='rbf')\n",
    "        return obj\n",
    "        \n",
    "    def select_top_models(self,SVMOs):\n",
    "        svm_train_mses = [svmo.error_train for svmo in SVMOs]\n",
    "        sorted_idx = np.argsort(svm_train_mses)\n",
    "        best_idx = sorted_idx[:27]\n",
    "        return best_idx,np.array(SVMOs)[best_idx]\n",
    "        "
   ]
  },
  {
   "cell_type": "code",
   "execution_count": 3,
   "metadata": {},
   "outputs": [
    {
     "name": "stdout",
     "output_type": "stream",
     "text": [
      "CPU times: user 12.8 s, sys: 1.05 s, total: 13.9 s\n",
      "Wall time: 1h 7min 53s\n"
     ]
    }
   ],
   "source": [
    "%%time\n",
    "if __name__=='__main__':\n",
    "    # Sequence and label files \n",
    "    enz_file = '../data/SeqFile/EnzymeSequence.csv'\n",
    "    label_file = '../data/LabelFiles/EnzymeLabelsRegression.csv'\n",
    "\n",
    "    # Feature dir for iFeature,kernel,pssm \n",
    "    ifeatdatadir = '../featEngg/ifeatMethods/data/featvec/'\n",
    "    kerneldatadir = '../featEngg/kernelMethods/data/featvec/'\n",
    "    pssmdatadir = '../featEngg/pssmMethods/data/featvec/'\n",
    "    featdirs = [ifeatdatadir,kerneldatadir,pssmdatadir]\n",
    "\n",
    "\n",
    "    te = TERegression(enz_file,label_file,featdirs,random_seed=7)\n",
    "    \n",
    "    def multi_func(rs):\n",
    "        te_i = TERegression(enz_file,label_file,featdirs,random_seed=rs)\n",
    "        return te_i.en.mse   \n",
    "    \n",
    "    pool = mp.Pool(mp.cpu_count())\n",
    "\n",
    "    \n",
    "    \n",
    "    \n",
    "    mses = list(pool.map(multi_func,range(10000)))\n",
    "    \n"
   ]
  },
  {
   "cell_type": "code",
   "execution_count": 5,
   "metadata": {},
   "outputs": [
    {
     "name": "stdout",
     "output_type": "stream",
     "text": [
      "0.010830218731252417 0.044904942333331484 0.11592679965722981 0.011756249869242253\n"
     ]
    }
   ],
   "source": [
    "print(min(mses),np.mean(mses),max(mses),np.std(mses))"
   ]
  },
  {
   "cell_type": "code",
   "execution_count": 4,
   "metadata": {},
   "outputs": [
    {
     "name": "stdout",
     "output_type": "stream",
     "text": [
      "0.03598897944584124 0.08093976230667074 0.16690193708025364 0.015617864012292223\n"
     ]
    }
   ],
   "source": [
    "print(min(mses),np.mean(mses),max(mses),np.std(mses))"
   ]
  },
  {
   "cell_type": "code",
   "execution_count": null,
   "metadata": {},
   "outputs": [],
   "source": []
  }
 ],
 "metadata": {
  "kernelspec": {
   "display_name": "Python 3",
   "language": "python",
   "name": "python3"
  },
  "language_info": {
   "codemirror_mode": {
    "name": "ipython",
    "version": 3
   },
   "file_extension": ".py",
   "mimetype": "text/x-python",
   "name": "python",
   "nbconvert_exporter": "python",
   "pygments_lexer": "ipython3",
   "version": "3.6.7"
  }
 },
 "nbformat": 4,
 "nbformat_minor": 4
}
