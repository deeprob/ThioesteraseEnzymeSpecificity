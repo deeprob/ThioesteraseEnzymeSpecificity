{
 "cells": [
  {
   "cell_type": "code",
   "execution_count": 46,
   "metadata": {},
   "outputs": [],
   "source": [
    "class TNode:\n",
    "    def __init__(self,mapping,end):\n",
    "        self.map = mapping\n",
    "        self.end = end\n",
    "\n",
    "class Trie:\n",
    "    def __init__(self,words):\n",
    "        self.trie = self._createTrie(words)\n",
    "        pass\n",
    "    \n",
    "    def _createTrie(self,words):\n",
    "        root = TNode(dict(),False)\n",
    "        \n",
    "        for word in words:\n",
    "            curr_node = root\n",
    "            idx = 0\n",
    "            while idx<len(word):\n",
    "                letter = word[idx]\n",
    "                \n",
    "                # letter not there case\n",
    "                if letter not in curr_node.map:\n",
    "                    new_node = TNode(dict(),False)\n",
    "                    curr_node.map[letter] = new_node\n",
    "                \n",
    "                # letter is there case\n",
    "                else:\n",
    "                    new_node = curr_node.map[letter]\n",
    "                    \n",
    "                    \n",
    "                curr_node=new_node\n",
    "                \n",
    "                # If end of word, mark the new node created as True\n",
    "                if idx==(len(word)-1):\n",
    "                    curr_node.end=True\n",
    "                    \n",
    "                idx+=1\n",
    "        \n",
    "        return root\n",
    "    \n",
    "    def search(self,word,mismatch=0):\n",
    "        curr_node = self.trie\n",
    "        \n",
    "        idx = 0\n",
    "        flag = True\n",
    "        while idx<len(word):\n",
    "            letter = word[idx]\n",
    "            if letter in curr_node.map:\n",
    "                new_node = curr_node.map[letter]\n",
    "                curr_node=new_node\n",
    "            else:\n",
    "                flag=False\n",
    "                return False\n",
    "            \n",
    "            idx+=1\n",
    "        \n",
    "        if flag:\n",
    "            if new_node.end==True:\n",
    "                return True\n",
    "            else:\n",
    "                return False\n",
    "            \n",
    "        return False\n",
    "                    "
   ]
  },
  {
   "cell_type": "code",
   "execution_count": 54,
   "metadata": {},
   "outputs": [],
   "source": [
    "mytry = Trie([\"abcdf\",\"defgh\",\"there\",\"answe\",\"anygh\", \n",
    "            \"byxdf\",\"their\"])"
   ]
  },
  {
   "cell_type": "code",
   "execution_count": 56,
   "metadata": {},
   "outputs": [
    {
     "name": "stdout",
     "output_type": "stream",
     "text": [
      "True\n",
      "False\n",
      "True\n",
      "False\n"
     ]
    }
   ],
   "source": [
    "trywords = ['abcdf','these','their','thaw']\n",
    "for word in trywords:\n",
    "    print(mytry.search(word))"
   ]
  }
 ],
 "metadata": {
  "kernelspec": {
   "display_name": "Python 3",
   "language": "python",
   "name": "python3"
  },
  "language_info": {
   "codemirror_mode": {
    "name": "ipython",
    "version": 3
   },
   "file_extension": ".py",
   "mimetype": "text/x-python",
   "name": "python",
   "nbconvert_exporter": "python",
   "pygments_lexer": "ipython3",
   "version": "3.7.9"
  }
 },
 "nbformat": 4,
 "nbformat_minor": 4
}
