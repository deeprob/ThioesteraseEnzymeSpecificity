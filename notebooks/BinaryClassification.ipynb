{
 "cells": [
  {
   "cell_type": "code",
   "execution_count": 1,
   "metadata": {},
   "outputs": [],
   "source": [
    "# modules\n",
    "import os\n",
    "import sys\n",
    "import numpy as np\n",
    "import pandas as pd\n",
    "import multiprocessing as mp\n",
    "from sklearn.metrics import precision_score\n",
    "from sklearn.model_selection import train_test_split\n",
    "\n",
    "sys.path.append('../')\n",
    "from baseModels.SVM.model import SVM\n",
    "from ensemble.model import Ensemble"
   ]
  },
  {
   "cell_type": "code",
   "execution_count": 2,
   "metadata": {},
   "outputs": [],
   "source": [
    "class Base:\n",
    "    def __init__(self,SVM=True,GBC=False,NN=False,pca_components=40,regCparam=30,\n",
    "        kernparam='rbf',nestparam=250,lrateparam=0.01,mdepthparam=5,ssampleparam=1,hlayer=(50,10),\n",
    "        lrateinit=0.01,regparam=0.1,random_seed=None,optimizeQ=False,verboseQ=False):\n",
    "        \n",
    "        self.pca_components=pca_components\n",
    "        self.optimizeQ=optimizeQ\n",
    "        self.verboseQ=verboseQ\n",
    "        self.rs=random_seed\n",
    "        \n",
    "        if SVM:\n",
    "            self.regCparam=regCparam\n",
    "            self.kernparam=kernparam\n",
    "            \n",
    "        elif GBC:\n",
    "            self.nestparam=nestparam\n",
    "            self.lrateparam=lrateparam\n",
    "            self.mdepthparam=mdepthparam\n",
    "\n",
    "\n",
    "        elif NN:\n",
    "            self.hlayer=hlayer\n",
    "            self.lrateparam=lrateinit\n",
    "            self.reg=regparam\n",
    "\n",
    "            \n",
    "        else:\n",
    "            raise ValueError('No model initiated')\n",
    "            \n",
    "    def get_SVM(self,Xtrain,Xtest,ytrain,ytest):\n",
    "        return SVM(Xtrain,Xtest,ytrain,ytest,pca_comp=self.pca_components,regC=self.regCparam,kern=self.kernparam,optimize=self.optimizeQ,verbose=self.verboseQ,random_seed=self.rs)\n",
    "    \n",
    "    def get_GBC(self,Xtrain,Xtest,ytrain,ytest):\n",
    "        return GBC(Xtrain,Xtest,ytrain,ytest,pca_comp=self.pca_components,nest=self.nestparam,lrate=self.lrateparam,mdepth=self.mdepthparam,optimize=self.optimizeQ,verbose=self.verboseQ,random_seed=self.rs)\n",
    "\n",
    "    def get_NN(self,Xtrain,Xtest,ytrain,ytest):\n",
    "        return NN(Xtrain,Xtest,ytrain,ytest,pca_comp=self.pca_components,hlayers=self.hlayer,lrateinit=self.lrateparam,regparam=self.reg,optimize=self.optimizeQ,verbose=self.verboseQ,random_seed=self.rs)\n",
    "\n",
    "\n",
    "class TEClassification(Base):\n",
    "    \n",
    "    def __init__(self,enzseqdata,labelfile,featurefiledirs,model='SVM',random_seed=None):\n",
    "        \n",
    "        self.random_seed = random_seed\n",
    "        self.model=model\n",
    "        \n",
    "        \n",
    "        #initialize super class\n",
    "        if self.model=='SVM':\n",
    "            super().__init__()\n",
    "        else:\n",
    "            if self.model=='GBC':\n",
    "                super().__init__(SVM=False,GBC=True)\n",
    "            elif self.model=='NN':\n",
    "                super().__init__(SVM=False,NN=True)\n",
    "            else:\n",
    "                raise ValueError('Wrong Model Assigned')\n",
    "        \n",
    "        self.object_map = {'SVM':self.get_SVM,'NN':self.get_NN,'GBC':self.get_GBC}\n",
    "        \n",
    "        # original data based on which everything is obtained\n",
    "        df1 = pd.read_csv(enzseqdata,header=None)\n",
    "        df2 = pd.read_csv(label_file,header=None)\n",
    "        self.df = df1.merge(df2,on=0)\n",
    "        \n",
    "        self.enz_names = self.df[0].values\n",
    "        self.X = self.df.iloc[:,1].values\n",
    "        self.y = self.df.iloc[:,-1].values\n",
    "        \n",
    "        # training and testing data for general use\n",
    "        self.X_train, self.X_test, self.y_train, self.y_test,self.enz_train,self.enz_test = train_test_split(self.X, self.y,self.enz_names, test_size=0.25, random_state=self.random_seed)\n",
    "        \n",
    "        \n",
    "        \n",
    "        self.label_file = labelfile\n",
    "        \n",
    "        #generate a list of names from the directories\n",
    "        featfiles = [d+f.name for d in featurefiledirs for f in os.scandir(d) if f.name.endswith('.csv.gz')]\n",
    "        self.featnames = [f.name.replace('.csv.gz','') for d in featurefiledirs for f in os.scandir(d) if f.name.endswith('.csv.gz')]\n",
    "        \n",
    "        # getting all SVM objects together \n",
    "        self.objects = list(map(self.get_model_feat,featfiles))\n",
    "\n",
    "        \n",
    "        # select only the best models based on training\n",
    "        self.best_idx,self.best_models = self.select_top_models(self.objects)\n",
    "        self.best_model_names = np.array(self.featnames)[self.best_idx]\n",
    "        \n",
    "        # getting all model predictions together\n",
    "        self.all_model_preds = [svmo.ypredtest for svmo in self.best_models]\n",
    "        self.en = Ensemble(self.all_model_preds,self.y_test)\n",
    "        self.precision = precision_score(self.y_test,self.en.preds,labels=[1],average='micro')\n",
    "        \n",
    "        pass\n",
    "    \n",
    "    \n",
    "    def get_model_feat(self,featfilename):\n",
    "        df1 = pd.read_csv(featfilename,header=None)\n",
    "        df2 = pd.read_csv(self.label_file,header=None)\n",
    "        df_feat = df1.merge(df2,on=0).set_index(0)\n",
    "        df_feat_train = df_feat.loc[self.enz_train]\n",
    "        df_feat_test = df_feat.loc[self.enz_test]\n",
    "        X_train_feat,y_train_feat = df_feat_train.iloc[:,0:-1].values,df_feat_train.iloc[:,-1].values\n",
    "        X_test_feat,y_test_feat = df_feat_test.iloc[:,0:-1].values,df_feat_test.iloc[:,-1].values\n",
    "\n",
    "        if X_train_feat.shape[1]<40:\n",
    "            self.pca_components = int(0.75*X_train_feat.shape[1])\n",
    "        else:\n",
    "            self.pca_components=40\n",
    "            \n",
    "        obj = self.object_map[self.model](X_train_feat,X_test_feat,y_train_feat,y_test_feat)\n",
    "        return obj\n",
    "        \n",
    "    def select_top_models(self,Os):\n",
    "        o_train_accs = [o.acc_train for o in Os]\n",
    "        sorted_idx = np.argsort(o_train_accs)[::-1]\n",
    "        best_idx = sorted_idx[:27]\n",
    "        return best_idx,np.array(Os)[best_idx]\n",
    "        "
   ]
  },
  {
   "cell_type": "code",
   "execution_count": 3,
   "metadata": {
    "scrolled": true
   },
   "outputs": [
    {
     "name": "stdout",
     "output_type": "stream",
     "text": [
      "CPU times: user 13 s, sys: 785 ms, total: 13.7 s\n",
      "Wall time: 1h 6min 34s\n"
     ]
    }
   ],
   "source": [
    "%%time\n",
    "if __name__=='__main__':\n",
    "    # Sequence and label files \n",
    "    enz_file = '../data/SeqFile/EnzymeSequence.csv'\n",
    "    label_file = '../data/LabelFiles/EnzymeLabelsBinary.csv'\n",
    "\n",
    "    # Feature dir for iFeature,kernel,pssm \n",
    "    ifeatdatadir = '../featEngg/ifeatMethods/data/featvec/'\n",
    "    kerneldatadir = '../featEngg/kernelMethods/data/featvec/'\n",
    "    pssmdatadir = '../featEngg/pssmMethods/data/featvec/'\n",
    "    featdirs = [ifeatdatadir,kerneldatadir,pssmdatadir]\n",
    "\n",
    "\n",
    "    te = TEClassification(enz_file,label_file,featdirs,random_seed=7)\n",
    "    \n",
    "    def multi_func(rs):\n",
    "        te_i = TEClassification(enz_file,label_file,featdirs,random_seed=rs)\n",
    "        return te_i.precision,te_i.en.acc    \n",
    "    \n",
    "    pool = mp.Pool(mp.cpu_count())\n",
    "\n",
    "    \n",
    "    \n",
    "    \n",
    "    metrics = list(pool.map(multi_func,range(10000)))\n",
    "    \n"
   ]
  },
  {
   "cell_type": "code",
   "execution_count": 4,
   "metadata": {},
   "outputs": [],
   "source": [
    "prec = [acc[0] for acc in metrics]\n",
    "accs = [acc[1] for acc in metrics]"
   ]
  },
  {
   "cell_type": "code",
   "execution_count": 5,
   "metadata": {},
   "outputs": [
    {
     "name": "stdout",
     "output_type": "stream",
     "text": [
      "0.3333333333333333 0.8594741290799844 1.0 0.11209061294718335\n"
     ]
    }
   ],
   "source": [
    "print(min(prec),np.mean(prec),max(prec),np.std(prec))"
   ]
  },
  {
   "cell_type": "code",
   "execution_count": 6,
   "metadata": {},
   "outputs": [
    {
     "name": "stdout",
     "output_type": "stream",
     "text": [
      "0.5652173913043478 0.8715608695652174 1.0 0.06726626815691528\n"
     ]
    }
   ],
   "source": [
    "print(min(accs),np.mean(accs),max(accs),np.std(accs))"
   ]
  },
  {
   "cell_type": "code",
   "execution_count": 9,
   "metadata": {},
   "outputs": [],
   "source": [
    "def saveResults(filename):\n",
    "    with open('../data/SimResults/EnsembleResults/'+filename,'w') as f:\n",
    "        for rs,score in enumerate(metrics):\n",
    "            f.write(str(rs)+','+str(score[0])+','+str(score[1])+'\\n')\n",
    "    return"
   ]
  },
  {
   "cell_type": "code",
   "execution_count": 10,
   "metadata": {},
   "outputs": [],
   "source": [
    "saveResults('BinaryEnsemble.csv')"
   ]
  },
  {
   "cell_type": "code",
   "execution_count": 5,
   "metadata": {
    "scrolled": true
   },
   "outputs": [
    {
     "name": "stdout",
     "output_type": "stream",
     "text": [
      "0.36363636363636365 0.8550525573729677 1.0 0.09874454934962587\n"
     ]
    }
   ],
   "source": [
    "print(min(prec),np.mean(prec),max(prec),np.std(prec))"
   ]
  },
  {
   "cell_type": "code",
   "execution_count": 6,
   "metadata": {},
   "outputs": [
    {
     "name": "stdout",
     "output_type": "stream",
     "text": [
      "0.6206896551724138 0.8673793103448275 1.0 0.058765379245434055\n"
     ]
    }
   ],
   "source": [
    "print(min(accs),np.mean(accs),max(accs),np.std(accs))"
   ]
  },
  {
   "cell_type": "code",
   "execution_count": 12,
   "metadata": {},
   "outputs": [],
   "source": [
    "import matplotlib.pyplot as plt\n",
    "%matplotlib inline"
   ]
  },
  {
   "cell_type": "code",
   "execution_count": 13,
   "metadata": {},
   "outputs": [
    {
     "data": {
      "text/plain": [
       "(array([   4.,   12.,   38.,  189.,  498.,  714., 1046., 2104., 3020.,\n",
       "        2375.]),\n",
       " array([0.33333333, 0.4       , 0.46666667, 0.53333333, 0.6       ,\n",
       "        0.66666667, 0.73333333, 0.8       , 0.86666667, 0.93333333,\n",
       "        1.        ]),\n",
       " <BarContainer object of 10 artists>)"
      ]
     },
     "execution_count": 13,
     "metadata": {},
     "output_type": "execute_result"
    },
    {
     "data": {
      "image/png": "[encoded data removed]",
      "text/plain": [
       "<Figure size 432x288 with 1 Axes>"
      ]
     },
     "metadata": {
      "needs_background": "light"
     },
     "output_type": "display_data"
    }
   ],
   "source": [
    "plt.hist(prec)"
   ]
  },
  {
   "cell_type": "code",
   "execution_count": 14,
   "metadata": {},
   "outputs": [
    {
     "data": {
      "text/plain": [
       "(array([3.000e+00, 4.000e+00, 2.700e+01, 1.340e+02, 4.290e+02, 9.950e+02,\n",
       "        1.804e+03, 4.841e+03, 0.000e+00, 1.763e+03]),\n",
       " array([0.56521739, 0.60869565, 0.65217391, 0.69565217, 0.73913043,\n",
       "        0.7826087 , 0.82608696, 0.86956522, 0.91304348, 0.95652174,\n",
       "        1.        ]),\n",
       " <BarContainer object of 10 artists>)"
      ]
     },
     "execution_count": 14,
     "metadata": {},
     "output_type": "execute_result"
    },
    {
     "data": {
      "image/png": "[encoded data removed]",
      "text/plain": [
       "<Figure size 432x288 with 1 Axes>"
      ]
     },
     "metadata": {
      "needs_background": "light"
     },
     "output_type": "display_data"
    }
   ],
   "source": [
    "plt.hist(accs)"
   ]
  },
  {
   "cell_type": "code",
   "execution_count": 10,
   "metadata": {},
   "outputs": [
    {
     "data": {
      "text/plain": [
       "array(['pse_pssm', 'dp_pssm', 's_fpssm', 'CTDC', 'pssm_composition',\n",
       "       'rpm_pssm', 'APAAC', 'PAAC', 'AAC', 'GTPC', 'GDPC', 'KSCTriad',\n",
       "       'QSOrder', 'CKSAAGP', 'CTriad', 'CKSAAP', 'NMBroto', 'TPC',\n",
       "       'Geary', 'Moran', 'SOCNumber', 'DPC', 'CTDD', 'DDE',\n",
       "       'mismatchKernel', 'CTDT', 'spectrumKernel'], dtype='<U24')"
      ]
     },
     "execution_count": 10,
     "metadata": {},
     "output_type": "execute_result"
    }
   ],
   "source": [
    "te.best_model_names"
   ]
  },
  {
   "cell_type": "code",
   "execution_count": null,
   "metadata": {},
   "outputs": [],
   "source": []
  }
 ],
 "metadata": {
  "kernelspec": {
   "display_name": "Python 3",
   "language": "python",
   "name": "python3"
  },
  "language_info": {
   "codemirror_mode": {
    "name": "ipython",
    "version": 3
   },
   "file_extension": ".py",
   "mimetype": "text/x-python",
   "name": "python",
   "nbconvert_exporter": "python",
   "pygments_lexer": "ipython3",
   "version": "3.7.9"
  }
 },
 "nbformat": 4,
 "nbformat_minor": 4
}
