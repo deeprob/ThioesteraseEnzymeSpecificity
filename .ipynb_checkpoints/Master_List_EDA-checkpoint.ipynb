{
 "cells": [
  {
   "cell_type": "code",
   "execution_count": 1,
   "metadata": {},
   "outputs": [],
   "source": [
    "import pandas as pd\n",
    "import pickle\n",
    "import numpy as np\n",
    "import matplotlib.pyplot as plt\n",
    "from sklearn.preprocessing import OneHotEncoder\n",
    "from sklearn.cluster import KMeans\n",
    "from sklearn.decomposition import PCA\n",
    "from sklearn.model_selection import train_test_split\n",
    "from sklearn.metrics import precision_score,recall_score,f1_score,confusion_matrix,accuracy_score\n",
    "from sklearn.svm import SVC"
   ]
  },
  {
   "cell_type": "code",
   "execution_count": 2,
   "metadata": {},
   "outputs": [],
   "source": [
    "df = pd.read_excel('Thioesterase_Master_List.xlsx',sheet_name='characterized_TE',nrows=117)"
   ]
  },
  {
   "cell_type": "code",
   "execution_count": 3,
   "metadata": {},
   "outputs": [],
   "source": [
    "file = pickle.load(open('TE_ML_Data_pickle.p','rb'))"
   ]
  },
  {
   "cell_type": "code",
   "execution_count": 4,
   "metadata": {},
   "outputs": [],
   "source": [
    "enzyme_names,enzyme_class = file[0],file[2]"
   ]
  },
  {
   "cell_type": "code",
   "execution_count": 5,
   "metadata": {},
   "outputs": [],
   "source": [
    "seq_df = df.loc[df.Species.isin(enzyme_names)]"
   ]
  },
  {
   "cell_type": "code",
   "execution_count": 6,
   "metadata": {},
   "outputs": [],
   "source": [
    "enz_seq_dict = dict(zip(seq_df.Species.values,seq_df.Sequence.values))"
   ]
  },
  {
   "cell_type": "code",
   "execution_count": 7,
   "metadata": {},
   "outputs": [],
   "source": [
    "enz_class_dict = dict(zip(enzyme_names,enzyme_class))"
   ]
  },
  {
   "cell_type": "markdown",
   "metadata": {},
   "source": [
    "# These 3 enzymes do not have sequence data in the master list characterized_TE sheet"
   ]
  },
  {
   "cell_type": "code",
   "execution_count": 8,
   "metadata": {},
   "outputs": [
    {
     "data": {
      "text/plain": [
       "{'UcFatB1_double(197M_R199H)',\n",
       " 'UcFatB1_single(T231K)',\n",
       " 'UcFatB1_triple(R197M_R199H_T231K)'}"
      ]
     },
     "execution_count": 8,
     "metadata": {},
     "output_type": "execute_result"
    }
   ],
   "source": [
    "set(enzyme_names) - set(seq_df.Species)"
   ]
  },
  {
   "cell_type": "markdown",
   "metadata": {},
   "source": [
    "# Forming a df with known enzyme sequence and class"
   ]
  },
  {
   "cell_type": "code",
   "execution_count": 9,
   "metadata": {},
   "outputs": [],
   "source": [
    "enz_dict = {}\n",
    "\n",
    "for e,seq in enz_seq_dict.items():\n",
    "    enz_dict[e] = [seq,enz_class_dict[e]]"
   ]
  },
  {
   "cell_type": "code",
   "execution_count": 10,
   "metadata": {},
   "outputs": [],
   "source": [
    "parsed_df = pd.DataFrame.from_dict(enz_dict,orient='index',columns=['Sequence','Class']).sort_index()"
   ]
  },
  {
   "cell_type": "markdown",
   "metadata": {},
   "source": [
    "# Exploratory Data Analysis"
   ]
  },
  {
   "cell_type": "markdown",
   "metadata": {},
   "source": [
    "## Dataset imbalance"
   ]
  },
  {
   "cell_type": "code",
   "execution_count": 11,
   "metadata": {},
   "outputs": [
    {
     "data": {
      "image/png": "[encoded data removed]",
      "text/plain": [
       "<Figure size 432x288 with 1 Axes>"
      ]
     },
     "metadata": {
      "needs_background": "light"
     },
     "output_type": "display_data"
    }
   ],
   "source": [
    "plt.bar(np.arange(len(np.unique(parsed_df.Class))),parsed_df.Class.value_counts(normalize=True).values)\n",
    "plt.xticks(np.arange(len(np.unique(parsed_df.Class))),parsed_df.Class.value_counts().index)\n",
    "plt.xlabel('Metabolite Class')\n",
    "plt.ylabel('Percentage of Metabolites')\n",
    "plt.title('Percentage of Metabolites present in each Class');"
   ]
  },
  {
   "cell_type": "markdown",
   "metadata": {},
   "source": [
    "## Sequence Length"
   ]
  },
  {
   "cell_type": "code",
   "execution_count": 12,
   "metadata": {},
   "outputs": [],
   "source": [
    "length_seq = np.array(list(map(len,parsed_df.Sequence.values)))"
   ]
  },
  {
   "cell_type": "code",
   "execution_count": 13,
   "metadata": {},
   "outputs": [
    {
     "data": {
      "text/plain": [
       "(412, 363.8679245283019, 34.09921026908741)"
      ]
     },
     "execution_count": 13,
     "metadata": {},
     "output_type": "execute_result"
    }
   ],
   "source": [
    "max(length_seq),np.mean(length_seq),np.std(length_seq)"
   ]
  },
  {
   "cell_type": "code",
   "execution_count": 14,
   "metadata": {},
   "outputs": [
    {
     "data": {
      "image/png": "[encoded data removed]",
      "text/plain": [
       "<Figure size 432x288 with 1 Axes>"
      ]
     },
     "metadata": {
      "needs_background": "light"
     },
     "output_type": "display_data"
    }
   ],
   "source": [
    "plt.hist(length_seq,bins=[300,330,360,390,420])\n",
    "plt.xlabel('Sequence Length')\n",
    "plt.ylabel('Number of Enzymes')\n",
    "plt.title('Histogram of Sequence Length')\n",
    "plt.xticks([300,330,360,390,420],[300,330,360,390,420]);"
   ]
  },
  {
   "cell_type": "code",
   "execution_count": 15,
   "metadata": {},
   "outputs": [
    {
     "data": {
      "image/png": "[encoded data removed]",
      "text/plain": [
       "<Figure size 864x720 with 1 Axes>"
      ]
     },
     "metadata": {
      "needs_background": "light"
     },
     "output_type": "display_data"
    }
   ],
   "source": [
    "seq_length_count = np.unique(length_seq,return_counts=True)\n",
    "\n",
    "plt.figure(figsize=(12,10))\n",
    "plt.bar(np.arange(len(seq_length_count[0])),seq_length_count[1])\n",
    "plt.xticks(np.arange(len(seq_length_count[0])),seq_length_count[0]);"
   ]
  },
  {
   "cell_type": "markdown",
   "metadata": {},
   "source": [
    "## Metabolite seq length divided into classes"
   ]
  },
  {
   "cell_type": "code",
   "execution_count": 16,
   "metadata": {},
   "outputs": [],
   "source": [
    "parsed_df['Sequence_Length'] = parsed_df['Sequence'].apply(len)"
   ]
  },
  {
   "cell_type": "code",
   "execution_count": 17,
   "metadata": {},
   "outputs": [],
   "source": [
    "gb = parsed_df.groupby('Class').Sequence_Length"
   ]
  },
  {
   "cell_type": "markdown",
   "metadata": {},
   "source": [
    "### Class 1"
   ]
  },
  {
   "cell_type": "code",
   "execution_count": 18,
   "metadata": {},
   "outputs": [
    {
     "data": {
      "image/png": "[encoded data removed]",
      "text/plain": [
       "<Figure size 432x288 with 1 Axes>"
      ]
     },
     "metadata": {
      "needs_background": "light"
     },
     "output_type": "display_data"
    }
   ],
   "source": [
    "plt.hist(gb.get_group(1).values,bins=[300,330,360,390,420])\n",
    "plt.xticks([300,330,360,390,420],[300,330,360,390,420]);"
   ]
  },
  {
   "cell_type": "markdown",
   "metadata": {},
   "source": [
    "### Class 2"
   ]
  },
  {
   "cell_type": "code",
   "execution_count": 19,
   "metadata": {},
   "outputs": [
    {
     "data": {
      "image/png": "[encoded data removed]",
      "text/plain": [
       "<Figure size 432x288 with 1 Axes>"
      ]
     },
     "metadata": {
      "needs_background": "light"
     },
     "output_type": "display_data"
    }
   ],
   "source": [
    "plt.hist(gb.get_group(2).values,bins=[300,330,360,390,420])\n",
    "plt.xticks([300,330,360,390,420],[300,330,360,390,420]);"
   ]
  },
  {
   "cell_type": "markdown",
   "metadata": {},
   "source": [
    "### Class 3"
   ]
  },
  {
   "cell_type": "code",
   "execution_count": 20,
   "metadata": {
    "scrolled": true
   },
   "outputs": [
    {
     "data": {
      "image/png": "[encoded data removed]",
      "text/plain": [
       "<Figure size 432x288 with 1 Axes>"
      ]
     },
     "metadata": {
      "needs_background": "light"
     },
     "output_type": "display_data"
    }
   ],
   "source": [
    "plt.hist(gb.get_group(3).values,bins=[300,330,360,390,420])\n",
    "plt.xticks([300,330,360,390,420],[300,330,360,390,420]);"
   ]
  },
  {
   "cell_type": "markdown",
   "metadata": {},
   "source": [
    "## Sequence Representation"
   ]
  },
  {
   "cell_type": "markdown",
   "metadata": {},
   "source": [
    "### One-Hot Encoded"
   ]
  },
  {
   "cell_type": "code",
   "execution_count": 21,
   "metadata": {},
   "outputs": [],
   "source": [
    "set_amino = set()\n",
    "for seq in parsed_df.Sequence.values:\n",
    "    for aa in seq:\n",
    "        set_amino.add(aa)\n",
    "\n",
    "AAs = np.array(list(set_amino)).reshape(-1,1)\n",
    "onehotenc = OneHotEncoder().fit(AAs)"
   ]
  },
  {
   "cell_type": "code",
   "execution_count": 22,
   "metadata": {},
   "outputs": [],
   "source": [
    "def get_OHE_seq(sequence):\n",
    "    seq_array = np.array(list(sequence)).reshape(-1,1)\n",
    "    return onehotenc.transform(seq_array).toarray().T"
   ]
  },
  {
   "cell_type": "code",
   "execution_count": 23,
   "metadata": {},
   "outputs": [],
   "source": [
    "seq = parsed_df.Sequence.iloc[0]"
   ]
  },
  {
   "cell_type": "code",
   "execution_count": 24,
   "metadata": {},
   "outputs": [
    {
     "data": {
      "text/plain": [
       "(22, 338)"
      ]
     },
     "execution_count": 24,
     "metadata": {},
     "output_type": "execute_result"
    }
   ],
   "source": [
    "get_OHE_seq(seq).shape"
   ]
  },
  {
   "cell_type": "code",
   "execution_count": 25,
   "metadata": {},
   "outputs": [],
   "source": [
    "def pad_OHE_seq(seq_arr):\n",
    "    shape = seq_arr.shape\n",
    "    add_shape = 420 - shape[1]\n",
    "    \n",
    "    if add_shape%2==0:\n",
    "        ls = add_shape//2\n",
    "        rs = add_shape//2\n",
    "    else:\n",
    "        ls = add_shape//2 + 1\n",
    "        rs = add_shape//2\n",
    "        \n",
    "    ls_arr = np.zeros((shape[0],ls))\n",
    "    rs_arr = np.zeros((shape[0],rs))\n",
    "    \n",
    "    ls_add = np.hstack((ls_arr,seq_arr))\n",
    "    rs_add = np.hstack((ls_add,rs_arr))\n",
    "    return rs_add\n",
    "\n",
    "def get_seq(p_seq):\n",
    "    return ''.join(onehotenc.inverse_transform(p_seq.T).flatten())"
   ]
  },
  {
   "cell_type": "code",
   "execution_count": 26,
   "metadata": {},
   "outputs": [],
   "source": [
    "X_ohe = list(map(get_OHE_seq,parsed_df.Sequence.values))"
   ]
  },
  {
   "cell_type": "code",
   "execution_count": 27,
   "metadata": {},
   "outputs": [],
   "source": [
    "X_p = list(map(pad_OHE_seq,X_ohe))\n",
    "\n",
    "def ravel_helper(X_seq):\n",
    "    return np.ravel(X_seq,'F')\n",
    "\n",
    "X = np.array(list(map(ravel_helper,X_p)))"
   ]
  },
  {
   "cell_type": "code",
   "execution_count": 28,
   "metadata": {},
   "outputs": [],
   "source": [
    "def pca(X_arr,components):\n",
    "    pca = PCA(n_components=components)\n",
    "    pca.fit(X_arr)\n",
    "    X_pca_arr = pca.transform(X_arr)  \n",
    "    return X_pca_arr"
   ]
  },
  {
   "cell_type": "code",
   "execution_count": 29,
   "metadata": {},
   "outputs": [],
   "source": [
    "X_pca = pca(X,2)"
   ]
  },
  {
   "cell_type": "code",
   "execution_count": 30,
   "metadata": {},
   "outputs": [
    {
     "data": {
      "text/plain": [
       "<matplotlib.legend.Legend at 0x1a26b6dc10>"
      ]
     },
     "execution_count": 30,
     "metadata": {},
     "output_type": "execute_result"
    },
    {
     "data": {
      "image/png": "[encoded data removed]",
      "text/plain": [
       "<Figure size 432x288 with 1 Axes>"
      ]
     },
     "metadata": {
      "needs_background": "light"
     },
     "output_type": "display_data"
    }
   ],
   "source": [
    "fig = plt.figure()\n",
    "ax = fig.add_subplot(111)\n",
    "\n",
    "group = parsed_df.Class.values\n",
    "cdict = {1:'red',2:'blue',3:'green'}\n",
    "\n",
    "plt.scatter(X_pca[:,0],X_pca[:,1])\n",
    "\n",
    "for g in np.unique(group):\n",
    "    ix = np.where(group == g)\n",
    "    ax.scatter(X_pca[:,0][ix], X_pca[:,1][ix], c = cdict[g], label = g, s = 40)\n",
    "ax.legend()\n"
   ]
  },
  {
   "cell_type": "code",
   "execution_count": 31,
   "metadata": {},
   "outputs": [],
   "source": [
    "def kmeans(X_arr):\n",
    "    kmeans = KMeans(n_clusters=3,max_iter=1000,tol=1e-6,n_jobs=-1)\n",
    "    kmeans.fit(X_arr)\n",
    "    clusters = kmeans.predict(X_arr)\n",
    "    return clusters\n",
    "    \n",
    "    "
   ]
  },
  {
   "cell_type": "code",
   "execution_count": 32,
   "metadata": {},
   "outputs": [],
   "source": [
    "clusters = kmeans(X) + 1.5"
   ]
  },
  {
   "cell_type": "code",
   "execution_count": 33,
   "metadata": {
    "scrolled": true
   },
   "outputs": [
    {
     "data": {
      "image/png": "[encoded data removed]",
      "text/plain": [
       "<Figure size 432x288 with 1 Axes>"
      ]
     },
     "metadata": {
      "needs_background": "light"
     },
     "output_type": "display_data"
    }
   ],
   "source": [
    "plt.scatter(np.arange(106),parsed_df.Class.values,label='True')\n",
    "plt.scatter(np.arange(106),clusters,label='Prediction')\n",
    "plt.legend();"
   ]
  },
  {
   "cell_type": "code",
   "execution_count": 34,
   "metadata": {},
   "outputs": [
    {
     "data": {
      "text/plain": [
       "<matplotlib.collections.PathCollection at 0x1a22a63590>"
      ]
     },
     "execution_count": 34,
     "metadata": {},
     "output_type": "execute_result"
    },
    {
     "data": {
      "image/png": "[encoded data removed]",
      "text/plain": [
       "<Figure size 432x288 with 1 Axes>"
      ]
     },
     "metadata": {
      "needs_background": "light"
     },
     "output_type": "display_data"
    }
   ],
   "source": [
    "plt.scatter(np.arange(106),parsed_df.Sequence_Length)"
   ]
  },
  {
   "cell_type": "markdown",
   "metadata": {},
   "source": [
    "**One-Hot Encoding is capturing the sequence length. We need a more meaningful representation of the features** "
   ]
  },
  {
   "cell_type": "code",
   "execution_count": 35,
   "metadata": {},
   "outputs": [],
   "source": [
    "def Ngram(*sequences,n=4):\n",
    "    ngramdict = dict()\n",
    "    \n",
    "    for seq in sequences:\n",
    "        i=0\n",
    "        while i+n-1<len(seq):\n",
    "            prev_word = seq[i:i+n-1]\n",
    "            curr_word = seq[i+n-1]\n",
    "\n",
    "            if prev_word in ngramdict:\n",
    "                if curr_word in ngramdict[prev_word]:\n",
    "                    ngramdict[prev_word][curr_word] += 1\n",
    "                else:\n",
    "                    ngramdict[prev_word][curr_word] = 1\n",
    "            else:\n",
    "                ngramdict[prev_word] = {curr_word:1}\n",
    "\n",
    "            i+=1\n",
    "    return ngramdict    "
   ]
  },
  {
   "cell_type": "code",
   "execution_count": 36,
   "metadata": {},
   "outputs": [],
   "source": [
    "Seqs = list(parsed_df.Sequence.values)"
   ]
  },
  {
   "cell_type": "markdown",
   "metadata": {},
   "source": [
    "## Ngram"
   ]
  },
  {
   "cell_type": "markdown",
   "metadata": {},
   "source": [
    "### Ngramdict all sequences"
   ]
  },
  {
   "cell_type": "code",
   "execution_count": 37,
   "metadata": {},
   "outputs": [],
   "source": [
    "mydict = Ngram(*Seqs,n=7)"
   ]
  },
  {
   "cell_type": "code",
   "execution_count": 38,
   "metadata": {},
   "outputs": [],
   "source": [
    "mydict_prob = {}\n",
    "\n",
    "for seq_prev,next_seq_dict in mydict.items():\n",
    "    sum_vals = sum(next_seq_dict.values())\n",
    "    prob_dict_next = {k:v/sum_vals for k,v in next_seq_dict.items()}\n",
    "    mydict_prob[seq_prev] = prob_dict_next"
   ]
  },
  {
   "cell_type": "code",
   "execution_count": 39,
   "metadata": {},
   "outputs": [],
   "source": [
    "# All possible representations\n",
    "\n",
    "all_6_motifs = list(mydict_prob.keys())"
   ]
  },
  {
   "cell_type": "markdown",
   "metadata": {},
   "source": [
    "### Ngramdict individual sequences"
   ]
  },
  {
   "cell_type": "code",
   "execution_count": 40,
   "metadata": {},
   "outputs": [],
   "source": [
    "def Ngram_i(sequence,n=7):\n",
    "    ngramdict = dict()\n",
    "\n",
    "    i=0\n",
    "    while i+n-1<len(sequence):\n",
    "        prev_word = sequence[i:i+n-1]\n",
    "        curr_word = sequence[i+n-1]\n",
    "\n",
    "        if prev_word in ngramdict:\n",
    "            if curr_word in ngramdict[prev_word]:\n",
    "                ngramdict[prev_word][curr_word] += 1\n",
    "            else:\n",
    "                ngramdict[prev_word][curr_word] = 1\n",
    "        else:\n",
    "            ngramdict[prev_word] = {curr_word:1}\n",
    "\n",
    "        i+=1\n",
    "    return ngramdict    "
   ]
  },
  {
   "cell_type": "code",
   "execution_count": 41,
   "metadata": {},
   "outputs": [],
   "source": [
    "individual_6_motifs = list(map(Ngram_i,Seqs))"
   ]
  },
  {
   "cell_type": "code",
   "execution_count": 42,
   "metadata": {},
   "outputs": [],
   "source": [
    "# Need to convert them into a vector\n",
    "\n",
    "def ngram_encoder_helper(seq6,seqv,v):\n",
    "    fseq6 = np.ravel(get_OHE_seq(seq6),order='F')\n",
    "    fseqv = np.ravel(get_OHE_seq(seqv),order='F')\n",
    "    fv = np.array([v])\n",
    "    return np.concatenate((fseq6,fseqv,fv))\n",
    "\n",
    "def ngram_encoder(dictionary):\n",
    "    encoded_list = []\n",
    "    \n",
    "    for seq_6,val_dict in dictionary.items():\n",
    "        for k,v in val_dict.items():\n",
    "            get_encoded_array = ngram_encoder_helper(seq_6,k,v)\n",
    "            encoded_list.append(get_encoded_array)\n",
    "    \n",
    "    return np.concatenate(tuple(encoded_list))\n",
    "        "
   ]
  },
  {
   "cell_type": "code",
   "execution_count": 43,
   "metadata": {},
   "outputs": [],
   "source": [
    "encoded_ngrams = list(map(ngram_encoder,individual_6_motifs))"
   ]
  },
  {
   "cell_type": "code",
   "execution_count": 44,
   "metadata": {},
   "outputs": [],
   "source": [
    "max_length = max(map(len,encoded_ngrams))"
   ]
  },
  {
   "cell_type": "code",
   "execution_count": 45,
   "metadata": {},
   "outputs": [
    {
     "data": {
      "text/plain": [
       "(51460,)"
      ]
     },
     "execution_count": 45,
     "metadata": {},
     "output_type": "execute_result"
    }
   ],
   "source": [
    "encoded_ngrams[0].shape"
   ]
  },
  {
   "cell_type": "code",
   "execution_count": 46,
   "metadata": {},
   "outputs": [],
   "source": [
    "def pad_ngram(eng):\n",
    "    diff = max_length - len(eng)\n",
    "    \n",
    "    if diff%2 == 0:\n",
    "        ls = diff//2\n",
    "        rs = diff//2\n",
    "    else:\n",
    "        ls = diff//2 + 1\n",
    "        rs = diff//2\n",
    "        \n",
    "    return np.concatenate((np.zeros(ls),eng,np.zeros(rs)))    "
   ]
  },
  {
   "cell_type": "code",
   "execution_count": 47,
   "metadata": {},
   "outputs": [],
   "source": [
    "padded_ngrams = list(map(pad_ngram,encoded_ngrams))"
   ]
  },
  {
   "cell_type": "code",
   "execution_count": 48,
   "metadata": {},
   "outputs": [],
   "source": [
    "X_ng = np.array(padded_ngrams,ndmin=2)"
   ]
  },
  {
   "cell_type": "code",
   "execution_count": 51,
   "metadata": {},
   "outputs": [],
   "source": [
    "clusters_ng = kmeans(X_ng)+1.5"
   ]
  },
  {
   "cell_type": "code",
   "execution_count": 52,
   "metadata": {},
   "outputs": [
    {
     "data": {
      "image/png": "[encoded data removed]",
      "text/plain": [
       "<Figure size 432x288 with 1 Axes>"
      ]
     },
     "metadata": {
      "needs_background": "light"
     },
     "output_type": "display_data"
    }
   ],
   "source": [
    "plt.scatter(np.arange(106),parsed_df.Class.values,label='True')\n",
    "plt.scatter(np.arange(106),clusters_ng,label='Prediction')\n",
    "plt.legend();"
   ]
  },
  {
   "cell_type": "markdown",
   "metadata": {},
   "source": [
    "## Bag of words"
   ]
  },
  {
   "cell_type": "code",
   "execution_count": 53,
   "metadata": {},
   "outputs": [],
   "source": [
    "from collections import Counter"
   ]
  },
  {
   "cell_type": "code",
   "execution_count": 54,
   "metadata": {},
   "outputs": [],
   "source": [
    "counterdicts = [Counter(s) for s in Seqs]\n",
    "\n",
    "counter_probdicts = [{k:v/sum(cdict.values()) for k,v in cdict.items()} for cdict in counterdicts]"
   ]
  },
  {
   "cell_type": "code",
   "execution_count": 55,
   "metadata": {},
   "outputs": [],
   "source": [
    "from collections import OrderedDict"
   ]
  },
  {
   "cell_type": "code",
   "execution_count": 56,
   "metadata": {},
   "outputs": [],
   "source": [
    "m_dict = []\n",
    "\n",
    "for cprobdict in counter_probdicts:\n",
    "    for aa in AAs.flatten():\n",
    "        if aa not in cprobdict:\n",
    "            cprobdict[aa] = 0\n",
    "    m_dict.append(OrderedDict(sorted(cprobdict.items())))"
   ]
  },
  {
   "cell_type": "code",
   "execution_count": 57,
   "metadata": {},
   "outputs": [],
   "source": [
    "# Create a vector from m_dict\n",
    "\n",
    "X_BoW = np.array([list(d.values()) for d in m_dict])"
   ]
  },
  {
   "cell_type": "code",
   "execution_count": 58,
   "metadata": {},
   "outputs": [],
   "source": [
    "clust_bow = kmeans(X_BoW) + 1.5"
   ]
  },
  {
   "cell_type": "code",
   "execution_count": 59,
   "metadata": {},
   "outputs": [
    {
     "data": {
      "text/plain": [
       "<matplotlib.legend.Legend at 0x1a34459f10>"
      ]
     },
     "execution_count": 59,
     "metadata": {},
     "output_type": "execute_result"
    },
    {
     "data": {
      "image/png": "[encoded data removed]",
      "text/plain": [
       "<Figure size 432x288 with 1 Axes>"
      ]
     },
     "metadata": {
      "needs_background": "light"
     },
     "output_type": "display_data"
    }
   ],
   "source": [
    "X_pca_bow = pca(X_BoW,2)\n",
    "\n",
    "fig = plt.figure()\n",
    "ax = fig.add_subplot(111)\n",
    "\n",
    "group = parsed_df.Class.values\n",
    "cdict = {1:'red',2:'blue',3:'green'}\n",
    "\n",
    "plt.scatter(X_pca_bow[:,0],X_pca_bow[:,1])\n",
    "\n",
    "for g in np.unique(group):\n",
    "    ix = np.where(group == g)\n",
    "    ax.scatter(X_pca_bow[:,0][ix], X_pca_bow[:,1][ix], c = cdict[g], label = g, s = 40)\n",
    "ax.legend()"
   ]
  },
  {
   "cell_type": "markdown",
   "metadata": {},
   "source": [
    "**THERE IS ABSOLUTELY NO/VERY LESS DIFFERENCE BETWEEN ENZYME SEQUENCES 27 to 73. AN ML MODEL WILL BE UNABLE TO CAPTURE ANY USEFUL INFORMATION FROM SUCH AN INPUT**"
   ]
  },
  {
   "cell_type": "code",
   "execution_count": 60,
   "metadata": {
    "scrolled": true
   },
   "outputs": [
    {
     "data": {
      "text/plain": [
       "(OrderedDict([('-', 0),\n",
       "              ('A', 0.06516290726817042),\n",
       "              ('C', 0.007518796992481203),\n",
       "              ('D', 0.06265664160401002),\n",
       "              ('E', 0.06265664160401002),\n",
       "              ('F', 0.03508771929824561),\n",
       "              ('G', 0.07769423558897243),\n",
       "              ('H', 0.015037593984962405),\n",
       "              ('I', 0.042606516290726815),\n",
       "              ('K', 0.06265664160401002),\n",
       "              ('L', 0.09022556390977443),\n",
       "              ('M', 0.03007518796992481),\n",
       "              ('N', 0.045112781954887216),\n",
       "              ('P', 0.06766917293233082),\n",
       "              ('Q', 0.03007518796992481),\n",
       "              ('R', 0.06265664160401002),\n",
       "              ('S', 0.08521303258145363),\n",
       "              ('T', 0.05764411027568922),\n",
       "              ('V', 0.06015037593984962),\n",
       "              ('W', 0.02506265664160401),\n",
       "              ('X', 0),\n",
       "              ('Y', 0.015037593984962405)]),\n",
       " OrderedDict([('-', 0),\n",
       "              ('A', 0.06516290726817042),\n",
       "              ('C', 0.007518796992481203),\n",
       "              ('D', 0.06265664160401002),\n",
       "              ('E', 0.06265664160401002),\n",
       "              ('F', 0.03007518796992481),\n",
       "              ('G', 0.07769423558897243),\n",
       "              ('H', 0.015037593984962405),\n",
       "              ('I', 0.047619047619047616),\n",
       "              ('K', 0.06265664160401002),\n",
       "              ('L', 0.08771929824561403),\n",
       "              ('M', 0.03007518796992481),\n",
       "              ('N', 0.045112781954887216),\n",
       "              ('P', 0.06766917293233082),\n",
       "              ('Q', 0.03007518796992481),\n",
       "              ('R', 0.06265664160401002),\n",
       "              ('S', 0.08521303258145363),\n",
       "              ('T', 0.05764411027568922),\n",
       "              ('V', 0.06265664160401002),\n",
       "              ('W', 0.02506265664160401),\n",
       "              ('X', 0),\n",
       "              ('Y', 0.015037593984962405)]))"
      ]
     },
     "execution_count": 60,
     "metadata": {},
     "output_type": "execute_result"
    }
   ],
   "source": [
    "m_dict[-40],m_dict[-41]"
   ]
  },
  {
   "cell_type": "markdown",
   "metadata": {},
   "source": [
    "# 7-gram model motif builder"
   ]
  },
  {
   "cell_type": "code",
   "execution_count": 61,
   "metadata": {},
   "outputs": [],
   "source": [
    "motif_builder = {k:v for k,v in mydict_prob.items() if len(v)>1}"
   ]
  },
  {
   "cell_type": "code",
   "execution_count": 65,
   "metadata": {},
   "outputs": [],
   "source": [
    "all_motifs = sorted([k+k1 for k,v in motif_builder.items() for k1 in v.keys()])"
   ]
  },
  {
   "cell_type": "code",
   "execution_count": 66,
   "metadata": {},
   "outputs": [
    {
     "data": {
      "text/plain": [
       "976"
      ]
     },
     "execution_count": 66,
     "metadata": {},
     "output_type": "execute_result"
    }
   ],
   "source": [
    "len(all_motifs)"
   ]
  },
  {
   "cell_type": "code",
   "execution_count": 67,
   "metadata": {},
   "outputs": [],
   "source": [
    "X_motif = []\n",
    "for mydict in individual_6_motifs:\n",
    "    ind_vector = np.zeros(len(all_motifs))\n",
    "    ind_set = set([k+k1 for k,v in mydict.items() for k1 in v.keys()])\n",
    "    for i in range(len(all_motifs)):\n",
    "        if all_motifs[i] in ind_set:\n",
    "            ind_vector[i] = 1\n",
    "    X_motif.append(ind_vector)"
   ]
  },
  {
   "cell_type": "code",
   "execution_count": 68,
   "metadata": {},
   "outputs": [],
   "source": [
    "X_motif = np.array(X_motif)"
   ]
  },
  {
   "cell_type": "code",
   "execution_count": 69,
   "metadata": {},
   "outputs": [
    {
     "data": {
      "text/plain": [
       "(106, 976)"
      ]
     },
     "execution_count": 69,
     "metadata": {},
     "output_type": "execute_result"
    }
   ],
   "source": [
    "X_motif.shape"
   ]
  },
  {
   "cell_type": "code",
   "execution_count": 70,
   "metadata": {},
   "outputs": [
    {
     "data": {
      "text/plain": [
       "<matplotlib.legend.Legend at 0x1a23215b10>"
      ]
     },
     "execution_count": 70,
     "metadata": {},
     "output_type": "execute_result"
    },
    {
     "data": {
      "image/png": "[encoded data removed]",
      "text/plain": [
       "<Figure size 432x288 with 1 Axes>"
      ]
     },
     "metadata": {
      "needs_background": "light"
     },
     "output_type": "display_data"
    }
   ],
   "source": [
    "X_pca_motif = pca(X_motif,2)\n",
    "\n",
    "fig = plt.figure()\n",
    "ax = fig.add_subplot(111)\n",
    "\n",
    "group = parsed_df.Class.values\n",
    "cdict = {1:'red',2:'blue',3:'green'}\n",
    "\n",
    "plt.scatter(X_pca_motif[:,0],X_pca_motif[:,1])\n",
    "\n",
    "for g in np.unique(group):\n",
    "    ix = np.where(group == g)\n",
    "    ax.scatter(X_pca_motif[:,0][ix], X_pca_motif[:,1][ix], c = cdict[g], label = g, s = 40)\n",
    "ax.legend()"
   ]
  },
  {
   "cell_type": "code",
   "execution_count": 71,
   "metadata": {},
   "outputs": [
    {
     "data": {
      "text/plain": [
       "(array([ 75, 654, 656, 943]),)"
      ]
     },
     "execution_count": 71,
     "metadata": {},
     "output_type": "execute_result"
    }
   ],
   "source": [
    "np.nonzero(X_motif[27] - X_motif[73])"
   ]
  },
  {
   "cell_type": "code",
   "execution_count": 72,
   "metadata": {},
   "outputs": [],
   "source": [
    "diff_val = [len(np.nonzero(X_motif[i]-X_motif[j])[0]) for i in range(27,73) for j in range(27,73)]"
   ]
  },
  {
   "cell_type": "code",
   "execution_count": 73,
   "metadata": {},
   "outputs": [
    {
     "data": {
      "image/png": "[encoded data removed]",
      "text/plain": [
       "<Figure size 432x288 with 1 Axes>"
      ]
     },
     "metadata": {
      "needs_background": "light"
     },
     "output_type": "display_data"
    }
   ],
   "source": [
    "plt.hist(diff_val);"
   ]
  },
  {
   "cell_type": "code",
   "execution_count": 74,
   "metadata": {},
   "outputs": [
    {
     "data": {
      "text/plain": [
       "20.943289224952743"
      ]
     },
     "execution_count": 74,
     "metadata": {},
     "output_type": "execute_result"
    }
   ],
   "source": [
    "np.mean(diff_val)"
   ]
  },
  {
   "cell_type": "code",
   "execution_count": 75,
   "metadata": {},
   "outputs": [
    {
     "data": {
      "text/plain": [
       "(106, 976)"
      ]
     },
     "execution_count": 75,
     "metadata": {},
     "output_type": "execute_result"
    }
   ],
   "source": [
    "X_motif.shape"
   ]
  },
  {
   "cell_type": "markdown",
   "metadata": {},
   "source": [
    "# SVM model"
   ]
  },
  {
   "cell_type": "code",
   "execution_count": 76,
   "metadata": {},
   "outputs": [],
   "source": [
    "def get_classifier_score(X_arr,y_arr,c,k):\n",
    "    X_train,X_test,y_train,y_test = train_test_split(X_arr,y_arr)\n",
    "    pca = PCA(n_components=60)\n",
    "    pca.fit(X_train)\n",
    "    Xtrain = pca.transform(X_train)\n",
    "    Xtest = pca.transform(X_test)\n",
    "    clf = SVC(C = c,kernel=k,gamma='scale',tol=1e-6,class_weight='balanced')\n",
    "    clf.fit(Xtrain,y_train)\n",
    "    y_pred_train = clf.predict(Xtrain)\n",
    "    y_pred_test = clf.predict(Xtest)\n",
    "    return accuracy_score(y_train,y_pred_train),accuracy_score(y_test,y_pred_test)"
   ]
  },
  {
   "cell_type": "code",
   "execution_count": 86,
   "metadata": {},
   "outputs": [],
   "source": [
    "scores = []\n",
    "\n",
    "for i in range(10000):\n",
    "    f1_sc = get_classifier_score(X_motif,parsed_df.Class.values,1.25,'rbf')\n",
    "    scores.append(f1_sc)"
   ]
  },
  {
   "cell_type": "code",
   "execution_count": 87,
   "metadata": {},
   "outputs": [
    {
     "data": {
      "image/png": "[encoded data removed]",
      "text/plain": [
       "<Figure size 432x288 with 1 Axes>"
      ]
     },
     "metadata": {
      "needs_background": "light"
     },
     "output_type": "display_data"
    }
   ],
   "source": [
    "plt.hist([s[0] for s in scores]);"
   ]
  },
  {
   "cell_type": "code",
   "execution_count": 88,
   "metadata": {},
   "outputs": [
    {
     "data": {
      "image/png": "[encoded data removed]",
      "text/plain": [
       "<Figure size 432x288 with 1 Axes>"
      ]
     },
     "metadata": {
      "needs_background": "light"
     },
     "output_type": "display_data"
    }
   ],
   "source": [
    "plt.hist([s[1] for s in scores]);"
   ]
  }
 ],
 "metadata": {
  "kernelspec": {
   "display_name": "Python 3",
   "language": "python",
   "name": "python3"
  },
  "language_info": {
   "codemirror_mode": {
    "name": "ipython",
    "version": 3
   },
   "file_extension": ".py",
   "mimetype": "text/x-python",
   "name": "python",
   "nbconvert_exporter": "python",
   "pygments_lexer": "ipython3",
   "version": "3.7.4"
  }
 },
 "nbformat": 4,
 "nbformat_minor": 2
}
