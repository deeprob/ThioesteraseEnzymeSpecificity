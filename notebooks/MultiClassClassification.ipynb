{
 "cells": [
  {
   "cell_type": "code",
   "execution_count": 1,
   "metadata": {},
   "outputs": [],
   "source": [
    "# modules\n",
    "import os\n",
    "import sys\n",
    "import numpy as np\n",
    "import pandas as pd\n",
    "import multiprocessing as mp\n",
    "from sklearn.metrics import precision_score\n",
    "from sklearn.model_selection import train_test_split\n",
    "\n",
    "sys.path.append('../')\n",
    "from baseModels.SVM.model import SVM\n",
    "from ensemble.model import Ensemble"
   ]
  },
  {
   "cell_type": "code",
   "execution_count": 2,
   "metadata": {},
   "outputs": [],
   "source": [
    "class TEClassification:\n",
    "    \n",
    "    def __init__(self,enzseqdata,labelfile,featurefiledirs,random_seed=None):\n",
    "        \n",
    "        self.random_seed = random_seed\n",
    "        \n",
    "        # original data based on which everything is obtained\n",
    "        df1 = pd.read_csv(enzseqdata,header=None)\n",
    "        df2 = pd.read_csv(label_file,header=None)\n",
    "        self.df = df1.merge(df2,on=0)\n",
    "        \n",
    "        self.enz_names = self.df[0].values\n",
    "        self.X = self.df.iloc[:,1].values\n",
    "        self.y = self.df.iloc[:,-1].values\n",
    "        \n",
    "        # training and testing data for general use\n",
    "        self.X_train, self.X_test, self.y_train, self.y_test,self.enz_train,self.enz_test = train_test_split(self.X, self.y,self.enz_names, test_size=0.25, random_state=self.random_seed)\n",
    "        \n",
    "        \n",
    "        \n",
    "        self.label_file = labelfile\n",
    "        \n",
    "        #generate a list of names from the directories\n",
    "        featfiles = [d+f.name for d in featurefiledirs for f in os.scandir(d) if f.name.endswith('.csv.gz')]\n",
    "        self.featnames = [f.name.replace('.csv.gz','') for d in featurefiledirs for f in os.scandir(d) if f.name.endswith('.csv.gz')]\n",
    "        \n",
    "        # getting all SVM objects together \n",
    "        self.objects = list(map(self.get_model_feat,featfiles))\n",
    "\n",
    "        \n",
    "        # select only the best models based on training\n",
    "        self.best_idx,self.best_models = self.select_top_models(self.objects)\n",
    "        self.best_model_names = np.array(self.featnames)[self.best_idx]\n",
    "        \n",
    "        # getting all model predictions together\n",
    "        self.all_model_preds = [svmo.ypredtest for svmo in self.best_models]\n",
    "        self.en = Ensemble(self.all_model_preds,self.y_test)\n",
    "        self.precision = precision_score(self.y_test,self.en.preds,labels=[3],average='micro')\n",
    "        \n",
    "        pass\n",
    "    \n",
    "    \n",
    "    def get_model_feat(self,featfilename):\n",
    "        df1 = pd.read_csv(featfilename,header=None)\n",
    "        df2 = pd.read_csv(self.label_file,header=None)\n",
    "        df_feat = df1.merge(df2,on=0).set_index(0)\n",
    "        df_feat_train = df_feat.loc[self.enz_train]\n",
    "        df_feat_test = df_feat.loc[self.enz_test]\n",
    "        X_train_feat,y_train_feat = df_feat_train.iloc[:,0:-1].values,df_feat_train.iloc[:,-1].values\n",
    "        X_test_feat,y_test_feat = df_feat_test.iloc[:,0:-1].values,df_feat_test.iloc[:,-1].values\n",
    "\n",
    "        if X_train_feat.shape[1]<40:\n",
    "            n_comp = int(0.75*X_train_feat.shape[1])\n",
    "        else:\n",
    "            n_comp=40\n",
    "            \n",
    "        obj = SVM(X_train_feat,X_test_feat,y_train_feat,y_test_feat,verbose=False,optimize=False, pca_comp=n_comp,random_seed=self.random_seed,regC=30,kern='rbf')\n",
    "        return obj\n",
    "        \n",
    "    def select_top_models(self,SVMOs):\n",
    "        svm_train_accs = [svmo.acc_train for svmo in SVMOs]\n",
    "        sorted_idx = np.argsort(svm_train_accs)[::-1]\n",
    "        best_idx = sorted_idx[:27]\n",
    "        return best_idx,np.array(SVMOs)[best_idx]\n",
    "        "
   ]
  },
  {
   "cell_type": "code",
   "execution_count": 3,
   "metadata": {},
   "outputs": [
    {
     "name": "stdout",
     "output_type": "stream",
     "text": [
      "CPU times: user 13.2 s, sys: 1.5 s, total: 14.7 s\n",
      "Wall time: 31.5 s\n"
     ]
    }
   ],
   "source": [
    "%%time\n",
    "if __name__=='__main__':\n",
    "    # Sequence and label files \n",
    "    enz_file = '../data/SeqFile/EnzymeSequence.csv'\n",
    "    label_file = '../data/LabelFiles/EnzymeLabelsMultiClass.csv'\n",
    "\n",
    "    # Feature dir for iFeature,kernel,pssm \n",
    "    ifeatdatadir = '../featEngg/ifeatMethods/data/featvec/'\n",
    "    kerneldatadir = '../featEngg/kernelMethods/data/featvec/'\n",
    "    pssmdatadir = '../featEngg/pssmMethods/data/featvec/'\n",
    "    featdirs = [ifeatdatadir,kerneldatadir,pssmdatadir]\n",
    "\n",
    "\n",
    "    te = TEClassification(enz_file,label_file,featdirs,random_seed=7)\n",
    "    \n",
    "    def multi_func(rs):\n",
    "        te_i = TEClassification(enz_file,label_file,featdirs,random_seed=rs)\n",
    "        return te_i.precision,te_i.en.acc    \n",
    "    \n",
    "    pool = mp.Pool(mp.cpu_count())\n",
    "\n",
    "    \n",
    "    \n",
    "    \n",
    "    metrics = list(pool.map(multi_func,range(10)))\n",
    "    \n"
   ]
  },
  {
   "cell_type": "code",
   "execution_count": 4,
   "metadata": {},
   "outputs": [
    {
     "data": {
      "text/plain": [
       "0.7586206896551724"
      ]
     },
     "execution_count": 4,
     "metadata": {},
     "output_type": "execute_result"
    }
   ],
   "source": [
    "te.en.acc"
   ]
  },
  {
   "cell_type": "code",
   "execution_count": 5,
   "metadata": {},
   "outputs": [
    {
     "data": {
      "text/plain": [
       "0.75"
      ]
     },
     "execution_count": 5,
     "metadata": {},
     "output_type": "execute_result"
    }
   ],
   "source": [
    "te.precision"
   ]
  },
  {
   "cell_type": "code",
   "execution_count": 6,
   "metadata": {},
   "outputs": [
    {
     "data": {
      "text/plain": [
       "45"
      ]
     },
     "execution_count": 6,
     "metadata": {},
     "output_type": "execute_result"
    }
   ],
   "source": [
    "len(te.featnames)"
   ]
  },
  {
   "cell_type": "code",
   "execution_count": 7,
   "metadata": {},
   "outputs": [],
   "source": [
    "prec = [metr[0] for metr in metrics]\n",
    "accs = [metr[1] for metr in metrics]"
   ]
  },
  {
   "cell_type": "code",
   "execution_count": 8,
   "metadata": {},
   "outputs": [
    {
     "name": "stdout",
     "output_type": "stream",
     "text": [
      "0.6363636363636364 0.8141481067951656 0.9285714285714286 0.0732870337151135\n"
     ]
    }
   ],
   "source": [
    "print(min(prec),np.mean(prec),max(prec),np.std(prec))"
   ]
  },
  {
   "cell_type": "code",
   "execution_count": 9,
   "metadata": {},
   "outputs": [
    {
     "name": "stdout",
     "output_type": "stream",
     "text": [
      "0.6551724137931034 0.7620689655172412 0.8620689655172413 0.06254605912833466\n"
     ]
    }
   ],
   "source": [
    "print(min(accs),np.mean(accs),max(accs),np.std(accs))"
   ]
  },
  {
   "cell_type": "code",
   "execution_count": 10,
   "metadata": {},
   "outputs": [],
   "source": [
    "import matplotlib.pyplot as plt\n",
    "%matplotlib inline"
   ]
  },
  {
   "cell_type": "code",
   "execution_count": 11,
   "metadata": {},
   "outputs": [
    {
     "data": {
      "text/plain": [
       "(array([1., 0., 0., 1., 0., 1., 4., 2., 0., 1.]),\n",
       " array([0.63636364, 0.66558442, 0.69480519, 0.72402597, 0.75324675,\n",
       "        0.78246753, 0.81168831, 0.84090909, 0.87012987, 0.89935065,\n",
       "        0.92857143]),\n",
       " <BarContainer object of 10 artists>)"
      ]
     },
     "execution_count": 11,
     "metadata": {},
     "output_type": "execute_result"
    },
    {
     "data": {
      "image/png": "[encoded data removed]",
      "text/plain": [
       "<Figure size 432x288 with 1 Axes>"
      ]
     },
     "metadata": {
      "needs_background": "light"
     },
     "output_type": "display_data"
    }
   ],
   "source": [
    "plt.hist(prec)"
   ]
  },
  {
   "cell_type": "code",
   "execution_count": 12,
   "metadata": {},
   "outputs": [
    {
     "data": {
      "text/plain": [
       "(array([1., 1., 0., 2., 0., 2., 1., 0., 2., 1.]),\n",
       " array([0.65517241, 0.67586207, 0.69655172, 0.71724138, 0.73793103,\n",
       "        0.75862069, 0.77931034, 0.8       , 0.82068966, 0.84137931,\n",
       "        0.86206897]),\n",
       " <BarContainer object of 10 artists>)"
      ]
     },
     "execution_count": 12,
     "metadata": {},
     "output_type": "execute_result"
    },
    {
     "data": {
      "image/png": "[encoded data removed]",
      "text/plain": [
       "<Figure size 432x288 with 1 Axes>"
      ]
     },
     "metadata": {
      "needs_background": "light"
     },
     "output_type": "display_data"
    }
   ],
   "source": [
    "plt.hist(accs)"
   ]
  },
  {
   "cell_type": "code",
   "execution_count": null,
   "metadata": {},
   "outputs": [],
   "source": []
  }
 ],
 "metadata": {
  "kernelspec": {
   "display_name": "Python 3",
   "language": "python",
   "name": "python3"
  },
  "language_info": {
   "codemirror_mode": {
    "name": "ipython",
    "version": 3
   },
   "file_extension": ".py",
   "mimetype": "text/x-python",
   "name": "python",
   "nbconvert_exporter": "python",
   "pygments_lexer": "ipython3",
   "version": "3.7.9"
  }
 },
 "nbformat": 4,
 "nbformat_minor": 4
}
