{
 "cells": [
  {
   "cell_type": "code",
   "execution_count": 1,
   "id": "criminal-carolina",
   "metadata": {
    "scrolled": true
   },
   "outputs": [
    {
     "name": "stderr",
     "output_type": "stream",
     "text": [
      "Loading required package: Biostrings\n",
      "\n",
      "Loading required package: BiocGenerics\n",
      "\n",
      "Loading required package: parallel\n",
      "\n",
      "\n",
      "Attaching package: 'BiocGenerics'\n",
      "\n",
      "\n",
      "The following objects are masked from 'package:parallel':\n",
      "\n",
      "    clusterApply, clusterApplyLB, clusterCall, clusterEvalQ,\n",
      "    clusterExport, clusterMap, parApply, parCapply, parLapply,\n",
      "    parLapplyLB, parRapply, parSapply, parSapplyLB\n",
      "\n",
      "\n",
      "The following objects are masked from 'package:stats':\n",
      "\n",
      "    IQR, mad, sd, var, xtabs\n",
      "\n",
      "\n",
      "The following objects are masked from 'package:base':\n",
      "\n",
      "    Filter, Find, Map, Position, Reduce, anyDuplicated, append,\n",
      "    as.data.frame, basename, cbind, colnames, dirname, do.call,\n",
      "    duplicated, eval, evalq, get, grep, grepl, intersect, is.unsorted,\n",
      "    lapply, mapply, match, mget, order, paste, pmax, pmax.int, pmin,\n",
      "    pmin.int, rank, rbind, rownames, sapply, setdiff, sort, table,\n",
      "    tapply, union, unique, unsplit, which.max, which.min\n",
      "\n",
      "\n",
      "Loading required package: S4Vectors\n",
      "\n",
      "Loading required package: stats4\n",
      "\n",
      "\n",
      "Attaching package: 'S4Vectors'\n",
      "\n",
      "\n",
      "The following object is masked from 'package:base':\n",
      "\n",
      "    expand.grid\n",
      "\n",
      "\n",
      "Loading required package: IRanges\n",
      "\n",
      "Loading required package: XVector\n",
      "\n",
      "\n",
      "Attaching package: 'Biostrings'\n",
      "\n",
      "\n",
      "The following object is masked from 'package:base':\n",
      "\n",
      "    strsplit\n",
      "\n",
      "\n",
      "Loading required package: kernlab\n",
      "\n",
      "\n",
      "Attaching package: 'kernlab'\n",
      "\n",
      "\n",
      "The following object is masked from 'package:Biostrings':\n",
      "\n",
      "    type\n",
      "\n",
      "\n",
      "The following object is masked from 'package:BiocGenerics':\n",
      "\n",
      "    type\n",
      "\n",
      "\n"
     ]
    }
   ],
   "source": [
    "library(kebabs)"
   ]
  },
  {
   "cell_type": "markdown",
   "id": "periodic-landscape",
   "metadata": {},
   "source": [
    "# Load Dataset"
   ]
  },
  {
   "cell_type": "code",
   "execution_count": 2,
   "id": "complicated-palmer",
   "metadata": {},
   "outputs": [],
   "source": [
    "aa = readAAStringSet('../../../data/SeqFile/EnzymeFasta.fa')"
   ]
  },
  {
   "cell_type": "markdown",
   "id": "immediate-senate",
   "metadata": {},
   "source": [
    "# Spectrum Kernel"
   ]
  },
  {
   "cell_type": "code",
   "execution_count": 3,
   "id": "lesbian-impression",
   "metadata": {},
   "outputs": [],
   "source": [
    "specK7 = spectrumKernel(k=7,normalized=TRUE)"
   ]
  },
  {
   "cell_type": "code",
   "execution_count": 4,
   "id": "electoral-holly",
   "metadata": {},
   "outputs": [],
   "source": [
    "specFeat = getExRep(aa,kernel=specK7,sparse=FALSE)"
   ]
  },
  {
   "cell_type": "code",
   "execution_count": 5,
   "id": "functioning-tunnel",
   "metadata": {},
   "outputs": [],
   "source": [
    "write.csv(specFeat,file=gzfile('../data/featvec/spectrumKernel.csv.gz'))"
   ]
  },
  {
   "cell_type": "markdown",
   "id": "eastern-literature",
   "metadata": {},
   "source": [
    "# Mismatch Kernel"
   ]
  },
  {
   "cell_type": "code",
   "execution_count": 6,
   "id": "blond-crest",
   "metadata": {},
   "outputs": [],
   "source": [
    "mismK3M1 = mismatchKernel(k=3,m=1,normalized=TRUE)"
   ]
  },
  {
   "cell_type": "code",
   "execution_count": 7,
   "id": "excess-charm",
   "metadata": {},
   "outputs": [],
   "source": [
    "mismFeat = getExRep(aa,kernel=mismK3M1,sparse=FALSE)"
   ]
  },
  {
   "cell_type": "code",
   "execution_count": 8,
   "id": "narrow-safety",
   "metadata": {},
   "outputs": [],
   "source": [
    "write.csv(mismFeat,file=gzfile('../data/featvec/mismatchKernel.csv.gz'))"
   ]
  },
  {
   "cell_type": "markdown",
   "id": "advanced-qatar",
   "metadata": {},
   "source": [
    "# Gappy Pair Kernel"
   ]
  },
  {
   "cell_type": "code",
   "execution_count": 9,
   "id": "organic-developer",
   "metadata": {},
   "outputs": [],
   "source": [
    "gappyK1M2 = gappyPairKernel(k=3,m=2,normalized=TRUE)"
   ]
  },
  {
   "cell_type": "code",
   "execution_count": 10,
   "id": "controlled-google",
   "metadata": {},
   "outputs": [],
   "source": [
    "gappyFeat=getExRep(aa,kernel=gappyK1M2,sparse=FALSE)"
   ]
  },
  {
   "cell_type": "code",
   "execution_count": 11,
   "id": "beneficial-selection",
   "metadata": {},
   "outputs": [],
   "source": [
    "write.csv(gappyFeat,file=gzfile('../data/featvec/gappyKernel.csv.gz'))"
   ]
  }
 ],
 "metadata": {
  "kernelspec": {
   "display_name": "R",
   "language": "R",
   "name": "ir"
  },
  "language_info": {
   "codemirror_mode": "r",
   "file_extension": ".r",
   "mimetype": "text/x-r-source",
   "name": "R",
   "pygments_lexer": "r",
   "version": "4.0.3"
  }
 },
 "nbformat": 4,
 "nbformat_minor": 5
}
