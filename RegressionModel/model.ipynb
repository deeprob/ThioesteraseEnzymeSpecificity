{
 "cells": [
  {
   "cell_type": "code",
   "execution_count": 1,
   "metadata": {},
   "outputs": [],
   "source": [
    "import sys\n",
    "import pickle\n",
    "import numpy as np\n",
    "\n",
    "sys.path.append('../')\n",
    "\n",
    "import helper\n",
    "from FeatEngg import ngramEnc,ctdEnc,gaacEnc\n",
    "from mySVM.model import SVMRegressor\n"
   ]
  },
  {
   "cell_type": "code",
   "execution_count": 2,
   "metadata": {},
   "outputs": [],
   "source": [
    "class Model:\n",
    "    def __init__(self,enzs,X,y,tr_idx,te_idx,pca_components=40,regCparam=1,\n",
    "                 kernparam='linear',random_seed=None,optimizeQ=False,verboseQ=False):\n",
    "    \n",
    "        self.ytrain,self.ytest = y[tr_idx],y[te_idx]\n",
    "        self.pca_components=pca_components\n",
    "        self.optimizeQ=optimizeQ\n",
    "        self.verboseQ=verboseQ\n",
    "        self.rs=random_seed        \n",
    "        self.regCparam=regCparam\n",
    "        self.kernparam=kernparam\n",
    "\n",
    "            \n",
    "    def get_SVM(self):\n",
    "        return SVMRegressor(self.Xtrain,self.Xtest,self.ytrain,self.ytest,\n",
    "                            pca_comp=self.pca_components,regC=self.regCparam,\n",
    "                            kern=self.kernparam,optimize=self.optimizeQ,\n",
    "                            verbose=self.verboseQ,random_seed=self.rs)\n",
    "\n",
    "    \n",
    "class GAARegressor(Model):\n",
    "    \n",
    "    def __init__(self,enzs,X,y,tr_idx,te_idx,k=7,s=1,pca_components=40,regCparam=20,kernparam='rbf',\n",
    "                 inc_count=False,optimizeQ=False,verboseQ=False,random_seed=None):\n",
    "\n",
    "        self.gc = gaacEnc.GAAC()\n",
    "        X_gaac = self.gc.transform(X)\n",
    "        self.Xtrain_raw,self.ytrain,self.Xtest_raw,self.ytest = X_gaac[tr_idx],y[tr_idx],X_gaac[te_idx],y[te_idx]\n",
    "        self.ng = ngramEnc.Ngram(self.Xtrain_raw,k,s,inc_count)\n",
    "        self.ng.fit()\n",
    "        self.Xtrain,self.Xtest = self.ng.transform(self.Xtrain_raw),self.ng.transform(self.Xtest_raw)\n",
    "\n",
    "        super().__init__(enzs,X,y,tr_idx,te_idx,pca_components,regCparam,\n",
    "                 kernparam,random_seed,optimizeQ,verboseQ)\n",
    "        \n",
    "        self.SVMobject = self.get_SVM()\n",
    "        self.model = self.SVMobject.model\n"
   ]
  },
  {
   "cell_type": "code",
   "execution_count": 3,
   "metadata": {},
   "outputs": [],
   "source": [
    "enz_datafile = '../Data/AlignedRegressionData.txt'\n",
    "\n",
    "X,y,enz_name = helper.parseEnzymeFileRegression(enz_datafile)"
   ]
  },
  {
   "cell_type": "code",
   "execution_count": 30,
   "metadata": {},
   "outputs": [],
   "source": [
    "np.random.seed(8268)"
   ]
  },
  {
   "cell_type": "code",
   "execution_count": 31,
   "metadata": {},
   "outputs": [],
   "source": [
    "teidx,tridx = helper.modified_split(enz_name)"
   ]
  },
  {
   "cell_type": "code",
   "execution_count": 32,
   "metadata": {},
   "outputs": [
    {
     "name": "stdout",
     "output_type": "stream",
     "text": [
      "[ 68  39  96  48  10  56 108  44 100 109 107  31  82  97  85  14  76  33\n",
      "  25 110  53  29  67  13   2  91]\n"
     ]
    }
   ],
   "source": [
    "print(teidx)"
   ]
  },
  {
   "cell_type": "code",
   "execution_count": 33,
   "metadata": {},
   "outputs": [],
   "source": [
    "X = np.array(list(map(list,X)))"
   ]
  },
  {
   "cell_type": "code",
   "execution_count": 34,
   "metadata": {},
   "outputs": [],
   "source": [
    "grmodel = GAARegressor(enz_name,X[:,140:505],y,tridx,teidx,inc_count=False)"
   ]
  },
  {
   "cell_type": "code",
   "execution_count": 35,
   "metadata": {},
   "outputs": [
    {
     "data": {
      "text/plain": [
       "0.10675508882773727"
      ]
     },
     "execution_count": 35,
     "metadata": {},
     "output_type": "execute_result"
    }
   ],
   "source": [
    "grmodel.SVMobject.error_test"
   ]
  },
  {
   "cell_type": "code",
   "execution_count": 36,
   "metadata": {},
   "outputs": [
    {
     "data": {
      "text/plain": [
       "array([0.12091589, 0.41867087, 0.46829393, 0.83467546, 0.20395744,\n",
       "       0.61716056, 0.07288726, 0.52054993, 0.60702109, 0.2211218 ,\n",
       "       0.21569261, 0.5687296 , 0.17071486, 0.49493692, 0.03951793,\n",
       "       0.09309442, 0.15742233, 0.22064054, 0.02288095, 0.22157226,\n",
       "       0.40475015, 0.23758283, 0.19932632, 0.54749641, 0.14245489,\n",
       "       0.42088745])"
      ]
     },
     "execution_count": 36,
     "metadata": {},
     "output_type": "execute_result"
    }
   ],
   "source": [
    "grmodel.SVMobject.ypredtest"
   ]
  },
  {
   "cell_type": "code",
   "execution_count": 38,
   "metadata": {},
   "outputs": [
    {
     "name": "stdout",
     "output_type": "stream",
     "text": [
      "68 Cuphea_viscosisssima_(CvB2MT7 0.06699999999999999 0.12091588614777621\n",
      "39 Cuphea_viscosisssima_(CvB2MT22 0.6 0.4186708657029997\n",
      "96 rTE40 0.308 0.46829392968442396\n",
      "48 Cuphea_viscosisssima_(CvB2MT30 0.7989999999999999 0.8346754648069237\n",
      "10 Cocos_nucifera_(CnFatB3) 0.52 0.2039574410819976\n",
      "56 Cuphea_viscosisssima_(CvB2MT38 0.5080000000000001 0.6171605615926092\n",
      "108 Ulmus_americana 0.81 0.07288725986984992\n",
      "44 Cuphea_viscosisssima_(CvB2MT27 0.6829999999999999 0.5205499303666483\n",
      "100 rTE52 0.6809999999999999 0.6070210912594323\n",
      "109 Umbellularia_californica_(UcFatB1) 0.8271455115292411 0.22112180030028505\n",
      "107 UcFatB1(T231K) 0.8271455115292411 0.21569261465919348\n",
      "31 Cuphea_viscosisssima_(CvB2MT15 0.602 0.5687296023036945\n",
      "82 Micromonas_pusilla 0.04 0.17071486473022562\n",
      "97 rTE44 0.109 0.49493692132227973\n",
      "85 Ricinus_communis 0.001 0.039517933217163126\n",
      "14 Cuphea_decandra_(Cd1FatB1) 0.007917656373713382 0.09309441505557811\n",
      "76 Helianthus_Annuus_(HaFatA1) 0.0 0.1574223273489465\n",
      "33 Cuphea_viscosisssima_(CvB2MT17) 0.6530000000000001 0.22064054257188914\n",
      "25 Cuphea_viscosisssima_(CvB2MT1 0.34600000000000003 0.022880947523760464\n",
      "110 Umbellularia_californica_(UcFatB2) 0.8013725490196079 0.22157226361528254\n",
      "53 Cuphea_viscosisssima_(CvB2MT35 0.539 0.4047501484787015\n",
      "29 Cuphea_viscosisssima_(CvB2MT13 0.179 0.23758283269176944\n",
      "67 Cuphea_viscosisssima_(CvB2MT6) 0.75 0.19932631974243903\n",
      "13 Cuphea_avigera_(Ca2FatB2) 0.4727272727272728 0.5474964084907112\n",
      "2 Auxenochlorella_protothecoides 0.012846465085789722 0.14245489000280945\n",
      "91 rTE28 0.09 0.4208874513876501\n"
     ]
    }
   ],
   "source": [
    "for i,j,k,l in zip(teidx,enz_name[teidx],y[teidx],grmodel.SVMobject.ypredtest):\n",
    "    print(i,j,k,l)"
   ]
  },
  {
   "cell_type": "code",
   "execution_count": 23,
   "metadata": {},
   "outputs": [],
   "source": [
    "def multiprocess_func(randomseed):\n",
    "    np.random.seed(randomseed)\n",
    "    test_idx_i,train_idx_i = helper.modified_split(enz_name)\n",
    "    grmodel = GAARegressor(enz_name,X[:,140:505],y,train_idx_i,test_idx_i,inc_count=False)\n",
    "    return grmodel.SVMobject.error_test\n",
    "    \n",
    "    \n"
   ]
  },
  {
   "cell_type": "code",
   "execution_count": 24,
   "metadata": {},
   "outputs": [
    {
     "name": "stdout",
     "output_type": "stream",
     "text": [
      "20\n"
     ]
    }
   ],
   "source": [
    "import multiprocessing as mp\n",
    "print(mp.cpu_count())\n",
    "pool = mp.Pool(mp.cpu_count())"
   ]
  },
  {
   "cell_type": "code",
   "execution_count": 25,
   "metadata": {},
   "outputs": [
    {
     "name": "stdout",
     "output_type": "stream",
     "text": [
      "CPU times: user 85 ms, sys: 16 ms, total: 101 ms\n",
      "Wall time: 1min 5s\n"
     ]
    }
   ],
   "source": [
    "%%time\n",
    "mses = list(pool.map(multiprocess_func,[i for i in range(10000)]))"
   ]
  },
  {
   "cell_type": "code",
   "execution_count": 26,
   "metadata": {},
   "outputs": [],
   "source": [
    "import matplotlib.pyplot as plt\n",
    "%matplotlib inline"
   ]
  },
  {
   "cell_type": "code",
   "execution_count": 27,
   "metadata": {},
   "outputs": [
    {
     "data": {
      "text/plain": [
       "<matplotlib.legend.Legend at 0x2b6dacbe7f28>"
      ]
     },
     "execution_count": 27,
     "metadata": {},
     "output_type": "execute_result"
    },
    {
     "data": {
      "image/png": "[encoded data removed]",
      "text/plain": [
       "<Figure size 432x288 with 1 Axes>"
      ]
     },
     "metadata": {
      "needs_background": "light"
     },
     "output_type": "display_data"
    }
   ],
   "source": [
    "plt.plot(range(len(mses)),mses)\n",
    "plt.xlabel('Random-Seed ----->')\n",
    "plt.ylabel('MSEs')\n",
    "plt.legend(['MSE'])\n"
   ]
  },
  {
   "cell_type": "code",
   "execution_count": 28,
   "metadata": {},
   "outputs": [
    {
     "data": {
      "text/plain": [
       "(0.034801507218840344,\n",
       " 0.012725203052354023,\n",
       " 0.007250534277650756,\n",
       " 0.10675508750139845)"
      ]
     },
     "execution_count": 28,
     "metadata": {},
     "output_type": "execute_result"
    }
   ],
   "source": [
    "np.mean(mses),np.std(mses),min(mses),max(mses)"
   ]
  },
  {
   "cell_type": "code",
   "execution_count": 29,
   "metadata": {},
   "outputs": [
    {
     "data": {
      "text/plain": [
       "8268"
      ]
     },
     "execution_count": 29,
     "metadata": {},
     "output_type": "execute_result"
    }
   ],
   "source": [
    "np.argmax(mses)"
   ]
  },
  {
   "cell_type": "code",
   "execution_count": null,
   "metadata": {},
   "outputs": [],
   "source": []
  }
 ],
 "metadata": {
  "kernelspec": {
   "display_name": "Python 3",
   "language": "python",
   "name": "python3"
  },
  "language_info": {
   "codemirror_mode": {
    "name": "ipython",
    "version": 3
   },
   "file_extension": ".py",
   "mimetype": "text/x-python",
   "name": "python",
   "nbconvert_exporter": "python",
   "pygments_lexer": "ipython3",
   "version": "3.6.7"
  }
 },
 "nbformat": 4,
 "nbformat_minor": 4
}
