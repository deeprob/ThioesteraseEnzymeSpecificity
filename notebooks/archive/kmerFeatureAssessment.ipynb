{
 "cells": [
  {
   "cell_type": "code",
   "execution_count": 1,
   "metadata": {},
   "outputs": [],
   "source": [
    "import os\n",
    "import pandas as pd\n",
    "from sklearn.model_selection import train_test_split\n",
    "import itertools \n",
    "import multiprocessing as mp\n",
    "import numpy as np\n",
    "import sys\n",
    "from sklearn.metrics import precision_score,recall_score,accuracy_score,f1_score\n",
    "\n",
    "sys.path.append('../')\n",
    "from baseModels.SVM.model import SVM\n",
    "from featEngg.online.kmerMethods.models import ngModel,gaangModel"
   ]
  },
  {
   "cell_type": "code",
   "execution_count": 2,
   "metadata": {},
   "outputs": [],
   "source": [
    "enzseqdata = '../data/seq/EnzymeSequence.csv'\n",
    "labelfile = '../data/label/EnzymeLabelsMultiClass.csv'"
   ]
  },
  {
   "cell_type": "code",
   "execution_count": 3,
   "metadata": {},
   "outputs": [],
   "source": [
    "# append model results to file\n",
    "filename_model = '../data/results/feat_results.csv'"
   ]
  },
  {
   "cell_type": "code",
   "execution_count": 4,
   "metadata": {},
   "outputs": [],
   "source": [
    "df1 = pd.read_csv(enzseqdata,header=None)\n",
    "df2 = pd.read_csv(labelfile,header=None)\n",
    "df = df1.merge(df2,on=0)\n",
    "enz_names = df[0].values\n",
    "X = df.iloc[:,1].values\n",
    "y = df.iloc[:,-1].values"
   ]
  },
  {
   "cell_type": "code",
   "execution_count": 5,
   "metadata": {},
   "outputs": [],
   "source": [
    "def get_model_online(X_train,X_valid,y_train,y_valid):\n",
    "\n",
    "    if X_train.shape[1]<55:\n",
    "        pca_components = int(0.75*X_train.shape[1])\n",
    "    else:\n",
    "        pca_components=55\n",
    "\n",
    "    obj = SVM(X_train,X_valid,y_train,y_valid,pca_comp=pca_components,verbose=False)\n",
    "    return obj\n"
   ]
  },
  {
   "cell_type": "code",
   "execution_count": 6,
   "metadata": {},
   "outputs": [],
   "source": [
    "def model_evaluate(random_seed):\n",
    "    X_train, X_valid, y_train, y_valid,enz_train,enz_valid = train_test_split(X, y,enz_names, test_size=0.25, random_state=random_seed)\n",
    "    ng_i = ngModel(X_train,X_valid)\n",
    "    gaang_i = gaangModel(X_train,X_valid)\n",
    "    ng_obj = get_model_online(ng_i.Xtrain,ng_i.Xvalid,y_train,y_valid)\n",
    "    gaang_obj = get_model_online(gaang_i.Xtrain,gaang_i.Xvalid,y_train,y_valid)\n",
    "    \n",
    "    yi = ng_obj.yvalid\n",
    "    yhati = ng_obj.ypredvalid\n",
    "    prec_ng=get_precision(yi,yhati)\n",
    "    rec_ng=get_recall(yi,yhati)\n",
    "    f1_score_ng =get_f1_score(yi,yhati)\n",
    "    acc_ng =get_accuracy(yi,yhati)\n",
    "    \n",
    "    yi = gaang_obj.yvalid\n",
    "    yhati = gaang_obj.ypredvalid\n",
    "    prec_gaang=get_precision(yi,yhati)\n",
    "    rec_gaang=get_recall(yi,yhati)\n",
    "    f1_score_gaang =get_f1_score(yi,yhati)\n",
    "    acc_gaang =get_accuracy(yi,yhati)\n",
    "    \n",
    "    return prec_ng,rec_ng,f1_score_ng,acc_ng,prec_gaang,rec_gaang,f1_score_gaang,acc_gaang"
   ]
  },
  {
   "cell_type": "code",
   "execution_count": 7,
   "metadata": {},
   "outputs": [],
   "source": [
    "def get_precision(y,yhat):\n",
    "    return round(precision_score(y,yhat,labels=[3],average='micro'),2)\n",
    "\n",
    "\n",
    "def get_recall(y,yhat):\n",
    "    return round(recall_score(y,yhat,labels=[3],average='micro'),2)\n",
    "\n",
    "\n",
    "def get_f1_score(y,yhat):\n",
    "    return round(f1_score(y,yhat,average='micro'),2)\n",
    "\n",
    "def get_accuracy(y,yhat):\n",
    "    return round(accuracy_score(y,yhat),2)\n",
    "\n",
    "def write_model_stats(model_metrics):\n",
    "    datadict = {'precision':[],'recall':[],'f1_score':[],'accuracy':[]}\n",
    "    index_names = ['k-mer','gaa-kmer']\n",
    "    \n",
    "    ng_precs = [mo[0] for mo in model_metrics]\n",
    "    ng_recalls = [mo[1] for mo in model_metrics]\n",
    "    ng_f1_scores = [mo[2] for mo in model_metrics]\n",
    "    ng_accs = [mo[3] for mo in model_metrics]\n",
    "    gaang_precs = [mo[4] for mo in model_metrics]\n",
    "    gaang_recalls = [mo[5] for mo in model_metrics]\n",
    "    gaang_f1_scores = [mo[6] for mo in model_metrics]\n",
    "    gaang_accs = [mo[7] for mo in model_metrics]\n",
    "    \n",
    "    \n",
    "        \n",
    "\n",
    "\n",
    "            \n",
    "    datadict['precision'].append(np.mean(ng_precs))\n",
    "    datadict['recall'].append(np.mean(ng_recalls))\n",
    "    datadict['f1_score'].append(np.mean(ng_f1_scores))\n",
    "    datadict['accuracy'].append(np.mean(ng_accs))\n",
    "    datadict['precision'].append(np.mean(gaang_precs))\n",
    "    datadict['recall'].append(np.mean(gaang_recalls))\n",
    "    datadict['f1_score'].append(np.mean(gaang_f1_scores))\n",
    "    datadict['accuracy'].append(np.mean(gaang_accs))\n",
    "\n",
    "    df = pd.DataFrame(datadict,index=index_names)\n",
    "    return df.to_csv(filename_model,mode='a',index=True,header=False)       \n"
   ]
  },
  {
   "cell_type": "code",
   "execution_count": 8,
   "metadata": {},
   "outputs": [
    {
     "name": "stdout",
     "output_type": "stream",
     "text": [
      "CPU times: user 164 ms, sys: 88.6 ms, total: 252 ms\n",
      "Wall time: 1min 29s\n"
     ]
    }
   ],
   "source": [
    "%%time\n",
    "pool = mp.Pool(mp.cpu_count())\n",
    "models = list(pool.map(model_evaluate,range(10000)))"
   ]
  },
  {
   "cell_type": "code",
   "execution_count": 9,
   "metadata": {},
   "outputs": [],
   "source": [
    "write_model_stats(models)"
   ]
  },
  {
   "cell_type": "markdown",
   "metadata": {},
   "source": [
    "# Previous model metric generation - no longer useful "
   ]
  },
  {
   "cell_type": "code",
   "execution_count": null,
   "metadata": {},
   "outputs": [],
   "source": [
    "def get_model_stats(accs):\n",
    "    mnames = ['NG','GAANG']\n",
    "    ngstats = [i[0] for i in accs]\n",
    "    gaangstats = [i[1] for i in accs]\n",
    "    train_ngs = [i[0] for i in ngstats]\n",
    "    test_ngs = [i[1] for i in ngstats]\n",
    "    train_gaangs = [i[0] for i in gaangstats]\n",
    "    test_gaangs = [i[1] for i in gaangstats]\n",
    "    \n",
    "    return {'NG':{'train_min':min(train_ngs),'train_mean':np.mean(train_ngs),\n",
    "            'train_max':max(train_ngs),'train_std':np.std(train_ngs),\n",
    "            'test_min':min(test_ngs),'test_mean':np.mean(test_ngs),\n",
    "            'test_max':max(test_ngs),'test_std':np.std(test_ngs)},\n",
    "            'GAANG':{'train_min':min(train_gaangs),'train_mean':np.mean(train_gaangs),\n",
    "            'train_max':max(train_gaangs),'train_std':np.std(train_gaangs),\n",
    "            'test_min':min(test_gaangs),'test_mean':np.mean(test_gaangs),\n",
    "            'test_max':max(test_gaangs),'test_std':np.std(test_gaangs)}}"
   ]
  },
  {
   "cell_type": "code",
   "execution_count": 8,
   "metadata": {},
   "outputs": [],
   "source": [
    "results_dict = get_model_stats(model_accs)"
   ]
  },
  {
   "cell_type": "code",
   "execution_count": 9,
   "metadata": {},
   "outputs": [],
   "source": [
    "results_df = pd.DataFrame(results_dict).T"
   ]
  },
  {
   "cell_type": "code",
   "execution_count": 10,
   "metadata": {},
   "outputs": [
    {
     "data": {
      "text/html": [
       "<div>\n",
       "<style scoped>\n",
       "    .dataframe tbody tr th:only-of-type {\n",
       "        vertical-align: middle;\n",
       "    }\n",
       "\n",
       "    .dataframe tbody tr th {\n",
       "        vertical-align: top;\n",
       "    }\n",
       "\n",
       "    .dataframe thead th {\n",
       "        text-align: right;\n",
       "    }\n",
       "</style>\n",
       "<table border=\"1\" class=\"dataframe\">\n",
       "  <thead>\n",
       "    <tr style=\"text-align: right;\">\n",
       "      <th></th>\n",
       "      <th>train_min</th>\n",
       "      <th>train_mean</th>\n",
       "      <th>train_max</th>\n",
       "      <th>train_std</th>\n",
       "      <th>test_min</th>\n",
       "      <th>test_mean</th>\n",
       "      <th>test_max</th>\n",
       "      <th>test_std</th>\n",
       "    </tr>\n",
       "  </thead>\n",
       "  <tbody>\n",
       "    <tr>\n",
       "      <th>NG</th>\n",
       "      <td>0.720930</td>\n",
       "      <td>0.824529</td>\n",
       "      <td>0.930233</td>\n",
       "      <td>0.036551</td>\n",
       "      <td>0.37931</td>\n",
       "      <td>0.686890</td>\n",
       "      <td>0.965517</td>\n",
       "      <td>0.080228</td>\n",
       "    </tr>\n",
       "    <tr>\n",
       "      <th>GAANG</th>\n",
       "      <td>0.732558</td>\n",
       "      <td>0.847505</td>\n",
       "      <td>0.941860</td>\n",
       "      <td>0.028474</td>\n",
       "      <td>0.37931</td>\n",
       "      <td>0.708759</td>\n",
       "      <td>1.000000</td>\n",
       "      <td>0.080503</td>\n",
       "    </tr>\n",
       "  </tbody>\n",
       "</table>\n",
       "</div>"
      ],
      "text/plain": [
       "       train_min  train_mean  train_max  train_std  test_min  test_mean  \\\n",
       "NG      0.720930    0.824529   0.930233   0.036551   0.37931   0.686890   \n",
       "GAANG   0.732558    0.847505   0.941860   0.028474   0.37931   0.708759   \n",
       "\n",
       "       test_max  test_std  \n",
       "NG     0.965517  0.080228  \n",
       "GAANG  1.000000  0.080503  "
      ]
     },
     "execution_count": 10,
     "metadata": {},
     "output_type": "execute_result"
    }
   ],
   "source": [
    "results_df"
   ]
  },
  {
   "cell_type": "code",
   "execution_count": 11,
   "metadata": {},
   "outputs": [],
   "source": [
    "results_df.to_csv('../data/SimResults/kmerFeatResults.csv',index=True)"
   ]
  }
 ],
 "metadata": {
  "kernelspec": {
   "display_name": "Python 3",
   "language": "python",
   "name": "python3"
  },
  "language_info": {
   "codemirror_mode": {
    "name": "ipython",
    "version": 3
   },
   "file_extension": ".py",
   "mimetype": "text/x-python",
   "name": "python",
   "nbconvert_exporter": "python",
   "pygments_lexer": "ipython3",
   "version": "3.8.3"
  }
 },
 "nbformat": 4,
 "nbformat_minor": 4
}
