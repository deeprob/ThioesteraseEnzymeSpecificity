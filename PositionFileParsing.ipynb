{
 "cells": [
  {
   "cell_type": "code",
   "execution_count": 1,
   "metadata": {},
   "outputs": [],
   "source": [
    "datafile = 'Data/Enzyme_aligned.txt'\n",
    "\n",
    "enz_names = []\n",
    "X = []\n",
    "y = []\n",
    "\n",
    "with open(datafile,'r') as f:\n",
    "    for lines in f:\n",
    "        enz_val = lines.strip('\\n').split(',')\n",
    "        enz_names.append(enz_val[0])\n",
    "        X.append(list(enz_val[1]))\n",
    "        y.append(enz_val[2])"
   ]
  },
  {
   "cell_type": "code",
   "execution_count": 6,
   "metadata": {},
   "outputs": [],
   "source": [
    "import pandas as pd\n",
    "import numpy as np"
   ]
  },
  {
   "cell_type": "code",
   "execution_count": 11,
   "metadata": {},
   "outputs": [],
   "source": [
    "X = np.array(X)\n",
    "enz_names = np.array(enz_names).reshape(-1,1)\n",
    "y = np.array(y).reshape(-1,1)"
   ]
  },
  {
   "cell_type": "code",
   "execution_count": 12,
   "metadata": {},
   "outputs": [
    {
     "data": {
      "text/plain": [
       "(106, 464)"
      ]
     },
     "execution_count": 12,
     "metadata": {},
     "output_type": "execute_result"
    }
   ],
   "source": [
    "X.shape"
   ]
  },
  {
   "cell_type": "code",
   "execution_count": 15,
   "metadata": {},
   "outputs": [],
   "source": [
    "myarray = np.concatenate((enz_names,X,y),axis=1)"
   ]
  },
  {
   "cell_type": "code",
   "execution_count": 16,
   "metadata": {},
   "outputs": [
    {
     "data": {
      "text/plain": [
       "array([['Cuphea_palustris_(CpFatB1)', '-', '-', ..., '-', '-', '3'],\n",
       "       ['Ulmus_americana', '-', '-', ..., '-', '-', '3'],\n",
       "       ['Iris_germanica_1', '-', '-', ..., '-', '-', '1'],\n",
       "       ...,\n",
       "       ['Cuphea_viscosisssima_(CvB2MT28', '-', '-', ..., '-', '-', '2'],\n",
       "       ['Cuphea_viscosisssima_(CvB2MT21', '-', '-', ..., '-', '-', '2'],\n",
       "       ['Cuphea_viscosisssima_(CvB2MT3', '-', '-', ..., '-', '-', '2']],\n",
       "      dtype='<U34')"
      ]
     },
     "execution_count": 16,
     "metadata": {},
     "output_type": "execute_result"
    }
   ],
   "source": [
    "myarray"
   ]
  },
  {
   "cell_type": "code",
   "execution_count": 25,
   "metadata": {},
   "outputs": [],
   "source": [
    "column_names = ['enzyme-name']\n",
    "column_names.extend([f'seq-pos-{i}' for i in range(464)])\n",
    "column_names.append('label')"
   ]
  },
  {
   "cell_type": "code",
   "execution_count": 26,
   "metadata": {},
   "outputs": [],
   "source": [
    "df = pd.DataFrame(myarray,columns=column_names)"
   ]
  },
  {
   "cell_type": "code",
   "execution_count": 29,
   "metadata": {},
   "outputs": [],
   "source": [
    "df.to_csv('Data/PositionFile.csv',index=False)"
   ]
  },
  {
   "cell_type": "code",
   "execution_count": null,
   "metadata": {},
   "outputs": [],
   "source": []
  }
 ],
 "metadata": {
  "kernelspec": {
   "display_name": "Python 3",
   "language": "python",
   "name": "python3"
  },
  "language_info": {
   "codemirror_mode": {
    "name": "ipython",
    "version": 3
   },
   "file_extension": ".py",
   "mimetype": "text/x-python",
   "name": "python",
   "nbconvert_exporter": "python",
   "pygments_lexer": "ipython3",
   "version": "3.6.7"
  }
 },
 "nbformat": 4,
 "nbformat_minor": 4
}
