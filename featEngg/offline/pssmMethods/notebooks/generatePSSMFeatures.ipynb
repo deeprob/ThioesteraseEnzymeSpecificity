{
 "cells": [
  {
   "cell_type": "code",
   "execution_count": 1,
   "metadata": {},
   "outputs": [],
   "source": [
    "feat_types = ['aac_pssm', 'd_fpssm', 'smoothed_pssm', 'ab_pssm',\n",
    "              'pssm_composition', 'rpm_pssm', 's_fpssm', 'dpc_pssm',\n",
    "              'k_separated_bigrams_pssm', 'tri_gram_pssm', 'eedp', \n",
    "              'tpc', 'edp', 'rpssm', 'pse_pssm', 'dp_pssm', \n",
    "              'pssm_ac', 'pssm_cc', 'aadp_pssm', 'aatp' , 'medp']"
   ]
  },
  {
   "cell_type": "code",
   "execution_count": 2,
   "metadata": {},
   "outputs": [],
   "source": [
    "feat_types_wo_params = ['aac_pssm', 'd_fpssm', 'ab_pssm', 'pssm_composition', 'rpm_pssm',\n",
    "                        's_fpssm', 'dpc_pssm', 'tri_gram_pssm', 'eedp', 'tpc', 'edp', \n",
    "                        'rpssm', 'aadp_pssm', 'aatp', 'medp']"
   ]
  },
  {
   "cell_type": "code",
   "execution_count": 3,
   "metadata": {},
   "outputs": [],
   "source": [
    "feat_types_w_params = [ft for ft in feat_types if ft not in feat_types_wo_params]"
   ]
  },
  {
   "cell_type": "code",
   "execution_count": 4,
   "metadata": {},
   "outputs": [
    {
     "data": {
      "text/plain": [
       "['smoothed_pssm',\n",
       " 'k_separated_bigrams_pssm',\n",
       " 'pse_pssm',\n",
       " 'dp_pssm',\n",
       " 'pssm_ac',\n",
       " 'pssm_cc']"
      ]
     },
     "execution_count": 4,
     "metadata": {},
     "output_type": "execute_result"
    }
   ],
   "source": [
    "feat_types_w_params"
   ]
  },
  {
   "cell_type": "code",
   "execution_count": null,
   "metadata": {},
   "outputs": [],
   "source": []
  }
 ],
 "metadata": {
  "kernelspec": {
   "display_name": "Python 3",
   "language": "python",
   "name": "python3"
  },
  "language_info": {
   "codemirror_mode": {
    "name": "ipython",
    "version": 3
   },
   "file_extension": ".py",
   "mimetype": "text/x-python",
   "name": "python",
   "nbconvert_exporter": "python",
   "pygments_lexer": "ipython3",
   "version": "3.7.9"
  }
 },
 "nbformat": 4,
 "nbformat_minor": 4
}
