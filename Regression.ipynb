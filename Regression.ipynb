{
 "cells": [
  {
   "cell_type": "code",
   "execution_count": 1,
   "metadata": {},
   "outputs": [],
   "source": [
    "# modules\n",
    "import os\n",
    "import pandas as pd\n",
    "from sklearn.model_selection import train_test_split\n",
    "from IndModels.ModelsEdited import NGModel,GAACModel\n",
    "import numpy as np\n",
    "from AutoPos.AutoPosModel import AutoPosClass\n",
    "from sklearn.feature_selection import chi2,mutual_info_regression\n",
    "from mySVM.model import SVM,SVMRegressor\n",
    "from Ensemble.model import EnsembleRegression\n",
    "import multiprocessing as mp"
   ]
  },
  {
   "cell_type": "code",
   "execution_count": 2,
   "metadata": {},
   "outputs": [],
   "source": [
    "class TERegression:\n",
    "    \n",
    "    def __init__(self,enzymedata,alignedenzymedata,enzymenamemap,\n",
    "                ifeaturefilenames,ifeaturelabelfile,random_seed=None):\n",
    "        \n",
    "        self.random_seed = random_seed\n",
    "        \n",
    "        # original data based on which everything is obtained\n",
    "        self.df = pd.read_csv(enzymedata,header=None)\n",
    "        self.enz_names = self.df[0].values\n",
    "        self.X = self.df.iloc[:,1].values\n",
    "        self.y = self.df.iloc[:,-1].values\n",
    "        \n",
    "        # training and testing data for kmer and gaakmer - will be used for others as well\n",
    "        self.X_train, self.X_test, self.y_train, self.y_test,self.enz_train,self.enz_test = train_test_split(self.X, self.y,self.enz_names, test_size=0.25, random_state=self.random_seed)\n",
    "        \n",
    "        #ng and gaang model\n",
    "        self.ngmodel = NGModel(self.X_train,self.X_test,self.y_train,self.y_test,random_seed=self.random_seed,regression=True)\n",
    "        self.gmodel = GAACModel(self.X_train,self.X_test,self.y_train,self.y_test,random_seed=self.random_seed,regression=True)\n",
    "\n",
    "        # aligned data for autopos\n",
    "        self.df_algn = pd.read_csv(alignedenzymedata,header=None).set_index(0)\n",
    "        \n",
    "        # make train test for autopos based on train test for original data\n",
    "        self.df_algn_train = self.df_algn.loc[self.enz_train]\n",
    "        self.df_algn_test = self.df_algn.loc[self.enz_test]\n",
    "        \n",
    "        self.X_train_algn,self.y_train_algn = self.df_algn_train[1].values,self.df_algn_train[2].values\n",
    "        self.X_test_algn,self.y_test_algn = self.df_algn_test[1].values,self.df_algn_test[2].values\n",
    "        \n",
    "        assert all(self.y_test==self.y_test_algn)\n",
    "        \n",
    "        #autopos model\n",
    "        self.apmodel = AutoPosClass(self.X_train_algn,self.X_test_algn,self.y_train_algn,self.y_test_algn,mutual_info_regression,None,50,imp=True,verbose=False,regression=True)\n",
    "        \n",
    "        # the ifeature vectors are mapped to the original enzyme names (will change this later)\n",
    "        # get the alias to original name mappings\n",
    "        self.df_enmap = pd.read_csv(enzymenamemap,header=None)\n",
    "        self.enz_mapdict = dict(zip(self.df_enmap[0],self.df_enmap[1]))\n",
    "        \n",
    "        self.ifeat_label_file = ifeaturelabelfile\n",
    "        \n",
    "        # getting all SVM objects together \n",
    "        self.SVMobjects = list(map(self.get_model_ifeat,ifeaturefilenames))\n",
    "        self.SVMobjects.extend([self.ngmodel.SVMobject,self.gmodel.SVMobject,self.apmodel.SVMobject])\n",
    "        \n",
    "        # select only the best models based on training\n",
    "        self.best_idx,self.best_models = self.select_top_models(self.SVMobjects)\n",
    "        \n",
    "        # getting all model predictions together\n",
    "        self.all_model_preds = [svmo.ypredtest for svmo in self.best_models]\n",
    "        self.en = EnsembleRegression(self.all_model_preds,self.y_test)\n",
    "        \n",
    "        pass\n",
    "    \n",
    "    \n",
    "    def get_model_ifeat(self,ifeatfilename):\n",
    "        df1 = pd.read_csv(ifeatfilename,header=None)\n",
    "        df2 = pd.read_csv(self.ifeat_label_file,header=None)\n",
    "        df_feat = df1.merge(df2,on=0).set_index(0)\n",
    "        enz_name_train = [self.enz_mapdict[al] for al in self.enz_train]\n",
    "        enz_name_test = [self.enz_mapdict[al] for al in self.enz_test]\n",
    "        df_feat_train = df_feat.loc[enz_name_train]\n",
    "        df_feat_test = df_feat.loc[enz_name_test]\n",
    "        X_train_feat,y_train_feat = df_feat_train.iloc[:,0:-1].values,df_feat_train.iloc[:,-1].values\n",
    "        X_test_feat,y_test_feat = df_feat_test.iloc[:,0:-1].values,df_feat_test.iloc[:,-1].values\n",
    "        assert all(self.y_test==y_test_feat)\n",
    "        assert all(self.y_train==y_train_feat)\n",
    "        if X_train_feat.shape[1]<40:\n",
    "            n_comp = int(0.75*X_train_feat.shape[1])\n",
    "        else:\n",
    "            n_comp=40\n",
    "        svm = SVMRegressor(X_train_feat,X_test_feat,y_train_feat,y_test_feat,verbose=False,optimize=False, pca_comp=n_comp,random_seed=self.random_seed)\n",
    "        return svm\n",
    "        \n",
    "    def select_top_models(self,SVMOs):\n",
    "        svm_train_accs = [svmo.error_train for svmo in SVMOs]\n",
    "        sorted_idx = np.argsort(svm_train_accs)[::-1]\n",
    "        best_idx = sorted_idx[:3]\n",
    "        return best_idx,np.array(SVMOs)[best_idx]\n",
    "        "
   ]
  },
  {
   "cell_type": "code",
   "execution_count": 3,
   "metadata": {},
   "outputs": [
    {
     "name": "stdout",
     "output_type": "stream",
     "text": [
      "CPU times: user 12.5 s, sys: 1.47 s, total: 13.9 s\n",
      "Wall time: 1h 21min 59s\n"
     ]
    }
   ],
   "source": [
    "%%time\n",
    "if __name__=='__main__':\n",
    "    # Sequence and label files for autopos,kmer and gaa-kmer\n",
    "    datadir = 'Data/TE_ML_Data/'\n",
    "    enz_file = datadir + 'EnzymeDatasetRegression.csv'\n",
    "    enz_file_aligned = datadir + 'EnzymeDatasetAlignedRegression.csv'\n",
    "\n",
    "    # Feature files for iFeature \n",
    "    ifeatdatadir = 'Data/FeatureVectors/iFeatureVectors/'\n",
    "    ifeature_files = [ifeatdatadir+f.name for f in os.scandir(ifeatdatadir)]\n",
    "    ifeatlabelfile = 'Data/Labels/'+'Labels_Regression.csv'\n",
    "\n",
    "    # alias to original enzyme name\n",
    "    enz_name_map = datadir + 'EnzymeNameMap.csv'\n",
    "    te = TERegression(enz_file,enz_file_aligned,enz_name_map,\n",
    "                          ifeature_files,ifeatlabelfile,random_seed=7)\n",
    "    \n",
    "    def multi_func(rs):\n",
    "        te_i = TERegression(enz_file,enz_file_aligned,enz_name_map,\n",
    "                          ifeature_files,ifeatlabelfile,random_seed=rs)\n",
    "        return te_i.en.mse   \n",
    "    \n",
    "    pool = mp.Pool(mp.cpu_count())\n",
    "\n",
    "    \n",
    "    \n",
    "    \n",
    "    mses = list(pool.map(multi_func,range(10000)))\n",
    "    \n"
   ]
  },
  {
   "cell_type": "code",
   "execution_count": 4,
   "metadata": {},
   "outputs": [
    {
     "name": "stdout",
     "output_type": "stream",
     "text": [
      "0.03598897944584124 0.08093976230667074 0.16690193708025364 0.015617864012292223\n"
     ]
    }
   ],
   "source": [
    "print(min(mses),np.mean(mses),max(mses),np.std(mses))"
   ]
  },
  {
   "cell_type": "code",
   "execution_count": null,
   "metadata": {},
   "outputs": [],
   "source": []
  }
 ],
 "metadata": {
  "kernelspec": {
   "display_name": "Python 3",
   "language": "python",
   "name": "python3"
  },
  "language_info": {
   "codemirror_mode": {
    "name": "ipython",
    "version": 3
   },
   "file_extension": ".py",
   "mimetype": "text/x-python",
   "name": "python",
   "nbconvert_exporter": "python",
   "pygments_lexer": "ipython3",
   "version": "3.6.7"
  }
 },
 "nbformat": 4,
 "nbformat_minor": 4
}
