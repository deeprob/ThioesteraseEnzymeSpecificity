{
 "cells": [
  {
   "cell_type": "code",
   "execution_count": 3,
   "metadata": {},
   "outputs": [],
   "source": [
    "fastafile1 = '../../../../data/seq/EnzymeFasta.fa'\n",
    "fastafile2 = '../../../../data/seq/TestEnzymeFasta.fa'\n",
    "fastafile3 = '../../../../data/seq/ThymeEnzymeFasta1.fa'\n",
    "fastafile4 = '../../../../data/seq/ThymeEnzymeFasta2.fa'\n",
    "\n",
    "with open('../data/temporary_combined_file2.fa','w') as cf:\n",
    "    with open(fastafile1,'r') as f1:\n",
    "        for lines1 in f1:\n",
    "            cf.write(lines1)\n",
    "    with open(fastafile2,'r') as f2:\n",
    "        for lines2 in f2:\n",
    "            cf.write(lines2)\n",
    "    with open(fastafile4,'r') as f2:\n",
    "        for lines2 in f2:\n",
    "            cf.write(lines2)"
   ]
  },
  {
   "cell_type": "code",
   "execution_count": null,
   "metadata": {},
   "outputs": [],
   "source": []
  }
 ],
 "metadata": {
  "kernelspec": {
   "display_name": "Python 3",
   "language": "python",
   "name": "python3"
  },
  "language_info": {
   "codemirror_mode": {
    "name": "ipython",
    "version": 3
   },
   "file_extension": ".py",
   "mimetype": "text/x-python",
   "name": "python",
   "nbconvert_exporter": "python",
   "pygments_lexer": "ipython3",
   "version": "3.8.3"
  }
 },
 "nbformat": 4,
 "nbformat_minor": 5
}
