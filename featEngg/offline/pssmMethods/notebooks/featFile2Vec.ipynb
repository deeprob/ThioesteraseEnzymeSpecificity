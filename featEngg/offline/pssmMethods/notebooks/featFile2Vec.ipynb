{
 "cells": [
  {
   "cell_type": "code",
   "execution_count": 1,
   "metadata": {},
   "outputs": [],
   "source": [
    "import os\n",
    "import pandas as pd"
   ]
  },
  {
   "cell_type": "code",
   "execution_count": 2,
   "metadata": {},
   "outputs": [],
   "source": [
    "data_file_dir = '../data/featfiles/'\n",
    "output_file_dir = '../data/featvec/'\n",
    "enz_fasta_file = '../../../data/SeqFile/EnzymeFasta.fa'\n",
    "testenz_fasta_file = '../../../data/SeqFile/TestEnzymeFasta.fa'"
   ]
  },
  {
   "cell_type": "code",
   "execution_count": 3,
   "metadata": {},
   "outputs": [],
   "source": [
    "def get_enzyme_names(fasta_file):\n",
    "    enz_names = []\n",
    "    with open(fasta_file,'r') as f:\n",
    "        for lines in f:\n",
    "            if lines.startswith('>'):\n",
    "                enz_name = lines.replace('>','').rstrip()\n",
    "                enz_names.append(enz_name)\n",
    "    return enz_names\n",
    "    "
   ]
  },
  {
   "cell_type": "code",
   "execution_count": 4,
   "metadata": {},
   "outputs": [],
   "source": [
    "enz_names = get_enzyme_names(enz_fasta_file)\n",
    "testenz_names = get_enzyme_names(testenz_fasta_file)"
   ]
  },
  {
   "cell_type": "code",
   "execution_count": 5,
   "metadata": {},
   "outputs": [],
   "source": [
    "def save_featvec(feat_file,foldername):\n",
    "    df = pd.read_csv(data_file_dir+foldername+feat_file,header=None,skiprows=1)\n",
    "    enznamedict = {'trainfiles':enz_names,'testfiles':testenz_names}\n",
    "    df['index'] = enznamedict[foldername.replace('/','')]\n",
    "    df = df.set_index('index')\n",
    "    df.to_csv(output_file_dir+foldername+feat_file+'.gz',index=True,header=False,compression='gzip')\n",
    "    return\n",
    "    "
   ]
  },
  {
   "cell_type": "code",
   "execution_count": 7,
   "metadata": {},
   "outputs": [],
   "source": [
    "for folder in os.scandir(data_file_dir):\n",
    "    for file in os.scandir(data_file_dir+folder.name+'/'):\n",
    "        if file.name.endswith('.csv'):\n",
    "            save_featvec(file.name,folder.name+'/')"
   ]
  },
  {
   "cell_type": "code",
   "execution_count": null,
   "metadata": {},
   "outputs": [],
   "source": []
  }
 ],
 "metadata": {
  "kernelspec": {
   "display_name": "Python 3",
   "language": "python",
   "name": "python3"
  },
  "language_info": {
   "codemirror_mode": {
    "name": "ipython",
    "version": 3
   },
   "file_extension": ".py",
   "mimetype": "text/x-python",
   "name": "python",
   "nbconvert_exporter": "python",
   "pygments_lexer": "ipython3",
   "version": "3.8.3"
  }
 },
 "nbformat": 4,
 "nbformat_minor": 4
}
