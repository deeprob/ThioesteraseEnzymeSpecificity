{
 "cells": [
  {
   "cell_type": "code",
   "execution_count": 2,
   "metadata": {},
   "outputs": [],
   "source": [
    "import pandas as pd\n",
    "import sys\n",
    "\n",
    "sys.path.append('../')"
   ]
  },
  {
   "cell_type": "code",
   "execution_count": 3,
   "metadata": {},
   "outputs": [],
   "source": [
    "import helper"
   ]
  },
  {
   "cell_type": "code",
   "execution_count": 4,
   "metadata": {},
   "outputs": [],
   "source": [
    "labelfile = '../Data/ThioesteraseProductFractionLabel.xlsx'\n",
    "seqfile = '../Data/Enzyme_Dataset.txt'"
   ]
  },
  {
   "cell_type": "code",
   "execution_count": 5,
   "metadata": {},
   "outputs": [],
   "source": [
    "df = pd.read_excel(labelfile,header=None)"
   ]
  },
  {
   "cell_type": "code",
   "execution_count": 6,
   "metadata": {},
   "outputs": [],
   "source": [
    "Xnameref,y = df.iloc[:,0].values,df.iloc[:,1].values"
   ]
  },
  {
   "cell_type": "code",
   "execution_count": 7,
   "metadata": {},
   "outputs": [],
   "source": [
    "seq,label,Xname = helper.parseEnzymeFile(seqfile)"
   ]
  },
  {
   "cell_type": "code",
   "execution_count": 8,
   "metadata": {},
   "outputs": [],
   "source": [
    "seqdictmap = dict(zip(Xname,seq))"
   ]
  },
  {
   "cell_type": "code",
   "execution_count": 9,
   "metadata": {},
   "outputs": [],
   "source": [
    "labeldictmap = dict(zip(Xnameref,y))"
   ]
  },
  {
   "cell_type": "code",
   "execution_count": 10,
   "metadata": {},
   "outputs": [
    {
     "name": "stdout",
     "output_type": "stream",
     "text": [
      "Cuphea_viscosissima_(CvFatB1)\n",
      "Cuphea_viscosissima_(CvFatB2)\n",
      "Cuphea_carthagenesis_(CcFatB)\n"
     ]
    }
   ],
   "source": [
    "enzname = []\n",
    "X = []\n",
    "y = []\n",
    "\n",
    "for xn in seqdictmap.keys():\n",
    "    if xn in labeldictmap:\n",
    "        enzname.append(xn)\n",
    "        X.append(seqdictmap[xn])\n",
    "        y.append(labeldictmap[xn])\n",
    "    else:\n",
    "        print(xn)"
   ]
  },
  {
   "cell_type": "code",
   "execution_count": 11,
   "metadata": {},
   "outputs": [],
   "source": [
    "import numpy as np\n",
    "enzname,X,y = np.array(enzname),np.array(X),np.array(y)"
   ]
  },
  {
   "cell_type": "code",
   "execution_count": 12,
   "metadata": {},
   "outputs": [],
   "source": [
    "from sklearn.linear_model import LinearRegression\n",
    "from sklearn.decomposition import PCA\n",
    "from sklearn.pipeline import Pipeline\n",
    "def get_model(n_comp):\n",
    "    steps = [('pca',PCA(n_components=n_comp)),('LR',LinearRegression())]\n",
    "    pipe = Pipeline(steps)\n",
    "    return pipe\n",
    "    "
   ]
  },
  {
   "cell_type": "code",
   "execution_count": 13,
   "metadata": {},
   "outputs": [],
   "source": [
    "from FeatEngg.ngramEnc import Ngram"
   ]
  },
  {
   "cell_type": "code",
   "execution_count": 14,
   "metadata": {},
   "outputs": [],
   "source": [
    "teidx,tridx = helper.modified_split(enzname)"
   ]
  },
  {
   "cell_type": "code",
   "execution_count": 104,
   "metadata": {},
   "outputs": [],
   "source": [
    "ngram = Ngram(X[tridx],7,1)\n",
    "ngram.fit()"
   ]
  },
  {
   "cell_type": "code",
   "execution_count": 105,
   "metadata": {},
   "outputs": [],
   "source": [
    "X_ng_tr = ngram.transform(X[tridx])"
   ]
  },
  {
   "cell_type": "code",
   "execution_count": 106,
   "metadata": {},
   "outputs": [],
   "source": [
    "y_tr = y[tridx]"
   ]
  },
  {
   "cell_type": "code",
   "execution_count": 107,
   "metadata": {
    "scrolled": true
   },
   "outputs": [],
   "source": [
    "mypipe = get_model(40)"
   ]
  },
  {
   "cell_type": "code",
   "execution_count": 108,
   "metadata": {},
   "outputs": [],
   "source": [
    "model = mypipe.fit(X_ng_tr,y_tr)"
   ]
  },
  {
   "cell_type": "code",
   "execution_count": 109,
   "metadata": {},
   "outputs": [],
   "source": [
    "y_pred_tr = model.predict(X_ng_tr)"
   ]
  },
  {
   "cell_type": "code",
   "execution_count": 110,
   "metadata": {},
   "outputs": [],
   "source": [
    "from sklearn.metrics import mean_squared_error"
   ]
  },
  {
   "cell_type": "code",
   "execution_count": 111,
   "metadata": {},
   "outputs": [
    {
     "data": {
      "text/plain": [
       "0.011622145850096742"
      ]
     },
     "execution_count": 111,
     "metadata": {},
     "output_type": "execute_result"
    }
   ],
   "source": [
    "mean_squared_error(y_tr,y_pred_tr)"
   ]
  },
  {
   "cell_type": "code",
   "execution_count": 112,
   "metadata": {},
   "outputs": [],
   "source": [
    "X_ng_te = ngram.transform(X[teidx])"
   ]
  },
  {
   "cell_type": "code",
   "execution_count": 113,
   "metadata": {},
   "outputs": [],
   "source": [
    "y_pred_te = model.predict(X_ng_te)"
   ]
  },
  {
   "cell_type": "code",
   "execution_count": 114,
   "metadata": {},
   "outputs": [],
   "source": [
    "y_te = y[teidx]"
   ]
  },
  {
   "cell_type": "code",
   "execution_count": 115,
   "metadata": {},
   "outputs": [
    {
     "data": {
      "text/plain": [
       "0.06138513660690401"
      ]
     },
     "execution_count": 115,
     "metadata": {},
     "output_type": "execute_result"
    }
   ],
   "source": [
    "mean_squared_error(y_te,y_pred_te)"
   ]
  },
  {
   "cell_type": "code",
   "execution_count": 27,
   "metadata": {},
   "outputs": [
    {
     "data": {
      "text/plain": [
       "array([0.653     , 0.6       , 0.15      , 0.98      , 0.05519897,\n",
       "       0.087     , 0.09      , 0.81      , 0.602     , 0.09      ,\n",
       "       0.        , 0.753     , 0.361     , 0.854     , 0.        ,\n",
       "       0.82714551, 0.05      , 0.799     , 0.82      , 0.387     ,\n",
       "       0.044     , 0.681     , 0.066     , 0.291     ])"
      ]
     },
     "execution_count": 27,
     "metadata": {},
     "output_type": "execute_result"
    }
   ],
   "source": [
    "y_te"
   ]
  },
  {
   "cell_type": "code",
   "execution_count": 28,
   "metadata": {},
   "outputs": [
    {
     "data": {
      "text/plain": [
       "array([0.3320532 , 0.47724165, 0.09453708, 0.82900302, 0.18044687,\n",
       "       0.14496201, 0.18645989, 0.05364181, 0.68332716, 0.5807953 ,\n",
       "       0.00986262, 0.69512173, 0.56545548, 0.58084996, 0.15025449,\n",
       "       0.19093048, 0.19164834, 0.77267515, 0.790815  , 0.59802837,\n",
       "       0.03655299, 0.58182941, 0.17224802, 0.3838413 ])"
      ]
     },
     "execution_count": 28,
     "metadata": {},
     "output_type": "execute_result"
    }
   ],
   "source": [
    "y_pred_te"
   ]
  },
  {
   "cell_type": "code",
   "execution_count": 29,
   "metadata": {},
   "outputs": [],
   "source": [
    "from FeatEngg.gaacEnc import GAAC"
   ]
  },
  {
   "cell_type": "code",
   "execution_count": 30,
   "metadata": {},
   "outputs": [],
   "source": [
    "gaac = GAAC()\n",
    "Xgaac = gaac.transform(X)"
   ]
  },
  {
   "cell_type": "code",
   "execution_count": 124,
   "metadata": {},
   "outputs": [],
   "source": [
    "ngram = Ngram(Xgaac[tridx],7,1)\n",
    "ngram.fit()"
   ]
  },
  {
   "cell_type": "code",
   "execution_count": 125,
   "metadata": {},
   "outputs": [],
   "source": [
    "X_ngaac_tr = ngram.transform(Xgaac[tridx])"
   ]
  },
  {
   "cell_type": "code",
   "execution_count": 126,
   "metadata": {},
   "outputs": [],
   "source": [
    "newpipe = get_model(10)"
   ]
  },
  {
   "cell_type": "code",
   "execution_count": 127,
   "metadata": {},
   "outputs": [],
   "source": [
    "new_model = newpipe.fit(X_ngaac_tr,y_tr)"
   ]
  },
  {
   "cell_type": "code",
   "execution_count": 128,
   "metadata": {},
   "outputs": [],
   "source": [
    "X_ngaac_te = ngram.transform(Xgaac[teidx])\n",
    "y_pred_te = new_model.predict(X_ngaac_te)"
   ]
  },
  {
   "cell_type": "code",
   "execution_count": 129,
   "metadata": {},
   "outputs": [
    {
     "data": {
      "text/plain": [
       "0.08955125701682011"
      ]
     },
     "execution_count": 129,
     "metadata": {},
     "output_type": "execute_result"
    }
   ],
   "source": [
    "mean_squared_error(y_te,y_pred_te)"
   ]
  },
  {
   "cell_type": "code",
   "execution_count": 122,
   "metadata": {},
   "outputs": [
    {
     "data": {
      "text/plain": [
       "array([0.653     , 0.6       , 0.15      , 0.98      , 0.05519897,\n",
       "       0.087     , 0.09      , 0.81      , 0.602     , 0.09      ,\n",
       "       0.        , 0.753     , 0.361     , 0.854     , 0.        ,\n",
       "       0.82714551, 0.05      , 0.799     , 0.82      , 0.387     ,\n",
       "       0.044     , 0.681     , 0.066     , 0.291     ])"
      ]
     },
     "execution_count": 122,
     "metadata": {},
     "output_type": "execute_result"
    }
   ],
   "source": [
    "y_te"
   ]
  },
  {
   "cell_type": "code",
   "execution_count": 123,
   "metadata": {},
   "outputs": [
    {
     "data": {
      "text/plain": [
       "array([ 0.32290969,  0.42573565,  0.02551049,  0.3626729 ,  0.19034292,\n",
       "        0.30644388,  0.25388991, -0.01457649,  0.52776929,  0.43702575,\n",
       "       -0.02136511,  0.54703045,  0.49387487,  0.69004811,  0.22020371,\n",
       "        0.24884764,  0.20933521,  0.62571234,  0.55350008,  0.44267205,\n",
       "        0.31154312,  0.65088031,  0.31154312,  0.38478158])"
      ]
     },
     "execution_count": 123,
     "metadata": {},
     "output_type": "execute_result"
    }
   ],
   "source": [
    "y_pred_te"
   ]
  },
  {
   "cell_type": "code",
   "execution_count": 131,
   "metadata": {},
   "outputs": [],
   "source": [
    "import pickle\n",
    "\n",
    "file = pickle.load(open('../Data/TE_ML_Data_pickle.p','rb'))"
   ]
  },
  {
   "cell_type": "code",
   "execution_count": 133,
   "metadata": {},
   "outputs": [],
   "source": [
    "pmap = dict(zip(file[0],file[1]))"
   ]
  },
  {
   "cell_type": "code",
   "execution_count": 138,
   "metadata": {},
   "outputs": [],
   "source": [
    "Xp = np.array([pmap[e] for e in enzname])"
   ]
  },
  {
   "cell_type": "code",
   "execution_count": 143,
   "metadata": {},
   "outputs": [],
   "source": [
    "pospipe = get_model(40)\n",
    "\n",
    "posmodel = pospipe.fit(Xp[tridx],y[tridx])"
   ]
  },
  {
   "cell_type": "code",
   "execution_count": 144,
   "metadata": {},
   "outputs": [],
   "source": [
    "y_pred_te = posmodel.predict(Xp[teidx])"
   ]
  },
  {
   "cell_type": "code",
   "execution_count": 145,
   "metadata": {},
   "outputs": [
    {
     "data": {
      "text/plain": [
       "0.03773853154911842"
      ]
     },
     "execution_count": 145,
     "metadata": {},
     "output_type": "execute_result"
    }
   ],
   "source": [
    "mean_squared_error(y_te,y_pred_te)"
   ]
  },
  {
   "cell_type": "code",
   "execution_count": 146,
   "metadata": {},
   "outputs": [
    {
     "data": {
      "text/plain": [
       "array([0.653     , 0.6       , 0.15      , 0.98      , 0.05519897,\n",
       "       0.087     , 0.09      , 0.81      , 0.602     , 0.09      ,\n",
       "       0.        , 0.753     , 0.361     , 0.854     , 0.        ,\n",
       "       0.82714551, 0.05      , 0.799     , 0.82      , 0.387     ,\n",
       "       0.044     , 0.681     , 0.066     , 0.291     ])"
      ]
     },
     "execution_count": 146,
     "metadata": {},
     "output_type": "execute_result"
    }
   ],
   "source": [
    "y_te"
   ]
  },
  {
   "cell_type": "code",
   "execution_count": 147,
   "metadata": {},
   "outputs": [
    {
     "data": {
      "text/plain": [
       "array([ 3.46963542e-01,  5.25683362e-01,  4.37515041e-03,  9.86147718e-01,\n",
       "        6.66430398e-02,  2.46768656e-01,  6.66430398e-02,  9.74527256e-02,\n",
       "        6.27639662e-01,  1.93190672e-01, -6.64505709e-04,  6.98834467e-01,\n",
       "        6.18918120e-01,  9.54853243e-01,  1.87682432e-01,  5.78565140e-01,\n",
       "        1.09224351e-01,  7.06284738e-01,  6.54069941e-01,  2.77898214e-01,\n",
       "        8.14542972e-02,  6.54103403e-01,  1.63326952e-01,  3.07865235e-01])"
      ]
     },
     "execution_count": 147,
     "metadata": {},
     "output_type": "execute_result"
    }
   ],
   "source": [
    "y_pred_te"
   ]
  },
  {
   "cell_type": "code",
   "execution_count": null,
   "metadata": {},
   "outputs": [],
   "source": []
  }
 ],
 "metadata": {
  "kernelspec": {
   "display_name": "Python 3",
   "language": "python",
   "name": "python3"
  },
  "language_info": {
   "codemirror_mode": {
    "name": "ipython",
    "version": 3
   },
   "file_extension": ".py",
   "mimetype": "text/x-python",
   "name": "python",
   "nbconvert_exporter": "python",
   "pygments_lexer": "ipython3",
   "version": "3.6.7"
  }
 },
 "nbformat": 4,
 "nbformat_minor": 4
}
