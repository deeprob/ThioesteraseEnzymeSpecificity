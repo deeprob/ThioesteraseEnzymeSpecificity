{
 "cells": [
  {
   "cell_type": "code",
   "execution_count": 1,
   "metadata": {},
   "outputs": [],
   "source": [
    "import os\n",
    "import pandas as pd\n",
    "from sklearn.model_selection import train_test_split\n",
    "import itertools \n",
    "import multiprocessing as mp\n",
    "import numpy as np\n",
    "import sys\n",
    "from sklearn.metrics import precision_score,recall_score,accuracy_score,f1_score\n",
    "\n",
    "sys.path.append('../')\n",
    "from baseModels.SVM.model import SVM"
   ]
  },
  {
   "cell_type": "code",
   "execution_count": 2,
   "metadata": {},
   "outputs": [],
   "source": [
    "feature_dir = '../featEngg/offline/kernelMethods/data/featvec/trainfiles/'\n",
    "feature_files = [f.name for f in os.scandir(feature_dir) if f.name.endswith('.csv.gz')]"
   ]
  },
  {
   "cell_type": "code",
   "execution_count": 3,
   "metadata": {},
   "outputs": [],
   "source": [
    "label_file = '../data/label/EnzymeLabelsMultiClass.csv'"
   ]
  },
  {
   "cell_type": "code",
   "execution_count": 4,
   "metadata": {},
   "outputs": [],
   "source": [
    "# hyperparameter optimization file\n",
    "hyperparam_file = '../data/results/HyperParameterOptimization/IndHPOpt.csv'\n",
    "\n",
    "df_hyperparam = pd.read_csv(hyperparam_file).set_index('feat_name')"
   ]
  },
  {
   "cell_type": "code",
   "execution_count": 5,
   "metadata": {},
   "outputs": [],
   "source": [
    "# append model results to file\n",
    "filename_model = '../data/results/feat_results.csv'"
   ]
  },
  {
   "cell_type": "code",
   "execution_count": 6,
   "metadata": {},
   "outputs": [],
   "source": [
    "def get_featname_from_file(filename):\n",
    "    featname = filename.replace('.csv.gz','')\n",
    "    return featname"
   ]
  },
  {
   "cell_type": "code",
   "execution_count": 7,
   "metadata": {},
   "outputs": [],
   "source": [
    "def model_evaluate(filename,random_seed):\n",
    "    featname = get_featname_from_file(filename)\n",
    "    \n",
    "    df1 = pd.read_csv(feature_dir+filename,header=None)\n",
    "    df2 = pd.read_csv(label_file,header=None)\n",
    "    df = df1.merge(df2,on=0)\n",
    "    enz_names = df[0].values\n",
    "    X = df.iloc[:,1:-1].values\n",
    "    y = df.iloc[:,-1].values\n",
    "    \n",
    "    pca_components = df_hyperparam.loc[featname,'pca_comp']\n",
    "    regCparam = df_hyperparam.loc[featname,'regC']\n",
    "    kernparam = df_hyperparam.loc[featname,'kernel']\n",
    "\n",
    "\n",
    "    X_train, X_valid, y_train, y_valid,enz_train,enz_valid = train_test_split(X, y,enz_names, test_size=0.25, random_state=random_seed)\n",
    "    \n",
    "    if X_train.shape[1]<pca_components:\n",
    "        raise ValueError('Wrong Hyper Parameter')\n",
    "        \n",
    "    svm = SVM(X_train,X_valid,y_train,y_valid,verbose=False,optimize=False, pca_comp=pca_components,kern=kernparam,regC=regCparam)\n",
    "\n",
    "    yi = svm.yvalid\n",
    "    yhati = svm.ypredvalid\n",
    "    prec=get_precision(yi,yhati)\n",
    "    rec=get_recall(yi,yhati)\n",
    "    f1_score =get_f1_score(yi,yhati)\n",
    "    acc =get_accuracy(yi,yhati)\n",
    "    \n",
    "    return featname,prec,rec,f1_score,acc\n",
    "\n",
    "\n",
    "def get_precision(y,yhat):\n",
    "    return round(precision_score(y,yhat,labels=[3],average='micro'),2)\n",
    "\n",
    "\n",
    "def get_recall(y,yhat):\n",
    "    return round(recall_score(y,yhat,labels=[3],average='micro'),2)\n",
    "\n",
    "\n",
    "def get_f1_score(y,yhat):\n",
    "    return round(f1_score(y,yhat,average='micro'),2)\n",
    "\n",
    "def get_accuracy(y,yhat):\n",
    "    return round(accuracy_score(y,yhat),2)\n",
    "\n",
    "def write_model_stats(model_metrics):\n",
    "    datadict = {'precision':[],'recall':[],'f1_score':[],'accuracy':[]}\n",
    "    index_names = []\n",
    "    \n",
    "    for name,group in itertools.groupby(model_metrics,lambda x: x[0]):\n",
    "        \n",
    "        index_names.append(name)\n",
    "        metrics = list(group)\n",
    "        precs = [g[1] for g in metrics]\n",
    "        recalls = [g[2] for g in metrics]\n",
    "        f1_scores = [g[3] for g in metrics]\n",
    "        accs = [g[4] for g in metrics]\n",
    "            \n",
    "        datadict['precision'].append(np.mean(precs))\n",
    "        datadict['recall'].append(np.mean(recalls))\n",
    "        datadict['f1_score'].append(np.mean(f1_scores))\n",
    "        datadict['accuracy'].append(np.mean(accs))\n",
    "\n",
    "    df = pd.DataFrame(datadict,index=index_names)\n",
    "    return df.to_csv(filename_model,mode='a',index=True,header=False)       \n"
   ]
  },
  {
   "cell_type": "code",
   "execution_count": 8,
   "metadata": {},
   "outputs": [
    {
     "data": {
      "text/plain": [
       "24"
      ]
     },
     "execution_count": 8,
     "metadata": {},
     "output_type": "execute_result"
    }
   ],
   "source": [
    "mp.cpu_count()"
   ]
  },
  {
   "cell_type": "code",
   "execution_count": 9,
   "metadata": {},
   "outputs": [],
   "source": [
    "pool = mp.Pool(mp.cpu_count())"
   ]
  },
  {
   "cell_type": "code",
   "execution_count": 11,
   "metadata": {},
   "outputs": [],
   "source": [
    "iterable = list(itertools.product(feature_files,range(10000)))"
   ]
  },
  {
   "cell_type": "code",
   "execution_count": 12,
   "metadata": {},
   "outputs": [
    {
     "name": "stdout",
     "output_type": "stream",
     "text": [
      "CPU times: user 413 ms, sys: 94.4 ms, total: 508 ms\n",
      "Wall time: 29min 21s\n"
     ]
    }
   ],
   "source": [
    "%%time\n",
    "models = list(pool.starmap(model_evaluate,iterable))"
   ]
  },
  {
   "cell_type": "code",
   "execution_count": 14,
   "metadata": {},
   "outputs": [],
   "source": [
    "write_model_stats(models)"
   ]
  },
  {
   "cell_type": "markdown",
   "metadata": {},
   "source": [
    "# Previous Results Generation - No longer necessary"
   ]
  },
  {
   "cell_type": "code",
   "execution_count": 9,
   "metadata": {},
   "outputs": [],
   "source": [
    "mydict = dict()\n",
    "\n",
    "for m,acc in zip(iterable,model_accs):\n",
    "    model_name=m[0].replace('.csv.gz','')\n",
    "    seed = m[1]\n",
    "    if model_name not in mydict:\n",
    "        mydict[model_name] = {seed:acc}\n",
    "    else:\n",
    "        mydict[model_name][seed] = acc"
   ]
  },
  {
   "cell_type": "code",
   "execution_count": 10,
   "metadata": {},
   "outputs": [],
   "source": [
    "def get_model_stats(mname):\n",
    "    train_accs = [v[0] for k,v in mydict[mname].items()]\n",
    "    test_accs = [v[1] for k,v in mydict[mname].items()]\n",
    "    return {'train_min':min(train_accs),'train_mean':np.mean(train_accs),\n",
    "            'train_max':max(train_accs),'train_std':np.std(train_accs),\n",
    "            'test_min':min(test_accs),'test_mean':np.mean(test_accs),\n",
    "            'test_max':max(test_accs),'test_std':np.std(test_accs)}"
   ]
  },
  {
   "cell_type": "code",
   "execution_count": 11,
   "metadata": {},
   "outputs": [
    {
     "data": {
      "text/plain": [
       "{'train_min': 0.9186046511627907,\n",
       " 'train_mean': 0.9638430232558142,\n",
       " 'train_max': 1.0,\n",
       " 'train_std': 0.012560883367346839,\n",
       " 'test_min': 0.4482758620689655,\n",
       " 'test_mean': 0.7745793103448275,\n",
       " 'test_max': 1.0,\n",
       " 'test_std': 0.07275956985816574}"
      ]
     },
     "execution_count": 11,
     "metadata": {},
     "output_type": "execute_result"
    }
   ],
   "source": [
    "get_model_stats('mismatchKernel')"
   ]
  },
  {
   "cell_type": "code",
   "execution_count": 12,
   "metadata": {},
   "outputs": [],
   "source": [
    "results_dict= {mname:get_model_stats(mname) for mname in mydict.keys()}\n",
    "    "
   ]
  },
  {
   "cell_type": "code",
   "execution_count": 13,
   "metadata": {},
   "outputs": [],
   "source": [
    "results_df = pd.DataFrame(results_dict).T"
   ]
  },
  {
   "cell_type": "code",
   "execution_count": 14,
   "metadata": {},
   "outputs": [],
   "source": [
    "results_df.to_csv('../data/SimResults/KernelResults.csv',index=True)"
   ]
  },
  {
   "cell_type": "code",
   "execution_count": 15,
   "metadata": {},
   "outputs": [
    {
     "data": {
      "text/html": [
       "<div>\n",
       "<style scoped>\n",
       "    .dataframe tbody tr th:only-of-type {\n",
       "        vertical-align: middle;\n",
       "    }\n",
       "\n",
       "    .dataframe tbody tr th {\n",
       "        vertical-align: top;\n",
       "    }\n",
       "\n",
       "    .dataframe thead th {\n",
       "        text-align: right;\n",
       "    }\n",
       "</style>\n",
       "<table border=\"1\" class=\"dataframe\">\n",
       "  <thead>\n",
       "    <tr style=\"text-align: right;\">\n",
       "      <th></th>\n",
       "      <th>train_min</th>\n",
       "      <th>train_mean</th>\n",
       "      <th>train_max</th>\n",
       "      <th>train_std</th>\n",
       "      <th>test_min</th>\n",
       "      <th>test_mean</th>\n",
       "      <th>test_max</th>\n",
       "      <th>test_std</th>\n",
       "    </tr>\n",
       "  </thead>\n",
       "  <tbody>\n",
       "    <tr>\n",
       "      <th>mismatchKernel</th>\n",
       "      <td>0.918605</td>\n",
       "      <td>0.963843</td>\n",
       "      <td>1.0</td>\n",
       "      <td>0.012561</td>\n",
       "      <td>0.448276</td>\n",
       "      <td>0.774579</td>\n",
       "      <td>1.0</td>\n",
       "      <td>0.072760</td>\n",
       "    </tr>\n",
       "    <tr>\n",
       "      <th>gappyKernel</th>\n",
       "      <td>0.941860</td>\n",
       "      <td>0.974081</td>\n",
       "      <td>1.0</td>\n",
       "      <td>0.011225</td>\n",
       "      <td>0.413793</td>\n",
       "      <td>0.769362</td>\n",
       "      <td>1.0</td>\n",
       "      <td>0.075005</td>\n",
       "    </tr>\n",
       "    <tr>\n",
       "      <th>spectrumKernel</th>\n",
       "      <td>0.930233</td>\n",
       "      <td>0.974930</td>\n",
       "      <td>1.0</td>\n",
       "      <td>0.011244</td>\n",
       "      <td>0.413793</td>\n",
       "      <td>0.766100</td>\n",
       "      <td>1.0</td>\n",
       "      <td>0.075272</td>\n",
       "    </tr>\n",
       "  </tbody>\n",
       "</table>\n",
       "</div>"
      ],
      "text/plain": [
       "                train_min  train_mean  train_max  train_std  test_min  \\\n",
       "mismatchKernel   0.918605    0.963843        1.0   0.012561  0.448276   \n",
       "gappyKernel      0.941860    0.974081        1.0   0.011225  0.413793   \n",
       "spectrumKernel   0.930233    0.974930        1.0   0.011244  0.413793   \n",
       "\n",
       "                test_mean  test_max  test_std  \n",
       "mismatchKernel   0.774579       1.0  0.072760  \n",
       "gappyKernel      0.769362       1.0  0.075005  \n",
       "spectrumKernel   0.766100       1.0  0.075272  "
      ]
     },
     "execution_count": 15,
     "metadata": {},
     "output_type": "execute_result"
    }
   ],
   "source": [
    "results_df.sort_values('train_mean')"
   ]
  },
  {
   "cell_type": "code",
   "execution_count": null,
   "metadata": {},
   "outputs": [],
   "source": []
  }
 ],
 "metadata": {
  "kernelspec": {
   "display_name": "Python 3",
   "language": "python",
   "name": "python3"
  },
  "language_info": {
   "codemirror_mode": {
    "name": "ipython",
    "version": 3
   },
   "file_extension": ".py",
   "mimetype": "text/x-python",
   "name": "python",
   "nbconvert_exporter": "python",
   "pygments_lexer": "ipython3",
   "version": "3.8.3"
  }
 },
 "nbformat": 4,
 "nbformat_minor": 4
}
