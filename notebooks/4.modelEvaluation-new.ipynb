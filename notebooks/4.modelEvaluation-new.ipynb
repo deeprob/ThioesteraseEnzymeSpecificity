{
 "cells": [
  {
   "cell_type": "code",
   "execution_count": 1,
   "metadata": {},
   "outputs": [],
   "source": [
    "def warn(*args, **kwargs):\n",
    "    pass\n",
    "import warnings\n",
    "warnings.warn = warn"
   ]
  },
  {
   "cell_type": "code",
   "execution_count": 2,
   "metadata": {},
   "outputs": [],
   "source": [
    "import sys\n",
    "import itertools\n",
    "import numpy as np\n",
    "import tqdm\n",
    "import multiprocessing as mp\n",
    "from itertools import groupby\n",
    "from collections import Counter\n",
    "import pandas as pd\n",
    "from sklearn.metrics import accuracy_score, precision_score, recall_score"
   ]
  },
  {
   "cell_type": "code",
   "execution_count": 3,
   "metadata": {},
   "outputs": [],
   "source": [
    "sys.path.append(\"../\")"
   ]
  },
  {
   "cell_type": "code",
   "execution_count": 4,
   "metadata": {},
   "outputs": [],
   "source": [
    "from utils import helper"
   ]
  },
  {
   "cell_type": "markdown",
   "metadata": {},
   "source": [
    "# Best base learner decider\n",
    "\n",
    "First step is to decide which base learning algorithm is suited to this problem. We train all the base learners in the ensemble using each of the three learning algorithms, SVM, NN and GBC and record their performance using the evaluation scheme discussed in the paper."
   ]
  },
  {
   "cell_type": "code",
   "execution_count": 5,
   "metadata": {},
   "outputs": [],
   "source": [
    "# Sequence and label files \n",
    "enz_file = '../data/seq/train_enzyme_sequence.csv'\n",
    "label_file = '../data/label/train_enzyme_labels.csv'\n",
    "\n",
    "# Feature dir for iFeature,kernel,pssm \n",
    "ifeatdatadir = '../data/features/ifeature/featvec/train/'\n",
    "kerneldatadir = '../data/features/kernel/featvec/train/'\n",
    "pssmdatadir = '../data/features/possum/featvec/train/'\n",
    "\n",
    "trainfeatdirs = [ifeatdatadir,kerneldatadir,pssmdatadir]\n",
    "\n",
    "Num_sim = 10000"
   ]
  },
  {
   "cell_type": "code",
   "execution_count": 6,
   "metadata": {},
   "outputs": [],
   "source": [
    "def check_performance(enz_file, test_enz_file, label_file, train_feat_dirs, test_feat_dirs, hyper_param_file, base_algo, k, opt, N):\n",
    "    pool = mp.Pool(mp.cpu_count())\n",
    "    \n",
    "    iter_svm = zip([enz_file for _ in range(N)],\n",
    "                   [test_enz_file for _ in range(N)],\n",
    "                   [label_file for _ in range(N)],\n",
    "                   [train_feat_dirs for _ in range(N)],\n",
    "                   [test_feat_dirs for _ in range(N)],\n",
    "                   [hyper_param_file for _ in range(N)],\n",
    "                   [base_algo for _ in range(N)],\n",
    "                   [k for _ in range(N)],\n",
    "                   [opt for _ in range(N)],\n",
    "                   range(N))\n",
    "    \n",
    "    metrics = pool.starmap(helper.check_base_performance,iter_svm)\n",
    "    \n",
    "    precision = [m[0] for m in metrics]\n",
    "    recall = [m[1] for m in metrics]\n",
    "    accuracy = [m[2] for m in metrics]\n",
    "    \n",
    "    return round(np.mean(precision), 2), round(np.mean(recall), 2), round(np.mean(accuracy), 2)"
   ]
  },
  {
   "cell_type": "code",
   "execution_count": 7,
   "metadata": {
    "scrolled": true
   },
   "outputs": [
    {
     "name": "stdout",
     "output_type": "stream",
     "text": [
      "CPU times: user 591 ms, sys: 170 ms, total: 762 ms\n",
      "Wall time: 9min 4s\n"
     ]
    },
    {
     "data": {
      "text/plain": [
       "(0.88, 0.89, 0.8)"
      ]
     },
     "execution_count": 7,
     "metadata": {},
     "output_type": "execute_result"
    }
   ],
   "source": [
    "%%time\n",
    "check_performance(enz_file, None, label_file, trainfeatdirs, None, None, 'SVM', 5, False, Num_sim)"
   ]
  },
  {
   "cell_type": "code",
   "execution_count": 8,
   "metadata": {},
   "outputs": [
    {
     "name": "stdout",
     "output_type": "stream",
     "text": [
      "CPU times: user 231 ms, sys: 112 ms, total: 343 ms\n",
      "Wall time: 11min 31s\n"
     ]
    },
    {
     "data": {
      "text/plain": [
       "(0.82, 0.94, 0.8)"
      ]
     },
     "execution_count": 8,
     "metadata": {},
     "output_type": "execute_result"
    }
   ],
   "source": [
    "%%time\n",
    "check_performance(enz_file, None, label_file, trainfeatdirs, None, None, 'NN', 5, False, Num_sim)"
   ]
  },
  {
   "cell_type": "code",
   "execution_count": 9,
   "metadata": {},
   "outputs": [
    {
     "name": "stdout",
     "output_type": "stream",
     "text": [
      "CPU times: user 486 ms, sys: 208 ms, total: 694 ms\n",
      "Wall time: 10min 9s\n"
     ]
    },
    {
     "data": {
      "text/plain": [
       "(0.82, 0.92, 0.79)"
      ]
     },
     "execution_count": 9,
     "metadata": {},
     "output_type": "execute_result"
    }
   ],
   "source": [
    "%%time\n",
    "check_performance(enz_file, None, label_file, trainfeatdirs, None, None, 'GBC', 5, False, Num_sim)"
   ]
  },
  {
   "cell_type": "markdown",
   "metadata": {},
   "source": [
    "# Individual Hyperparameter Optimization\n",
    "\n",
    "After selecting the base learning algorithm selection, we hyperparameter optimize each base learner to get optimal results from the ensemble model. \n",
    "\n",
    "The steps are as follows:\n",
    "\n",
    "1. select base learner and simulate model with the optimize flag activated.\n",
    "2. train the ensemble and record the best hyperparameters learnt for each base model. \n",
    "3. run it 1000 times and record the hyperparameters for each base learner throughout the simulations.\n",
    "4. store the most frequent hyperparameters across the 1000 simulations for each base learner. "
   ]
  },
  {
   "cell_type": "code",
   "execution_count": 10,
   "metadata": {},
   "outputs": [],
   "source": [
    "def most_frequent(arr):\n",
    "    count = Counter(arr)\n",
    "    most_freq = count.most_common(1)[0][0]\n",
    "    return most_freq\n",
    "\n",
    "\n",
    "def store_best_hps(enz_file, test_enz_file, label_file, train_feat_dirs, test_feat_dirs, hyper_param_file, base_algo, k, opt, N):\n",
    "    pool = mp.Pool(mp.cpu_count())\n",
    "    \n",
    "    iter_func = zip([enz_file for _ in range(N)],\n",
    "               [test_enz_file for _ in range(N)],\n",
    "               [label_file for _ in range(N)],\n",
    "               [train_feat_dirs for _ in range(N)],\n",
    "               [test_feat_dirs for _ in range(N)],\n",
    "               [hyper_param_file for _ in range(N)],\n",
    "               [base_algo for _ in range(N)],\n",
    "               [k for _ in range(N)],\n",
    "               [opt for _ in range(N)],\n",
    "               range(N))\n",
    "    \n",
    "    all_hps = sum(list(pool.starmap(helper.best_hps, iter_func)),[])\n",
    "    all_hps = sorted(all_hps, key=lambda x: x[0])\n",
    "\n",
    "    with open('../data/results/hpopt/IndHPOpt.csv','w') as f:\n",
    "        f.write('feat_name,regC,kernel,pca_comp')\n",
    "        f.write('\\n')\n",
    "        for feat_name, feat_info in groupby(all_hps, key=lambda x: x[0]):\n",
    "            best_hp_list = [hp[1] for hp in list(feat_info)]\n",
    "            best_regC = most_frequent([x[0] for x in best_hp_list])\n",
    "            best_kernel = most_frequent([x[1] for x in best_hp_list])\n",
    "            best_ncomp = most_frequent([x[2] for x in best_hp_list])\n",
    "            f.write(f\"{feat_name},{best_regC},{best_kernel},{best_ncomp}\")\n",
    "            f.write('\\n')\n",
    "\n",
    "    return "
   ]
  },
  {
   "cell_type": "code",
   "execution_count": 11,
   "metadata": {},
   "outputs": [
    {
     "name": "stdout",
     "output_type": "stream",
     "text": [
      "CPU times: user 456 ms, sys: 170 ms, total: 626 ms\n",
      "Wall time: 1h 4min 2s\n"
     ]
    }
   ],
   "source": [
    "%%time \n",
    "store_best_hps(enz_file, None, label_file, trainfeatdirs, None, None, 'SVM', 5, True, Num_sim//10)"
   ]
  },
  {
   "cell_type": "markdown",
   "metadata": {},
   "source": [
    "# Feature extraction technique performance\n",
    "\n",
    "Comparing the performance of individual feature extraction techniques.\n",
    "\n",
    "After getting the best set of hyperparameters, change the model such that it can accept the individual hyperparameter file. "
   ]
  },
  {
   "cell_type": "code",
   "execution_count": 12,
   "metadata": {},
   "outputs": [],
   "source": [
    "indhpoptfile = '../data/results/hpopt/IndHPOpt.csv'\n",
    "\n",
    "\n",
    "def indfeat_measure(enz_file, test_enz_file, label_file, train_feat_dirs, test_feat_dirs, hyper_param_file, base_algo, k, opt, N):\n",
    "    pool = mp.Pool(mp.cpu_count())\n",
    "    \n",
    "    iter_func = zip([enz_file for _ in range(N)],\n",
    "               [test_enz_file for _ in range(N)],\n",
    "               [label_file for _ in range(N)],\n",
    "               [train_feat_dirs for _ in range(N)],\n",
    "               [test_feat_dirs for _ in range(N)],\n",
    "               [hyper_param_file for _ in range(N)],\n",
    "               [base_algo for _ in range(N)],\n",
    "               [k for _ in range(N)],\n",
    "               [opt for _ in range(N)],\n",
    "               range(N))\n",
    "    \n",
    "    all_metrics = sum(list(pool.starmap(helper.indfeat_performance, iter_func)), [])\n",
    "    all_metrics = sorted(all_metrics, key=lambda x: x[0])\n",
    "    with open(\"../data/results/indfeatreport.csv\", 'w') as f:\n",
    "        f.write('featname,min_precision,max_precision,mean_precision,std_precision,min_recall,max_recall,mean_recall,std_recall,min_accuracy,max_accuracy,mean_accuracy,std_accuracy')\n",
    "        f.write('\\n')\n",
    "        for featname, featinfo in groupby(all_metrics, key=lambda x:x[0]):\n",
    "            all_metric_list = [met[1] for met in featinfo]\n",
    "            all_prec = [m[0] for m in all_metric_list]\n",
    "            all_rec = [m[1] for m in all_metric_list]\n",
    "            all_acc = [m[2] for m in all_metric_list]\n",
    "\n",
    "            min_prec = round(min(all_prec),2)\n",
    "            max_prec = round(max(all_prec),2)\n",
    "            mean_prec = round(np.mean(all_prec),2)\n",
    "            std_prec = round(np.std(all_prec),2)\n",
    "\n",
    "            min_rec = round(min(all_rec),2)\n",
    "            max_rec = round(max(all_rec),2)\n",
    "            mean_rec = round(np.mean(all_rec),2)\n",
    "            std_rec = round(np.std(all_rec),2)\n",
    "\n",
    "            min_acc = round(min(all_acc),2)\n",
    "            max_acc = round(max(all_acc),2)\n",
    "            mean_acc = round(np.mean(all_acc),2)\n",
    "            std_acc = round(np.std(all_acc),2)\n",
    "            \n",
    "            f.write(f'{featname},{min_prec},{max_prec},{mean_prec},{std_prec},{min_rec},{max_rec},{mean_rec},{std_rec},{min_acc},{max_acc},{mean_acc},{std_acc}')\n",
    "            f.write('\\n')\n",
    "\n",
    "        \n",
    "    return\n",
    "        "
   ]
  },
  {
   "cell_type": "code",
   "execution_count": 13,
   "metadata": {
    "scrolled": true
   },
   "outputs": [
    {
     "name": "stdout",
     "output_type": "stream",
     "text": [
      "CPU times: user 764 ms, sys: 156 ms, total: 919 ms\n",
      "Wall time: 8min 32s\n"
     ]
    }
   ],
   "source": [
    "%%time\n",
    "indfeat_measure(enz_file, None, label_file, trainfeatdirs, None, indhpoptfile, 'SVM', 5, False, Num_sim)"
   ]
  },
  {
   "cell_type": "markdown",
   "metadata": {},
   "source": [
    "# Parametric sweep of ensemble model hyperparameter k\n",
    "\n",
    "With the individualized hyperparameters, its time to check the ensemble performance. We run a paramteric sweep of the ensemble model parameter k to get the best estimate of the parameter which denotes the number of base models to select in the ensemble. "
   ]
  },
  {
   "cell_type": "code",
   "execution_count": 14,
   "metadata": {},
   "outputs": [],
   "source": [
    "def ensemble_param_sweep(enz_file, test_enz_file, label_file, train_feat_dirs, test_feat_dirs, hyper_param_file, base_algo, ks, opt, N):\n",
    "\n",
    "    _iter = list(itertools.product(ks, range(N)))\n",
    "    iter_func = zip([enz_file for _ in range(len(_iter))],\n",
    "           [test_enz_file for _ in range(len(_iter))],\n",
    "           [label_file for _ in range(len(_iter))],\n",
    "           [train_feat_dirs for _ in range(len(_iter))],\n",
    "           [test_feat_dirs for _ in range(len(_iter))],\n",
    "           [hyper_param_file for _ in range(len(_iter))],\n",
    "           [base_algo for _ in range(len(_iter))],\n",
    "           [k[0] for k in _iter],\n",
    "           [opt for _ in _iter],\n",
    "           [rs[1] for rs in _iter])\n",
    "    \n",
    "    pool = mp.Pool(mp.cpu_count())\n",
    "    all_preds = list(pool.starmap(helper.ensemble_pred, iter_func))\n",
    "    all_metrics = list(map(helper.get_metrics, all_preds))\n",
    "    def get_mean(met):\n",
    "        return round(np.mean(met), 2)\n",
    "    \n",
    "    with open('../data/results/en_param_sweep.csv','w') as f:\n",
    "        f.write('model_k,mean_precision,mean_recall,mean_accuracy')\n",
    "        f.write('\\n')\n",
    "        for model_k, model_info in itertools.groupby(zip(list(_iter), all_metrics), key=lambda x:x[0][0]):\n",
    "            model_metrics = [m[1] for m in list(model_info)]\n",
    "            prec = [m[0] for m in model_metrics]\n",
    "            rec = [m[1] for m in model_metrics]\n",
    "            acc = [m[2] for m in model_metrics]    \n",
    "        \n",
    "            f.write(f\"{model_k},{','.join(list(map(str,(list(map(get_mean,[prec,rec,acc]))))))}\")\n",
    "            f.write('\\n')\n",
    "        \n",
    "    return "
   ]
  },
  {
   "cell_type": "code",
   "execution_count": 15,
   "metadata": {},
   "outputs": [
    {
     "name": "stdout",
     "output_type": "stream",
     "text": [
      "CPU times: user 9.35 s, sys: 177 ms, total: 9.53 s\n",
      "Wall time: 41min 30s\n"
     ]
    }
   ],
   "source": [
    "%%time\n",
    "ensemble_param_sweep(enz_file, None, label_file, trainfeatdirs, None, indhpoptfile, 'SVM', [5,9,15,21,31], False, Num_sim)"
   ]
  },
  {
   "cell_type": "markdown",
   "metadata": {},
   "source": [
    "# Ensemble model performance\n",
    "\n",
    "With the best base learning algorithm, the best sets of base learner hyperparameters, and the 5 top ranked feature extraction techniques, check the ensemble model performance "
   ]
  },
  {
   "cell_type": "markdown",
   "metadata": {},
   "source": [
    "## Ensemble model parameter k=5 provides the best performance. Hence 5-base learners will be used in the ensemble."
   ]
  },
  {
   "cell_type": "code",
   "execution_count": 16,
   "metadata": {},
   "outputs": [
    {
     "data": {
      "text/html": [
       "<div>\n",
       "<style scoped>\n",
       "    .dataframe tbody tr th:only-of-type {\n",
       "        vertical-align: middle;\n",
       "    }\n",
       "\n",
       "    .dataframe tbody tr th {\n",
       "        vertical-align: top;\n",
       "    }\n",
       "\n",
       "    .dataframe thead th {\n",
       "        text-align: right;\n",
       "    }\n",
       "</style>\n",
       "<table border=\"1\" class=\"dataframe\">\n",
       "  <thead>\n",
       "    <tr style=\"text-align: right;\">\n",
       "      <th></th>\n",
       "      <th>model_k</th>\n",
       "      <th>mean_precision</th>\n",
       "      <th>mean_recall</th>\n",
       "      <th>mean_accuracy</th>\n",
       "    </tr>\n",
       "  </thead>\n",
       "  <tbody>\n",
       "    <tr>\n",
       "      <th>0</th>\n",
       "      <td>5</td>\n",
       "      <td>0.87</td>\n",
       "      <td>0.89</td>\n",
       "      <td>0.80</td>\n",
       "    </tr>\n",
       "    <tr>\n",
       "      <th>1</th>\n",
       "      <td>9</td>\n",
       "      <td>0.87</td>\n",
       "      <td>0.88</td>\n",
       "      <td>0.79</td>\n",
       "    </tr>\n",
       "    <tr>\n",
       "      <th>2</th>\n",
       "      <td>15</td>\n",
       "      <td>0.87</td>\n",
       "      <td>0.87</td>\n",
       "      <td>0.79</td>\n",
       "    </tr>\n",
       "    <tr>\n",
       "      <th>3</th>\n",
       "      <td>21</td>\n",
       "      <td>0.86</td>\n",
       "      <td>0.87</td>\n",
       "      <td>0.78</td>\n",
       "    </tr>\n",
       "    <tr>\n",
       "      <th>4</th>\n",
       "      <td>31</td>\n",
       "      <td>0.85</td>\n",
       "      <td>0.87</td>\n",
       "      <td>0.78</td>\n",
       "    </tr>\n",
       "  </tbody>\n",
       "</table>\n",
       "</div>"
      ],
      "text/plain": [
       "   model_k  mean_precision  mean_recall  mean_accuracy\n",
       "0        5            0.87         0.89           0.80\n",
       "1        9            0.87         0.88           0.79\n",
       "2       15            0.87         0.87           0.79\n",
       "3       21            0.86         0.87           0.78\n",
       "4       31            0.85         0.87           0.78"
      ]
     },
     "execution_count": 16,
     "metadata": {},
     "output_type": "execute_result"
    }
   ],
   "source": [
    "pd.read_csv('../data/results/en_param_sweep.csv')"
   ]
  },
  {
   "cell_type": "code",
   "execution_count": 17,
   "metadata": {},
   "outputs": [],
   "source": [
    "def ensemble_eval(enz_file, test_enz_file, label_file, train_feat_dirs, test_feat_dirs, hyper_param_file, base_algo, k, opt, N):\n",
    "\n",
    "    pool = mp.Pool(mp.cpu_count())\n",
    "    \n",
    "    iter_func = zip([enz_file for _ in range(N)],\n",
    "               [test_enz_file for _ in range(N)],\n",
    "               [label_file for _ in range(N)],\n",
    "               [train_feat_dirs for _ in range(N)],\n",
    "               [test_feat_dirs for _ in range(N)],\n",
    "               [hyper_param_file for _ in range(N)],\n",
    "               [base_algo for _ in range(N)],\n",
    "               [k for _ in range(N)],\n",
    "               [opt for _ in range(N)],\n",
    "               range(N))\n",
    "    \n",
    "    all_preds = list(pool.starmap(helper.ensemble_pred, iter_func))\n",
    "    model_metrics = list(map(helper.get_metrics, all_preds))\n",
    "    all_prec = [m[0] for m in model_metrics]\n",
    "    all_rec = [m[1] for m in model_metrics]\n",
    "    all_acc = [m[2] for m in model_metrics]\n",
    "    \n",
    "    min_prec = round(min(all_prec),2)\n",
    "    max_prec = round(max(all_prec),2)\n",
    "    mean_prec = round(np.mean(all_prec),2)\n",
    "    std_prec = round(np.std(all_prec),2)\n",
    "\n",
    "    min_rec = round(min(all_rec),2)\n",
    "    max_rec = round(max(all_rec),2)\n",
    "    mean_rec = round(np.mean(all_rec),2)\n",
    "    std_rec = round(np.std(all_rec),2)\n",
    "\n",
    "    min_acc = round(min(all_acc),2)\n",
    "    max_acc = round(max(all_acc),2)\n",
    "    mean_acc = round(np.mean(all_acc),2)\n",
    "    std_acc = round(np.std(all_acc),2)\n",
    "    \n",
    "    with open('../data/results/ensemble_results.csv','w') as f:\n",
    "        f.write('ensemble,min_precision,max_precision,mean_precision,std_precision,min_recall,max_recall,mean_recall,std_recall,min_accuracy,max_accuracy,mean_accuracy,std_accuracy')\n",
    "        f.write('\\n')\n",
    "    \n",
    "        f.write(f'ensemble,{min_prec},{max_prec},{mean_prec},{std_prec},{min_rec},{max_rec},{mean_rec},{std_rec},{min_acc},{max_acc},{mean_acc},{std_acc}')\n",
    "        f.write('\\n')\n",
    "        \n",
    "    return"
   ]
  },
  {
   "cell_type": "code",
   "execution_count": 18,
   "metadata": {
    "scrolled": true
   },
   "outputs": [
    {
     "name": "stdout",
     "output_type": "stream",
     "text": [
      "CPU times: user 1.98 s, sys: 161 ms, total: 2.14 s\n",
      "Wall time: 8min 33s\n"
     ]
    }
   ],
   "source": [
    "%%time\n",
    "ensemble_eval(enz_file, None, label_file, trainfeatdirs, None, indhpoptfile, 'SVM', 5, False, Num_sim)"
   ]
  },
  {
   "cell_type": "markdown",
   "metadata": {},
   "source": [
    "## Store model results to disk"
   ]
  },
  {
   "cell_type": "code",
   "execution_count": 19,
   "metadata": {},
   "outputs": [],
   "source": [
    "def ensemble_store(enz_file, test_enz_file, label_file, train_feat_dirs, test_feat_dirs, hyper_param_file, base_algo, k, opt, N):\n",
    "    \"\"\"function stores the validation data in first line and prediction data in second line\"\"\"\n",
    "    pool = mp.Pool(mp.cpu_count())\n",
    "    \n",
    "    iter_func = zip([enz_file for _ in range(N)],\n",
    "           [test_enz_file for _ in range(N)],\n",
    "           [label_file for _ in range(N)],\n",
    "           [train_feat_dirs for _ in range(N)],\n",
    "           [test_feat_dirs for _ in range(N)],\n",
    "           [hyper_param_file for _ in range(N)],\n",
    "           [base_algo for _ in range(N)],\n",
    "           [k for _ in range(N)],\n",
    "           [opt for _ in range(N)],\n",
    "           range(N))\n",
    "\n",
    "    all_preds = list(pool.starmap(helper.ensemble_pred, iter_func))\n",
    "    \n",
    "    with open(\"../data/results/ensemble_preds.csv\",\"w\") as f:\n",
    "        for rs_pred in all_preds:\n",
    "            f.write(\",\".join(map(str,rs_pred[0])))\n",
    "            f.write(\"\\n\")\n",
    "            f.write(\",\".join(map(str,rs_pred[1])))\n",
    "            f.write(\"\\n\")\n",
    "    return"
   ]
  },
  {
   "cell_type": "code",
   "execution_count": 20,
   "metadata": {},
   "outputs": [
    {
     "name": "stdout",
     "output_type": "stream",
     "text": [
      "CPU times: user 419 ms, sys: 165 ms, total: 583 ms\n",
      "Wall time: 8min 35s\n"
     ]
    }
   ],
   "source": [
    "%%time\n",
    "ensemble_store(enz_file, None, label_file, trainfeatdirs, None, indhpoptfile, 'SVM', 5, False, Num_sim)"
   ]
  },
  {
   "cell_type": "markdown",
   "metadata": {},
   "source": [
    "## Model Evaluation all three categories "
   ]
  },
  {
   "cell_type": "code",
   "execution_count": 21,
   "metadata": {},
   "outputs": [],
   "source": [
    "model_pred_file = '../data/results/ensemble_preds.csv'\n",
    "\n",
    "def read_pred_file(filename):\n",
    "    stream = open(filename)\n",
    "    value = stream.readlines()\n",
    "    valid = [list(map(float,value[i].strip().split(','))) for i in range(0,len(value),2)]\n",
    "    preds = [list(map(float,value[i].strip().split(','))) for i in range(1,len(value),2)]\n",
    "    return zip(valid, preds)\n",
    "    "
   ]
  },
  {
   "cell_type": "code",
   "execution_count": 22,
   "metadata": {
    "scrolled": true
   },
   "outputs": [],
   "source": [
    "preds = list(read_pred_file(model_pred_file))"
   ]
  },
  {
   "cell_type": "code",
   "execution_count": 23,
   "metadata": {},
   "outputs": [],
   "source": [
    "label2_metrics = list(map(helper.get_metrics_lab2,preds))\n",
    "label2_prec = [p[0] for p in label2_metrics]\n",
    "label2_rec = [p[1] for p in label2_metrics]\n",
    "\n",
    "label1_metrics = list(map(helper.get_metrics_lab1,preds))\n",
    "label1_prec = [p[0] for p in label1_metrics]\n",
    "label1_rec = [p[1] for p in label1_metrics]\n",
    "\n",
    "label3_metrics = list(map(helper.get_metrics,preds))\n",
    "label3_prec = [p[0] for p in label3_metrics]\n",
    "label3_rec = [p[1] for p in label3_metrics]"
   ]
  },
  {
   "cell_type": "code",
   "execution_count": 24,
   "metadata": {},
   "outputs": [
    {
     "data": {
      "text/plain": [
       "[0.7799599999999999,\n",
       " 0.92531,\n",
       " 0.5644600000000001,\n",
       " 0.28565999999999997,\n",
       " 0.86978,\n",
       " 0.8889600000000001]"
      ]
     },
     "execution_count": 24,
     "metadata": {},
     "output_type": "execute_result"
    }
   ],
   "source": [
    "list(map(np.mean,[label1_prec, label1_rec, label2_prec, label2_rec, label3_prec, label3_rec]))"
   ]
  },
  {
   "cell_type": "markdown",
   "metadata": {},
   "source": [
    "## Model evaluation label 3 or medium chained category"
   ]
  },
  {
   "cell_type": "code",
   "execution_count": 25,
   "metadata": {},
   "outputs": [],
   "source": [
    "label3_acc = [p[2] for p in label3_metrics]"
   ]
  },
  {
   "cell_type": "code",
   "execution_count": 26,
   "metadata": {},
   "outputs": [],
   "source": [
    "def get_ind_metrics(metric):\n",
    "    return np.mean(metric), np.median(metric), min(metric)"
   ]
  },
  {
   "cell_type": "code",
   "execution_count": 27,
   "metadata": {},
   "outputs": [
    {
     "data": {
      "text/plain": [
       "((0.8006700000000001, 0.79, 0.62), (0.86978, 0.88, 0.56))"
      ]
     },
     "execution_count": 27,
     "metadata": {},
     "output_type": "execute_result"
    }
   ],
   "source": [
    "get_ind_metrics(label3_acc), get_ind_metrics(label3_prec)"
   ]
  },
  {
   "cell_type": "code",
   "execution_count": 28,
   "metadata": {},
   "outputs": [],
   "source": [
    "import matplotlib.pyplot as plt"
   ]
  },
  {
   "cell_type": "code",
   "execution_count": 29,
   "metadata": {},
   "outputs": [],
   "source": [
    "def plot_histogram(metrics, metric_names, cs=['midnightblue','teal'], model='Ensemble'):\n",
    "    fig,ax = plt.subplots(1,2, figsize=(12,4))\n",
    "    for i in range(len(metrics)):\n",
    "        ax[i].hist(metrics[i], bins=10, color=cs[i])\n",
    "        ax[i].set_xlim(min(metrics[i]), max(metrics[i]))\n",
    "        ax[i].set_xlabel(f'{metric_names[i]} scores')\n",
    "        ax[i].set_title(f'{metric_names[i]} Score Distribution of {model} Model')\n",
    "    \n",
    "    fig.text(0.0001, 0.5, 'Counts', va='center', rotation='vertical')\n",
    "    plt.tight_layout()\n",
    "    plt.savefig(f'../data/results/figures/{model}_dist.png')\n",
    "    return\n"
   ]
  },
  {
   "cell_type": "code",
   "execution_count": 30,
   "metadata": {},
   "outputs": [
    {
     "data": {
      "image/png": "[encoded data removed]",
      "text/plain": [
       "<Figure size 864x288 with 2 Axes>"
      ]
     },
     "metadata": {
      "needs_background": "light"
     },
     "output_type": "display_data"
    }
   ],
   "source": [
    "plot_histogram([label3_prec,label3_acc], ['Precision','Accuracy'], ['teal', 'midnightblue'])"
   ]
  }
 ],
 "metadata": {
  "kernelspec": {
   "display_name": "Python 3",
   "language": "python",
   "name": "python3"
  },
  "language_info": {
   "codemirror_mode": {
    "name": "ipython",
    "version": 3
   },
   "file_extension": ".py",
   "mimetype": "text/x-python",
   "name": "python",
   "nbconvert_exporter": "python",
   "pygments_lexer": "ipython3",
   "version": "3.8.3"
  }
 },
 "nbformat": 4,
 "nbformat_minor": 4
}
