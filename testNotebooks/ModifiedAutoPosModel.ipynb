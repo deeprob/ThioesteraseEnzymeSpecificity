{
 "cells": [
  {
   "cell_type": "markdown",
   "metadata": {},
   "source": [
    "# Import Enzyme Aligned Datafile"
   ]
  },
  {
   "cell_type": "code",
   "execution_count": 1,
   "metadata": {},
   "outputs": [],
   "source": [
    "import helper"
   ]
  },
  {
   "cell_type": "code",
   "execution_count": 2,
   "metadata": {},
   "outputs": [],
   "source": [
    "enzyme_aligned_datafile = 'Data/Modified-Enzyme-Alignment.txt'\n",
    "\n",
    "X,y,enz_names = helper.parseEnzymeFile(enzyme_aligned_datafile)"
   ]
  },
  {
   "cell_type": "markdown",
   "metadata": {},
   "source": [
    "# Perform a modified split by setting a random seed"
   ]
  },
  {
   "cell_type": "code",
   "execution_count": 3,
   "metadata": {},
   "outputs": [],
   "source": [
    "import numpy as np\n",
    "np.random.seed(350)\n",
    "te_idx,tr_idx = helper.modified_split(enz_names)"
   ]
  },
  {
   "cell_type": "markdown",
   "metadata": {},
   "source": [
    "# Look separately at positions-motifs"
   ]
  },
  {
   "cell_type": "code",
   "execution_count": 4,
   "metadata": {},
   "outputs": [],
   "source": [
    "from IndModels.models import NGModel,GAACModel"
   ]
  },
  {
   "cell_type": "code",
   "execution_count": 5,
   "metadata": {},
   "outputs": [],
   "source": [
    "total_length = len(X[0])"
   ]
  },
  {
   "cell_type": "code",
   "execution_count": 6,
   "metadata": {},
   "outputs": [],
   "source": [
    "X = np.array(list(map(list,X)))"
   ]
  },
  {
   "cell_type": "code",
   "execution_count": 7,
   "metadata": {},
   "outputs": [
    {
     "data": {
      "text/plain": [
       "(116, 100)"
      ]
     },
     "execution_count": 7,
     "metadata": {},
     "output_type": "execute_result"
    }
   ],
   "source": [
    "X[:,[i for i in range(25,125)]].shape"
   ]
  },
  {
   "cell_type": "code",
   "execution_count": null,
   "metadata": {},
   "outputs": [],
   "source": [
    "aligned - 533 \n",
    "1 enzyme multiple \n",
    "first pred 0 to 100 ; 25 to 125 ...."
   ]
  },
  {
   "cell_type": "code",
   "execution_count": 8,
   "metadata": {},
   "outputs": [],
   "source": [
    "band_length = 100\n",
    "motif_length = 7\n",
    "band_step = 25\n",
    "motif_step = 1\n",
    "\n",
    "band_number = 0\n",
    "curr_extreme = band_number*band_step + band_length\n",
    "\n",
    "test_preds,test_acc,train_acc = dict(),dict(),dict()\n",
    "test_preds_ng,test_acc_ng,train_acc_ng = dict(),dict(),dict()\n",
    "\n",
    "while curr_extreme<total_length:\n",
    "    X_sliced = X[:,[i for i in range(band_number*band_step,band_number*band_step+band_length)]]\n",
    "    posModel = GAACModel(enz_names,X_sliced,y,tr_idx,te_idx,k=motif_length,s=motif_step,random_seed=350)\n",
    "    posModel2 = NGModel(enz_names,X_sliced,y,tr_idx,te_idx,k=motif_length,s=motif_step,random_seed=350)\n",
    "    test_acc[band_number] = posModel.SVMobject.acc_test\n",
    "    train_acc[band_number] = posModel.SVMobject.acc_train\n",
    "    test_preds[band_number] = posModel.SVMobject.ypredtest\n",
    "    \n",
    "    test_acc_ng[band_number] = posModel2.SVMobject.acc_test\n",
    "    train_acc_ng[band_number] = posModel2.SVMobject.acc_train\n",
    "    test_preds_ng[band_number] = posModel2.SVMobject.ypredtest\n",
    "\n",
    "    band_number+=1\n",
    "    curr_extreme = band_number*band_step + band_length"
   ]
  },
  {
   "cell_type": "code",
   "execution_count": 9,
   "metadata": {},
   "outputs": [
    {
     "data": {
      "text/plain": [
       "array([2, 2, 3, 2, 3, 2, 3, 2, 2, 2, 1, 3, 3, 3, 1, 1, 3, 3, 3, 3, 1, 3,\n",
       "       1, 3, 1, 3, 2])"
      ]
     },
     "execution_count": 9,
     "metadata": {},
     "output_type": "execute_result"
    }
   ],
   "source": [
    "y[te_idx]"
   ]
  },
  {
   "cell_type": "code",
   "execution_count": 10,
   "metadata": {},
   "outputs": [
    {
     "data": {
      "text/plain": [
       "15.313311086392286"
      ]
     },
     "execution_count": 10,
     "metadata": {},
     "output_type": "execute_result"
    }
   ],
   "source": [
    "sum(np.array(list(train_acc.values()))/0.93)"
   ]
  },
  {
   "cell_type": "code",
   "execution_count": 11,
   "metadata": {},
   "outputs": [],
   "source": [
    "def get_weighted_bands(train_acc):\n",
    "    train_acc_values = np.array(list(train_acc.values()))\n",
    "    divide_by = max(train_acc_values)\n",
    "    new_acc_values = train_acc_values/divide_by\n",
    "    sum_new_vals = sum(new_acc_values)\n",
    "    weighted_vals = new_acc_values/sum_new_vals\n",
    "    weigh_bands = dict(zip(train_acc.keys(),weighted_vals))\n",
    "    return weigh_bands\n",
    "    "
   ]
  },
  {
   "cell_type": "code",
   "execution_count": 1,
   "metadata": {},
   "outputs": [
    {
     "data": {
      "text/plain": [
       "150"
      ]
     },
     "execution_count": 1,
     "metadata": {},
     "output_type": "execute_result"
    }
   ],
   "source": [
    "6*25"
   ]
  },
  {
   "cell_type": "code",
   "execution_count": 3,
   "metadata": {},
   "outputs": [
    {
     "data": {
      "text/plain": [
       "400"
      ]
     },
     "execution_count": 3,
     "metadata": {},
     "output_type": "execute_result"
    }
   ],
   "source": [
    "12*25+ 100"
   ]
  },
  {
   "cell_type": "code",
   "execution_count": 12,
   "metadata": {},
   "outputs": [
    {
     "data": {
      "text/plain": [
       "{0: 0.04277643260694108,\n",
       " 1: 0.04681194511702986,\n",
       " 2: 0.05004035512510089,\n",
       " 3: 0.05326876513317191,\n",
       " 4: 0.05326876513317191,\n",
       " 5: 0.05326876513317191,\n",
       " 6: 0.062146892655367235,\n",
       " 7: 0.06133979015334948,\n",
       " 8: 0.06537530266343825,\n",
       " 9: 0.0645682001614205,\n",
       " 10: 0.06295399515738499,\n",
       " 11: 0.059725585149313955,\n",
       " 12: 0.05649717514124294,\n",
       " 13: 0.05488297013720742,\n",
       " 14: 0.05326876513317191,\n",
       " 15: 0.05326876513317191,\n",
       " 16: 0.05326876513317191,\n",
       " 17: 0.05326876513317191}"
      ]
     },
     "execution_count": 12,
     "metadata": {},
     "output_type": "execute_result"
    }
   ],
   "source": [
    "get_weighted_bands(train_acc)"
   ]
  },
  {
   "cell_type": "code",
   "execution_count": 13,
   "metadata": {},
   "outputs": [],
   "source": [
    "weighted_bands = get_weighted_bands(train_acc)\n",
    "weighted_bands_ng = get_weighted_bands(train_acc_ng)"
   ]
  },
  {
   "cell_type": "code",
   "execution_count": 14,
   "metadata": {},
   "outputs": [],
   "source": [
    "def get_weighted_preds(band_preds):\n",
    "    labels = {1:0,2:0,3:0}\n",
    "    for b,yhat in enumerate(band_preds):\n",
    "        labels[yhat] += weighted_bands[b]\n",
    "    return labels"
   ]
  },
  {
   "cell_type": "code",
   "execution_count": 15,
   "metadata": {},
   "outputs": [],
   "source": [
    "def get_band_preds(idx):\n",
    "    return [v[idx] for v in test_preds.values()]"
   ]
  },
  {
   "cell_type": "code",
   "execution_count": 16,
   "metadata": {},
   "outputs": [],
   "source": [
    "def get_weighted_preds_ng(band_preds_ng):\n",
    "    labels = {1:0,2:0,3:0}\n",
    "    for b,yhat in enumerate(band_preds_ng):\n",
    "        labels[yhat] += weighted_bands_ng[b]\n",
    "    return labels\n",
    "\n",
    "def get_band_preds_ng(idx):\n",
    "    return [v[idx] for v in test_preds_ng.values()]"
   ]
  },
  {
   "cell_type": "code",
   "execution_count": 17,
   "metadata": {},
   "outputs": [
    {
     "data": {
      "text/plain": [
       "{0: 0.04277643260694108,\n",
       " 1: 0.04681194511702986,\n",
       " 2: 0.05004035512510089,\n",
       " 3: 0.05326876513317191,\n",
       " 4: 0.05326876513317191,\n",
       " 5: 0.05326876513317191,\n",
       " 6: 0.062146892655367235,\n",
       " 7: 0.06133979015334948,\n",
       " 8: 0.06537530266343825,\n",
       " 9: 0.0645682001614205,\n",
       " 10: 0.06295399515738499,\n",
       " 11: 0.059725585149313955,\n",
       " 12: 0.05649717514124294,\n",
       " 13: 0.05488297013720742,\n",
       " 14: 0.05326876513317191,\n",
       " 15: 0.05326876513317191,\n",
       " 16: 0.05326876513317191,\n",
       " 17: 0.05326876513317191}"
      ]
     },
     "execution_count": 17,
     "metadata": {},
     "output_type": "execute_result"
    }
   ],
   "source": [
    "weighted_bands"
   ]
  },
  {
   "cell_type": "code",
   "execution_count": null,
   "metadata": {},
   "outputs": [],
   "source": [
    "150-250; 300-400"
   ]
  },
  {
   "cell_type": "code",
   "execution_count": 18,
   "metadata": {
    "scrolled": true
   },
   "outputs": [
    {
     "data": {
      "text/plain": [
       "([3, 3, 3, 3, 3, 3, 3, 3, 2, 2, 1, 1, 3, 3, 3, 3, 3, 3],\n",
       " [3, 3, 3, 3, 3, 3, 3, 3, 2, 2, 1, 1, 3, 3, 3, 3, 3, 3])"
      ]
     },
     "execution_count": 18,
     "metadata": {},
     "output_type": "execute_result"
    }
   ],
   "source": [
    "get_band_preds(2),get_band_preds_ng(2)"
   ]
  },
  {
   "cell_type": "code",
   "execution_count": 19,
   "metadata": {},
   "outputs": [
    {
     "data": {
      "text/plain": [
       "({1: 0.08958837772397094, 2: 0.24939467312348665, 3: 0.6610169491525423},\n",
       " {1: 0.04347826086956522, 2: 0.3735909822866345, 3: 0.5829307568438005})"
      ]
     },
     "execution_count": 19,
     "metadata": {},
     "output_type": "execute_result"
    }
   ],
   "source": [
    "get_weighted_preds(get_band_preds(7)),get_weighted_preds_ng(get_band_preds_ng(7))"
   ]
  },
  {
   "cell_type": "code",
   "execution_count": 20,
   "metadata": {},
   "outputs": [
    {
     "data": {
      "text/plain": [
       "array([2, 2, 3, 2, 3, 2, 3, 2, 2, 2, 1, 3, 3, 3, 1, 1, 3, 3, 3, 3, 1, 3,\n",
       "       1, 3, 1, 3, 2])"
      ]
     },
     "execution_count": 20,
     "metadata": {},
     "output_type": "execute_result"
    }
   ],
   "source": [
    "y[te_idx]"
   ]
  },
  {
   "cell_type": "code",
   "execution_count": 21,
   "metadata": {},
   "outputs": [],
   "source": [
    "def get_pred_and_actual(idx):\n",
    "    return get_weighted_preds(get_band_preds(idx)),y[te_idx][idx]\n",
    "\n",
    "def get_pred_and_actual_ng(idx):\n",
    "    return get_weighted_preds_ng(get_band_preds_ng(idx)),y[te_idx][idx]"
   ]
  },
  {
   "cell_type": "code",
   "execution_count": 22,
   "metadata": {},
   "outputs": [
    {
     "data": {
      "text/plain": [
       "(({1: 0.9467312348668281, 2: 0, 3: 0.05326876513317191}, 2),\n",
       " ({1: 1.0000000000000002, 2: 0, 3: 0}, 2))"
      ]
     },
     "execution_count": 22,
     "metadata": {},
     "output_type": "execute_result"
    }
   ],
   "source": [
    "get_pred_and_actual(26),get_pred_and_actual_ng(26)"
   ]
  },
  {
   "cell_type": "code",
   "execution_count": 26,
   "metadata": {},
   "outputs": [
    {
     "data": {
      "text/plain": [
       "([3, 3, 3, 3, 3, 3, 3, 3, 3, 3, 3, 3, 3, 3, 3, 3, 3, 3],\n",
       " [3, 3, 3, 3, 3, 1, 3, 3, 3, 3, 3, 3, 3, 3, 3, 3, 3, 3])"
      ]
     },
     "execution_count": 26,
     "metadata": {},
     "output_type": "execute_result"
    }
   ],
   "source": [
    "get_band_preds(5),get_band_preds_ng(5)"
   ]
  },
  {
   "cell_type": "code",
   "execution_count": 24,
   "metadata": {},
   "outputs": [
    {
     "name": "stdout",
     "output_type": "stream",
     "text": [
      "0 Cuphea_viscosisssima_(CvB2MT28\n",
      "({1: 0.3131557707828894, 2: 0, 3: 0.6868442292171105}, 2)\n",
      "({1: 0.31078904991948475, 2: 0.06280193236714977, 3: 0.6264090177133657}, 2)\n",
      "1 Cuphea_viscosisssima_(CvB2MT21\n",
      "({1: 0.3131557707828894, 2: 0, 3: 0.6868442292171105}, 2)\n",
      "({1: 0.24637681159420294, 2: 0, 3: 0.7536231884057972}, 2)\n",
      "2 Cuphea_viscosisssima_(CvB2MT32\n",
      "({1: 0.12267958030669895, 2: 0.12994350282485873, 3: 0.7473769168684422}, 3)\n",
      "({1: 0.12238325281803544, 2: 0.13043478260869568, 3: 0.747181964573269}, 3)\n",
      "3 Cocos_nucifera_(CnFatB3)\n",
      "({1: 0.8401937046004843, 2: 0, 3: 0.1598062953995157}, 2)\n",
      "({1: 0.9484702093397748, 2: 0, 3: 0.05152979066022545}, 2)\n",
      "4 Cuphea_viscosisssima_(CvB2MT26\n",
      "({1: 0, 2: 0, 3: 1.0}, 3)\n",
      "({1: 0, 2: 0, 3: 1.0000000000000002}, 3)\n",
      "5 Cuphea_carthagenesis_(CcFatB)\n",
      "({1: 0, 2: 0, 3: 1.0}, 2)\n",
      "({1: 0.053140096618357495, 2: 0, 3: 0.9468599033816427}, 2)\n",
      "6 Cuphea_aequipetala_(Ca1FatB2)\n",
      "({1: 0, 2: 0, 3: 1.0}, 3)\n",
      "({1: 0, 2: 0, 3: 1.0000000000000002}, 3)\n",
      "7 rTE40\n",
      "({1: 0.08958837772397094, 2: 0.24939467312348665, 3: 0.6610169491525423}, 2)\n",
      "({1: 0.04347826086956522, 2: 0.3735909822866345, 3: 0.5829307568438005}, 2)\n",
      "8 Cuphea_viscosisssima_(CvB2MT13\n",
      "({1: 0.25343018563357544, 2: 0, 3: 0.7465698143664244}, 2)\n",
      "({1: 0.2512077294685991, 2: 0.12238325281803544, 3: 0.6264090177133657}, 2)\n",
      "9 Cuphea_viscosisssima_(CvB2MT3\n",
      "({1: 0.25343018563357544, 2: 0, 3: 0.7465698143664244}, 2)\n",
      "({1: 0.18679549114331725, 2: 0, 3: 0.8132045088566828}, 2)\n",
      "10 Helianthus_Annuus_(HaFatB1)\n",
      "({1: 1.0, 2: 0, 3: 0}, 1)\n",
      "({1: 0.8792270531400969, 2: 0, 3: 0.1207729468599034}, 1)\n",
      "11 Cuphea_viscosisssima_(CvB2MT18\n",
      "({1: 0, 2: 0, 3: 1.0}, 3)\n",
      "({1: 0, 2: 0, 3: 1.0000000000000002}, 3)\n",
      "12 Cuphea_viscosisssima_(CvB2MT22\n",
      "({1: 0.12267958030669895, 2: 0.12994350282485873, 3: 0.7473769168684422}, 3)\n",
      "({1: 0.12238325281803544, 2: 0.13043478260869568, 3: 0.747181964573269}, 3)\n",
      "13 Umbellularia_californica_(UcFatB1)\n",
      "({1: 0.14447134786117835, 2: 0.8555286521388217, 3: 0}, 3)\n",
      "({1: 0.1610305958132045, 2: 0.8389694041867957, 3: 0}, 3)\n",
      "14 Cuphea_decandra_(Cd1FatB1)\n",
      "({1: 0.678773204196933, 2: 0, 3: 0.32122679580306696}, 1)\n",
      "({1: 0.4170692431561997, 2: 0, 3: 0.5829307568438005}, 1)\n",
      "15 Cuphea_leptopoda_(Cl3FatB1)\n",
      "({1: 0.5092816787732042, 2: 0, 3: 0.4907183212267958}, 1)\n",
      "({1: 0.4170692431561997, 2: 0, 3: 0.5829307568438005}, 1)\n",
      "16 rTE12\n",
      "({1: 0.17029862792574657, 2: 0.06537530266343825, 3: 0.7643260694108152}, 3)\n",
      "({1: 0.1658615136876007, 2: 0.2512077294685991, 3: 0.5829307568438005}, 3)\n",
      "17 UcFatB1(T231K)\n",
      "({1: 0.5536723163841808, 2: 0.4463276836158192, 3: 0}, 3)\n",
      "({1: 0.4001610305958132, 2: 0.5998389694041869, 3: 0}, 3)\n",
      "18 Cuphea_viscosisssima_(CvB2MT44\n",
      "({1: 0, 2: 0, 3: 1.0}, 3)\n",
      "({1: 0, 2: 0, 3: 1.0000000000000002}, 3)\n",
      "19 Cuphea_viscosisssima_(CvB2MT31\n",
      "({1: 0, 2: 0, 3: 1.0}, 3)\n",
      "({1: 0.059581320450885676, 2: 0, 3: 0.9404186795491145}, 3)\n",
      "20 Cuphea_hookeriana_(ChFatB1)\n",
      "({1: 0.6255044390637611, 2: 0, 3: 0.37449556093623887}, 1)\n",
      "({1: 0.46859903381642515, 2: 0, 3: 0.531400966183575}, 1)\n",
      "21 rTE48\n",
      "({1: 0.08958837772397094, 2: 0, 3: 0.9104116222760291}, 3)\n",
      "({1: 0.04347826086956522, 2: 0, 3: 0.956521739130435}, 3)\n",
      "22 Prunus_sibirica_L._(Siberian apricot)\n",
      "({1: 1.0, 2: 0, 3: 0}, 1)\n",
      "({1: 0.9396135265700485, 2: 0, 3: 0.0603864734299517}, 1)\n",
      "23 Cuphea_viscosisssima_(CvB2MT27\n",
      "({1: 0.059725585149313955, 2: 0, 3: 0.9402744148506861}, 3)\n",
      "({1: 0.059581320450885676, 2: 0, 3: 0.9404186795491145}, 3)\n",
      "24 Iris_germanica_2\n",
      "({1: 1.0, 2: 0, 3: 0}, 1)\n",
      "({1: 0.8937198067632852, 2: 0.10628019323671499, 3: 0}, 1)\n",
      "25 rTE15\n",
      "({1: 0.17029862792574657, 2: 0.06537530266343825, 3: 0.7643260694108152}, 3)\n",
      "({1: 0.106280193236715, 2: 0.2512077294685991, 3: 0.6425120772946861}, 3)\n",
      "26 Lindera_communis\n",
      "({1: 0.9467312348668281, 2: 0, 3: 0.05326876513317191}, 2)\n",
      "({1: 1.0000000000000002, 2: 0, 3: 0}, 2)\n"
     ]
    }
   ],
   "source": [
    "for i in range(len(te_idx)):\n",
    "    print(i,enz_names[te_idx][i])\n",
    "    print(get_pred_and_actual(i))\n",
    "    print(get_pred_and_actual_ng(i))"
   ]
  },
  {
   "cell_type": "code",
   "execution_count": null,
   "metadata": {},
   "outputs": [],
   "source": []
  }
 ],
 "metadata": {
  "kernelspec": {
   "display_name": "Python 3",
   "language": "python",
   "name": "python3"
  },
  "language_info": {
   "codemirror_mode": {
    "name": "ipython",
    "version": 3
   },
   "file_extension": ".py",
   "mimetype": "text/x-python",
   "name": "python",
   "nbconvert_exporter": "python",
   "pygments_lexer": "ipython3",
   "version": "3.7.9"
  }
 },
 "nbformat": 4,
 "nbformat_minor": 4
}
