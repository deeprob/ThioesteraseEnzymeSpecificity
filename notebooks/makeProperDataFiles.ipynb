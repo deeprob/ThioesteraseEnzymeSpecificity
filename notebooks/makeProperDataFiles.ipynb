{
 "cells": [
  {
   "cell_type": "code",
   "execution_count": 1,
   "metadata": {},
   "outputs": [],
   "source": [
    "import pandas as pd"
   ]
  },
  {
   "cell_type": "code",
   "execution_count": 2,
   "metadata": {},
   "outputs": [],
   "source": [
    "raw_train_datafile = '../data/LatestData/TE_Seq_Truncated_1-27-21.csv'\n",
    "raw_test_datafile = '../data/LatestData/C10TE_candidates_koehneana_lanceolata.csv'\n",
    "raw_regression_labelfile = '../data/ThioesteraseProductFractionLabel.xlsx'"
   ]
  },
  {
   "cell_type": "code",
   "execution_count": 3,
   "metadata": {},
   "outputs": [],
   "source": [
    "'''Files needed:\n",
    "- 1 csv file with enz_alias,enz_sequence\n",
    "- 1 csv file with test_enz_alias,test_enz_sequence\n",
    "- 3 csv files with enz_alias,enz_labels(multiclass,binary,regression)\n",
    "- 1 csv file with enz_alias,enz_name mapping\n",
    "- 1 csv file with test_enz_alias,test_enz_name mapping\n",
    "- 1 fasta file with header as enz_alias and second line as sequence\n",
    "- 1 fasta file with header as test_enz_alias and second line as test_enz_sequence'''\n",
    "\n",
    "raw_train_df = pd.read_csv(raw_train_datafile,header=None)\n",
    "raw_test_df = pd.read_csv(raw_test_datafile,header=None)"
   ]
  },
  {
   "cell_type": "code",
   "execution_count": 4,
   "metadata": {},
   "outputs": [],
   "source": [
    "#assign proper column names\n",
    "raw_train_df.columns = ['enzNames','sequence','label']\n",
    "raw_test_df.columns = ['enzNames','sequence','label']\n",
    "\n",
    "#make all the sequences upper and get rid of -\n",
    "def upSeq(seqString):\n",
    "    return seqString.upper().replace('-','')\n",
    "\n",
    "raw_train_df['sequence'] = raw_train_df.sequence.apply(upSeq)\n",
    "raw_test_df['sequence'] = raw_test_df.sequence.apply(upSeq)\n",
    "\n",
    "#get rid of sequences with values in 'B', 'J', 'O', 'U', 'X' and 'Z'\n",
    "train_df = raw_train_df.loc[~raw_train_df['sequence'].str.contains('B|J|O|U|X|Z')]\n",
    "test_df = raw_test_df.loc[~raw_test_df['sequence'].str.contains('B|J|O|U|X|Z')]\n",
    "\n",
    "# give enz_alias\n",
    "enz_alias_train = [f'enz_{i}' for i in range(len(train_df['enzNames']))]\n",
    "train_df = train_df.assign(enzAlias=enz_alias_train)\n",
    "enz_alias_test = [f'test_enz_{i}' for i in range(len(test_df['enzNames']))]\n",
    "test_df = test_df.assign(enzAlias=enz_alias_test)\n",
    "\n",
    "# create dictionary mapping between alias and enzyme names\n",
    "enz_train_mapdict = dict(zip(train_df['enzAlias'],train_df['enzNames']))\n",
    "enz_test_mapdict = dict(zip(test_df['enzAlias'],test_df['enzNames']))\n",
    "\n",
    "# create binary labels\n",
    "def binaryLabel(val):\n",
    "    if val==3:\n",
    "        return 1\n",
    "    else:\n",
    "        return 0\n",
    "\n",
    "train_df['binaryLabel'] = train_df.label.apply(binaryLabel)"
   ]
  },
  {
   "cell_type": "code",
   "execution_count": 5,
   "metadata": {
    "scrolled": true
   },
   "outputs": [
    {
     "data": {
      "text/html": [
       "<div>\n",
       "<style scoped>\n",
       "    .dataframe tbody tr th:only-of-type {\n",
       "        vertical-align: middle;\n",
       "    }\n",
       "\n",
       "    .dataframe tbody tr th {\n",
       "        vertical-align: top;\n",
       "    }\n",
       "\n",
       "    .dataframe thead th {\n",
       "        text-align: right;\n",
       "    }\n",
       "</style>\n",
       "<table border=\"1\" class=\"dataframe\">\n",
       "  <thead>\n",
       "    <tr style=\"text-align: right;\">\n",
       "      <th></th>\n",
       "      <th>enzNames</th>\n",
       "      <th>sequence</th>\n",
       "      <th>label</th>\n",
       "      <th>enzAlias</th>\n",
       "      <th>binaryLabel</th>\n",
       "    </tr>\n",
       "  </thead>\n",
       "  <tbody>\n",
       "    <tr>\n",
       "      <th>0</th>\n",
       "      <td>A._hypogaea_l._(AhFatA)</td>\n",
       "      <td>MAVGFGYPMNRVLSVRAIVSDRDGAVVNRVGAEAGTLADRLRLGSL...</td>\n",
       "      <td>1</td>\n",
       "      <td>enz_0</td>\n",
       "      <td>0</td>\n",
       "    </tr>\n",
       "    <tr>\n",
       "      <th>1</th>\n",
       "      <td>Arabidopsis_thaliana</td>\n",
       "      <td>MLPDWSMLLAAITTIFLAAEKQWMMLDWKPRRSDMLVDPFGIGRIV...</td>\n",
       "      <td>1</td>\n",
       "      <td>enz_1</td>\n",
       "      <td>0</td>\n",
       "    </tr>\n",
       "    <tr>\n",
       "      <th>2</th>\n",
       "      <td>Auxenochlorella_protothecoides</td>\n",
       "      <td>MVENKRVFLEEHRIRGNEAGPSQHVTIAAVANILQEAAGNHAVAMW...</td>\n",
       "      <td>1</td>\n",
       "      <td>enz_2</td>\n",
       "      <td>0</td>\n",
       "    </tr>\n",
       "    <tr>\n",
       "      <th>3</th>\n",
       "      <td>Brassica_juncea_(BjFatB1)</td>\n",
       "      <td>MLPDWSMLLAAITTVFLAAEKQWMMLDWKPRRSDVIMYPFGLGRIV...</td>\n",
       "      <td>1</td>\n",
       "      <td>enz_3</td>\n",
       "      <td>0</td>\n",
       "    </tr>\n",
       "    <tr>\n",
       "      <th>4</th>\n",
       "      <td>Brassica_juncea_(BjFatB2)</td>\n",
       "      <td>MLPDWSMLLAAITTVFLAAEKQWMMLDWKPRRSDMIMDPFGLGRIV...</td>\n",
       "      <td>1</td>\n",
       "      <td>enz_4</td>\n",
       "      <td>0</td>\n",
       "    </tr>\n",
       "  </tbody>\n",
       "</table>\n",
       "</div>"
      ],
      "text/plain": [
       "                         enzNames  \\\n",
       "0         A._hypogaea_l._(AhFatA)   \n",
       "1            Arabidopsis_thaliana   \n",
       "2  Auxenochlorella_protothecoides   \n",
       "3       Brassica_juncea_(BjFatB1)   \n",
       "4       Brassica_juncea_(BjFatB2)   \n",
       "\n",
       "                                            sequence  label enzAlias  \\\n",
       "0  MAVGFGYPMNRVLSVRAIVSDRDGAVVNRVGAEAGTLADRLRLGSL...      1    enz_0   \n",
       "1  MLPDWSMLLAAITTIFLAAEKQWMMLDWKPRRSDMLVDPFGIGRIV...      1    enz_1   \n",
       "2  MVENKRVFLEEHRIRGNEAGPSQHVTIAAVANILQEAAGNHAVAMW...      1    enz_2   \n",
       "3  MLPDWSMLLAAITTVFLAAEKQWMMLDWKPRRSDVIMYPFGLGRIV...      1    enz_3   \n",
       "4  MLPDWSMLLAAITTVFLAAEKQWMMLDWKPRRSDMIMDPFGLGRIV...      1    enz_4   \n",
       "\n",
       "   binaryLabel  \n",
       "0            0  \n",
       "1            0  \n",
       "2            0  \n",
       "3            0  \n",
       "4            0  "
      ]
     },
     "execution_count": 5,
     "metadata": {},
     "output_type": "execute_result"
    }
   ],
   "source": [
    "train_df.head()"
   ]
  },
  {
   "cell_type": "code",
   "execution_count": 6,
   "metadata": {},
   "outputs": [],
   "source": [
    "# create regression labels\n",
    "raw_df_reg = pd.read_excel(raw_regression_labelfile,header=None)\n",
    "raw_df_reg.loc[111,0] = 'UcFatB1(R197M,' #useless modification\n",
    "raw_df_reg.loc[112,0] = 'UcFatB1(197M,' #useless modification\n",
    "df_reg = raw_df_reg.merge(train_df.loc[:,['enzNames','sequence','enzAlias']],right_on='enzNames',left_on=0)"
   ]
  },
  {
   "cell_type": "code",
   "execution_count": 7,
   "metadata": {
    "scrolled": true
   },
   "outputs": [
    {
     "data": {
      "text/plain": [
       "{'Cuphea_inflata_(Ci1FatB1)', 'Sorghum_bicolor_3', 'Ulmus_americana'}"
      ]
     },
     "execution_count": 7,
     "metadata": {},
     "output_type": "execute_result"
    }
   ],
   "source": [
    "set(raw_df_reg[0]).difference(set(train_df.enzNames))"
   ]
  },
  {
   "cell_type": "code",
   "execution_count": 8,
   "metadata": {},
   "outputs": [
    {
     "data": {
      "text/plain": [
       "{'Cuphea_viscosissima_(CvFatB1)', 'Cuphea_viscosissima_(CvFatB2)'}"
      ]
     },
     "execution_count": 8,
     "metadata": {},
     "output_type": "execute_result"
    }
   ],
   "source": [
    "set(train_df.enzNames).difference(set(raw_df_reg[0]))"
   ]
  },
  {
   "cell_type": "code",
   "execution_count": 9,
   "metadata": {},
   "outputs": [
    {
     "data": {
      "text/html": [
       "<div>\n",
       "<style scoped>\n",
       "    .dataframe tbody tr th:only-of-type {\n",
       "        vertical-align: middle;\n",
       "    }\n",
       "\n",
       "    .dataframe tbody tr th {\n",
       "        vertical-align: top;\n",
       "    }\n",
       "\n",
       "    .dataframe thead th {\n",
       "        text-align: right;\n",
       "    }\n",
       "</style>\n",
       "<table border=\"1\" class=\"dataframe\">\n",
       "  <thead>\n",
       "    <tr style=\"text-align: right;\">\n",
       "      <th></th>\n",
       "      <th>0</th>\n",
       "      <th>1</th>\n",
       "      <th>enzNames</th>\n",
       "      <th>sequence</th>\n",
       "      <th>enzAlias</th>\n",
       "    </tr>\n",
       "  </thead>\n",
       "  <tbody>\n",
       "    <tr>\n",
       "      <th>0</th>\n",
       "      <td>Cuphea_palustris_(CpFatB1)</td>\n",
       "      <td>0.980000</td>\n",
       "      <td>Cuphea_palustris_(CpFatB1)</td>\n",
       "      <td>MLLTAITTVFVAPEKRWTMFDRKSKRPNMLMDSFGLERVVQDGLVF...</td>\n",
       "      <td>enz_23</td>\n",
       "    </tr>\n",
       "    <tr>\n",
       "      <th>1</th>\n",
       "      <td>Iris_germanica_1</td>\n",
       "      <td>0.050000</td>\n",
       "      <td>Iris_germanica_1</td>\n",
       "      <td>MLPDWSVLLAAITTIFLAAEKQWTLIDWKRGGPDMLTDAFGLGKII...</td>\n",
       "      <td>enz_81</td>\n",
       "    </tr>\n",
       "    <tr>\n",
       "      <th>2</th>\n",
       "      <td>Iris_germanica_2</td>\n",
       "      <td>0.090000</td>\n",
       "      <td>Iris_germanica_2</td>\n",
       "      <td>MLPDWSVLLAAITTIFLAAEKQWTLIDWKRGGPDMLSDAFGLPKII...</td>\n",
       "      <td>enz_82</td>\n",
       "    </tr>\n",
       "    <tr>\n",
       "      <th>3</th>\n",
       "      <td>Sorghum_bicolor_1</td>\n",
       "      <td>0.060000</td>\n",
       "      <td>Sorghum_bicolor_1</td>\n",
       "      <td>MLPDWSMLLAAVTTIFLAAEKQWTLLDWKPKKPDMLVDTFGFGRII...</td>\n",
       "      <td>enz_107</td>\n",
       "    </tr>\n",
       "    <tr>\n",
       "      <th>4</th>\n",
       "      <td>Sorghum_bicolor_2</td>\n",
       "      <td>0.100000</td>\n",
       "      <td>Sorghum_bicolor_2</td>\n",
       "      <td>MLPDWSMLLAAITTIFLAAEKQWTMLDWKPRRPDMLTDTFGFGRII...</td>\n",
       "      <td>enz_108</td>\n",
       "    </tr>\n",
       "    <tr>\n",
       "      <th>...</th>\n",
       "      <td>...</td>\n",
       "      <td>...</td>\n",
       "      <td>...</td>\n",
       "      <td>...</td>\n",
       "      <td>...</td>\n",
       "    </tr>\n",
       "    <tr>\n",
       "      <th>108</th>\n",
       "      <td>UcFatB1(R197M,</td>\n",
       "      <td>0.091167</td>\n",
       "      <td>UcFatB1(R197M,</td>\n",
       "      <td>MLEWKPKLPQLLDDHFGLHGLVFRRTFAIRSYEVGPDRSTSILAVM...</td>\n",
       "      <td>enz_111</td>\n",
       "    </tr>\n",
       "    <tr>\n",
       "      <th>109</th>\n",
       "      <td>UcFatB1(197M,</td>\n",
       "      <td>0.405450</td>\n",
       "      <td>UcFatB1(197M,</td>\n",
       "      <td>MLEWKPKLPQLLDDHFGLHGLVFRRTFAIRSYEVGPDRSTSILAVM...</td>\n",
       "      <td>enz_110</td>\n",
       "    </tr>\n",
       "    <tr>\n",
       "      <th>110</th>\n",
       "      <td>UcFatB1(T231K)</td>\n",
       "      <td>0.827146</td>\n",
       "      <td>UcFatB1(T231K)</td>\n",
       "      <td>MLEWKPKLPQLLDDHFGLHGLVFRRTFAIRSYEVGPDRSTSILAVM...</td>\n",
       "      <td>enz_112</td>\n",
       "    </tr>\n",
       "    <tr>\n",
       "      <th>111</th>\n",
       "      <td>Prunus_sibirica_L._(Siberian</td>\n",
       "      <td>0.006725</td>\n",
       "      <td>Prunus_sibirica_L._(Siberian</td>\n",
       "      <td>MLPDWSVLLAAITTIFLAAEKQWTMLDWKPKRPDMLIDPFGLGRIV...</td>\n",
       "      <td>enz_87</td>\n",
       "    </tr>\n",
       "    <tr>\n",
       "      <th>112</th>\n",
       "      <td>Auxenochlorella_protothecoides</td>\n",
       "      <td>0.012846</td>\n",
       "      <td>Auxenochlorella_protothecoides</td>\n",
       "      <td>MVENKRVFLEEHRIRGNEAGPSQHVTIAAVANILQEAAGNHAVAMW...</td>\n",
       "      <td>enz_2</td>\n",
       "    </tr>\n",
       "  </tbody>\n",
       "</table>\n",
       "<p>113 rows × 5 columns</p>\n",
       "</div>"
      ],
      "text/plain": [
       "                                  0         1                        enzNames  \\\n",
       "0        Cuphea_palustris_(CpFatB1)  0.980000      Cuphea_palustris_(CpFatB1)   \n",
       "1                  Iris_germanica_1  0.050000                Iris_germanica_1   \n",
       "2                  Iris_germanica_2  0.090000                Iris_germanica_2   \n",
       "3                 Sorghum_bicolor_1  0.060000               Sorghum_bicolor_1   \n",
       "4                 Sorghum_bicolor_2  0.100000               Sorghum_bicolor_2   \n",
       "..                              ...       ...                             ...   \n",
       "108                  UcFatB1(R197M,  0.091167                  UcFatB1(R197M,   \n",
       "109                   UcFatB1(197M,  0.405450                   UcFatB1(197M,   \n",
       "110                  UcFatB1(T231K)  0.827146                  UcFatB1(T231K)   \n",
       "111    Prunus_sibirica_L._(Siberian  0.006725    Prunus_sibirica_L._(Siberian   \n",
       "112  Auxenochlorella_protothecoides  0.012846  Auxenochlorella_protothecoides   \n",
       "\n",
       "                                              sequence enzAlias  \n",
       "0    MLLTAITTVFVAPEKRWTMFDRKSKRPNMLMDSFGLERVVQDGLVF...   enz_23  \n",
       "1    MLPDWSVLLAAITTIFLAAEKQWTLIDWKRGGPDMLTDAFGLGKII...   enz_81  \n",
       "2    MLPDWSVLLAAITTIFLAAEKQWTLIDWKRGGPDMLSDAFGLPKII...   enz_82  \n",
       "3    MLPDWSMLLAAVTTIFLAAEKQWTLLDWKPKKPDMLVDTFGFGRII...  enz_107  \n",
       "4    MLPDWSMLLAAITTIFLAAEKQWTMLDWKPRRPDMLTDTFGFGRII...  enz_108  \n",
       "..                                                 ...      ...  \n",
       "108  MLEWKPKLPQLLDDHFGLHGLVFRRTFAIRSYEVGPDRSTSILAVM...  enz_111  \n",
       "109  MLEWKPKLPQLLDDHFGLHGLVFRRTFAIRSYEVGPDRSTSILAVM...  enz_110  \n",
       "110  MLEWKPKLPQLLDDHFGLHGLVFRRTFAIRSYEVGPDRSTSILAVM...  enz_112  \n",
       "111  MLPDWSVLLAAITTIFLAAEKQWTMLDWKPKRPDMLIDPFGLGRIV...   enz_87  \n",
       "112  MVENKRVFLEEHRIRGNEAGPSQHVTIAAVANILQEAAGNHAVAMW...    enz_2  \n",
       "\n",
       "[113 rows x 5 columns]"
      ]
     },
     "execution_count": 9,
     "metadata": {},
     "output_type": "execute_result"
    }
   ],
   "source": [
    "df_reg"
   ]
  },
  {
   "cell_type": "code",
   "execution_count": 10,
   "metadata": {},
   "outputs": [],
   "source": [
    "# save the csv sequence file\n",
    "train_df.loc[:,['enzAlias','sequence']].to_csv('../data/SeqFile/EnzymeSequence.csv',header=None,index=None)\n",
    "test_df.loc[:,['enzAlias','sequence']].to_csv('../data/SeqFile/TestEnzymeSequence.csv',header=None,index=None)\n",
    "\n",
    "#save the csv label files\n",
    "train_df.loc[:,['enzAlias','label']].to_csv('../data/LabelFiles/EnzymeLabelsMultiClass.csv',header=None,index=None)\n",
    "train_df.loc[:,['enzAlias','binaryLabel']].to_csv('../data/LabelFiles/EnzymeLabelsBinary.csv',header=None,index=None)\n",
    "df_reg.loc[:,['enzAlias',1]].to_csv('../data/LabelFiles/EnzymeLabelsRegression.csv',header=None,index=None)\n",
    "\n",
    "#save the enzyme name mappings\n",
    "train_df.loc[:,['enzAlias','enzNames']].to_csv('../data/EnzymeNameMap.csv',header=None,index=None)\n",
    "test_df.loc[:,['enzAlias','enzNames']].to_csv('../data/TestEnzymeNameMap.csv',header=None,index=None)\n",
    "\n",
    "#createFastafileTrain\n",
    "with open('../data/SeqFile/EnzymeFasta.fa','w') as f:\n",
    "    for enzal,enzseq in zip(train_df.enzAlias,train_df.sequence):\n",
    "        f.write('>'+enzal)\n",
    "        f.write('\\n')\n",
    "        f.write(enzseq+'\\n')\n",
    "        \n",
    "#createFastafileTest\n",
    "with open('../data/SeqFile/TestEnzymeFasta.fa','w') as f:\n",
    "    for enzal,enzseq in zip(test_df.enzAlias,test_df.sequence):\n",
    "        f.write('>'+enzal)\n",
    "        f.write('\\n')\n",
    "        f.write(enzseq+'\\n')"
   ]
  },
  {
   "cell_type": "code",
   "execution_count": null,
   "metadata": {},
   "outputs": [],
   "source": []
  }
 ],
 "metadata": {
  "kernelspec": {
   "display_name": "Python 3",
   "language": "python",
   "name": "python3"
  },
  "language_info": {
   "codemirror_mode": {
    "name": "ipython",
    "version": 3
   },
   "file_extension": ".py",
   "mimetype": "text/x-python",
   "name": "python",
   "nbconvert_exporter": "python",
   "pygments_lexer": "ipython3",
   "version": "3.8.3"
  }
 },
 "nbformat": 4,
 "nbformat_minor": 4
}
