{
 "cells": [
  {
   "cell_type": "code",
   "execution_count": 1,
   "metadata": {},
   "outputs": [],
   "source": [
    "import os\n",
    "import pandas as pd"
   ]
  },
  {
   "cell_type": "code",
   "execution_count": 2,
   "metadata": {},
   "outputs": [],
   "source": [
    "data_file_dir = '../data/featfiles/'\n",
    "output_file_dir = '../data/featvec/'"
   ]
  },
  {
   "cell_type": "code",
   "execution_count": 3,
   "metadata": {},
   "outputs": [],
   "source": [
    "def save_featvec(feat_file,foldername):\n",
    "    df = pd.read_csv(data_file_dir+foldername+feat_file,header=None,skiprows=1)\n",
    "    df = df.set_index(0)\n",
    "    df.to_csv(output_file_dir+foldername+feat_file,index=True,header=False,compression='gzip')\n",
    "    return"
   ]
  },
  {
   "cell_type": "code",
   "execution_count": 4,
   "metadata": {},
   "outputs": [],
   "source": [
    "for folder in os.scandir(data_file_dir):\n",
    "    for file in os.scandir(data_file_dir+folder.name):\n",
    "        if file.name.endswith('.csv.gz'):\n",
    "            save_featvec(file.name,folder.name+'/')"
   ]
  },
  {
   "cell_type": "code",
   "execution_count": null,
   "metadata": {},
   "outputs": [],
   "source": []
  }
 ],
 "metadata": {
  "kernelspec": {
   "display_name": "Python 3",
   "language": "python",
   "name": "python3"
  },
  "language_info": {
   "codemirror_mode": {
    "name": "ipython",
    "version": 3
   },
   "file_extension": ".py",
   "mimetype": "text/x-python",
   "name": "python",
   "nbconvert_exporter": "python",
   "pygments_lexer": "ipython3",
   "version": "3.7.9"
  }
 },
 "nbformat": 4,
 "nbformat_minor": 4
}
