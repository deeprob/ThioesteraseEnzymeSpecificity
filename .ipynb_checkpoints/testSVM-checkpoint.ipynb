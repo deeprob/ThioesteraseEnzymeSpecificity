{
 "cells": [
  {
   "cell_type": "code",
   "execution_count": 1,
   "metadata": {},
   "outputs": [],
   "source": [
    "# import self-written modules\n",
    "from FeatEngg import ngramEnc,ctdEnc,gaacEnc\n",
    "from mySVM.model import SVM\n",
    "import pickle"
   ]
  },
  {
   "cell_type": "code",
   "execution_count": 2,
   "metadata": {},
   "outputs": [],
   "source": [
    "import matplotlib.pyplot as plt\n",
    "%matplotlib inline"
   ]
  },
  {
   "cell_type": "code",
   "execution_count": 3,
   "metadata": {},
   "outputs": [],
   "source": [
    "# import modules\n",
    "import numpy as np\n",
    "\n",
    "np.random.seed(7)"
   ]
  },
  {
   "cell_type": "code",
   "execution_count": 4,
   "metadata": {},
   "outputs": [],
   "source": [
    "file = pickle.load(open('TE_ML_Data_pickle.p','rb'))"
   ]
  },
  {
   "cell_type": "code",
   "execution_count": 5,
   "metadata": {},
   "outputs": [],
   "source": [
    "from helper import parseEnzymeFile,modified_split"
   ]
  },
  {
   "cell_type": "code",
   "execution_count": 6,
   "metadata": {},
   "outputs": [],
   "source": [
    "enzyme_filename = 'Data/Enzyme_Dataset.txt'\n",
    "\n",
    "X,y,enz_names = parseEnzymeFile(enzyme_filename)"
   ]
  },
  {
   "cell_type": "code",
   "execution_count": 7,
   "metadata": {},
   "outputs": [],
   "source": [
    "test_idx,train_idx = modified_split(enz_names)"
   ]
  },
  {
   "cell_type": "markdown",
   "metadata": {},
   "source": [
    "# Position-Model"
   ]
  },
  {
   "cell_type": "code",
   "execution_count": 8,
   "metadata": {},
   "outputs": [],
   "source": [
    "from IndModels.models import PosModel"
   ]
  },
  {
   "cell_type": "code",
   "execution_count": 9,
   "metadata": {},
   "outputs": [
    {
     "name": "stdout",
     "output_type": "stream",
     "text": [
      "-----Initial Model Evaluation-----\n",
      "-----Training Accuracy:0.9629629629629629-----\n",
      "-----Testing Accuracy:0.76-----\n"
     ]
    }
   ],
   "source": [
    "posModel = PosModel('TE_ML_Data_pickle.p',enz_names,X,y,train_idx,test_idx,verboseQ=True)"
   ]
  },
  {
   "cell_type": "markdown",
   "metadata": {},
   "source": [
    "# NG only model"
   ]
  },
  {
   "cell_type": "code",
   "execution_count": 10,
   "metadata": {},
   "outputs": [
    {
     "name": "stdout",
     "output_type": "stream",
     "text": [
      "-----Initial Model Evaluation-----\n",
      "-----Training Accuracy:0.9876543209876543-----\n",
      "-----Testing Accuracy:0.76-----\n"
     ]
    }
   ],
   "source": [
    "from IndModels.models import NGModel\n",
    "\n",
    "ngModel = NGModel(enz_names,X,y,train_idx,test_idx,k=7,s=1,verboseQ=True)"
   ]
  },
  {
   "cell_type": "markdown",
   "metadata": {},
   "source": [
    "# GAAC and NG model"
   ]
  },
  {
   "cell_type": "code",
   "execution_count": 11,
   "metadata": {},
   "outputs": [
    {
     "name": "stdout",
     "output_type": "stream",
     "text": [
      "-----Initial Model Evaluation-----\n",
      "-----Training Accuracy:0.9629629629629629-----\n",
      "-----Testing Accuracy:0.76-----\n"
     ]
    }
   ],
   "source": [
    "from IndModels.models import GAACModel\n",
    "\n",
    "gaacModel = GAACModel(enz_names,X,y,train_idx,test_idx,k=9,s=1,pca_components=40,verboseQ=True)"
   ]
  },
  {
   "cell_type": "markdown",
   "metadata": {},
   "source": [
    "# Majority Vote Classifier"
   ]
  },
  {
   "cell_type": "code",
   "execution_count": 12,
   "metadata": {},
   "outputs": [],
   "source": [
    "from Ensemble.model import Ensemble"
   ]
  },
  {
   "cell_type": "code",
   "execution_count": 13,
   "metadata": {},
   "outputs": [],
   "source": [
    "EModel = Ensemble([posModel.model,gaacModel.model,ngModel.model],\n",
    "                  [posModel.Xtest,gaacModel.Xtest,ngModel.Xtest],y[test_idx])"
   ]
  },
  {
   "cell_type": "code",
   "execution_count": 14,
   "metadata": {},
   "outputs": [
    {
     "data": {
      "text/plain": [
       "0.76"
      ]
     },
     "execution_count": 14,
     "metadata": {},
     "output_type": "execute_result"
    }
   ],
   "source": [
    "EModel.acc"
   ]
  },
  {
   "cell_type": "markdown",
   "metadata": {},
   "source": [
    "# Different random seeds"
   ]
  },
  {
   "cell_type": "code",
   "execution_count": 15,
   "metadata": {},
   "outputs": [],
   "source": [
    "def multiprocess_func(randomseed):\n",
    "    np.random.seed(randomseed)\n",
    "    test_idx_i,train_idx_i = modified_split(enz_names)\n",
    "    \n",
    "    posModel_i = PosModel('TE_ML_Data_pickle.p',enz_names,X,y,train_idx_i,test_idx_i,randomseed=randomseed)\n",
    "    ngModel_i = NGModel(enz_names,X,y,train_idx_i,test_idx_i,randomseed=randomseed)\n",
    "    gaacModel_i = GAACModel(enz_names,X,y,train_idx_i,test_idx_i,randomseed=randomseed)\n",
    "    \n",
    "    EModel_i = Ensemble([posModel_i.model,gaacModel_i.model,ngModel_i.model],\n",
    "                  [posModel_i.Xtest,gaacModel_i.Xtest,ngModel_i.Xtest],y[test_idx_i])\n",
    "    \n",
    "    return posModel_i.SVMobject.acc_test,ngModel_i.SVMobject.acc_test,gaacModel_i.SVMobject.acc_test,EModel_i.acc\n",
    "    \n",
    "    \n",
    "    \n",
    "    "
   ]
  },
  {
   "cell_type": "code",
   "execution_count": 16,
   "metadata": {},
   "outputs": [
    {
     "name": "stdout",
     "output_type": "stream",
     "text": [
      "8\n"
     ]
    }
   ],
   "source": [
    "import multiprocessing as mp\n",
    "print(mp.cpu_count())\n",
    "pool = mp.Pool(mp.cpu_count())"
   ]
  },
  {
   "cell_type": "code",
   "execution_count": 17,
   "metadata": {
    "scrolled": true
   },
   "outputs": [
    {
     "name": "stdout",
     "output_type": "stream",
     "text": [
      "CPU times: user 437 ms, sys: 364 ms, total: 801 ms\n",
      "Wall time: 11min 11s\n"
     ]
    }
   ],
   "source": [
    "%%time\n",
    "accs = list(pool.map(multiprocess_func,[i for i in range(10000)]))"
   ]
  },
  {
   "cell_type": "code",
   "execution_count": 18,
   "metadata": {
    "scrolled": true
   },
   "outputs": [
    {
     "data": {
      "text/plain": [
       "<matplotlib.legend.Legend at 0x7ff184dd2d50>"
      ]
     },
     "execution_count": 18,
     "metadata": {},
     "output_type": "execute_result"
    },
    {
     "data": {
      "image/png": "[encoded data removed]",
      "text/plain": [
       "<Figure size 432x288 with 1 Axes>"
      ]
     },
     "metadata": {
      "needs_background": "light"
     },
     "output_type": "display_data"
    }
   ],
   "source": [
    "plt.plot(range(len(accs)),accs)\n",
    "plt.legend(['POS','NG','GAAC','Ensemble'])"
   ]
  },
  {
   "cell_type": "code",
   "execution_count": 19,
   "metadata": {},
   "outputs": [],
   "source": [
    "pos_preds = [a[0] for a in accs]\n",
    "ng_preds = [a[1] for a in accs]\n",
    "gaac_preds = [a[2] for a in accs]\n",
    "ensemble_preds = [a[3] for a in accs]"
   ]
  },
  {
   "cell_type": "code",
   "execution_count": 20,
   "metadata": {},
   "outputs": [
    {
     "data": {
      "text/plain": [
       "(0.44, 0.7707360000000001)"
      ]
     },
     "execution_count": 20,
     "metadata": {},
     "output_type": "execute_result"
    }
   ],
   "source": [
    "min(pos_preds),np.mean(pos_preds)"
   ]
  },
  {
   "cell_type": "code",
   "execution_count": 21,
   "metadata": {},
   "outputs": [
    {
     "data": {
      "text/plain": [
       "(0.4, 0.7467520000000001)"
      ]
     },
     "execution_count": 21,
     "metadata": {},
     "output_type": "execute_result"
    }
   ],
   "source": [
    "min(ng_preds),np.mean(ng_preds)"
   ]
  },
  {
   "cell_type": "code",
   "execution_count": 22,
   "metadata": {},
   "outputs": [
    {
     "data": {
      "text/plain": [
       "(0.4, 0.7528600000000001)"
      ]
     },
     "execution_count": 22,
     "metadata": {},
     "output_type": "execute_result"
    }
   ],
   "source": [
    "min(gaac_preds),np.mean(gaac_preds)"
   ]
  },
  {
   "cell_type": "code",
   "execution_count": 23,
   "metadata": {},
   "outputs": [
    {
     "data": {
      "text/plain": [
       "(0.52, 0.776908)"
      ]
     },
     "execution_count": 23,
     "metadata": {},
     "output_type": "execute_result"
    }
   ],
   "source": [
    "min(ensemble_preds),np.mean(ensemble_preds)"
   ]
  }
 ],
 "metadata": {
  "kernelspec": {
   "display_name": "Python 3",
   "language": "python",
   "name": "python3"
  },
  "language_info": {
   "codemirror_mode": {
    "name": "ipython",
    "version": 3
   },
   "file_extension": ".py",
   "mimetype": "text/x-python",
   "name": "python",
   "nbconvert_exporter": "python",
   "pygments_lexer": "ipython3",
   "version": "3.7.4"
  }
 },
 "nbformat": 4,
 "nbformat_minor": 4
}
