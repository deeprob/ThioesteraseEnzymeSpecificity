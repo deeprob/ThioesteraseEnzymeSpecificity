{
 "cells": [
  {
   "cell_type": "code",
   "execution_count": 1,
   "metadata": {},
   "outputs": [],
   "source": [
    "import re"
   ]
  },
  {
   "cell_type": "code",
   "execution_count": 6,
   "metadata": {},
   "outputs": [],
   "source": [
    "pattern = re.compile('(.*)=(.*)')\n",
    "m = re.match(pattern,'_libgcc_mutex=0.1')"
   ]
  },
  {
   "cell_type": "code",
   "execution_count": 7,
   "metadata": {},
   "outputs": [
    {
     "data": {
      "text/plain": [
       "'_libgcc_mutex'"
      ]
     },
     "execution_count": 7,
     "metadata": {},
     "output_type": "execute_result"
    }
   ],
   "source": [
    "m.group(1)"
   ]
  },
  {
   "cell_type": "code",
   "execution_count": 16,
   "metadata": {},
   "outputs": [],
   "source": [
    "newlines = []\n",
    "with open('requirements.txt','r') as f:\n",
    "    for lines in f:\n",
    "        m = re.match(pattern,lines.strip())\n",
    "        if m:\n",
    "            newlines.append(m.group(1))\n",
    "        else:\n",
    "            newlines.append(lines.strip())"
   ]
  },
  {
   "cell_type": "code",
   "execution_count": 17,
   "metadata": {},
   "outputs": [
    {
     "data": {
      "text/plain": [
       "123"
      ]
     },
     "execution_count": 17,
     "metadata": {},
     "output_type": "execute_result"
    }
   ],
   "source": [
    "len(newlines)"
   ]
  },
  {
   "cell_type": "code",
   "execution_count": 19,
   "metadata": {},
   "outputs": [],
   "source": [
    "with open('new_requirements.txt','w') as f:\n",
    "    for lines in newlines:\n",
    "        f.write(lines)\n",
    "        f.write('\\n')"
   ]
  },
  {
   "cell_type": "code",
   "execution_count": 21,
   "metadata": {},
   "outputs": [],
   "source": [
    "with open('environment.yml','r') as f:\n",
    "    flag = None\n",
    "    dependent_packages = set()\n",
    "    pip_packages = set()\n",
    "    for lines in f:\n",
    "        if lines.strip():\n",
    "        \n",
    "            if lines.strip() == 'dependencies:':\n",
    "                flag = 'd'\n",
    "\n",
    "            elif lines.strip() == '- pip:':\n",
    "                flag = 'p'\n",
    "            \n",
    "            elif lines.strip().startswith('prefix'):\n",
    "                flag = None\n",
    "\n",
    "            elif flag=='d':\n",
    "                dependent_packages.add(lines.strip())\n",
    "\n",
    "            elif flag == 'p':\n",
    "                pip_packages.add(lines.strip())\n",
    "\n",
    "\n",
    "            \n",
    "            \n",
    "            "
   ]
  },
  {
   "cell_type": "code",
   "execution_count": 24,
   "metadata": {},
   "outputs": [],
   "source": [
    "dependent_packages_no_duplicates = dependent_packages.difference(pip_packages)"
   ]
  },
  {
   "cell_type": "code",
   "execution_count": 27,
   "metadata": {},
   "outputs": [],
   "source": [
    "with open('new_env.yml','w') as f:\n",
    "    f.write('name: thio-env')\n",
    "    f.write('\\n')\n",
    "    f.write('channels:')\n",
    "    f.write('\\n')\n",
    "    f.write('- anaconda\\n- conda-forge\\n- defaults\\n')\n",
    "    f.write('dependencies:\\n')\n",
    "    for package in dependent_packages:\n",
    "        f.write(package)\n",
    "        f.write('\\n')\n",
    "    f.write('- pip:\\n')\n",
    "    for pip_pack in pip_packages:\n",
    "        f.write(f'  {pip_pack}')\n",
    "        f.write('\\n')\n",
    "    \n",
    "    f.write('\\n')\n",
    "    f.write('prefix: /storage/home/dzb5732/.conda/envs/thio-env')\n",
    "    f.write('\\n')\n",
    "        "
   ]
  },
  {
   "cell_type": "code",
   "execution_count": null,
   "metadata": {},
   "outputs": [],
   "source": []
  }
 ],
 "metadata": {
  "kernelspec": {
   "display_name": "Python 3",
   "language": "python",
   "name": "python3"
  },
  "language_info": {
   "codemirror_mode": {
    "name": "ipython",
    "version": 3
   },
   "file_extension": ".py",
   "mimetype": "text/x-python",
   "name": "python",
   "nbconvert_exporter": "python",
   "pygments_lexer": "ipython3",
   "version": "3.7.4"
  }
 },
 "nbformat": 4,
 "nbformat_minor": 2
}
