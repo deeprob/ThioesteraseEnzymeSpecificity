{
 "cells": [
  {
   "cell_type": "code",
   "execution_count": 1,
   "metadata": {},
   "outputs": [],
   "source": [
    "import pandas as pd\n",
    "import os"
   ]
  },
  {
   "cell_type": "code",
   "execution_count": 2,
   "metadata": {},
   "outputs": [],
   "source": [
    "data_dir = '../Data/FeatureFiles/iFeatureFiles/'\n",
    "out_dir = '../Data/FeatureVectors/iFeatureVectors/'"
   ]
  },
  {
   "cell_type": "code",
   "execution_count": 3,
   "metadata": {},
   "outputs": [
    {
     "name": "stdout",
     "output_type": "stream",
     "text": [
      "QSOrder.tsv\n",
      "CKSAAGP.tsv\n",
      "TPC.tsv\n",
      "GDPC.tsv\n",
      "CTriad.tsv\n",
      "PAAC.tsv\n",
      "APAAC.tsv\n",
      "GAAC.tsv\n",
      "Moran.tsv\n",
      "SOCNumber.tsv\n",
      "NMBroto.tsv\n",
      "CTDT.tsv\n",
      "Geary.tsv\n",
      "CTDC.tsv\n",
      "GTPC.tsv\n",
      "CTDD.tsv\n",
      "DPC.tsv\n",
      "DDE.tsv\n",
      "CKSAAP.tsv\n",
      "AAC.tsv\n",
      "KSCTriad.tsv\n"
     ]
    }
   ],
   "source": [
    "for f in list(os.scandir(data_dir)):\n",
    "    if f.name.endswith('.tsv'):\n",
    "        filename = f.name\n",
    "        print(filename)\n",
    "        df = pd.read_csv(data_dir+filename,sep='\\t',header=None,skiprows=1)\n",
    "        new_filename = filename.replace('.tsv','.csv')\n",
    "        df.to_csv(out_dir+new_filename,header=False,index=False)"
   ]
  },
  {
   "cell_type": "code",
   "execution_count": null,
   "metadata": {},
   "outputs": [],
   "source": []
  }
 ],
 "metadata": {
  "kernelspec": {
   "display_name": "Python 3",
   "language": "python",
   "name": "python3"
  },
  "language_info": {
   "codemirror_mode": {
    "name": "ipython",
    "version": 3
   },
   "file_extension": ".py",
   "mimetype": "text/x-python",
   "name": "python",
   "nbconvert_exporter": "python",
   "pygments_lexer": "ipython3",
   "version": "3.6.7"
  }
 },
 "nbformat": 4,
 "nbformat_minor": 4
}
