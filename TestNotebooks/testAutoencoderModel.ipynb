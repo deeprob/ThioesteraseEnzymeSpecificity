{
 "cells": [
  {
   "cell_type": "code",
   "execution_count": 2,
   "metadata": {},
   "outputs": [],
   "source": [
    "import numpy as np\n",
    "from sklearn.neural_network import MLPRegressor\n",
    "from sklearn.metrics import accuracy_score\n",
    "import pickle"
   ]
  },
  {
   "cell_type": "code",
   "execution_count": 3,
   "metadata": {},
   "outputs": [],
   "source": [
    "import sys\n",
    "sys.path.append('../')"
   ]
  },
  {
   "cell_type": "code",
   "execution_count": 4,
   "metadata": {},
   "outputs": [],
   "source": [
    "import helper"
   ]
  },
  {
   "cell_type": "code",
   "execution_count": 5,
   "metadata": {},
   "outputs": [],
   "source": [
    "datafile = '../Data/Enzyme_Dataset.txt'"
   ]
  },
  {
   "cell_type": "code",
   "execution_count": 6,
   "metadata": {},
   "outputs": [],
   "source": [
    "X,y,enznames = helper.parseEnzymeFile(datafile)"
   ]
  },
  {
   "cell_type": "code",
   "execution_count": 7,
   "metadata": {},
   "outputs": [],
   "source": [
    "savedmodel = 'AEmodel.sav'\n",
    "\n",
    "reg = pickle.load(open(savedmodel,'rb'))"
   ]
  },
  {
   "cell_type": "code",
   "execution_count": 8,
   "metadata": {},
   "outputs": [],
   "source": [
    "# get all possible AAs for all enzymes\n",
    "\n",
    "AAvalset = set()\n",
    "\n",
    "for x in X:\n",
    "    AAvalset.update(set(x))\n",
    "\n",
    "AAvalset.add('-')\n",
    "\n",
    "testAA  = sorted(AAvalset)\n",
    "\n",
    "# Grouping the set according to their physicochemical characteristics\n",
    "\n",
    "GAAset = {'G':'g1','A':'g1','V':'g1','L':'g1','M':'g1','I':'g1','F':'g2','Y':'g2','W':'g2',\n",
    "                       'K':'g3','R':'g3','H':'g3', 'D':'g4', 'E':'g4','S':'g5','T':'g5','C':'g5','P':'g5',\n",
    "                       'N':'g5','Q':'g5','X':'g6','-':'g6'}\n",
    "\n",
    "# Create a one hot encoded array for AAs with their groups specified\n",
    "\n",
    "OHEdict = {aa:num for aa, num in zip(testAA,range(len(testAA)))}\n",
    "\n",
    "GAAlist = sorted(set(GAAset.values()))\n",
    "GAAnum = range(len(OHEdict),len(OHEdict)+len(GAAlist))\n",
    "\n",
    "for gaa,gnum in zip(GAAlist,GAAnum):\n",
    "    OHEdict[gaa] = gnum\n",
    "    \n",
    "def get_OHE_val(aa):\n",
    "    ohe = [0 for i in range(len(OHEdict))]\n",
    "    ohe[OHEdict[aa]] = 1\n",
    "    ohe[OHEdict[GAAset[aa]]] = 1\n",
    "    return ohe\n",
    "\n",
    "Xtest = np.array(list(map(get_OHE_val,testAA)))"
   ]
  },
  {
   "cell_type": "code",
   "execution_count": 9,
   "metadata": {},
   "outputs": [],
   "source": [
    "AApred = reg.predict(Xtest)"
   ]
  },
  {
   "cell_type": "code",
   "execution_count": 10,
   "metadata": {},
   "outputs": [],
   "source": [
    "enzdatafile = '../Data/Enzyme_aligned.txt'\n",
    "X_aligned,y,enznames = helper.parseEnzymeFile(enzdatafile)"
   ]
  },
  {
   "cell_type": "code",
   "execution_count": 11,
   "metadata": {},
   "outputs": [],
   "source": [
    "def tanh(x):\n",
    "    return (np.exp(x) - np.exp(-x))/(np.exp(x) + np.exp(-x))\n",
    "\n",
    "def encode(x,layer):\n",
    "    linear_layer = x*reg.coefs_[layer] + reg.intercepts_[layer]\n",
    "    activation = tanh(linear_layer)\n",
    "    return activation\n",
    "    \n",
    "    \n",
    "\n",
    "def encoder(data,nlayers):\n",
    "    data = np.asmatrix(data)\n",
    "    \n",
    "    encoder = data\n",
    "    \n",
    "    for i in range(nlayers):\n",
    "        encoder = encode(encoder,i)\n",
    "    \n",
    "    latent = encode(encoder,nlayers)\n",
    "    \n",
    "    return np.asarray(latent)"
   ]
  },
  {
   "cell_type": "code",
   "execution_count": 12,
   "metadata": {},
   "outputs": [],
   "source": [
    "AA2Contdict = dict(zip(testAA,np.ravel(encoder(Xtest,6))))"
   ]
  },
  {
   "cell_type": "code",
   "execution_count": 13,
   "metadata": {},
   "outputs": [],
   "source": [
    "def autoencode(seq):\n",
    "    x_autoencoded = []\n",
    "    for aa in seq:\n",
    "        x_autoencoded.append(AA2Contdict[aa])\n",
    "    \n",
    "    return np.array(x_autoencoded)\n",
    "        \n",
    "\n",
    "X_autoencoded = np.array(list(map(autoencode,X_aligned)))"
   ]
  },
  {
   "cell_type": "code",
   "execution_count": 14,
   "metadata": {},
   "outputs": [],
   "source": [
    "y_enc = np.array(y)"
   ]
  },
  {
   "cell_type": "code",
   "execution_count": 328,
   "metadata": {},
   "outputs": [
    {
     "data": {
      "text/plain": [
       "array([[-0.04855965, -0.04855965, -0.04855965, ..., -0.04855965,\n",
       "        -0.04855965, -0.04855965],\n",
       "       [-0.04855965, -0.04855965, -0.04855965, ..., -0.04855965,\n",
       "        -0.04855965, -0.04855965],\n",
       "       [-0.04855965, -0.04855965, -0.04855965, ..., -0.04855965,\n",
       "        -0.04855965, -0.04855965],\n",
       "       ...,\n",
       "       [-0.04855965, -0.04855965,  0.37521005, ..., -0.04855965,\n",
       "        -0.04855965, -0.04855965],\n",
       "       [-0.04855965, -0.04855965,  0.37521005, ..., -0.04855965,\n",
       "        -0.04855965, -0.04855965],\n",
       "       [-0.04855965, -0.04855965,  0.37521005, ..., -0.04855965,\n",
       "        -0.04855965, -0.04855965]])"
      ]
     },
     "execution_count": 328,
     "metadata": {},
     "output_type": "execute_result"
    }
   ],
   "source": [
    "X_autoencoded"
   ]
  },
  {
   "cell_type": "code",
   "execution_count": 16,
   "metadata": {},
   "outputs": [],
   "source": [
    "from sklearn.decomposition import PCA\n",
    "from sklearn.model_selection import train_test_split\n",
    "from sklearn.svm import SVC\n",
    "from sklearn.pipeline import Pipeline\n",
    "from sklearn.metrics import accuracy_score"
   ]
  },
  {
   "cell_type": "code",
   "execution_count": 17,
   "metadata": {},
   "outputs": [],
   "source": [
    "def balancing_function(X_tr,y_tr):\n",
    "    values,counts = np.unique(y_tr,return_counts=True)\n",
    "    label_count_dict = {l:c for l,c in zip(values,counts)}\n",
    "    \n",
    "    # get the max count\n",
    "    max_count = max(label_count_dict.values())\n",
    "    \n",
    "    # for the labels with less max count, randomly select their index and append that index to the array\n",
    "    \n",
    "    for k,v in label_count_dict.items():\n",
    "        if v<max_count:\n",
    "            #get the indices with those values\n",
    "            indices = np.where(y_tr==k)[0]\n",
    "            \n",
    "            # get how training set must be duplicated\n",
    "            n_duplicate = max_count-v\n",
    "            \n",
    "            if n_duplicate>v:\n",
    "                \n",
    "                times_to_add = n_duplicate//v \n",
    "                    \n",
    "                X_tr_k = X_tr[indices,:]\n",
    "                \n",
    "                for i in range(times_to_add):\n",
    "                    X_tr = np.concatenate((X_tr,X_tr_k),axis=0)\n",
    "                    y_tr = np.append(y_tr,np.array([k for i in range(v)]))\n",
    "                \n",
    "                remaining_times = n_duplicate-times_to_add*v\n",
    "                \n",
    "                random_indices = np.random.choice(indices,size=remaining_times)\n",
    "                \n",
    "                X_tr_extra = X_tr[random_indices,:]\n",
    "                y_tr_extra = np.array([k for i in range(remaining_times)])\n",
    "                \n",
    "                X_tr = np.concatenate((X_tr,X_tr_extra),axis=0)\n",
    "                y_tr = np.append(y_tr,y_tr_extra)\n",
    "                \n",
    "            else:\n",
    "                \n",
    "                remaining_times = n_duplicate\n",
    "                \n",
    "                random_indices = np.random.choice(indices,size=remaining_times)\n",
    "                \n",
    "                X_tr_extra = X_tr[random_indices,:]\n",
    "                y_tr_extra = np.array([k for i in range(remaining_times)])\n",
    "                \n",
    "                X_tr = np.concatenate((X_tr,X_tr_extra),axis=0)\n",
    "                y_tr = np.append(y_tr,y_tr_extra)\n",
    "                \n",
    "                \n",
    "    return X_tr,y_tr"
   ]
  },
  {
   "cell_type": "code",
   "execution_count": 52,
   "metadata": {},
   "outputs": [
    {
     "name": "stdout",
     "output_type": "stream",
     "text": [
      "0\n",
      "10\n",
      "20\n",
      "30\n",
      "40\n",
      "50\n",
      "60\n",
      "70\n",
      "80\n",
      "90\n"
     ]
    }
   ],
   "source": [
    "tracc = []\n",
    "teacc = []\n",
    "tepreds = []\n",
    "for i in range(100):\n",
    "    X_train, X_test, y_train, y_test = train_test_split(X_autoencoded, y_enc, test_size=0.25, random_state=i)\n",
    "\n",
    "    X_train,y_train = balancing_function(X_train,y_train)\n",
    "\n",
    "    \n",
    "    steps = [('SVM',SVC(C=100,gamma='scale',kernel='rbf'))]\n",
    "#     steps = [('pca',PCA(n_components=45)),('SVM',SVC(C=100,gamma='scale',kernel='rbf'))]\n",
    "    pipe = Pipeline(steps)\n",
    "    pipe.fit(X_train,y_train)\n",
    "    ypredtrain = pipe.predict(X_train)\n",
    "    ypredtest = pipe.predict(X_test)\n",
    "    tepreds.append(ypredtest)\n",
    "    trainacc = accuracy_score(y_train,ypredtrain)\n",
    "    testacc = accuracy_score(y_test,ypredtest)\n",
    "    tracc.append(trainacc)\n",
    "    teacc.append(testacc)\n",
    "    if i%10==0:\n",
    "        print(i)"
   ]
  },
  {
   "cell_type": "code",
   "execution_count": 53,
   "metadata": {},
   "outputs": [],
   "source": [
    "import matplotlib.pyplot as plt\n",
    "%matplotlib inline"
   ]
  },
  {
   "cell_type": "code",
   "execution_count": 54,
   "metadata": {},
   "outputs": [
    {
     "data": {
      "text/plain": [
       "<matplotlib.legend.Legend at 0x2aced7b470b8>"
      ]
     },
     "execution_count": 54,
     "metadata": {},
     "output_type": "execute_result"
    },
    {
     "data": {
      "image/png": "[encoded data removed]",
      "text/plain": [
       "<Figure size 432x288 with 1 Axes>"
      ]
     },
     "metadata": {
      "needs_background": "light"
     },
     "output_type": "display_data"
    }
   ],
   "source": [
    "plt.plot(tracc,label='train')\n",
    "plt.plot(teacc,label='test')\n",
    "plt.legend()"
   ]
  },
  {
   "cell_type": "code",
   "execution_count": 55,
   "metadata": {},
   "outputs": [
    {
     "data": {
      "text/plain": [
       "(8, 5)"
      ]
     },
     "execution_count": 55,
     "metadata": {},
     "output_type": "execute_result"
    }
   ],
   "source": [
    "np.argmin(teacc),np.argmax(teacc)"
   ]
  },
  {
   "cell_type": "code",
   "execution_count": 56,
   "metadata": {},
   "outputs": [
    {
     "data": {
      "text/plain": [
       "(0.702962962962963, 0.9357133849296937)"
      ]
     },
     "execution_count": 56,
     "metadata": {},
     "output_type": "execute_result"
    }
   ],
   "source": [
    "np.mean(teacc),np.mean(tracc)"
   ]
  },
  {
   "cell_type": "code",
   "execution_count": 57,
   "metadata": {},
   "outputs": [
    {
     "data": {
      "text/plain": [
       "(0.48148148148148145, 0.8518518518518519)"
      ]
     },
     "execution_count": 57,
     "metadata": {},
     "output_type": "execute_result"
    }
   ],
   "source": [
    "min(teacc),max(teacc)"
   ]
  },
  {
   "cell_type": "code",
   "execution_count": 59,
   "metadata": {},
   "outputs": [],
   "source": [
    "X_train, X_test, y_train, y_test = train_test_split(X_autoencoded, y_enc, test_size=0.33, random_state=97)"
   ]
  },
  {
   "cell_type": "code",
   "execution_count": 60,
   "metadata": {},
   "outputs": [
    {
     "data": {
      "text/plain": [
       "(array([1, 2, 3]), array([14,  7, 14]))"
      ]
     },
     "execution_count": 60,
     "metadata": {},
     "output_type": "execute_result"
    }
   ],
   "source": [
    "np.unique(y_test,return_counts=True)"
   ]
  },
  {
   "cell_type": "code",
   "execution_count": 61,
   "metadata": {},
   "outputs": [
    {
     "data": {
      "text/plain": [
       "(array([1, 2, 3]), array([23, 11, 37]))"
      ]
     },
     "execution_count": 61,
     "metadata": {},
     "output_type": "execute_result"
    }
   ],
   "source": [
    "np.unique(y_train,return_counts=True)"
   ]
  },
  {
   "cell_type": "code",
   "execution_count": 62,
   "metadata": {},
   "outputs": [
    {
     "data": {
      "text/plain": [
       "array([1, 1, 1, 2, 1, 3, 2, 2, 3, 2, 1, 2, 1, 1, 2, 2, 2, 1, 2, 2, 3, 1,\n",
       "       1, 1, 3, 3, 2])"
      ]
     },
     "execution_count": 62,
     "metadata": {},
     "output_type": "execute_result"
    }
   ],
   "source": [
    "tepreds[97]"
   ]
  },
  {
   "cell_type": "code",
   "execution_count": 63,
   "metadata": {},
   "outputs": [
    {
     "data": {
      "text/plain": [
       "array([2, 1, 2, 2, 2, 3, 1, 3, 3, 1, 1, 1, 1, 1, 3, 3, 2, 1, 3, 1, 1, 3,\n",
       "       1, 1, 3, 3, 2, 1, 2, 1, 3, 3, 3, 3, 3])"
      ]
     },
     "execution_count": 63,
     "metadata": {},
     "output_type": "execute_result"
    }
   ],
   "source": [
    "y_test"
   ]
  },
  {
   "cell_type": "code",
   "execution_count": 92,
   "metadata": {},
   "outputs": [],
   "source": [
    "X,y,enzname = [],[],[]\n",
    "with open('../Data/RegressionData.txt','r') as f:\n",
    "    for lines in f:\n",
    "        data = lines.strip().split(',')\n",
    "        X.append(data[1])\n",
    "        y.append(float(data[2]))\n",
    "        enzname.append(data[0])\n",
    "    "
   ]
  },
  {
   "cell_type": "code",
   "execution_count": 93,
   "metadata": {},
   "outputs": [],
   "source": [
    "X,y,enzname = np.array(X),np.array(y),np.array(enzname)"
   ]
  },
  {
   "cell_type": "code",
   "execution_count": 94,
   "metadata": {},
   "outputs": [
    {
     "data": {
      "text/plain": [
       "(106,)"
      ]
     },
     "execution_count": 94,
     "metadata": {},
     "output_type": "execute_result"
    }
   ],
   "source": [
    "X_aligned.shape"
   ]
  },
  {
   "cell_type": "code",
   "execution_count": 95,
   "metadata": {},
   "outputs": [],
   "source": [
    "X_autoencoded = np.array(list(map(autoencode,X_aligned)))"
   ]
  },
  {
   "cell_type": "code",
   "execution_count": 96,
   "metadata": {},
   "outputs": [],
   "source": [
    "from sklearn.linear_model import LinearRegression\n",
    "from sklearn.decomposition import PCA\n",
    "from sklearn.pipeline import Pipeline\n",
    "def get_model(n_comp):\n",
    "    steps = [('pca',PCA(n_components=n_comp)),('LR',LinearRegression())]\n",
    "    pipe = Pipeline(steps)\n",
    "    return pipe\n",
    "    "
   ]
  },
  {
   "cell_type": "code",
   "execution_count": 97,
   "metadata": {},
   "outputs": [],
   "source": [
    "teidx,tridx = helper.modified_split(enzname)\n",
    "\n",
    "X_tr,y_tr = X_autoencoded[tridx],y[tridx]"
   ]
  },
  {
   "cell_type": "code",
   "execution_count": 98,
   "metadata": {},
   "outputs": [],
   "source": [
    "mypipe = get_model(40)\n",
    "\n",
    "model = mypipe.fit(X_tr,y_tr)"
   ]
  },
  {
   "cell_type": "code",
   "execution_count": 99,
   "metadata": {},
   "outputs": [],
   "source": [
    "X_te,y_te = X_autoencoded[teidx],y[teidx]"
   ]
  },
  {
   "cell_type": "code",
   "execution_count": 100,
   "metadata": {},
   "outputs": [],
   "source": [
    "y_pred_te = model.predict(X_te)"
   ]
  },
  {
   "cell_type": "code",
   "execution_count": 101,
   "metadata": {},
   "outputs": [
    {
     "data": {
      "text/plain": [
       "array([0.15      , 0.00791766, 0.854     , 0.23      , 0.602     ,\n",
       "       0.542     , 0.98      , 0.704     , 0.799     , 0.669     ,\n",
       "       0.587     , 0.897     , 0.683     , 0.57091562, 0.596     ,\n",
       "       0.824     , 0.01383399, 0.24      , 0.867     , 0.        ,\n",
       "       0.61      , 0.09      , 0.697     , 0.604     ])"
      ]
     },
     "execution_count": 101,
     "metadata": {},
     "output_type": "execute_result"
    }
   ],
   "source": [
    "y_te"
   ]
  },
  {
   "cell_type": "code",
   "execution_count": 102,
   "metadata": {},
   "outputs": [
    {
     "data": {
      "text/plain": [
       "array([ 0.47581434,  0.25561496,  0.53029086,  0.24538591,  0.64052465,\n",
       "        0.24110674, -0.31999969,  0.37589835,  0.63029531,  0.27175563,\n",
       "        0.62205958,  0.67504655,  0.53255151,  0.32746434,  0.59835506,\n",
       "        0.64449348,  0.01582818,  0.31401924,  0.12632722,  0.51799187,\n",
       "        0.6686221 , -0.09852402,  0.60902984,  0.41047915])"
      ]
     },
     "execution_count": 102,
     "metadata": {},
     "output_type": "execute_result"
    }
   ],
   "source": [
    "y_pred_te"
   ]
  },
  {
   "cell_type": "code",
   "execution_count": 103,
   "metadata": {},
   "outputs": [],
   "source": [
    "from sklearn.metrics import mean_squared_error"
   ]
  },
  {
   "cell_type": "code",
   "execution_count": 104,
   "metadata": {},
   "outputs": [
    {
     "data": {
      "text/plain": [
       "0.14248557726490482"
      ]
     },
     "execution_count": 104,
     "metadata": {},
     "output_type": "execute_result"
    }
   ],
   "source": [
    "mean_squared_error(y_te,y_pred_te)"
   ]
  },
  {
   "cell_type": "code",
   "execution_count": null,
   "metadata": {},
   "outputs": [],
   "source": []
  }
 ],
 "metadata": {
  "kernelspec": {
   "display_name": "Python 3",
   "language": "python",
   "name": "python3"
  },
  "language_info": {
   "codemirror_mode": {
    "name": "ipython",
    "version": 3
   },
   "file_extension": ".py",
   "mimetype": "text/x-python",
   "name": "python",
   "nbconvert_exporter": "python",
   "pygments_lexer": "ipython3",
   "version": "3.6.7"
  }
 },
 "nbformat": 4,
 "nbformat_minor": 4
}
