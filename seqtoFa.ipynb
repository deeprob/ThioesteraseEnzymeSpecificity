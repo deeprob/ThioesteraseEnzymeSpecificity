{
 "cells": [
  {
   "cell_type": "code",
   "execution_count": 4,
   "metadata": {},
   "outputs": [],
   "source": [
    "datafile = 'Data/Enzyme_Dataset.txt'\n",
    "newfile = 'Data/Enz_Fasta.fa'\n",
    "\n",
    "with open(datafile,'r') as f:\n",
    "    with open(newfile,'w') as nf:\n",
    "        \n",
    "        for lines in f:\n",
    "            enz_vals = lines.strip('\\n').split(',')\n",
    "            nf.write(f'>{enz_vals[0]}')\n",
    "            nf.write('\\n')\n",
    "            nf.write(enz_vals[1])\n",
    "            nf.write('\\n')\n",
    "    "
   ]
  }
 ],
 "metadata": {
  "kernelspec": {
   "display_name": "Python 3",
   "language": "python",
   "name": "python3"
  },
  "language_info": {
   "codemirror_mode": {
    "name": "ipython",
    "version": 3
   },
   "file_extension": ".py",
   "mimetype": "text/x-python",
   "name": "python",
   "nbconvert_exporter": "python",
   "pygments_lexer": "ipython3",
   "version": "3.7.4"
  }
 },
 "nbformat": 4,
 "nbformat_minor": 2
}
