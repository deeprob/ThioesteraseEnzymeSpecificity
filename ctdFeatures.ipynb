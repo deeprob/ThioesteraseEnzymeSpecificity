{
 "cells": [
  {
   "cell_type": "code",
   "execution_count": 1,
   "metadata": {},
   "outputs": [],
   "source": [
    "import helper"
   ]
  },
  {
   "cell_type": "code",
   "execution_count": 2,
   "metadata": {},
   "outputs": [],
   "source": [
    "enzyme_datafile = 'Data/Modified-Enzyme-Alignment.txt'\n",
    "\n",
    "X,y,enz_names = helper.parseEnzymeFile(enzyme_datafile)"
   ]
  },
  {
   "cell_type": "code",
   "execution_count": 3,
   "metadata": {},
   "outputs": [],
   "source": [
    "from FeatEngg.ctdEnc import CTD"
   ]
  },
  {
   "cell_type": "code",
   "execution_count": 4,
   "metadata": {},
   "outputs": [],
   "source": [
    "from mySVM.model import SVM"
   ]
  },
  {
   "cell_type": "code",
   "execution_count": 33,
   "metadata": {},
   "outputs": [],
   "source": [
    "ctdEnc = CTD(F='C')"
   ]
  },
  {
   "cell_type": "code",
   "execution_count": 34,
   "metadata": {},
   "outputs": [],
   "source": [
    "import numpy as np\n",
    "np.random.seed(350)\n",
    "te_idx,tr_idx = helper.modified_split(enz_names)"
   ]
  },
  {
   "cell_type": "code",
   "execution_count": 35,
   "metadata": {},
   "outputs": [],
   "source": [
    "X = np.array(list(map(list,X)))"
   ]
  },
  {
   "cell_type": "code",
   "execution_count": 36,
   "metadata": {},
   "outputs": [],
   "source": [
    "total_length = len(X[0])"
   ]
  },
  {
   "cell_type": "code",
   "execution_count": 45,
   "metadata": {},
   "outputs": [],
   "source": [
    "band_length = 100\n",
    "motif_length = 7\n",
    "band_step = 25\n",
    "motif_step = 1\n",
    "\n",
    "band_number = 0\n",
    "curr_extreme = band_number*band_step + band_length\n",
    "\n",
    "test_preds,test_acc,train_acc = dict(),dict(),dict()\n",
    "\n",
    "while curr_extreme<total_length:\n",
    "    X_sliced = X[:,[i for i in range(band_number*band_step,band_number*band_step+band_length)]]\n",
    "    ctdModel = CTDModel(enz_names,X_sliced,y,tr_idx,te_idx,Feats='CT',k=motif_length,s=motif_step,random_seed=350)\n",
    "    test_acc[band_number] = ctdModel.SVMobject.acc_test\n",
    "    train_acc[band_number] = ctdModel.SVMobject.acc_train\n",
    "    test_preds[band_number] = ctdModel.SVMobject.ypredtest\n",
    "    \n",
    "\n",
    "    band_number+=1\n",
    "    curr_extreme = band_number*band_step + band_length    \n"
   ]
  },
  {
   "cell_type": "code",
   "execution_count": 46,
   "metadata": {
    "scrolled": false
   },
   "outputs": [
    {
     "data": {
      "text/plain": [
       "{0: 0.6206896551724138,\n",
       " 1: 0.6896551724137931,\n",
       " 2: 0.7471264367816092,\n",
       " 3: 0.7586206896551724,\n",
       " 4: 0.7586206896551724,\n",
       " 5: 0.7586206896551724,\n",
       " 6: 0.8735632183908046,\n",
       " 7: 0.8735632183908046,\n",
       " 8: 0.9425287356321839,\n",
       " 9: 0.9310344827586207,\n",
       " 10: 0.896551724137931,\n",
       " 11: 0.8390804597701149,\n",
       " 12: 0.7586206896551724,\n",
       " 13: 0.7586206896551724,\n",
       " 14: 0.7586206896551724,\n",
       " 15: 0.7586206896551724,\n",
       " 16: 0.7586206896551724,\n",
       " 17: 0.7586206896551724}"
      ]
     },
     "execution_count": 46,
     "metadata": {},
     "output_type": "execute_result"
    }
   ],
   "source": [
    "train_acc"
   ]
  },
  {
   "cell_type": "code",
   "execution_count": 47,
   "metadata": {
    "scrolled": true
   },
   "outputs": [
    {
     "data": {
      "text/plain": [
       "{0: 0.4074074074074074,\n",
       " 1: 0.5925925925925926,\n",
       " 2: 0.6296296296296297,\n",
       " 3: 0.6296296296296297,\n",
       " 4: 0.6296296296296297,\n",
       " 5: 0.5185185185185185,\n",
       " 6: 0.6666666666666666,\n",
       " 7: 0.5925925925925926,\n",
       " 8: 0.48148148148148145,\n",
       " 9: 0.5185185185185185,\n",
       " 10: 0.5925925925925926,\n",
       " 11: 0.48148148148148145,\n",
       " 12: 0.5185185185185185,\n",
       " 13: 0.5185185185185185,\n",
       " 14: 0.5185185185185185,\n",
       " 15: 0.5185185185185185,\n",
       " 16: 0.5185185185185185,\n",
       " 17: 0.5185185185185185}"
      ]
     },
     "execution_count": 47,
     "metadata": {},
     "output_type": "execute_result"
    }
   ],
   "source": [
    "test_acc"
   ]
  },
  {
   "cell_type": "code",
   "execution_count": 43,
   "metadata": {},
   "outputs": [
    {
     "data": {
      "text/plain": [
       "array([2, 2, 3, 2, 3, 2, 3, 2, 2, 2, 1, 3, 3, 3, 1, 1, 3, 3, 3, 3, 1, 3,\n",
       "       1, 3, 1, 3, 2])"
      ]
     },
     "execution_count": 43,
     "metadata": {},
     "output_type": "execute_result"
    }
   ],
   "source": [
    "y[te_idx]"
   ]
  },
  {
   "cell_type": "code",
   "execution_count": 44,
   "metadata": {
    "scrolled": true
   },
   "outputs": [
    {
     "data": {
      "text/plain": [
       "{0: array([3, 3, 3, 1, 3, 3, 3, 1, 3, 3, 1, 3, 3, 1, 3, 3, 1, 1, 3, 3, 1, 1,\n",
       "        3, 3, 1, 1, 1]),\n",
       " 1: array([3, 3, 3, 1, 3, 3, 3, 3, 3, 3, 1, 3, 3, 1, 1, 1, 3, 1, 3, 3, 1, 3,\n",
       "        3, 3, 1, 3, 1]),\n",
       " 2: array([3, 3, 3, 1, 3, 3, 3, 3, 3, 3, 1, 3, 3, 2, 1, 1, 3, 1, 3, 3, 1, 3,\n",
       "        1, 3, 1, 3, 1]),\n",
       " 3: array([3, 3, 3, 1, 3, 3, 3, 3, 3, 3, 1, 3, 3, 2, 1, 1, 3, 1, 3, 3, 1, 3,\n",
       "        1, 3, 1, 3, 1]),\n",
       " 4: array([3, 3, 3, 1, 3, 3, 3, 3, 3, 3, 1, 3, 3, 2, 1, 1, 3, 1, 3, 3, 1, 3,\n",
       "        1, 3, 1, 3, 1]),\n",
       " 5: array([3, 3, 3, 1, 3, 3, 3, 3, 3, 3, 1, 3, 3, 2, 3, 3, 3, 1, 3, 3, 3, 3,\n",
       "        1, 3, 1, 3, 1]),\n",
       " 6: array([1, 1, 3, 1, 3, 3, 3, 2, 1, 1, 1, 3, 3, 2, 1, 1, 3, 2, 3, 3, 1, 3,\n",
       "        1, 3, 1, 3, 1]),\n",
       " 7: array([1, 1, 3, 1, 3, 3, 3, 2, 1, 1, 1, 3, 3, 2, 1, 1, 2, 2, 3, 3, 1, 3,\n",
       "        1, 3, 1, 2, 1]),\n",
       " 8: array([1, 1, 2, 1, 3, 3, 3, 3, 1, 1, 1, 3, 2, 2, 1, 1, 2, 1, 3, 3, 1, 3,\n",
       "        1, 3, 1, 2, 1]),\n",
       " 9: array([1, 3, 2, 1, 3, 3, 3, 2, 1, 3, 1, 3, 2, 2, 1, 1, 1, 1, 3, 3, 1, 3,\n",
       "        1, 3, 1, 1, 1]),\n",
       " 10: array([3, 3, 1, 2, 3, 3, 3, 2, 2, 3, 1, 3, 1, 2, 1, 1, 1, 1, 3, 3, 1, 3,\n",
       "        1, 3, 1, 1, 1]),\n",
       " 11: array([1, 1, 1, 1, 3, 3, 3, 2, 3, 3, 1, 3, 1, 2, 1, 3, 1, 1, 3, 3, 1, 3,\n",
       "        1, 1, 1, 3, 1]),\n",
       " 12: array([3, 3, 3, 1, 3, 3, 3, 3, 3, 3, 1, 3, 3, 2, 3, 3, 3, 2, 3, 3, 3, 3,\n",
       "        1, 3, 1, 3, 1]),\n",
       " 13: array([3, 3, 3, 1, 3, 3, 3, 3, 3, 3, 1, 3, 3, 2, 3, 3, 3, 2, 3, 3, 3, 3,\n",
       "        1, 3, 1, 3, 1]),\n",
       " 14: array([3, 3, 3, 1, 3, 3, 3, 3, 3, 3, 1, 3, 3, 2, 3, 3, 3, 2, 3, 3, 3, 3,\n",
       "        1, 3, 1, 3, 1]),\n",
       " 15: array([3, 3, 3, 1, 3, 3, 3, 3, 3, 3, 1, 3, 3, 2, 3, 3, 3, 2, 3, 3, 3, 3,\n",
       "        1, 3, 1, 3, 1]),\n",
       " 16: array([3, 3, 3, 1, 3, 3, 3, 3, 3, 3, 1, 3, 3, 2, 3, 3, 3, 2, 3, 3, 3, 3,\n",
       "        1, 3, 1, 3, 1]),\n",
       " 17: array([3, 3, 3, 3, 3, 3, 3, 3, 3, 3, 1, 3, 3, 2, 3, 3, 3, 2, 3, 3, 3, 3,\n",
       "        1, 3, 1, 3, 1])}"
      ]
     },
     "execution_count": 44,
     "metadata": {},
     "output_type": "execute_result"
    }
   ],
   "source": [
    "test_preds"
   ]
  },
  {
   "cell_type": "code",
   "execution_count": 9,
   "metadata": {},
   "outputs": [],
   "source": [
    "from IndModels.models import Model"
   ]
  },
  {
   "cell_type": "code",
   "execution_count": 11,
   "metadata": {},
   "outputs": [],
   "source": [
    "class CTDModel(Model):\n",
    "    def __init__(self,enzs,X,y,tr_idx,te_idx,k=7,s=1,Feats='CTD',\n",
    "                 SVM=True,GBC=False,NN=False,pca_components=40,\n",
    "                 regCparam=20,kernparam='rbf',nestparam=15,lrateparam=0.5,\n",
    "                 mdepthparam=3,ssampleparam=1,hlayer=(5,),lrateinit=0.1,\n",
    "                 regparam=0.01,inc_count=True,probability=False,\n",
    "                 classweight=None,optimizeQ=False,verboseQ=False,\n",
    "                 random_seed=None):\n",
    "\n",
    "        self.ctd = CTD(F=Feats)\n",
    "        self.X_enc = self.get_ctd_feat(X,k,s)\n",
    "        self.Xtrain,self.Xtest = self.X_enc[tr_idx,:],self.X_enc[te_idx,:]\n",
    "\n",
    "        super().__init__(enzs,X,y,tr_idx,te_idx,SVM,GBC,NN,pca_components,regCparam,\n",
    "             kernparam,nestparam,lrateparam,mdepthparam,ssampleparam,hlayer,\n",
    "             lrateinit,regparam,random_seed,probability,classweight,optimizeQ,verboseQ)\n",
    "\n",
    "        if SVM:\n",
    "            self.SVMobject = self.get_SVM()\n",
    "            self.model = self.SVMobject.model\n",
    "\n",
    "        elif GBC:\n",
    "            self.GBCobject=self.get_GBC()\n",
    "            self.model=self.GBCobject.model\n",
    "\n",
    "        elif NN:\n",
    "            self.NNobject=self.get_NN()\n",
    "            self.model=self.NNobject.model\n",
    "\n",
    "\n",
    "        else:\n",
    "            raise ValueError('No model initiated')\n",
    "        \n",
    "        pass\n",
    "\n",
    "    def get_ctd_feat(self,X,motif_length=7,motif_step=1):\n",
    "        len_seq = len(X[0])\n",
    "        X_encoded = []\n",
    "        for seq in X:\n",
    "            seq_encoded = []\n",
    "            curr_motif = 0\n",
    "            curr_extreme = curr_motif*motif_step + motif_length\n",
    "\n",
    "            while curr_extreme<len_seq:\n",
    "                motif = seq[curr_motif*motif_step:curr_extreme]\n",
    "                motif_feat = ctdEnc.get_ind_attr(motif)\n",
    "                seq_encoded.extend(motif_feat)\n",
    "                curr_motif+=1\n",
    "                curr_extreme = curr_motif*motif_step + motif_length\n",
    "\n",
    "            X_encoded.append(seq_encoded)\n",
    "\n",
    "        return np.array(X_encoded)            "
   ]
  },
  {
   "cell_type": "code",
   "execution_count": 20,
   "metadata": {},
   "outputs": [],
   "source": [
    "ctdmodel = CTDModel(enz_names,X[:,[i for i in range(400,500)]],y,tr_idx,te_idx)"
   ]
  },
  {
   "cell_type": "code",
   "execution_count": 21,
   "metadata": {},
   "outputs": [
    {
     "data": {
      "text/plain": [
       "0.5185185185185185"
      ]
     },
     "execution_count": 21,
     "metadata": {},
     "output_type": "execute_result"
    }
   ],
   "source": [
    "ctdmodel.SVMobject.acc_test"
   ]
  },
  {
   "cell_type": "code",
   "execution_count": 11,
   "metadata": {},
   "outputs": [],
   "source": [
    "def get_ctdEnc(X_sliced,motif_length=7,motif_step=1):\n",
    "    len_seq = len(X_sliced[0])\n",
    "    X_encoded = []\n",
    "    for seq in X_sliced:\n",
    "        seq_encoded = []\n",
    "        curr_motif = 0\n",
    "        curr_extreme = curr_motif*motif_step + motif_length\n",
    "        \n",
    "        while curr_extreme<len_seq:\n",
    "            motif = seq[curr_motif*motif_step:curr_extreme]\n",
    "            motif_feat = ctdEnc.get_ind_attr(motif)\n",
    "            seq_encoded.extend(motif_feat)\n",
    "            curr_motif+=1\n",
    "            curr_extreme = curr_motif*motif_step + motif_length\n",
    "            \n",
    "        X_encoded.append(seq_encoded)\n",
    "        \n",
    "    return np.array(X_encoded)"
   ]
  },
  {
   "cell_type": "code",
   "execution_count": 12,
   "metadata": {},
   "outputs": [],
   "source": [
    "X_enc = get_ctdEnc(X[:,[i for i in range(0,100)]])"
   ]
  },
  {
   "cell_type": "code",
   "execution_count": 13,
   "metadata": {},
   "outputs": [
    {
     "data": {
      "text/plain": [
       "(116, 13671)"
      ]
     },
     "execution_count": 13,
     "metadata": {},
     "output_type": "execute_result"
    }
   ],
   "source": [
    "X_enc.shape"
   ]
  },
  {
   "cell_type": "code",
   "execution_count": 16,
   "metadata": {},
   "outputs": [],
   "source": [
    "X_train = X_enc[tr_idx,:]\n",
    "X_test = X_enc[te_idx,:]\n",
    "y_train,y_test = y[tr_idx],y[te_idx]"
   ]
  },
  {
   "cell_type": "code",
   "execution_count": 18,
   "metadata": {},
   "outputs": [
    {
     "name": "stdout",
     "output_type": "stream",
     "text": [
      "-----Initial Model Evaluation-----\n",
      "-----Training Accuracy:0.5862068965517241-----\n",
      "-----Testing Accuracy:0.48148148148148145-----\n"
     ]
    }
   ],
   "source": [
    "svm = SVM(X_train,X_test,y_train,y_test)"
   ]
  },
  {
   "cell_type": "code",
   "execution_count": null,
   "metadata": {},
   "outputs": [],
   "source": []
  }
 ],
 "metadata": {
  "kernelspec": {
   "display_name": "Python 3",
   "language": "python",
   "name": "python3"
  },
  "language_info": {
   "codemirror_mode": {
    "name": "ipython",
    "version": 3
   },
   "file_extension": ".py",
   "mimetype": "text/x-python",
   "name": "python",
   "nbconvert_exporter": "python",
   "pygments_lexer": "ipython3",
   "version": "3.7.9"
  }
 },
 "nbformat": 4,
 "nbformat_minor": 4
}
