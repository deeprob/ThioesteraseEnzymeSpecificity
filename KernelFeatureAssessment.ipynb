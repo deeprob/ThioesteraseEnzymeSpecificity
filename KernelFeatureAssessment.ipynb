{
 "cells": [
  {
   "cell_type": "code",
   "execution_count": 1,
   "metadata": {},
   "outputs": [],
   "source": [
    "import os\n",
    "import pandas as pd\n",
    "from sklearn.model_selection import train_test_split\n",
    "from mySVM.model import SVM\n",
    "import itertools \n",
    "import multiprocessing as mp\n",
    "import numpy as np"
   ]
  },
  {
   "cell_type": "code",
   "execution_count": 2,
   "metadata": {},
   "outputs": [],
   "source": [
    "feature_dir = 'KernelMethods/featvec/'\n",
    "feature_files = [f.name for f in os.scandir(feature_dir) if f.name.endswith('.csv.gz')]"
   ]
  },
  {
   "cell_type": "code",
   "execution_count": 3,
   "metadata": {},
   "outputs": [],
   "source": [
    "label_dir = 'Data/Labels/'\n",
    "label_file = 'Labels_Classification.csv'"
   ]
  },
  {
   "cell_type": "code",
   "execution_count": 4,
   "metadata": {},
   "outputs": [],
   "source": [
    "enz_map_file = 'Data/TE_ML_Data/EnzymeNameMap.csv'"
   ]
  },
  {
   "cell_type": "code",
   "execution_count": 5,
   "metadata": {},
   "outputs": [],
   "source": [
    "enz_map_df = pd.read_csv(enz_map_file,header=None)\n",
    "enz_map_dict = dict(zip(enz_map_df[0].values,enz_map_df[1].values))"
   ]
  },
  {
   "cell_type": "code",
   "execution_count": 6,
   "metadata": {},
   "outputs": [],
   "source": [
    "def model_evaluate(filename,random_seed):\n",
    "    df1=pd.read_csv(feature_dir+filename)\n",
    "    df2=pd.read_csv(label_dir+label_file,header=None).set_index(0)\n",
    "    def func(row):\n",
    "        return enz_map_dict[row]\n",
    "    df1['Unnamed: 0'] = df1['Unnamed: 0'].apply(func)\n",
    "    df1 = df1.set_index('Unnamed: 0')\n",
    "    df = df1.merge(df2,left_index=True,right_index=True).reset_index()\n",
    "    \n",
    "    enz_names = df.iloc[:,0].values\n",
    "    X = df.iloc[:,1:-1].values\n",
    "    y = df.iloc[:,-1].values\n",
    "    \n",
    "    if X.shape[1]<40:\n",
    "        n_comp = int(0.75*X.shape[1])\n",
    "    else:\n",
    "        n_comp=40\n",
    "        \n",
    "    X_train, X_test, y_train, y_test,enz_train,enz_test = train_test_split(X, y,enz_names, test_size=0.25, random_state=random_seed)\n",
    "    svm = SVM(X_train,X_test,y_train,y_test,verbose=False,optimize=False, pca_comp=n_comp)\n",
    "    return svm.acc_train,svm.acc_test\n",
    " "
   ]
  },
  {
   "cell_type": "code",
   "execution_count": 7,
   "metadata": {},
   "outputs": [
    {
     "data": {
      "text/plain": [
       "24"
      ]
     },
     "execution_count": 7,
     "metadata": {},
     "output_type": "execute_result"
    }
   ],
   "source": [
    "mp.cpu_count()"
   ]
  },
  {
   "cell_type": "code",
   "execution_count": 8,
   "metadata": {},
   "outputs": [],
   "source": [
    "pool = mp.Pool(mp.cpu_count())"
   ]
  },
  {
   "cell_type": "code",
   "execution_count": 9,
   "metadata": {},
   "outputs": [],
   "source": [
    "iterable = list(itertools.product(feature_files,range(10000)))"
   ]
  },
  {
   "cell_type": "code",
   "execution_count": 10,
   "metadata": {},
   "outputs": [
    {
     "name": "stdout",
     "output_type": "stream",
     "text": [
      "CPU times: user 1.1 s, sys: 400 ms, total: 1.5 s\n",
      "Wall time: 15min 55s\n"
     ]
    }
   ],
   "source": [
    "%%time\n",
    "model_accs = list(pool.starmap(model_evaluate,iterable))"
   ]
  },
  {
   "cell_type": "code",
   "execution_count": 11,
   "metadata": {},
   "outputs": [],
   "source": [
    "mydict = dict()\n",
    "\n",
    "for m,acc in zip(iterable,model_accs):\n",
    "    model_name=m[0].replace('.csv.gz','')\n",
    "    seed = m[1]\n",
    "    if model_name not in mydict:\n",
    "        mydict[model_name] = {seed:acc}\n",
    "    else:\n",
    "        mydict[model_name][seed] = acc"
   ]
  },
  {
   "cell_type": "code",
   "execution_count": 12,
   "metadata": {},
   "outputs": [],
   "source": [
    "def get_model_stats(mname):\n",
    "    train_accs = [v[0] for k,v in mydict[mname].items()]\n",
    "    test_accs = [v[1] for k,v in mydict[mname].items()]\n",
    "    return {'train_min':min(train_accs),'train_mean':np.mean(train_accs),\n",
    "            'train_max':max(train_accs),'train_std':np.std(train_accs),\n",
    "            'test_min':min(test_accs),'test_mean':np.mean(test_accs),\n",
    "            'test_max':max(test_accs),'test_std':np.std(test_accs)}"
   ]
  },
  {
   "cell_type": "code",
   "execution_count": 13,
   "metadata": {},
   "outputs": [
    {
     "data": {
      "text/plain": [
       "{'train_min': 0.7011494252873564,\n",
       " 'train_mean': 0.7782850574712644,\n",
       " 'train_max': 0.8735632183908046,\n",
       " 'train_std': 0.023514565302062473,\n",
       " 'test_min': 0.3448275862068966,\n",
       " 'test_mean': 0.6660137931034483,\n",
       " 'test_max': 0.9310344827586207,\n",
       " 'test_std': 0.07814855696687403}"
      ]
     },
     "execution_count": 13,
     "metadata": {},
     "output_type": "execute_result"
    }
   ],
   "source": [
    "get_model_stats('mismatchKernel')"
   ]
  },
  {
   "cell_type": "code",
   "execution_count": 14,
   "metadata": {},
   "outputs": [],
   "source": [
    "results_dict= {mname:get_model_stats(mname) for mname in mydict.keys()}\n",
    "    "
   ]
  },
  {
   "cell_type": "code",
   "execution_count": 15,
   "metadata": {},
   "outputs": [],
   "source": [
    "results_df = pd.DataFrame(results_dict).T"
   ]
  },
  {
   "cell_type": "code",
   "execution_count": 16,
   "metadata": {},
   "outputs": [],
   "source": [
    "results_df.to_csv('Data/SimResults/KernelResults.csv',index=True)"
   ]
  },
  {
   "cell_type": "code",
   "execution_count": 17,
   "metadata": {},
   "outputs": [
    {
     "data": {
      "text/html": [
       "<div>\n",
       "<style scoped>\n",
       "    .dataframe tbody tr th:only-of-type {\n",
       "        vertical-align: middle;\n",
       "    }\n",
       "\n",
       "    .dataframe tbody tr th {\n",
       "        vertical-align: top;\n",
       "    }\n",
       "\n",
       "    .dataframe thead th {\n",
       "        text-align: right;\n",
       "    }\n",
       "</style>\n",
       "<table border=\"1\" class=\"dataframe\">\n",
       "  <thead>\n",
       "    <tr style=\"text-align: right;\">\n",
       "      <th></th>\n",
       "      <th>train_min</th>\n",
       "      <th>train_mean</th>\n",
       "      <th>train_max</th>\n",
       "      <th>train_std</th>\n",
       "      <th>test_min</th>\n",
       "      <th>test_mean</th>\n",
       "      <th>test_max</th>\n",
       "      <th>test_std</th>\n",
       "    </tr>\n",
       "  </thead>\n",
       "  <tbody>\n",
       "    <tr>\n",
       "      <th>mismatchKernel</th>\n",
       "      <td>0.701149</td>\n",
       "      <td>0.778285</td>\n",
       "      <td>0.873563</td>\n",
       "      <td>0.023515</td>\n",
       "      <td>0.344828</td>\n",
       "      <td>0.666014</td>\n",
       "      <td>0.931034</td>\n",
       "      <td>0.078149</td>\n",
       "    </tr>\n",
       "    <tr>\n",
       "      <th>gappyKernel</th>\n",
       "      <td>0.701149</td>\n",
       "      <td>0.780318</td>\n",
       "      <td>0.873563</td>\n",
       "      <td>0.023710</td>\n",
       "      <td>0.344828</td>\n",
       "      <td>0.663414</td>\n",
       "      <td>0.931034</td>\n",
       "      <td>0.078443</td>\n",
       "    </tr>\n",
       "    <tr>\n",
       "      <th>spectrumKernel</th>\n",
       "      <td>0.724138</td>\n",
       "      <td>0.796175</td>\n",
       "      <td>0.908046</td>\n",
       "      <td>0.024608</td>\n",
       "      <td>0.344828</td>\n",
       "      <td>0.668855</td>\n",
       "      <td>0.931034</td>\n",
       "      <td>0.076480</td>\n",
       "    </tr>\n",
       "  </tbody>\n",
       "</table>\n",
       "</div>"
      ],
      "text/plain": [
       "                train_min  train_mean  train_max  train_std  test_min  \\\n",
       "mismatchKernel   0.701149    0.778285   0.873563   0.023515  0.344828   \n",
       "gappyKernel      0.701149    0.780318   0.873563   0.023710  0.344828   \n",
       "spectrumKernel   0.724138    0.796175   0.908046   0.024608  0.344828   \n",
       "\n",
       "                test_mean  test_max  test_std  \n",
       "mismatchKernel   0.666014  0.931034  0.078149  \n",
       "gappyKernel      0.663414  0.931034  0.078443  \n",
       "spectrumKernel   0.668855  0.931034  0.076480  "
      ]
     },
     "execution_count": 17,
     "metadata": {},
     "output_type": "execute_result"
    }
   ],
   "source": [
    "results_df.sort_values('train_mean')"
   ]
  }
 ],
 "metadata": {
  "kernelspec": {
   "display_name": "Python 3",
   "language": "python",
   "name": "python3"
  },
  "language_info": {
   "codemirror_mode": {
    "name": "ipython",
    "version": 3
   },
   "file_extension": ".py",
   "mimetype": "text/x-python",
   "name": "python",
   "nbconvert_exporter": "python",
   "pygments_lexer": "ipython3",
   "version": "3.6.7"
  }
 },
 "nbformat": 4,
 "nbformat_minor": 4
}
