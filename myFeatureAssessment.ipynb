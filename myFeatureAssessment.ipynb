{
 "cells": [
  {
   "cell_type": "markdown",
   "metadata": {},
   "source": [
    "# AutoPos"
   ]
  },
  {
   "cell_type": "code",
   "execution_count": 41,
   "metadata": {},
   "outputs": [],
   "source": [
    "from AutoPos.AutoPosModel import AutoPosClass\n",
    "from sklearn.feature_selection import chi2\n",
    "from IndModels.ModelsEdited import NGModel,Model,GAACModel\n",
    "\n",
    "from sklearn.model_selection import train_test_split\n",
    "import helper\n",
    "import pandas as pd\n",
    "\n",
    "import multiprocessing as mp\n",
    "import numpy as np"
   ]
  },
  {
   "cell_type": "code",
   "execution_count": 4,
   "metadata": {},
   "outputs": [],
   "source": [
    "Aligned_Data_File = 'Data/Enzyme_aligned.txt'\n",
    "df = pd.read_csv(Aligned_Data_File,header=None)\n",
    "enz_names = df[0].values\n",
    "X = df.iloc[:,1].values\n",
    "y = df.iloc[:,-1].values\n",
    "X_train, X_test, y_train, y_test,enz_train,enz_test = train_test_split(X, y,enz_names, test_size=0.25, random_state=7)\n",
    "sc_func = chi2\n",
    "n_positions=50\n",
    "apmodel = AutoPosClass(X_train,X_test,y_train,y_test,sc_func,None,n_positions,imp=True,verbose=False)\n",
    "\n"
   ]
  },
  {
   "cell_type": "code",
   "execution_count": 5,
   "metadata": {},
   "outputs": [
    {
     "data": {
      "text/plain": [
       "0.5925925925925926"
      ]
     },
     "execution_count": 5,
     "metadata": {},
     "output_type": "execute_result"
    }
   ],
   "source": [
    "apmodel.SVMobject.acc_test"
   ]
  },
  {
   "cell_type": "markdown",
   "metadata": {},
   "source": [
    "# IndModels"
   ]
  },
  {
   "cell_type": "code",
   "execution_count": 20,
   "metadata": {},
   "outputs": [
    {
     "data": {
      "text/plain": [
       "(0.7931034482758621, 0.8275862068965517)"
      ]
     },
     "execution_count": 20,
     "metadata": {},
     "output_type": "execute_result"
    }
   ],
   "source": [
    "enz_datafile = 'Data/Enzyme-Dataset-Modified.csv'\n",
    "df = pd.read_csv(enz_datafile,header=None)\n",
    "enz_names = df[0].values\n",
    "X = df.iloc[:,1].values\n",
    "y = df.iloc[:,-1].values\n",
    "\n",
    "\n",
    "X_train, X_test, y_train, y_test,enz_train,enz_test = train_test_split(X, y,enz_names, test_size=0.25, random_state=7)\n",
    "\n",
    "m = Model(X_train,X_test,y_train,y_test)\n",
    "\n",
    "ngmodel = NGModel(X_train,X_test,y_train,y_test)\n",
    "\n",
    "\n",
    "\n",
    "gmodel = GAACModel(X_train,X_test,y_train,y_test)\n",
    "\n",
    "ngmodel.SVMobject.acc_test,gmodel.SVMobject.acc_test"
   ]
  },
  {
   "cell_type": "code",
   "execution_count": 18,
   "metadata": {},
   "outputs": [],
   "source": [
    "def model_evaluate(random_seed):\n",
    "    Aligned_Data_File = 'Data/Enzyme_aligned.txt'\n",
    "    df = pd.read_csv(Aligned_Data_File,header=None)\n",
    "    enz_names = df[0].values\n",
    "    X = df.iloc[:,1].values\n",
    "    y = df.iloc[:,-1].values\n",
    "    X_train, X_test, y_train, y_test,enz_train,enz_test = train_test_split(X, y,enz_names, test_size=0.25, random_state=random_seed)\n",
    "    sc_func = chi2\n",
    "    n_positions=50\n",
    "    apmodel = AutoPosClass(X_train,X_test,y_train,y_test,sc_func,None,n_positions,imp=False,verbose=False)\n",
    "    \n",
    "    enz_datafile = 'Data/Enzyme-Dataset-Modified.csv'\n",
    "    df_k = pd.read_csv(enz_datafile,header=None)\n",
    "    enz_names_k = df_k[0].values\n",
    "    X_k = df_k.iloc[:,1].values\n",
    "    y_k = df_k.iloc[:,-1].values\n",
    "    X_train_k, X_test_k, y_train_k, y_test_k,enz_train_k,enz_test_k = train_test_split(X_k, y_k,enz_names_k, test_size=0.25, random_state=random_seed)\n",
    "    ngmodel = NGModel(X_train_k,X_test_k,y_train_k,y_test_k)\n",
    "    gmodel = GAACModel(X_train_k,X_test_k,y_train_k,y_test_k)\n",
    "    \n",
    "    return apmodel.SVMobject.acc_test,ngmodel.SVMobject.acc_test,gmodel.SVMobject.acc_test\n"
   ]
  },
  {
   "cell_type": "code",
   "execution_count": 19,
   "metadata": {},
   "outputs": [
    {
     "data": {
      "text/plain": [
       "(0.7407407407407407, 0.7931034482758621, 0.7931034482758621)"
      ]
     },
     "execution_count": 19,
     "metadata": {},
     "output_type": "execute_result"
    }
   ],
   "source": [
    "model_evaluate(3)"
   ]
  },
  {
   "cell_type": "code",
   "execution_count": 23,
   "metadata": {},
   "outputs": [
    {
     "data": {
      "text/plain": [
       "8"
      ]
     },
     "execution_count": 23,
     "metadata": {},
     "output_type": "execute_result"
    }
   ],
   "source": [
    "mp.cpu_count()"
   ]
  },
  {
   "cell_type": "code",
   "execution_count": 24,
   "metadata": {},
   "outputs": [],
   "source": [
    "pool = mp.Pool(mp.cpu_count())"
   ]
  },
  {
   "cell_type": "code",
   "execution_count": 25,
   "metadata": {},
   "outputs": [
    {
     "name": "stdout",
     "output_type": "stream",
     "text": [
      "CPU times: user 8.34 ms, sys: 6.99 ms, total: 15.3 ms\n",
      "Wall time: 8.39 s\n"
     ]
    }
   ],
   "source": [
    "%%time\n",
    "model_accs = list(pool.map(model_evaluate,range(100)))"
   ]
  },
  {
   "cell_type": "code",
   "execution_count": 39,
   "metadata": {},
   "outputs": [],
   "source": [
    "def get_model_stats(accs):\n",
    "    mnames = ['AutoPos','NG','GAANG']\n",
    "    maccs = [[accs[i][j] for i in range(len(accs)) ] for j in range(3)]\n",
    "    return {mnames[i]:{'min':min(maccs[i]),'mean':np.mean(maccs[i]),\n",
    "            'max':max(maccs[i]),'std':np.std(maccs[i])} for i in range(len(mnames))}"
   ]
  },
  {
   "cell_type": "code",
   "execution_count": 43,
   "metadata": {},
   "outputs": [],
   "source": [
    "results_dict = get_model_stats(model_accs)"
   ]
  },
  {
   "cell_type": "code",
   "execution_count": 44,
   "metadata": {},
   "outputs": [],
   "source": [
    "results_df = pd.DataFrame(results_dict).T"
   ]
  },
  {
   "cell_type": "code",
   "execution_count": 46,
   "metadata": {},
   "outputs": [],
   "source": [
    "results_df.to_csv('Data/SimResults/myFeatResults.csv',index=True)"
   ]
  },
  {
   "cell_type": "code",
   "execution_count": null,
   "metadata": {},
   "outputs": [],
   "source": []
  }
 ],
 "metadata": {
  "kernelspec": {
   "display_name": "Python 3",
   "language": "python",
   "name": "python3"
  },
  "language_info": {
   "codemirror_mode": {
    "name": "ipython",
    "version": 3
   },
   "file_extension": ".py",
   "mimetype": "text/x-python",
   "name": "python",
   "nbconvert_exporter": "python",
   "pygments_lexer": "ipython3",
   "version": "3.7.9"
  }
 },
 "nbformat": 4,
 "nbformat_minor": 4
}
