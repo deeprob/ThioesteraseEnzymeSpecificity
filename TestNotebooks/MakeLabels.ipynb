{
 "cells": [
  {
   "cell_type": "code",
   "execution_count": 2,
   "metadata": {},
   "outputs": [],
   "source": [
    "datafile_class = '../Data/Enzyme-Dataset-Modified.csv'\n",
    "datafile_reg = '../Data/AlignedRegressionData.txt'\n",
    "output_dir = '../Data/Labels/'\n",
    "outputfile_class = output_dir + 'Labels_Classification.csv'\n",
    "outputfile_reg = output_dir + 'Labels_Regression.csv'"
   ]
  },
  {
   "cell_type": "code",
   "execution_count": 3,
   "metadata": {},
   "outputs": [],
   "source": [
    "import pandas as pd"
   ]
  },
  {
   "cell_type": "code",
   "execution_count": 4,
   "metadata": {},
   "outputs": [],
   "source": [
    "df_class = pd.read_csv(datafile_class,header=None,usecols=[0,2])\n",
    "\n",
    "df_class.to_csv(outputfile_class,index=False,header=False)"
   ]
  },
  {
   "cell_type": "code",
   "execution_count": 5,
   "metadata": {},
   "outputs": [],
   "source": [
    "df_reg = pd.read_csv(datafile_reg,header=None,usecols=[0,2])\n",
    "\n",
    "df_reg.to_csv(outputfile_reg,index=False,header=False)"
   ]
  },
  {
   "cell_type": "markdown",
   "metadata": {},
   "source": [
    "# Make Binary Labels"
   ]
  },
  {
   "cell_type": "code",
   "execution_count": 10,
   "metadata": {},
   "outputs": [],
   "source": [
    "df = pd.read_csv(outputfile_class,header=None)"
   ]
  },
  {
   "cell_type": "code",
   "execution_count": 13,
   "metadata": {},
   "outputs": [],
   "source": [
    "def func(val):\n",
    "    if val==1 or val==2:\n",
    "        return 0\n",
    "    else:\n",
    "        return 1\n",
    "\n",
    "df[1] = df[1].apply(func)\n",
    "    "
   ]
  },
  {
   "cell_type": "code",
   "execution_count": 16,
   "metadata": {},
   "outputs": [],
   "source": [
    "df.to_csv(output_dir + 'Labels_BinaryClassification.csv',index=False,header=False)"
   ]
  }
 ],
 "metadata": {
  "kernelspec": {
   "display_name": "Python 3",
   "language": "python",
   "name": "python3"
  },
  "language_info": {
   "codemirror_mode": {
    "name": "ipython",
    "version": 3
   },
   "file_extension": ".py",
   "mimetype": "text/x-python",
   "name": "python",
   "nbconvert_exporter": "python",
   "pygments_lexer": "ipython3",
   "version": "3.6.7"
  }
 },
 "nbformat": 4,
 "nbformat_minor": 4
}
