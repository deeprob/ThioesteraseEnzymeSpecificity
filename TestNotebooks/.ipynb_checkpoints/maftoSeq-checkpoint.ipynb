{
 "cells": [
  {
   "cell_type": "code",
   "execution_count": 1,
   "metadata": {},
   "outputs": [],
   "source": [
    "datafile = 'Data/alignment.maf'"
   ]
  },
  {
   "cell_type": "code",
   "execution_count": 5,
   "metadata": {},
   "outputs": [],
   "source": [
    "with open(datafile,'r') as f:\n",
    "    Aligned = ['' for a in range(106)]\n",
    "    counter = 0\n",
    "    for i,lines in enumerate(f):\n",
    "        if i<3:\n",
    "            continue\n",
    "        elif i>864:\n",
    "            break\n",
    "        elif i in [109,110,217,218,325,326,433,434,541,542,649,650,757,758]:\n",
    "            counter = 0\n",
    "            continue\n",
    "        else:\n",
    "            enz_val = lines.strip('\\n').split()\n",
    "            Aligned[counter]+=enz_val[1]\n",
    "            counter+=1\n",
    "            \n",
    "        "
   ]
  },
  {
   "cell_type": "code",
   "execution_count": 12,
   "metadata": {},
   "outputs": [],
   "source": [
    "datafile2 = 'Data/Enzyme_Dataset.txt'\n",
    "datafile3 = 'Data/Enzyme_aligned.txt'\n",
    "\n",
    "with open(datafile2,'r') as df:\n",
    "    with open(datafile3,'w') as wdf:\n",
    "        for i,lines in enumerate(df):\n",
    "            enz_names = lines.strip('\\n').split(',')\n",
    "            wdf.write(enz_names[0]+','+Aligned[i]+','+enz_names[2])\n",
    "            wdf.write('\\n')\n",
    "        \n",
    "    "
   ]
  }
 ],
 "metadata": {
  "kernelspec": {
   "display_name": "Python 3",
   "language": "python",
   "name": "python3"
  },
  "language_info": {
   "codemirror_mode": {
    "name": "ipython",
    "version": 3
   },
   "file_extension": ".py",
   "mimetype": "text/x-python",
   "name": "python",
   "nbconvert_exporter": "python",
   "pygments_lexer": "ipython3",
   "version": "3.6.7"
  }
 },
 "nbformat": 4,
 "nbformat_minor": 2
}
