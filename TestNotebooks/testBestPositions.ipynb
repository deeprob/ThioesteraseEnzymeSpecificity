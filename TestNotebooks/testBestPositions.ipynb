{
 "cells": [
  {
   "cell_type": "code",
   "execution_count": 1,
   "metadata": {},
   "outputs": [],
   "source": [
    "import sys\n",
    "sys.path.append('..')"
   ]
  },
  {
   "cell_type": "code",
   "execution_count": 2,
   "metadata": {},
   "outputs": [],
   "source": [
    "from AutoPos.Model import OhePosModel\n",
    "from mySVM.model import SVM"
   ]
  },
  {
   "cell_type": "code",
   "execution_count": 3,
   "metadata": {},
   "outputs": [],
   "source": [
    "import numpy as np"
   ]
  },
  {
   "cell_type": "code",
   "execution_count": 4,
   "metadata": {},
   "outputs": [],
   "source": [
    "enzyme_aligned_file = '../Data/Modified-Enzyme-Alignment.txt'"
   ]
  },
  {
   "cell_type": "code",
   "execution_count": 5,
   "metadata": {},
   "outputs": [],
   "source": [
    "from sklearn.feature_selection import chi2"
   ]
  },
  {
   "cell_type": "code",
   "execution_count": 6,
   "metadata": {},
   "outputs": [],
   "source": [
    "import helper\n",
    "X,y,enz_name = helper.parseEnzymeFile(enzyme_aligned_file)"
   ]
  },
  {
   "cell_type": "code",
   "execution_count": 7,
   "metadata": {},
   "outputs": [],
   "source": [
    "np.random.seed(437)\n",
    "teidx,tridx = helper.modified_split(enz_name)"
   ]
  },
  {
   "cell_type": "code",
   "execution_count": 8,
   "metadata": {},
   "outputs": [],
   "source": [
    "ohepos = OhePosModel(enzyme_aligned_file,chi2,None,50,training=tridx)"
   ]
  },
  {
   "cell_type": "code",
   "execution_count": 9,
   "metadata": {},
   "outputs": [],
   "source": [
    "def createEncodedArraywithGAA(X,bestpos):\n",
    "    X = np.array(list(map(list,X)))\n",
    "    AAs = ['-','A','C','D','E','F','G','H','I','K','L', #11\n",
    "            'M','N','P','Q','R','S','T','V','W','X','Y'] #22\n",
    "    OHE_dict = dict(zip(AAs,range(len(AAs))))\n",
    "    GAAmap = {'G':'g1','A':'g1','V':'g1','L':'g1','M':'g1','I':'g1','F':'g2','Y':'g2','W':'g2',\n",
    "                       'K':'g3','R':'g3','H':'g3', 'D':'g4', 'E':'g4','S':'g5','T':'g5','C':'g5','P':'g5',\n",
    "                       'N':'g5','Q':'g5','X':'g6','-':'g6'}\n",
    "    GAAs = sorted(set(GAAmap.values()))\n",
    "    for i,gaaval in enumerate(GAAs):\n",
    "        OHE_dict[gaaval] = i+len(AAs)\n",
    "    X_enc = np.zeros((X.shape[0],len(bestpos)*(len(AAs)+len(GAAs))))\n",
    "    \n",
    "    \n",
    "    for pos_i,pos in enumerate(bestpos):\n",
    "        for x_i,x in enumerate(X):\n",
    "            \n",
    "            #get the value of the AA\n",
    "            AAval = x[pos]\n",
    "            GAAval = GAAmap[AAval]\n",
    "            #get the column index that will be 1\n",
    "            y_i = pos_i*(len(AAs)+len(GAAs)) + OHE_dict[AAval]\n",
    "            y_i_gaa = pos_i*(len(AAs)+len(GAAs)) + OHE_dict[GAAval]\n",
    "            X_enc[x_i,y_i] = 1\n",
    "            X_enc[x_i,y_i_gaa] = 1\n",
    "    return X_enc"
   ]
  },
  {
   "cell_type": "code",
   "execution_count": 10,
   "metadata": {},
   "outputs": [],
   "source": [
    "def createEncodedArray(X,bestpos):\n",
    "    X = np.array(list(map(list,X)))\n",
    "    AAs = ['-','A','C','D','E','F','G','H','I','K','L', #11\n",
    "            'M','N','P','Q','R','S','T','V','W','X','Y'] #22\n",
    "    OHE_dict = dict(zip(AAs,range(len(AAs))))\n",
    "    X_enc = np.zeros((X.shape[0],len(bestpos)*len(AAs)))\n",
    "    \n",
    "    \n",
    "    for pos_i,pos in enumerate(bestpos):\n",
    "        for x_i,x in enumerate(X):\n",
    "            \n",
    "            #get the value of the AA\n",
    "            AAval = x[pos]\n",
    "            #get the column index that will be 1\n",
    "            y_i = pos_i*len(AAs) + OHE_dict[AAval]\n",
    "            y_i_gaa = pos_i*len(AAs)\n",
    "            X_enc[x_i,y_i] = 1\n",
    "    return X_enc"
   ]
  },
  {
   "cell_type": "code",
   "execution_count": 11,
   "metadata": {},
   "outputs": [],
   "source": [
    "X_enc = createEncodedArray(X,ohepos.BestPositions)"
   ]
  },
  {
   "cell_type": "code",
   "execution_count": 12,
   "metadata": {},
   "outputs": [
    {
     "data": {
      "text/plain": [
       "(116, 1100)"
      ]
     },
     "execution_count": 12,
     "metadata": {},
     "output_type": "execute_result"
    }
   ],
   "source": [
    "X_enc.shape"
   ]
  },
  {
   "cell_type": "code",
   "execution_count": 13,
   "metadata": {},
   "outputs": [],
   "source": [
    "Xtrain,Xtest,ytrain,ytest = X_enc[tridx],X_enc[teidx],y[tridx],y[teidx]"
   ]
  },
  {
   "cell_type": "code",
   "execution_count": 14,
   "metadata": {},
   "outputs": [
    {
     "name": "stdout",
     "output_type": "stream",
     "text": [
      "-----Initial Model Evaluation-----\n",
      "-----Training Accuracy:0.8390804597701149-----\n",
      "-----Testing Accuracy:0.6296296296296297-----\n"
     ]
    }
   ],
   "source": [
    "svm = SVM(Xtrain,Xtest,ytrain,ytest)"
   ]
  },
  {
   "cell_type": "code",
   "execution_count": 15,
   "metadata": {},
   "outputs": [],
   "source": [
    "random_pos = np.random.randint(0,len(X[0]),size=50)"
   ]
  },
  {
   "cell_type": "code",
   "execution_count": 16,
   "metadata": {},
   "outputs": [],
   "source": [
    "X_enc_random = createEncodedArray(X,random_pos)"
   ]
  },
  {
   "cell_type": "code",
   "execution_count": 17,
   "metadata": {},
   "outputs": [],
   "source": [
    "Xtrainr,Xtestr= X_enc_random[tridx],X_enc_random[teidx]"
   ]
  },
  {
   "cell_type": "code",
   "execution_count": 18,
   "metadata": {},
   "outputs": [
    {
     "name": "stdout",
     "output_type": "stream",
     "text": [
      "-----Initial Model Evaluation-----\n",
      "-----Training Accuracy:0.7816091954022989-----\n",
      "-----Testing Accuracy:0.48148148148148145-----\n"
     ]
    }
   ],
   "source": [
    "svm_random = SVM(Xtrainr,Xtestr,ytrain,ytest,regC=20)"
   ]
  },
  {
   "cell_type": "code",
   "execution_count": 19,
   "metadata": {},
   "outputs": [],
   "source": [
    "def multiprocess_func(randomseed):\n",
    "    np.random.seed(randomseed)\n",
    "    teidx,tridx = helper.modified_split(enz_name)\n",
    "    n_positions = 50\n",
    "    ohepos = OhePosModel(enzyme_aligned_file,chi2,None,n_positions,training=tridx)\n",
    "    random_pos = np.random.randint(0,len(X[0]),size=n_positions)\n",
    "    X_enc = createEncodedArray(X,ohepos.BestPositions)\n",
    "    X_enc_random = createEncodedArray(X,random_pos)\n",
    "    Xtrain,Xtest,ytrain,ytest = X_enc[tridx],X_enc[teidx],y[tridx],y[teidx]\n",
    "    Xtrainr,Xtestr= X_enc_random[tridx],X_enc_random[teidx]\n",
    "    svm = SVM(Xtrain,Xtest,ytrain,ytest,random_seed=randomseed,kern='rbf',pca_comp=40,regC=20,verbose=False)\n",
    "    svm_random = SVM(Xtrainr,Xtestr,ytrain,ytest,random_seed=randomseed,kern='rbf',pca_comp=40,regC=20,verbose=False)\n",
    "    return svm.acc_test,svm_random.acc_test\n",
    "    \n",
    "    "
   ]
  },
  {
   "cell_type": "code",
   "execution_count": 20,
   "metadata": {},
   "outputs": [],
   "source": [
    "import multiprocessing as mp\n",
    "pool = mp.Pool(mp.cpu_count())"
   ]
  },
  {
   "cell_type": "code",
   "execution_count": 21,
   "metadata": {},
   "outputs": [
    {
     "name": "stdout",
     "output_type": "stream",
     "text": [
      "CPU times: user 133 ms, sys: 43 ms, total: 176 ms\n",
      "Wall time: 1min 6s\n"
     ]
    }
   ],
   "source": [
    "%%time\n",
    "accs = pool.map(multiprocess_func,[i for i in range(10000)])"
   ]
  },
  {
   "cell_type": "code",
   "execution_count": 22,
   "metadata": {},
   "outputs": [
    {
     "data": {
      "text/plain": [
       "<matplotlib.legend.Legend at 0x2ae75ae70c88>"
      ]
     },
     "execution_count": 22,
     "metadata": {},
     "output_type": "execute_result"
    },
    {
     "data": {
      "image/png": "[encoded data removed]",
      "text/plain": [
       "<Figure size 432x288 with 1 Axes>"
      ]
     },
     "metadata": {
      "needs_background": "light"
     },
     "output_type": "display_data"
    }
   ],
   "source": [
    "import matplotlib.pyplot as plt\n",
    "%matplotlib inline\n",
    "\n",
    "plt.plot(range(len(accs)),accs)\n",
    "plt.legend(['Derived Positions','Random Positions'])"
   ]
  },
  {
   "cell_type": "code",
   "execution_count": 23,
   "metadata": {},
   "outputs": [
    {
     "name": "stdout",
     "output_type": "stream",
     "text": [
      "*****Comparing Means*****\n",
      "0.7675037037037037 0.6578777777777778\n",
      "*****Comparing Worst Case Accuracy*****\n",
      "0.4444444444444444 0.2222222222222222\n",
      "*****Comparing Standard Deviation*****\n",
      "0.07818104661222383 0.08792524501280854\n"
     ]
    }
   ],
   "source": [
    "accs_derived = [a[0] for a in accs]\n",
    "accs_random = [a[1] for a in accs]\n",
    "\n",
    "print('*'*5+'Comparing Means'+'*'*5)\n",
    "print(np.mean(accs_derived),np.mean(accs_random))\n",
    "print('*'*5+'Comparing Worst Case Accuracy'+'*'*5)\n",
    "print(min(accs_derived),min(accs_random))\n",
    "print('*'*5+'Comparing Standard Deviation'+'*'*5)\n",
    "print(np.std(accs_derived),np.std(accs_random))"
   ]
  },
  {
   "cell_type": "code",
   "execution_count": 24,
   "metadata": {},
   "outputs": [],
   "source": [
    "win_cases = [True if a1>=a2 else False for a1,a2 in accs ]"
   ]
  },
  {
   "cell_type": "code",
   "execution_count": 25,
   "metadata": {
    "scrolled": true
   },
   "outputs": [
    {
     "data": {
      "text/plain": [
       "9200"
      ]
     },
     "execution_count": 25,
     "metadata": {},
     "output_type": "execute_result"
    }
   ],
   "source": [
    "sum(win_cases)"
   ]
  }
 ],
 "metadata": {
  "kernelspec": {
   "display_name": "Python 3",
   "language": "python",
   "name": "python3"
  },
  "language_info": {
   "codemirror_mode": {
    "name": "ipython",
    "version": 3
   },
   "file_extension": ".py",
   "mimetype": "text/x-python",
   "name": "python",
   "nbconvert_exporter": "python",
   "pygments_lexer": "ipython3",
   "version": "3.6.7"
  }
 },
 "nbformat": 4,
 "nbformat_minor": 4
}
