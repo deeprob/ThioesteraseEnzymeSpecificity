{
 "cells": [
  {
   "cell_type": "code",
   "execution_count": 1,
   "metadata": {},
   "outputs": [],
   "source": [
    "from scipy import sparse, io\n",
    "import numpy as np"
   ]
  },
  {
   "cell_type": "code",
   "execution_count": 2,
   "metadata": {},
   "outputs": [],
   "source": [
    "import os"
   ]
  },
  {
   "cell_type": "code",
   "execution_count": 3,
   "metadata": {},
   "outputs": [],
   "source": [
    "filedir_thyme1 = '../data/featfiles/thymefiles1/'\n",
    "outfiledir_thyme1 = '../data/featvec/thymefiles1/'\n",
    "\n",
    "filedir_thyme2 = '../data/featfiles/thymefiles2/'\n",
    "outfiledir_thyme2 = '../data/featvec/thymefiles2/'\n",
    "\n",
    "file_prefixes = ['spec', 'gap', 'mism']"
   ]
  },
  {
   "cell_type": "code",
   "execution_count": 4,
   "metadata": {},
   "outputs": [],
   "source": [
    "def save_feat_vec_files(filedir, outfile, fileprefix):\n",
    "    sp_mat_file = filedir + fileprefix + '_kern_sparsematrix.txt'\n",
    "    enz_name_file = filedir + fileprefix + '_kern_rownames.txt'\n",
    "    \n",
    "    sp_mat = io.mmread(sp_mat_file).tocsr()\n",
    "    enz_names = np.genfromtxt(enz_name_file, dtype=str)\n",
    "    \n",
    "    \n",
    "    train_enz_idx = []\n",
    "    test_enz_idx = []\n",
    "    thyme_enz_idx = []\n",
    "\n",
    "    for idx, enz_name in enumerate(enz_names):\n",
    "        if enz_name.startswith('enz'):\n",
    "            train_enz_idx.append(idx)\n",
    "        elif enz_name.startswith('test'):\n",
    "            test_enz_idx.append(idx)\n",
    "        elif enz_name.startswith('thyme'):\n",
    "            thyme_enz_idx.append(idx)\n",
    "        else:\n",
    "            raise ValueError('Wrong Enzyme Prefix')\n",
    "            \n",
    "    X_train, X_test, X_thyme = sp_mat[train_enz_idx,:], sp_mat[test_enz_idx,:], sp_mat[thyme_enz_idx, :]\n",
    "    print(X_train.shape, X_test.shape, X_thyme.shape)\n",
    "    enz_names_train, enz_names_test, enz_names_thyme = enz_names[train_enz_idx], enz_names[test_enz_idx], enz_names[thyme_enz_idx]\n",
    "    \n",
    "    assert X_train.shape[0] == len(enz_names_train)\n",
    "    assert X_test.shape[0] == len(enz_names_test)\n",
    "    assert X_thyme.shape[0] == len(enz_names_thyme)\n",
    "    \n",
    "    sparse.save_npz(outfile+'train/'+fileprefix+'mat.npz', X_train)\n",
    "    sparse.save_npz(outfile+'test/'+fileprefix+'mat.npz', X_test)\n",
    "    sparse.save_npz(outfile+'thyme/'+fileprefix+'mat.npz', X_thyme)\n",
    "\n",
    "    np.savetxt(outfile+'train/'+fileprefix+'enz_names.txt', enz_names_train, fmt='%s')\n",
    "    np.savetxt(outfile+'test/'+fileprefix+'enz_names.txt', enz_names_test, fmt='%s')\n",
    "    np.savetxt(outfile+'thyme/'+fileprefix+'enz_names.txt', enz_names_thyme, fmt='%s')\n",
    "    \n",
    "    return "
   ]
  },
  {
   "cell_type": "code",
   "execution_count": 5,
   "metadata": {},
   "outputs": [
    {
     "name": "stdout",
     "output_type": "stream",
     "text": [
      "(115, 45430) (9, 45430) (589, 45430)\n",
      "(115, 46135) (9, 46135) (589, 46135)\n",
      "(115, 124654) (9, 124654) (589, 124654)\n",
      "(115, 124900) (9, 124900) (589, 124900)\n",
      "(115, 9200) (9, 9200) (589, 9200)\n",
      "(115, 9200) (9, 9200) (589, 9200)\n"
     ]
    }
   ],
   "source": [
    "for fp in file_prefixes:\n",
    "    \n",
    "    save_feat_vec_files(filedir_thyme1, outfiledir_thyme1, fp)\n",
    "    save_feat_vec_files(filedir_thyme2, outfiledir_thyme2, fp)"
   ]
  },
  {
   "cell_type": "code",
   "execution_count": null,
   "metadata": {},
   "outputs": [],
   "source": []
  }
 ],
 "metadata": {
  "kernelspec": {
   "display_name": "Python 3",
   "language": "python",
   "name": "python3"
  },
  "language_info": {
   "codemirror_mode": {
    "name": "ipython",
    "version": 3
   },
   "file_extension": ".py",
   "mimetype": "text/x-python",
   "name": "python",
   "nbconvert_exporter": "python",
   "pygments_lexer": "ipython3",
   "version": "3.8.3"
  }
 },
 "nbformat": 4,
 "nbformat_minor": 4
}
