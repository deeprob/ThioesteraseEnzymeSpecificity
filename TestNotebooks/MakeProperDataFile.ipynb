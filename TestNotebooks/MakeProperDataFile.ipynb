{
 "cells": [
  {
   "cell_type": "code",
   "execution_count": 1,
   "metadata": {},
   "outputs": [],
   "source": [
    "import pandas as pd"
   ]
  },
  {
   "cell_type": "code",
   "execution_count": 2,
   "metadata": {},
   "outputs": [],
   "source": [
    "enz_datafile = '../Data/Enzyme-Dataset-Modified.csv'\n",
    "enz_algn_datafile = '../Data/Modified-Enzyme-Alignment.txt'"
   ]
  },
  {
   "cell_type": "code",
   "execution_count": 3,
   "metadata": {},
   "outputs": [],
   "source": [
    "df_enz = pd.read_csv(enz_datafile,header=None)"
   ]
  },
  {
   "cell_type": "code",
   "execution_count": 4,
   "metadata": {},
   "outputs": [],
   "source": [
    "df_enz_algn = pd.read_csv(enz_algn_datafile,header=None)"
   ]
  },
  {
   "cell_type": "code",
   "execution_count": 5,
   "metadata": {},
   "outputs": [
    {
     "data": {
      "text/plain": [
       "True"
      ]
     },
     "execution_count": 5,
     "metadata": {},
     "output_type": "execute_result"
    }
   ],
   "source": [
    "all(df_enz[0].values == df_enz_algn[0].values)"
   ]
  },
  {
   "cell_type": "markdown",
   "metadata": {},
   "source": [
    "# Get rid of brackets, open quotes"
   ]
  },
  {
   "cell_type": "code",
   "execution_count": 6,
   "metadata": {},
   "outputs": [],
   "source": [
    "def func_edit(row):\n",
    "    return row.replace('(','').replace('\"','').replace(')','')"
   ]
  },
  {
   "cell_type": "code",
   "execution_count": 7,
   "metadata": {},
   "outputs": [],
   "source": [
    "df_enz[0] = df_enz[0].apply(func_edit)\n",
    "df_enz_algn[0] = df_enz[0].apply(func_edit)"
   ]
  },
  {
   "cell_type": "markdown",
   "metadata": {},
   "source": [
    "# Map enz_names to allias"
   ]
  },
  {
   "cell_type": "code",
   "execution_count": 8,
   "metadata": {},
   "outputs": [],
   "source": [
    "d = {0:[f'enz_{i}' for i in range(len(df_enz))],\n",
    "    1:df_enz[0].values}\n",
    "df = pd.DataFrame(d)\n"
   ]
  },
  {
   "cell_type": "code",
   "execution_count": 9,
   "metadata": {},
   "outputs": [],
   "source": [
    "df.to_csv('../Data/TE_ML_Data/EnzymeNameMap.csv',header=False,index=False)"
   ]
  },
  {
   "cell_type": "code",
   "execution_count": 10,
   "metadata": {},
   "outputs": [],
   "source": [
    "df_enz[0] = df[0]"
   ]
  },
  {
   "cell_type": "code",
   "execution_count": 11,
   "metadata": {},
   "outputs": [],
   "source": [
    "df_enz_algn[0] = df[0]"
   ]
  },
  {
   "cell_type": "markdown",
   "metadata": {},
   "source": [
    "# Save Multiclass Classification File"
   ]
  },
  {
   "cell_type": "code",
   "execution_count": 12,
   "metadata": {},
   "outputs": [],
   "source": [
    "df_enz.to_csv('../Data/TE_ML_Data/EnzymeDataset.csv',index=False,header=False)"
   ]
  },
  {
   "cell_type": "code",
   "execution_count": 13,
   "metadata": {},
   "outputs": [],
   "source": [
    "df_enz_algn.to_csv('../Data/TE_ML_Data/EnzymeDatasetAligned.csv',index=False,header=False)"
   ]
  },
  {
   "cell_type": "markdown",
   "metadata": {},
   "source": [
    "# Save Binary Classification File"
   ]
  },
  {
   "cell_type": "code",
   "execution_count": 14,
   "metadata": {},
   "outputs": [],
   "source": [
    "def func(val):\n",
    "    if val==1 or val==2:\n",
    "        return 0\n",
    "    else:\n",
    "        return 1\n",
    "    "
   ]
  },
  {
   "cell_type": "code",
   "execution_count": 15,
   "metadata": {
    "scrolled": true
   },
   "outputs": [],
   "source": [
    "df_enz[2] = df_enz[2].apply(func)"
   ]
  },
  {
   "cell_type": "code",
   "execution_count": 16,
   "metadata": {},
   "outputs": [],
   "source": [
    "df_enz_algn[2] = df_enz_algn[2].apply(func)"
   ]
  },
  {
   "cell_type": "code",
   "execution_count": 17,
   "metadata": {},
   "outputs": [],
   "source": [
    "df_enz.to_csv('../Data/TE_ML_Data/EnzymeDatasetBinary.csv',index=False,header=False)"
   ]
  },
  {
   "cell_type": "code",
   "execution_count": 18,
   "metadata": {},
   "outputs": [],
   "source": [
    "df_enz_algn.to_csv('../Data/TE_ML_Data/EnzymeDatasetAlignedBinary.csv',index=False,header=False)"
   ]
  },
  {
   "cell_type": "markdown",
   "metadata": {},
   "source": [
    "# Save Regression File"
   ]
  },
  {
   "cell_type": "code",
   "execution_count": 19,
   "metadata": {},
   "outputs": [],
   "source": [
    "df_reg = pd.read_excel('../Data/ThioesteraseProductFractionLabel.xlsx',header=None)"
   ]
  },
  {
   "cell_type": "code",
   "execution_count": 30,
   "metadata": {},
   "outputs": [
    {
     "data": {
      "text/html": [
       "<div>\n",
       "<style scoped>\n",
       "    .dataframe tbody tr th:only-of-type {\n",
       "        vertical-align: middle;\n",
       "    }\n",
       "\n",
       "    .dataframe tbody tr th {\n",
       "        vertical-align: top;\n",
       "    }\n",
       "\n",
       "    .dataframe thead th {\n",
       "        text-align: right;\n",
       "    }\n",
       "</style>\n",
       "<table border=\"1\" class=\"dataframe\">\n",
       "  <thead>\n",
       "    <tr style=\"text-align: right;\">\n",
       "      <th></th>\n",
       "      <th>0</th>\n",
       "      <th>1</th>\n",
       "    </tr>\n",
       "  </thead>\n",
       "  <tbody>\n",
       "    <tr>\n",
       "      <th>0</th>\n",
       "      <td>Cuphea_palustris_CpFatB1</td>\n",
       "      <td>0.980000</td>\n",
       "    </tr>\n",
       "    <tr>\n",
       "      <th>1</th>\n",
       "      <td>Ulmus_americana</td>\n",
       "      <td>0.810000</td>\n",
       "    </tr>\n",
       "    <tr>\n",
       "      <th>2</th>\n",
       "      <td>Iris_germanica_1</td>\n",
       "      <td>0.050000</td>\n",
       "    </tr>\n",
       "    <tr>\n",
       "      <th>3</th>\n",
       "      <td>Iris_germanica_2</td>\n",
       "      <td>0.090000</td>\n",
       "    </tr>\n",
       "    <tr>\n",
       "      <th>4</th>\n",
       "      <td>Sorghum_bicolor_1</td>\n",
       "      <td>0.060000</td>\n",
       "    </tr>\n",
       "    <tr>\n",
       "      <th>...</th>\n",
       "      <td>...</td>\n",
       "      <td>...</td>\n",
       "    </tr>\n",
       "    <tr>\n",
       "      <th>111</th>\n",
       "      <td>UcFatB1R197M-M199H-T231K</td>\n",
       "      <td>0.091167</td>\n",
       "    </tr>\n",
       "    <tr>\n",
       "      <th>112</th>\n",
       "      <td>UcFatB1197M-M199H</td>\n",
       "      <td>0.405450</td>\n",
       "    </tr>\n",
       "    <tr>\n",
       "      <th>113</th>\n",
       "      <td>UcFatB1T231K</td>\n",
       "      <td>0.827146</td>\n",
       "    </tr>\n",
       "    <tr>\n",
       "      <th>114</th>\n",
       "      <td>Prunus_sibirica_L._Siberian apricot</td>\n",
       "      <td>0.006725</td>\n",
       "    </tr>\n",
       "    <tr>\n",
       "      <th>115</th>\n",
       "      <td>Auxenochlorella_protothecoides</td>\n",
       "      <td>0.012846</td>\n",
       "    </tr>\n",
       "  </tbody>\n",
       "</table>\n",
       "<p>116 rows × 2 columns</p>\n",
       "</div>"
      ],
      "text/plain": [
       "                                       0         1\n",
       "0               Cuphea_palustris_CpFatB1  0.980000\n",
       "1                        Ulmus_americana  0.810000\n",
       "2                       Iris_germanica_1  0.050000\n",
       "3                       Iris_germanica_2  0.090000\n",
       "4                      Sorghum_bicolor_1  0.060000\n",
       "..                                   ...       ...\n",
       "111             UcFatB1R197M-M199H-T231K  0.091167\n",
       "112                    UcFatB1197M-M199H  0.405450\n",
       "113                         UcFatB1T231K  0.827146\n",
       "114  Prunus_sibirica_L._Siberian apricot  0.006725\n",
       "115       Auxenochlorella_protothecoides  0.012846\n",
       "\n",
       "[116 rows x 2 columns]"
      ]
     },
     "execution_count": 30,
     "metadata": {},
     "output_type": "execute_result"
    }
   ],
   "source": [
    "df_reg"
   ]
  },
  {
   "cell_type": "code",
   "execution_count": 31,
   "metadata": {},
   "outputs": [
    {
     "data": {
      "text/html": [
       "<div>\n",
       "<style scoped>\n",
       "    .dataframe tbody tr th:only-of-type {\n",
       "        vertical-align: middle;\n",
       "    }\n",
       "\n",
       "    .dataframe tbody tr th {\n",
       "        vertical-align: top;\n",
       "    }\n",
       "\n",
       "    .dataframe thead th {\n",
       "        text-align: right;\n",
       "    }\n",
       "</style>\n",
       "<table border=\"1\" class=\"dataframe\">\n",
       "  <thead>\n",
       "    <tr style=\"text-align: right;\">\n",
       "      <th></th>\n",
       "      <th>0</th>\n",
       "      <th>1</th>\n",
       "    </tr>\n",
       "  </thead>\n",
       "  <tbody>\n",
       "    <tr>\n",
       "      <th>0</th>\n",
       "      <td>enz_0</td>\n",
       "      <td>A._hypogaea_l._AhFatA</td>\n",
       "    </tr>\n",
       "    <tr>\n",
       "      <th>1</th>\n",
       "      <td>enz_1</td>\n",
       "      <td>Arabidopsis_thaliana</td>\n",
       "    </tr>\n",
       "    <tr>\n",
       "      <th>2</th>\n",
       "      <td>enz_2</td>\n",
       "      <td>Auxenochlorella_protothecoides</td>\n",
       "    </tr>\n",
       "    <tr>\n",
       "      <th>3</th>\n",
       "      <td>enz_3</td>\n",
       "      <td>Brassica_juncea_BjFatB1</td>\n",
       "    </tr>\n",
       "    <tr>\n",
       "      <th>4</th>\n",
       "      <td>enz_4</td>\n",
       "      <td>Brassica_juncea_BjFatB2</td>\n",
       "    </tr>\n",
       "    <tr>\n",
       "      <th>...</th>\n",
       "      <td>...</td>\n",
       "      <td>...</td>\n",
       "    </tr>\n",
       "    <tr>\n",
       "      <th>111</th>\n",
       "      <td>enz_111</td>\n",
       "      <td>UcFatB1R197M-M199H-T231K</td>\n",
       "    </tr>\n",
       "    <tr>\n",
       "      <th>112</th>\n",
       "      <td>enz_112</td>\n",
       "      <td>UcFatB1T231K</td>\n",
       "    </tr>\n",
       "    <tr>\n",
       "      <th>113</th>\n",
       "      <td>enz_113</td>\n",
       "      <td>Ulmus_americana</td>\n",
       "    </tr>\n",
       "    <tr>\n",
       "      <th>114</th>\n",
       "      <td>enz_114</td>\n",
       "      <td>Umbellularia_californica_UcFatB1</td>\n",
       "    </tr>\n",
       "    <tr>\n",
       "      <th>115</th>\n",
       "      <td>enz_115</td>\n",
       "      <td>Umbellularia_californica_UcFatB2</td>\n",
       "    </tr>\n",
       "  </tbody>\n",
       "</table>\n",
       "<p>116 rows × 2 columns</p>\n",
       "</div>"
      ],
      "text/plain": [
       "           0                                 1\n",
       "0      enz_0             A._hypogaea_l._AhFatA\n",
       "1      enz_1              Arabidopsis_thaliana\n",
       "2      enz_2    Auxenochlorella_protothecoides\n",
       "3      enz_3           Brassica_juncea_BjFatB1\n",
       "4      enz_4           Brassica_juncea_BjFatB2\n",
       "..       ...                               ...\n",
       "111  enz_111          UcFatB1R197M-M199H-T231K\n",
       "112  enz_112                      UcFatB1T231K\n",
       "113  enz_113                   Ulmus_americana\n",
       "114  enz_114  Umbellularia_californica_UcFatB1\n",
       "115  enz_115  Umbellularia_californica_UcFatB2\n",
       "\n",
       "[116 rows x 2 columns]"
      ]
     },
     "execution_count": 31,
     "metadata": {},
     "output_type": "execute_result"
    }
   ],
   "source": [
    "df"
   ]
  },
  {
   "cell_type": "code",
   "execution_count": 21,
   "metadata": {},
   "outputs": [],
   "source": [
    "df_reg[0] = df_reg[0].apply(func_edit)"
   ]
  },
  {
   "cell_type": "code",
   "execution_count": 23,
   "metadata": {},
   "outputs": [
    {
     "data": {
      "text/plain": [
       "{'Cuphea_carthagenesis_CcFatB1',\n",
       " 'Cuphea_inflata_Ci1FatB1',\n",
       " 'Sorghum_bicolor_3'}"
      ]
     },
     "execution_count": 23,
     "metadata": {},
     "output_type": "execute_result"
    }
   ],
   "source": [
    "set(df_reg[0].values).difference(set(df[1].values))"
   ]
  },
  {
   "cell_type": "code",
   "execution_count": 24,
   "metadata": {},
   "outputs": [
    {
     "data": {
      "text/plain": [
       "{'Cuphea_carthagenesis_CcFatB',\n",
       " 'Cuphea_viscosissima_CvFatB1',\n",
       " 'Cuphea_viscosissima_CvFatB2'}"
      ]
     },
     "execution_count": 24,
     "metadata": {},
     "output_type": "execute_result"
    }
   ],
   "source": [
    "set(df[1].values).difference(set(df_reg[0].values))"
   ]
  },
  {
   "cell_type": "code",
   "execution_count": 32,
   "metadata": {},
   "outputs": [
    {
     "data": {
      "text/html": [
       "<div>\n",
       "<style scoped>\n",
       "    .dataframe tbody tr th:only-of-type {\n",
       "        vertical-align: middle;\n",
       "    }\n",
       "\n",
       "    .dataframe tbody tr th {\n",
       "        vertical-align: top;\n",
       "    }\n",
       "\n",
       "    .dataframe thead th {\n",
       "        text-align: right;\n",
       "    }\n",
       "</style>\n",
       "<table border=\"1\" class=\"dataframe\">\n",
       "  <thead>\n",
       "    <tr style=\"text-align: right;\">\n",
       "      <th></th>\n",
       "      <th>0</th>\n",
       "      <th>1</th>\n",
       "      <th>1_x</th>\n",
       "    </tr>\n",
       "  </thead>\n",
       "  <tbody>\n",
       "    <tr>\n",
       "      <th>0</th>\n",
       "      <td>enz_23</td>\n",
       "      <td>MLLTAITTVFVAPEKRWTMFDRKSKRPNMLMDSFGLERVVQDGLVF...</td>\n",
       "      <td>0.980000</td>\n",
       "    </tr>\n",
       "    <tr>\n",
       "      <th>1</th>\n",
       "      <td>enz_113</td>\n",
       "      <td>MLPDWSMLLAAITTLFLAAEKQWMMLDWKPKRPDMLVDPFGLGRFV...</td>\n",
       "      <td>0.810000</td>\n",
       "    </tr>\n",
       "    <tr>\n",
       "      <th>2</th>\n",
       "      <td>enz_81</td>\n",
       "      <td>MLPDWSVLLAAITTIFLAAEKQWTLIDWKRGGPDMLTDAFGLGKII...</td>\n",
       "      <td>0.050000</td>\n",
       "    </tr>\n",
       "    <tr>\n",
       "      <th>3</th>\n",
       "      <td>enz_82</td>\n",
       "      <td>MLPDWSVLLAAITTIFLAAEKQWTLIDWKRGGPDMLSDAFGLPKII...</td>\n",
       "      <td>0.090000</td>\n",
       "    </tr>\n",
       "    <tr>\n",
       "      <th>4</th>\n",
       "      <td>enz_107</td>\n",
       "      <td>MLPDWSMLLAAVTTIFLAAEKQWTLLDWKPKKPDMLVDTFGFGRII...</td>\n",
       "      <td>0.060000</td>\n",
       "    </tr>\n",
       "    <tr>\n",
       "      <th>...</th>\n",
       "      <td>...</td>\n",
       "      <td>...</td>\n",
       "      <td>...</td>\n",
       "    </tr>\n",
       "    <tr>\n",
       "      <th>108</th>\n",
       "      <td>enz_111</td>\n",
       "      <td>MTSLASAFCSMKAVMLARDGRGMKPRSSDLQLRAGNAPLKMINGTK...</td>\n",
       "      <td>0.091167</td>\n",
       "    </tr>\n",
       "    <tr>\n",
       "      <th>109</th>\n",
       "      <td>enz_110</td>\n",
       "      <td>MTSLASAFCSMKAVMLARDGRGMKPRSSDLQLRAGNAPLKMINGTK...</td>\n",
       "      <td>0.405450</td>\n",
       "    </tr>\n",
       "    <tr>\n",
       "      <th>110</th>\n",
       "      <td>enz_112</td>\n",
       "      <td>MTSLASAFCSMKAVMLARDGRGMKPRSSDLQLRAGNAPLKMINGTK...</td>\n",
       "      <td>0.827146</td>\n",
       "    </tr>\n",
       "    <tr>\n",
       "      <th>111</th>\n",
       "      <td>enz_87</td>\n",
       "      <td>MVATAATSSIFPIPSPNQDSGAKNAKLGTGSAGLGLKSKSASGSLQ...</td>\n",
       "      <td>0.006725</td>\n",
       "    </tr>\n",
       "    <tr>\n",
       "      <th>112</th>\n",
       "      <td>enz_2</td>\n",
       "      <td>MVENKRVFLEEHRIRGNEAGPSQHVTIAAVANILQEAAGNHAVAMW...</td>\n",
       "      <td>0.012846</td>\n",
       "    </tr>\n",
       "  </tbody>\n",
       "</table>\n",
       "<p>113 rows × 3 columns</p>\n",
       "</div>"
      ],
      "text/plain": [
       "           0                                                  1       1_x\n",
       "0     enz_23  MLLTAITTVFVAPEKRWTMFDRKSKRPNMLMDSFGLERVVQDGLVF...  0.980000\n",
       "1    enz_113  MLPDWSMLLAAITTLFLAAEKQWMMLDWKPKRPDMLVDPFGLGRFV...  0.810000\n",
       "2     enz_81  MLPDWSVLLAAITTIFLAAEKQWTLIDWKRGGPDMLTDAFGLGKII...  0.050000\n",
       "3     enz_82  MLPDWSVLLAAITTIFLAAEKQWTLIDWKRGGPDMLSDAFGLPKII...  0.090000\n",
       "4    enz_107  MLPDWSMLLAAVTTIFLAAEKQWTLLDWKPKKPDMLVDTFGFGRII...  0.060000\n",
       "..       ...                                                ...       ...\n",
       "108  enz_111  MTSLASAFCSMKAVMLARDGRGMKPRSSDLQLRAGNAPLKMINGTK...  0.091167\n",
       "109  enz_110  MTSLASAFCSMKAVMLARDGRGMKPRSSDLQLRAGNAPLKMINGTK...  0.405450\n",
       "110  enz_112  MTSLASAFCSMKAVMLARDGRGMKPRSSDLQLRAGNAPLKMINGTK...  0.827146\n",
       "111   enz_87  MVATAATSSIFPIPSPNQDSGAKNAKLGTGSAGLGLKSKSASGSLQ...  0.006725\n",
       "112    enz_2  MVENKRVFLEEHRIRGNEAGPSQHVTIAAVANILQEAAGNHAVAMW...  0.012846\n",
       "\n",
       "[113 rows x 3 columns]"
      ]
     },
     "execution_count": 32,
     "metadata": {},
     "output_type": "execute_result"
    }
   ],
   "source": [
    "df_enz_reg"
   ]
  },
  {
   "cell_type": "code",
   "execution_count": 25,
   "metadata": {},
   "outputs": [],
   "source": [
    "df_enz_reg = df_reg.merge(df,left_on=0,right_on=1).loc[:,['0_y','1_x']].merge(df_enz,left_on='0_y',right_on=0).loc[:,[0,1,'1_x']]"
   ]
  },
  {
   "cell_type": "code",
   "execution_count": 26,
   "metadata": {},
   "outputs": [],
   "source": [
    "df_enz_reg_algn = df_reg.merge(df,left_on=0,right_on=1).loc[:,['0_y','1_x']].merge(df_enz_algn,left_on='0_y',right_on=0).loc[:,[0,1,'1_x']]"
   ]
  },
  {
   "cell_type": "code",
   "execution_count": 27,
   "metadata": {},
   "outputs": [],
   "source": [
    "df_enz_reg.to_csv('../Data/TE_ML_Data/EnzymeDatasetRegression.csv',index=False,header=False)"
   ]
  },
  {
   "cell_type": "code",
   "execution_count": 28,
   "metadata": {},
   "outputs": [],
   "source": [
    "df_enz_reg_algn.to_csv('../Data/TE_ML_Data/EnzymeDatasetAlignedRegression.csv',index=False,header=False)"
   ]
  }
 ],
 "metadata": {
  "kernelspec": {
   "display_name": "Python 3",
   "language": "python",
   "name": "python3"
  },
  "language_info": {
   "codemirror_mode": {
    "name": "ipython",
    "version": 3
   },
   "file_extension": ".py",
   "mimetype": "text/x-python",
   "name": "python",
   "nbconvert_exporter": "python",
   "pygments_lexer": "ipython3",
   "version": "3.6.7"
  }
 },
 "nbformat": 4,
 "nbformat_minor": 4
}
