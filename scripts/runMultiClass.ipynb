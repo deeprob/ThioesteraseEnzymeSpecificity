{
 "cells": [
  {
   "cell_type": "code",
   "execution_count": 1,
   "metadata": {},
   "outputs": [],
   "source": [
    "from MultiClassClassification import TEClassification"
   ]
  },
  {
   "cell_type": "code",
   "execution_count": 2,
   "metadata": {},
   "outputs": [],
   "source": [
    "import itertools\n",
    "import numpy as np\n",
    "import multiprocessing as mp"
   ]
  },
  {
   "cell_type": "code",
   "execution_count": 3,
   "metadata": {},
   "outputs": [],
   "source": [
    "def get_model_stats(iters,metrics):\n",
    "    \n",
    "    mod_dict = dict()\n",
    "    \n",
    "    for mod_iter,mod_metric in zip(iters,metrics):\n",
    "        if mod_iter[0] in mod_dict:\n",
    "            mod_dict[mod_iter[0]]['precs'].append(mod_metric[0])\n",
    "            mod_dict[mod_iter[0]]['accs'].append(mod_metric[1])\n",
    "        else:\n",
    "            mod_dict[mod_iter[0]] = dict()\n",
    "            mod_dict[mod_iter[0]]['precs'] = [mod_metric[0]]\n",
    "            mod_dict[mod_iter[0]]['accs'] = [mod_metric[1]]\n",
    "    \n",
    "    mod_stat = {k:dict() for k in mod_dict.keys()}\n",
    "    \n",
    "    for k in mod_dict.keys():\n",
    "        precs = mod_dict[k]['precs']\n",
    "        accs = mod_dict[k]['accs']\n",
    "        \n",
    "        mod_stat[k]['prec_mean'] = np.mean(precs)\n",
    "        mod_stat[k]['prec_worst'] = min(precs)\n",
    "        mod_stat[k]['prec_median'] = np.median(precs)\n",
    "        mod_stat[k]['accs_mean'] = np.mean(accs)\n",
    "        mod_stat[k]['accs_worst'] = min(accs)\n",
    "        mod_stat[k]['accs_median'] = np.median(accs)\n",
    "        \n",
    "    return mod_stat"
   ]
  },
  {
   "cell_type": "code",
   "execution_count": 4,
   "metadata": {},
   "outputs": [],
   "source": [
    "def save_model_results(filename,stat_dict):\n",
    "    with open(filename,'w') as f:\n",
    "        \n",
    "        curr_pointer_line = 0\n",
    "        max_pointer_line = len(stat_dict[list(stat_dict.keys())[0]].keys())\n",
    "        \n",
    "        f.write('model_param,')\n",
    "        for colkey in stat_dict[list(stat_dict.keys())[0]].keys():\n",
    "            if curr_pointer_line==max_pointer_line-1:\n",
    "                f.write(colkey)\n",
    "            else:\n",
    "                f.write(colkey+',')\n",
    "            curr_pointer_line += 1 \n",
    "            \n",
    "        f.write('\\n')\n",
    "        \n",
    "        curr_pointer_line=0\n",
    "        for model_param in stat_dict.keys():\n",
    "            f.write(str(model_param)+',')\n",
    "            for key,value in stat_dict[model_param].items():\n",
    "                if curr_pointer_line==max_pointer_line-1:\n",
    "                    f.write(str(round(value,3)))\n",
    "                else:\n",
    "                    f.write(str(round(value,3))+',')\n",
    "                curr_pointer_line += 1 \n",
    "            curr_pointer_line=0\n",
    "            f.write('\\n')\n",
    "            \n",
    "    return\n",
    "                \n",
    "            "
   ]
  },
  {
   "cell_type": "code",
   "execution_count": 5,
   "metadata": {},
   "outputs": [
    {
     "name": "stdout",
     "output_type": "stream",
     "text": [
      "CPU times: user 102 ms, sys: 88.7 ms, total: 191 ms\n",
      "Wall time: 2min 9s\n"
     ]
    }
   ],
   "source": [
    "%%time\n",
    "if __name__=='__main__':\n",
    "    # Sequence and label files \n",
    "    enz_file = '../data/SeqFile/EnzymeSequence.csv'\n",
    "    label_file = '../data/LabelFiles/EnzymeLabelsMultiClass.csv'\n",
    "\n",
    "    # Feature dir for iFeature,kernel,pssm \n",
    "    ifeatdatadir = '../featEngg/ifeatMethods/data/featvec/'\n",
    "    kerneldatadir = '../featEngg/kernelMethods/data/featvec/'\n",
    "    pssmdatadir = '../featEngg/pssmMethods/data/featvec/'\n",
    "    featdirs = [ifeatdatadir,kerneldatadir,pssmdatadir]\n",
    "    \n",
    "    pca_comps_try = [25,40,55,75]\n",
    "    n_models_try = [11,17,27,35]\n",
    "    test_sizes_try = [0.3,0.25,0.2]\n",
    "    iters_to_run = range(5)\n",
    "\n",
    "    def multi_func_pca(n_comp,rs):\n",
    "        te_i = TEClassification(enz_file,label_file,featdirs,random_seed=rs,pca_components=n_comp)\n",
    "        return te_i.precision,te_i.en.acc \n",
    "    \n",
    "    def multi_func_nmodels(n_mod,rs):\n",
    "        te_i = TEClassification(enz_file,label_file,featdirs,random_seed=rs,n_models=n_mod)\n",
    "        return te_i.precision,te_i.en.acc    \n",
    "\n",
    "    def multi_func_test_size(ts,rs):\n",
    "        te_i = TEClassification(enz_file,label_file,featdirs,random_seed=rs,test_fraction=ts)\n",
    "        return te_i.precision,te_i.en.acc    \n",
    "\n",
    "\n",
    "    pool = mp.Pool(mp.cpu_count())\n",
    "    pca_iterations = list(itertools.product(pca_comps_try,iters_to_run))\n",
    "    pca_metrics = list(pool.starmap(multi_func_pca,pca_iterations))\n",
    "    \n",
    "    nmod_iterations = list(itertools.product(n_models_try,iters_to_run))\n",
    "    nmod_metrics = list(pool.starmap(multi_func_nmodels,nmod_iterations))\n",
    "\n",
    "    ts_iterations = list(itertools.product(test_sizes_try,iters_to_run))\n",
    "    ts_metrics = list(pool.starmap(multi_func_test_size,ts_iterations))\n",
    "                           \n",
    "    pca_mod_stats = get_model_stats(pca_iterations,pca_metrics)\n",
    "    nmod_mod_stats = get_model_stats(nmod_iterations,nmod_metrics)\n",
    "    ts_mod_stats = get_model_stats(ts_iterations,ts_metrics)\n",
    "    \n",
    "    save_model_results('../data/SimResults/EnsembleResults/GeneralizedOptimizationPCA.csv',pca_mod_stats)\n",
    "    save_model_results('../data/SimResults/EnsembleResults/GeneralizedOptimizationNModels.csv',nmod_mod_stats)\n",
    "    save_model_results('../data/SimResults/EnsembleResults/GeneralizedOptimizationTS.csv',ts_mod_stats)\n",
    "                           "
   ]
  }
 ],
 "metadata": {
  "kernelspec": {
   "display_name": "Python 3",
   "language": "python",
   "name": "python3"
  },
  "language_info": {
   "codemirror_mode": {
    "name": "ipython",
    "version": 3
   },
   "file_extension": ".py",
   "mimetype": "text/x-python",
   "name": "python",
   "nbconvert_exporter": "python",
   "pygments_lexer": "ipython3",
   "version": "3.7.9"
  }
 },
 "nbformat": 4,
 "nbformat_minor": 4
}
