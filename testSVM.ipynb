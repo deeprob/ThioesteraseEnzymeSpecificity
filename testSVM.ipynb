{
 "cells": [
  {
   "cell_type": "code",
   "execution_count": 1,
   "metadata": {},
   "outputs": [],
   "source": [
    "# import self-written modules\n",
    "from FeatEngg import ngramEnc,ctdEnc,gaacEnc\n",
    "from mySVM.model import SVM\n",
    "import pickle"
   ]
  },
  {
   "cell_type": "code",
   "execution_count": 2,
   "metadata": {},
   "outputs": [],
   "source": [
    "import matplotlib.pyplot as plt\n",
    "%matplotlib inline"
   ]
  },
  {
   "cell_type": "code",
   "execution_count": 3,
   "metadata": {},
   "outputs": [],
   "source": [
    "# import modules\n",
    "import numpy as np\n",
    "\n",
    "np.random.seed(7)"
   ]
  },
  {
   "cell_type": "code",
   "execution_count": 4,
   "metadata": {},
   "outputs": [],
   "source": [
    "file = pickle.load(open('TE_ML_Data_pickle.p','rb'))"
   ]
  },
  {
   "cell_type": "code",
   "execution_count": 5,
   "metadata": {},
   "outputs": [],
   "source": [
    "# import enzyme data\n",
    "\n",
    "def parseEnzymeFile(enzyme_datafile):\n",
    "    with open(enzyme_datafile,'r') as f:\n",
    "        enzyme_names = []\n",
    "        X = []\n",
    "        y = []\n",
    "        for lines in f:\n",
    "            line  = lines.strip().split(',')\n",
    "            enzyme_names.append(line[0])\n",
    "            X.append(line[1])\n",
    "            y.append(int(line[2]))\n",
    "\n",
    "    return np.array(X),np.array(y),np.array(enzyme_names)\n",
    "\n",
    "# split to train-test properly\n",
    "\n",
    "def modified_split(enzyme_names,split=0.25):\n",
    "    r = range(len(enzyme_names))\n",
    "    cuphea_idx = [idx for idx in r if enzyme_names[idx].startswith('Cuphea_viscosisssima')]\n",
    "    rTE_idx = [idx for idx in r if enzyme_names[idx].startswith('rTE')]\n",
    "    sp_idx = cuphea_idx+rTE_idx\n",
    "    other_idx = [idx for idx in r if idx not in sp_idx]\n",
    "    np.random.shuffle(other_idx)\n",
    "    np.random.shuffle(cuphea_idx)\n",
    "    np.random.shuffle(rTE_idx)\n",
    "    lr_other = int(split*len(other_idx))\n",
    "    lr_cuphea = int(split*len(cuphea_idx))\n",
    "    lr_rTE = int(split*len(rTE_idx))\n",
    "    \n",
    "    test_split_idx = np.concatenate((other_idx[:lr_other],cuphea_idx[:lr_cuphea],rTE_idx[:lr_rTE]),axis=None)\n",
    "    train_split_idx = np.concatenate((other_idx[lr_other:],cuphea_idx[lr_cuphea:],rTE_idx[lr_rTE:]),axis=None)\n",
    "\n",
    "    np.random.shuffle(test_split_idx)\n",
    "    np.random.shuffle(train_split_idx)\n",
    "    \n",
    "\n",
    "    return test_split_idx,train_split_idx "
   ]
  },
  {
   "cell_type": "code",
   "execution_count": 6,
   "metadata": {},
   "outputs": [],
   "source": [
    "enzyme_filename = 'Data/Enzyme_Dataset.txt'\n",
    "\n",
    "X,y,enz_names = parseEnzymeFile(enzyme_filename)"
   ]
  },
  {
   "cell_type": "code",
   "execution_count": 7,
   "metadata": {},
   "outputs": [],
   "source": [
    "test_idx,train_idx = modified_split(enz_names)"
   ]
  },
  {
   "cell_type": "code",
   "execution_count": 8,
   "metadata": {},
   "outputs": [],
   "source": [
    "Xtrain_raw,ytrain,Xtest_raw,ytest = X[train_idx],y[train_idx],X[test_idx],y[test_idx]"
   ]
  },
  {
   "cell_type": "markdown",
   "metadata": {},
   "source": [
    "# Position-Model"
   ]
  },
  {
   "cell_type": "code",
   "execution_count": 9,
   "metadata": {},
   "outputs": [],
   "source": [
    "Pos_model_dict = {name:feat for name,feat in zip(file[0],file[1])}"
   ]
  },
  {
   "cell_type": "code",
   "execution_count": 10,
   "metadata": {},
   "outputs": [],
   "source": [
    "def get_pos_model_feat(model_dict,enz_names,train_idx,test_idx):\n",
    "    X_train = []\n",
    "    X_test = []\n",
    "    for enz_tr in enz_names[train_idx]:\n",
    "        X_train.append(Pos_model_dict[enz_tr])\n",
    "    for enz_te in enz_names[test_idx]:\n",
    "        X_test.append(Pos_model_dict[enz_te])\n",
    "    return np.array(X_train),np.array(X_test)"
   ]
  },
  {
   "cell_type": "code",
   "execution_count": 11,
   "metadata": {},
   "outputs": [],
   "source": [
    "Xtrain_pos,Xtest_pos = get_pos_model_feat(Pos_model_dict,enz_names,train_idx,test_idx)"
   ]
  },
  {
   "cell_type": "code",
   "execution_count": 12,
   "metadata": {},
   "outputs": [
    {
     "name": "stdout",
     "output_type": "stream",
     "text": [
      "-----Initial Model Evaluation-----\n",
      "-----Training Accuracy:0.8888888888888888-----\n",
      "-----Testing Accuracy:0.8-----\n",
      "-----Hyperparameter Optimization-----\n",
      "Fitting 3 folds for each of 72 candidates, totalling 216 fits\n"
     ]
    },
    {
     "name": "stderr",
     "output_type": "stream",
     "text": [
      "[Parallel(n_jobs=-1)]: Using backend LokyBackend with 16 concurrent workers.\n",
      "[Parallel(n_jobs=-1)]: Done   9 tasks      | elapsed:    9.8s\n",
      "[Parallel(n_jobs=-1)]: Done  18 tasks      | elapsed:    9.9s\n",
      "[Parallel(n_jobs=-1)]: Done  29 tasks      | elapsed:    9.9s\n",
      "[Parallel(n_jobs=-1)]: Done  40 tasks      | elapsed:   10.0s\n",
      "[Parallel(n_jobs=-1)]: Done  53 tasks      | elapsed:   10.0s\n",
      "[Parallel(n_jobs=-1)]: Done  66 tasks      | elapsed:   10.0s\n",
      "[Parallel(n_jobs=-1)]: Done  81 tasks      | elapsed:   10.1s\n",
      "[Parallel(n_jobs=-1)]: Done  96 tasks      | elapsed:   10.1s\n",
      "[Parallel(n_jobs=-1)]: Batch computation too fast (0.1849s.) Setting batch_size=2.\n",
      "[Parallel(n_jobs=-1)]: Done 113 tasks      | elapsed:   10.2s\n"
     ]
    },
    {
     "name": "stdout",
     "output_type": "stream",
     "text": [
      "score = 0.76\n",
      "{'SVM__C': 1, 'SVM__gamma': 'scale', 'SVM__kernel': 'linear', 'pca__n_components': 40}\n"
     ]
    },
    {
     "name": "stderr",
     "output_type": "stream",
     "text": [
      "[Parallel(n_jobs=-1)]: Done 130 tasks      | elapsed:   10.2s\n",
      "[Parallel(n_jobs=-1)]: Batch computation too fast (0.1107s.) Setting batch_size=4.\n",
      "[Parallel(n_jobs=-1)]: Done 154 tasks      | elapsed:   10.3s\n",
      "[Parallel(n_jobs=-1)]: Done 207 out of 216 | elapsed:   10.3s remaining:    0.4s\n",
      "[Parallel(n_jobs=-1)]: Done 216 out of 216 | elapsed:   10.3s finished\n"
     ]
    }
   ],
   "source": [
    "posModel = SVM(Xtrain_pos,Xtest_pos,ytrain,ytest,pca_comp=20,regC=1,kern='linear',optimize=True)"
   ]
  },
  {
   "cell_type": "markdown",
   "metadata": {},
   "source": [
    "# NG only model"
   ]
  },
  {
   "cell_type": "code",
   "execution_count": 13,
   "metadata": {},
   "outputs": [],
   "source": [
    "ng_k = [3,5,7,9,11,13]\n",
    "ng_steps = [1,3,5,9,11]\n",
    "\n",
    "ng_accs = []\n",
    "ng_idx = []\n",
    "\n",
    "for k in ng_k:\n",
    "    for s in ng_steps:\n",
    "        \n",
    "        if s>k:\n",
    "            break\n",
    "        else:\n",
    "            ng_idx.append(f'{str(s)},{str(k)}')\n",
    "            ng_isk = ngramEnc.Ngram(Xtrain_raw,k,s)\n",
    "            ng_isk.fit()\n",
    "            Xtrain_isk,Xtest_isk = ng_isk.transform(Xtrain_raw),ng_isk.transform(Xtest_raw)\n",
    "            model_isk = SVM(Xtrain_isk,Xtest_isk,ytrain,ytest,pca_comp=20,regC=1,kern='linear',optimize=False,verbose=False)\n",
    "            ng_accs.append((model_isk.acc_train,model_isk.acc_test))"
   ]
  },
  {
   "cell_type": "code",
   "execution_count": 14,
   "metadata": {
    "scrolled": true
   },
   "outputs": [
    {
     "data": {
      "image/png": "[encoded data removed]",
      "text/plain": [
       "<Figure size 432x288 with 1 Axes>"
      ]
     },
     "metadata": {
      "needs_background": "light"
     },
     "output_type": "display_data"
    }
   ],
   "source": [
    "plt.plot(ng_accs)\n",
    "plt.xticks(list(range(len(ng_idx))),ng_idx,rotation=90);"
   ]
  },
  {
   "cell_type": "code",
   "execution_count": 15,
   "metadata": {},
   "outputs": [],
   "source": [
    "ng = ngramEnc.Ngram(Xtrain_raw,7,1)\n",
    "\n",
    "ng.fit()\n",
    "\n",
    "Xtrain_ng,Xtest_ng = ng.transform(Xtrain_raw),ng.transform(Xtest_raw)"
   ]
  },
  {
   "cell_type": "code",
   "execution_count": 16,
   "metadata": {
    "scrolled": false
   },
   "outputs": [
    {
     "name": "stdout",
     "output_type": "stream",
     "text": [
      "-----Initial Model Evaluation-----\n",
      "-----Training Accuracy:0.9506172839506173-----\n",
      "-----Testing Accuracy:0.76-----\n",
      "-----Hyperparameter Optimization-----\n",
      "Fitting 3 folds for each of 72 candidates, totalling 216 fits\n"
     ]
    },
    {
     "name": "stderr",
     "output_type": "stream",
     "text": [
      "[Parallel(n_jobs=-1)]: Using backend LokyBackend with 16 concurrent workers.\n",
      "[Parallel(n_jobs=-1)]: Batch computation too fast (0.0304s.) Setting batch_size=2.\n",
      "[Parallel(n_jobs=-1)]: Done   9 tasks      | elapsed:    0.1s\n",
      "[Parallel(n_jobs=-1)]: Done  18 tasks      | elapsed:    0.1s\n",
      "[Parallel(n_jobs=-1)]: Done  29 tasks      | elapsed:    0.2s\n",
      "[Parallel(n_jobs=-1)]: Batch computation too fast (0.0915s.) Setting batch_size=4.\n",
      "[Parallel(n_jobs=-1)]: Done  48 tasks      | elapsed:    0.2s\n",
      "[Parallel(n_jobs=-1)]: Done  74 tasks      | elapsed:    0.3s\n",
      "[Parallel(n_jobs=-1)]: Batch computation too fast (0.1636s.) Setting batch_size=8.\n",
      "[Parallel(n_jobs=-1)]: Done 104 tasks      | elapsed:    0.4s\n",
      "[Parallel(n_jobs=-1)]: Done 143 tasks      | elapsed:    0.4s\n"
     ]
    },
    {
     "name": "stdout",
     "output_type": "stream",
     "text": [
      "score = 0.76\n",
      "{'SVM__C': 20, 'SVM__gamma': 'scale', 'SVM__kernel': 'linear', 'pca__n_components': 20}\n"
     ]
    },
    {
     "name": "stderr",
     "output_type": "stream",
     "text": [
      "[Parallel(n_jobs=-1)]: Done 167 tasks      | elapsed:    0.4s\n",
      "[Parallel(n_jobs=-1)]: Done 185 out of 216 | elapsed:    0.5s remaining:    0.1s\n",
      "[Parallel(n_jobs=-1)]: Done 207 out of 216 | elapsed:    0.5s remaining:    0.0s\n",
      "[Parallel(n_jobs=-1)]: Done 216 out of 216 | elapsed:    0.5s finished\n"
     ]
    }
   ],
   "source": [
    "currModel = SVM(Xtrain_ng,Xtest_ng,ytrain,ytest,pca_comp=20,regC=1,kern='linear',optimize=True)"
   ]
  },
  {
   "cell_type": "markdown",
   "metadata": {},
   "source": [
    "# GAAC and NG model"
   ]
  },
  {
   "cell_type": "code",
   "execution_count": 17,
   "metadata": {},
   "outputs": [],
   "source": [
    "gc = gaacEnc.GAAC()\n",
    "\n",
    "X_gaac = gc.transform(X)\n",
    "\n",
    "Xtrain_raw_gaac,ytrain_gaac,Xtest_raw_gaac,ytest_gaac = X_gaac[train_idx],y[train_idx],X_gaac[test_idx],y[test_idx]\n",
    "\n",
    "ng_gaac = ngramEnc.Ngram(Xtrain_raw_gaac,9,1)\n",
    "\n",
    "ng_gaac.fit()\n",
    "\n",
    "Xtrain_gaac,Xtest_gaac = ng_gaac.transform(Xtrain_raw_gaac),ng_gaac.transform(Xtest_raw_gaac)"
   ]
  },
  {
   "cell_type": "code",
   "execution_count": 18,
   "metadata": {},
   "outputs": [
    {
     "name": "stdout",
     "output_type": "stream",
     "text": [
      "-----Initial Model Evaluation-----\n",
      "-----Training Accuracy:0.7777777777777778-----\n",
      "-----Testing Accuracy:0.76-----\n",
      "-----Hyperparameter Optimization-----\n",
      "Fitting 3 folds for each of 72 candidates, totalling 216 fits\n"
     ]
    },
    {
     "name": "stderr",
     "output_type": "stream",
     "text": [
      "[Parallel(n_jobs=-1)]: Using backend LokyBackend with 16 concurrent workers.\n",
      "[Parallel(n_jobs=-1)]: Batch computation too fast (0.0309s.) Setting batch_size=2.\n",
      "[Parallel(n_jobs=-1)]: Done   9 tasks      | elapsed:    0.1s\n",
      "[Parallel(n_jobs=-1)]: Done  18 tasks      | elapsed:    0.2s\n",
      "[Parallel(n_jobs=-1)]: Done  29 tasks      | elapsed:    0.2s\n",
      "[Parallel(n_jobs=-1)]: Batch computation too fast (0.1978s.) Setting batch_size=4.\n",
      "[Parallel(n_jobs=-1)]: Done  48 tasks      | elapsed:    0.3s\n",
      "[Parallel(n_jobs=-1)]: Done  74 tasks      | elapsed:    0.5s\n",
      "[Parallel(n_jobs=-1)]: Done 104 tasks      | elapsed:    0.6s\n",
      "[Parallel(n_jobs=-1)]: Done 152 tasks      | elapsed:    0.6s\n",
      "[Parallel(n_jobs=-1)]: Done 173 tasks      | elapsed:    0.7s\n",
      "[Parallel(n_jobs=-1)]: Done 185 out of 216 | elapsed:    0.8s remaining:    0.1s\n",
      "[Parallel(n_jobs=-1)]: Done 207 out of 216 | elapsed:    0.9s remaining:    0.0s\n"
     ]
    },
    {
     "name": "stdout",
     "output_type": "stream",
     "text": [
      "score = 0.76\n",
      "{'SVM__C': 20, 'SVM__gamma': 'scale', 'SVM__kernel': 'rbf', 'pca__n_components': 40}\n"
     ]
    },
    {
     "name": "stderr",
     "output_type": "stream",
     "text": [
      "[Parallel(n_jobs=-1)]: Done 216 out of 216 | elapsed:    1.0s finished\n"
     ]
    }
   ],
   "source": [
    "model_gaac = SVM(Xtrain_gaac,Xtest_gaac,ytrain,ytest,optimize=True)"
   ]
  },
  {
   "cell_type": "code",
   "execution_count": 19,
   "metadata": {},
   "outputs": [],
   "source": [
    "gaac_k = [3,5,7,9,11,13]\n",
    "gaac_steps = [1,3,5,9,11]\n",
    "\n",
    "gaac_accs = []\n",
    "gaac_idx = []\n",
    "\n",
    "for k in gaac_k:\n",
    "    for s in gaac_steps:\n",
    "        \n",
    "        if s>k:\n",
    "            break\n",
    "        else:\n",
    "            gaac_idx.append(f'{str(s)},{str(k)}')\n",
    "            gaac_isk = ngramEnc.Ngram(Xtrain_raw_gaac,k,s)\n",
    "            gaac_isk.fit()\n",
    "            Xtrain_gaac_isk,Xtest_gaac_isk = gaac_isk.transform(Xtrain_raw_gaac),gaac_isk.transform(Xtest_raw_gaac)\n",
    "            model_gaac_isk = SVM(Xtrain_gaac_isk,Xtest_gaac_isk,ytrain,ytest,pca_comp=20,regC=100,kern='rbf',optimize=False,verbose=False)\n",
    "            gaac_accs.append((model_gaac_isk.acc_train,model_gaac_isk.acc_test))"
   ]
  },
  {
   "cell_type": "code",
   "execution_count": 20,
   "metadata": {},
   "outputs": [
    {
     "data": {
      "image/png": "[encoded data removed]",
      "text/plain": [
       "<Figure size 432x288 with 1 Axes>"
      ]
     },
     "metadata": {
      "needs_background": "light"
     },
     "output_type": "display_data"
    }
   ],
   "source": [
    "plt.plot(gaac_accs)\n",
    "plt.xticks(list(range(len(gaac_idx))),gaac_idx,rotation=90);"
   ]
  },
  {
   "cell_type": "markdown",
   "metadata": {},
   "source": [
    "# CTD model"
   ]
  },
  {
   "cell_type": "code",
   "execution_count": 21,
   "metadata": {},
   "outputs": [],
   "source": [
    "cc = ctdEnc.CTD(F='C')\n",
    "\n",
    "X_ctd = cc.get_ctd(X)\n",
    "\n",
    "Xtrain_ctd,ytrain_ctd,Xtest_ctd,ytest_ctd = X_ctd[train_idx],y[train_idx],X_ctd[test_idx],y[test_idx]"
   ]
  },
  {
   "cell_type": "code",
   "execution_count": 22,
   "metadata": {},
   "outputs": [
    {
     "name": "stdout",
     "output_type": "stream",
     "text": [
      "-----Initial Model Evaluation-----\n",
      "-----Training Accuracy:0.691358024691358-----\n",
      "-----Testing Accuracy:0.68-----\n",
      "-----Hyperparameter Optimization-----\n",
      "Fitting 3 folds for each of 72 candidates, totalling 216 fits\n"
     ]
    },
    {
     "name": "stderr",
     "output_type": "stream",
     "text": [
      "[Parallel(n_jobs=-1)]: Using backend LokyBackend with 16 concurrent workers.\n",
      "[Parallel(n_jobs=-1)]: Batch computation too fast (0.0199s.) Setting batch_size=2.\n",
      "[Parallel(n_jobs=-1)]: Done   9 tasks      | elapsed:    0.1s\n",
      "[Parallel(n_jobs=-1)]: Done  18 tasks      | elapsed:    0.1s\n",
      "[Parallel(n_jobs=-1)]: Done  29 tasks      | elapsed:    0.2s\n",
      "[Parallel(n_jobs=-1)]: Batch computation too fast (0.1247s.) Setting batch_size=4.\n"
     ]
    },
    {
     "name": "stdout",
     "output_type": "stream",
     "text": [
      "score = 0.56\n",
      "{'SVM__C': 100, 'SVM__gamma': 'scale', 'SVM__kernel': 'rbf', 'pca__n_components': 5}\n"
     ]
    },
    {
     "name": "stderr",
     "output_type": "stream",
     "text": [
      "[Parallel(n_jobs=-1)]: Done  48 tasks      | elapsed:    0.2s\n",
      "[Parallel(n_jobs=-1)]: Done  74 tasks      | elapsed:    0.3s\n",
      "[Parallel(n_jobs=-1)]: Batch computation too fast (0.1076s.) Setting batch_size=8.\n",
      "[Parallel(n_jobs=-1)]: Done 104 tasks      | elapsed:    0.3s\n",
      "[Parallel(n_jobs=-1)]: Done 161 tasks      | elapsed:    0.4s\n",
      "[Parallel(n_jobs=-1)]: Done 176 tasks      | elapsed:    0.4s\n",
      "[Parallel(n_jobs=-1)]: Done 207 out of 216 | elapsed:    0.4s remaining:    0.0s\n",
      "[Parallel(n_jobs=-1)]: Done 216 out of 216 | elapsed:    0.4s finished\n"
     ]
    }
   ],
   "source": [
    "model_ctd = SVM(Xtrain_ctd,Xtest_ctd,ytrain,ytest,optimize=True)"
   ]
  },
  {
   "cell_type": "markdown",
   "metadata": {},
   "source": [
    "# Majority Vote Classifier"
   ]
  },
  {
   "cell_type": "code",
   "execution_count": 23,
   "metadata": {},
   "outputs": [],
   "source": [
    "from sklearn.metrics import accuracy_score"
   ]
  },
  {
   "cell_type": "code",
   "execution_count": 24,
   "metadata": {},
   "outputs": [],
   "source": [
    "class Ensemble:\n",
    "    def __init__(self,models,Xtests,ytest):\n",
    "        self.all_models = models\n",
    "        self.Xtests = Xtests\n",
    "        self.ytest = ytest\n",
    "        \n",
    "        self.preds = np.array(self._get_predictions())\n",
    "        self.acc = accuracy_score(self.ytest,self.preds)\n",
    "        pass\n",
    "    \n",
    "    def _get_predictions(self):\n",
    "        predictions = [m.predict(Xtest) for m,Xtest in zip(self.all_models,self.Xtests)]\n",
    "        preds = [np.argmax(np.bincount(np.array(tup))) for tup in zip(*predictions)]\n",
    "        return preds\n",
    "        \n",
    "        "
   ]
  },
  {
   "cell_type": "code",
   "execution_count": 25,
   "metadata": {},
   "outputs": [],
   "source": [
    "EModel = Ensemble([currModel.model,model_gaac.model,posModel.model],\n",
    "                  [Xtest_ng,Xtest_gaac,Xtest_pos],ytest)"
   ]
  },
  {
   "cell_type": "code",
   "execution_count": 26,
   "metadata": {},
   "outputs": [
    {
     "data": {
      "text/plain": [
       "0.76"
      ]
     },
     "execution_count": 26,
     "metadata": {},
     "output_type": "execute_result"
    }
   ],
   "source": [
    "EModel.acc"
   ]
  },
  {
   "cell_type": "markdown",
   "metadata": {},
   "source": [
    "# Different random seeds"
   ]
  },
  {
   "cell_type": "code",
   "execution_count": 57,
   "metadata": {},
   "outputs": [
    {
     "name": "stdout",
     "output_type": "stream",
     "text": [
      "0\n",
      "100\n",
      "200\n",
      "300\n",
      "400\n",
      "500\n",
      "600\n",
      "700\n",
      "800\n",
      "900\n"
     ]
    }
   ],
   "source": [
    "accs = []\n",
    "for i in range(1000):\n",
    "    np.random.seed(i)\n",
    "    test_idx_i,train_idx_i = modified_split(enz_names)\n",
    "    Xtrain_raw_i,ytrain_i,Xtest_raw_i,ytest_i = X[train_idx_i],y[train_idx_i],X[test_idx_i],y[test_idx_i]\n",
    "    \n",
    "    ng_i = ngramEnc.Ngram(Xtrain_raw_i,7,1)\n",
    "    ng_i.fit()\n",
    "    Xtrain_ng_i,Xtest_ng_i = ng_i.transform(Xtrain_raw_i),ng_i.transform(Xtest_raw_i)\n",
    "    model_ng_i = SVM(Xtrain_ng_i,Xtest_ng_i,ytrain_i,ytest_i,pca_comp=40,regC=1,kern='linear',optimize=False,verbose=False)\n",
    "    \n",
    "    gc_i = gaacEnc.GAAC()\n",
    "    X_gaac_i = gc_i.transform(X)\n",
    "    Xtrain_raw_gaac_i,Xtest_raw_gaac_i = X_gaac_i[train_idx_i],X_gaac_i[test_idx_i]\n",
    "    ng_gaac_i = ngramEnc.Ngram(Xtrain_raw_gaac_i,13,1)\n",
    "    ng_gaac_i.fit()\n",
    "    Xtrain_gaac_i,Xtest_gaac_i = ng_gaac_i.transform(Xtrain_raw_gaac_i),ng_gaac_i.transform(Xtest_raw_gaac_i)\n",
    "    model_gaac_i = SVM(Xtrain_gaac_i,Xtest_gaac_i,ytrain_i,ytest_i,pca_comp=40,regC=100,kern='rbf',optimize=False,verbose=False)\n",
    "    \n",
    "#     cc_i = ctdEnc.CTD(F='C')\n",
    "#     X_ctd_i = cc_i.get_ctd(X)\n",
    "#     Xtrain_ctd_i,Xtest_ctd_i = X_ctd_i[train_idx_i],X_ctd_i[test_idx_i]\n",
    "#     model_ctd_i = SVM(Xtrain_ctd_i,Xtest_ctd_i,ytrain_i,ytest_i,pca_comp=20,regC=100,kern='rbf',optimize=False,verbose=False)\n",
    "    Xtrain_pos_i,Xtest_pos_i = get_pos_model_feat(Pos_model_dict,enz_names,train_idx_i,test_idx_i)\n",
    "    model_pos_i = SVM(Xtrain_pos_i,Xtest_pos_i,ytrain_i,ytest_i,pca_comp=40,regC=1,kern='linear',optimize=False,verbose=False)\n",
    "    \n",
    "    EModel_i = Ensemble([model_ng_i.model,model_gaac_i.model,model_pos_i.model],\n",
    "                  [Xtest_ng_i,Xtest_gaac_i,Xtest_pos_i],ytest_i)\n",
    "    \n",
    "    accs.append((model_ng_i.acc_test,model_gaac_i.acc_test,model_pos_i.acc_test,EModel_i.acc))\n",
    "    \n",
    "    if i%100 == 0:\n",
    "        print(i)"
   ]
  },
  {
   "cell_type": "code",
   "execution_count": 58,
   "metadata": {},
   "outputs": [
    {
     "data": {
      "text/plain": [
       "<matplotlib.legend.Legend at 0x2abb6f1f9550>"
      ]
     },
     "execution_count": 58,
     "metadata": {},
     "output_type": "execute_result"
    },
    {
     "data": {
      "image/png": "[encoded data removed]",
      "text/plain": [
       "<Figure size 432x288 with 1 Axes>"
      ]
     },
     "metadata": {
      "needs_background": "light"
     },
     "output_type": "display_data"
    }
   ],
   "source": [
    "plt.plot(range(len(accs)),accs)\n",
    "plt.legend(['NG','GAAC','POS','Ensemble'])"
   ]
  },
  {
   "cell_type": "code",
   "execution_count": 59,
   "metadata": {},
   "outputs": [
    {
     "data": {
      "image/png": "[encoded data removed]",
      "text/plain": [
       "<Figure size 432x288 with 1 Axes>"
      ]
     },
     "metadata": {
      "needs_background": "light"
     },
     "output_type": "display_data"
    }
   ],
   "source": [
    "Ensemble_preds = [a[3] for a in accs]\n",
    "plt.hist(Ensemble_preds,bins=5);"
   ]
  },
  {
   "cell_type": "code",
   "execution_count": 60,
   "metadata": {},
   "outputs": [
    {
     "data": {
      "text/plain": [
       "0.52"
      ]
     },
     "execution_count": 60,
     "metadata": {},
     "output_type": "execute_result"
    }
   ],
   "source": [
    "min(Ensemble_preds)"
   ]
  },
  {
   "cell_type": "code",
   "execution_count": 61,
   "metadata": {},
   "outputs": [
    {
     "data": {
      "text/plain": [
       "0.78028"
      ]
     },
     "execution_count": 61,
     "metadata": {},
     "output_type": "execute_result"
    }
   ],
   "source": [
    "np.mean(Ensemble_preds)"
   ]
  },
  {
   "cell_type": "code",
   "execution_count": 62,
   "metadata": {},
   "outputs": [
    {
     "data": {
      "image/png": "[encoded data removed]",
      "text/plain": [
       "<Figure size 432x288 with 1 Axes>"
      ]
     },
     "metadata": {
      "needs_background": "light"
     },
     "output_type": "display_data"
    }
   ],
   "source": [
    "Gaac_preds = [a[1] for a in accs]\n",
    "plt.hist(Gaac_preds,bins=5);"
   ]
  },
  {
   "cell_type": "code",
   "execution_count": 63,
   "metadata": {},
   "outputs": [
    {
     "data": {
      "text/plain": [
       "28"
      ]
     },
     "execution_count": 63,
     "metadata": {},
     "output_type": "execute_result"
    }
   ],
   "source": [
    "sum([1 for g in Gaac_preds if g<0.6 ])"
   ]
  },
  {
   "cell_type": "code",
   "execution_count": 64,
   "metadata": {},
   "outputs": [
    {
     "data": {
      "text/plain": [
       "0.48"
      ]
     },
     "execution_count": 64,
     "metadata": {},
     "output_type": "execute_result"
    }
   ],
   "source": [
    "min(Gaac_preds)"
   ]
  },
  {
   "cell_type": "code",
   "execution_count": 65,
   "metadata": {},
   "outputs": [
    {
     "data": {
      "text/plain": [
       "0.7458400000000001"
      ]
     },
     "execution_count": 65,
     "metadata": {},
     "output_type": "execute_result"
    }
   ],
   "source": [
    "np.mean(Gaac_preds)"
   ]
  },
  {
   "cell_type": "code",
   "execution_count": 66,
   "metadata": {},
   "outputs": [
    {
     "data": {
      "image/png": "[encoded data removed]",
      "text/plain": [
       "<Figure size 432x288 with 1 Axes>"
      ]
     },
     "metadata": {
      "needs_background": "light"
     },
     "output_type": "display_data"
    }
   ],
   "source": [
    "ng_preds = [a[0] for a in accs]\n",
    "plt.hist(ng_preds,bins=5);"
   ]
  },
  {
   "cell_type": "code",
   "execution_count": 67,
   "metadata": {},
   "outputs": [
    {
     "data": {
      "text/plain": [
       "0.7421599999999999"
      ]
     },
     "execution_count": 67,
     "metadata": {},
     "output_type": "execute_result"
    }
   ],
   "source": [
    "np.mean(ng_preds)"
   ]
  },
  {
   "cell_type": "code",
   "execution_count": 68,
   "metadata": {},
   "outputs": [
    {
     "data": {
      "text/plain": [
       "0.48"
      ]
     },
     "execution_count": 68,
     "metadata": {},
     "output_type": "execute_result"
    }
   ],
   "source": [
    "min(ng_preds)"
   ]
  },
  {
   "cell_type": "code",
   "execution_count": 69,
   "metadata": {},
   "outputs": [
    {
     "data": {
      "image/png": "[encoded data removed]",
      "text/plain": [
       "<Figure size 432x288 with 1 Axes>"
      ]
     },
     "metadata": {
      "needs_background": "light"
     },
     "output_type": "display_data"
    }
   ],
   "source": [
    "ctd_preds = [a[2] for a in accs]\n",
    "plt.hist(ctd_preds,bins=5);"
   ]
  },
  {
   "cell_type": "code",
   "execution_count": 70,
   "metadata": {},
   "outputs": [
    {
     "data": {
      "text/plain": [
       "0.48"
      ]
     },
     "execution_count": 70,
     "metadata": {},
     "output_type": "execute_result"
    }
   ],
   "source": [
    "min(ctd_preds)"
   ]
  },
  {
   "cell_type": "code",
   "execution_count": 71,
   "metadata": {},
   "outputs": [
    {
     "data": {
      "text/plain": [
       "0.77176"
      ]
     },
     "execution_count": 71,
     "metadata": {},
     "output_type": "execute_result"
    }
   ],
   "source": [
    "np.mean(ctd_preds)"
   ]
  }
 ],
 "metadata": {
  "kernelspec": {
   "display_name": "Python 3",
   "language": "python",
   "name": "python3"
  },
  "language_info": {
   "codemirror_mode": {
    "name": "ipython",
    "version": 3
   },
   "file_extension": ".py",
   "mimetype": "text/x-python",
   "name": "python",
   "nbconvert_exporter": "python",
   "pygments_lexer": "ipython3",
   "version": "3.6.7"
  }
 },
 "nbformat": 4,
 "nbformat_minor": 4
}
