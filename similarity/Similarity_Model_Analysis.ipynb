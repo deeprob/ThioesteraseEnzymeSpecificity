{
 "cells": [
  {
   "cell_type": "code",
   "execution_count": 1,
   "id": "8bd6d600",
   "metadata": {},
   "outputs": [],
   "source": [
    "import time\n",
    "import numpy as np\n",
    "from sklearn.neighbors import KNeighborsClassifier\n",
    "from sklearn.metrics import accuracy_score, precision_score, recall_score"
   ]
  },
  {
   "cell_type": "markdown",
   "id": "5f0bbd84",
   "metadata": {},
   "source": [
    "# Make Individual Fasta Files Train"
   ]
  },
  {
   "cell_type": "code",
   "execution_count": 2,
   "id": "3ec5646a",
   "metadata": {},
   "outputs": [],
   "source": [
    "!python makeIndFastaFiles.py"
   ]
  },
  {
   "cell_type": "markdown",
   "id": "90b7da6a",
   "metadata": {},
   "source": [
    "# Create the similarity matrix for training dataset"
   ]
  },
  {
   "cell_type": "code",
   "execution_count": 3,
   "id": "8ac06187",
   "metadata": {
    "scrolled": true
   },
   "outputs": [
    {
     "name": "stdout",
     "output_type": "stream",
     "text": [
      "*******************************************************************************************************************"
     ]
    }
   ],
   "source": [
    "!python makeSeqSimilarityMatrix.py"
   ]
  },
  {
   "cell_type": "markdown",
   "id": "799c6a94",
   "metadata": {},
   "source": [
    "# Model Simulation"
   ]
  },
  {
   "cell_type": "code",
   "execution_count": 1,
   "id": "829becb4",
   "metadata": {},
   "outputs": [
    {
     "name": "stdout",
     "output_type": "stream",
     "text": [
      "93.27724933624268\r\n"
     ]
    }
   ],
   "source": [
    "!python similarity-model-check.py"
   ]
  },
  {
   "cell_type": "markdown",
   "id": "11c62dcf",
   "metadata": {},
   "source": [
    "# Model Results"
   ]
  },
  {
   "cell_type": "code",
   "execution_count": 2,
   "id": "c00da4ee",
   "metadata": {},
   "outputs": [],
   "source": [
    "!python plot-similarity-model-results.py"
   ]
  },
  {
   "cell_type": "markdown",
   "id": "597a88ee",
   "metadata": {},
   "source": [
    "# Create similarity matrix for test dataset"
   ]
  },
  {
   "cell_type": "code",
   "execution_count": 5,
   "id": "b8b1024b",
   "metadata": {},
   "outputs": [
    {
     "name": "stdout",
     "output_type": "stream",
     "text": [
      "****"
     ]
    }
   ],
   "source": [
    "!python makeSeqSimilarityMatrix-test.py"
   ]
  },
  {
   "cell_type": "markdown",
   "id": "93f518a4",
   "metadata": {},
   "source": [
    "# Model Run 1 instance"
   ]
  },
  {
   "cell_type": "code",
   "execution_count": 16,
   "id": "1376c6a5",
   "metadata": {},
   "outputs": [],
   "source": [
    "import time\n",
    "import numpy as np\n",
    "from sklearn.neighbors import KNeighborsClassifier\n",
    "from sklearn.metrics import accuracy_score, precision_score, recall_score\n",
    "\n",
    "\n",
    "similarity_matrix = '../similarity/similarity_matrix.txt'\n",
    "label_file = '../data/label/train_enz_label.csv'\n",
    "\n",
    "test_similarity_matrix = '../similarity/test_similarity_matrix.txt'\n",
    "\n",
    "\n",
    "def get_matrix():\n",
    "    mat = np.loadtxt(similarity_matrix, delimiter=',')\n",
    "    mat[mat==0] = 1e-9\n",
    "    return 1/mat\n",
    "\n",
    "\n",
    "def get_test_matrix():\n",
    "    mat = np.loadtxt(test_similarity_matrix, delimiter=',')\n",
    "    mat[mat==0] = 1e-9\n",
    "    return 1/mat\n",
    "\n",
    "\n",
    "def get_labels():\n",
    "    y = []\n",
    "    with open(label_file, 'rt') as f:\n",
    "        for lines in f:\n",
    "            vals = lines.strip().split(',')\n",
    "            y.append(int(vals[1]))\n",
    "    y = np.array(y)\n",
    "    return y\n",
    "\n",
    "\n",
    "def get_train_valid_split(mat, y):\n",
    "    all_indices = [i for i in range(115)]\n",
    "\n",
    "    train_idx = np.random.choice(all_indices, size=80, replace=False)\n",
    "    valid_idx = [i for i in all_indices if i not in train_idx]\n",
    "\n",
    "    X_train = mat[train_idx, :][:, train_idx]\n",
    "    X_valid = mat[valid_idx, :][:, train_idx]\n",
    "\n",
    "    y_train = y[train_idx]\n",
    "    y_valid = y[valid_idx]\n",
    "    return X_train, X_valid, y_train, y_valid, train_idx\n",
    "\n",
    "\n",
    "def get_model_metrics(y_valid, y_hat_valid):\n",
    "    acc = accuracy_score(y_valid, y_hat_valid)\n",
    "    rec = recall_score(y_valid, y_hat_valid, labels=[3], average='micro')\n",
    "    prec = precision_score(y_valid, y_hat_valid, labels=[3], average='micro')\n",
    "    return prec, rec, acc"
   ]
  },
  {
   "cell_type": "code",
   "execution_count": 40,
   "id": "656b58c8",
   "metadata": {},
   "outputs": [],
   "source": [
    "# get the matrix\n",
    "sim_mat = get_matrix()\n",
    "\n",
    "# get the labels\n",
    "y = get_labels()\n",
    "\n",
    "# get train valid data\n",
    "Xtrain, Xvalid, ytrain, yvalid, train_idx = get_train_valid_split(sim_mat, y)\n",
    "\n",
    "neigh = KNeighborsClassifier(n_neighbors=5, algorithm='brute', metric='precomputed')\n",
    "neigh.fit(Xtrain, ytrain)\n",
    "\n",
    "yhatvalid = neigh.predict(Xvalid)"
   ]
  },
  {
   "cell_type": "code",
   "execution_count": 41,
   "id": "2bc64514",
   "metadata": {},
   "outputs": [],
   "source": [
    "# get model performance\n",
    "prec, rec, acc = get_model_metrics(yvalid, yhatvalid)"
   ]
  },
  {
   "cell_type": "code",
   "execution_count": 42,
   "id": "f5d5c097",
   "metadata": {},
   "outputs": [
    {
     "data": {
      "text/plain": [
       "(0.75, 0.8571428571428571, 0.6285714285714286)"
      ]
     },
     "execution_count": 42,
     "metadata": {},
     "output_type": "execute_result"
    }
   ],
   "source": [
    "prec,rec,acc"
   ]
  },
  {
   "cell_type": "code",
   "execution_count": 43,
   "id": "e01c4479",
   "metadata": {},
   "outputs": [],
   "source": [
    "test_sim_mat = get_test_matrix()"
   ]
  },
  {
   "cell_type": "code",
   "execution_count": 44,
   "id": "ff9d97ce",
   "metadata": {},
   "outputs": [],
   "source": [
    "Xtest = test_sim_mat[:, train_idx]"
   ]
  },
  {
   "cell_type": "code",
   "execution_count": 45,
   "id": "8d310a72",
   "metadata": {},
   "outputs": [],
   "source": [
    "ytest_pred = neigh.predict(Xtest)"
   ]
  },
  {
   "cell_type": "code",
   "execution_count": 46,
   "id": "675cb8a3",
   "metadata": {},
   "outputs": [
    {
     "data": {
      "text/plain": [
       "array([3, 3, 3, 3])"
      ]
     },
     "execution_count": 46,
     "metadata": {},
     "output_type": "execute_result"
    }
   ],
   "source": [
    "ytest_pred"
   ]
  },
  {
   "cell_type": "code",
   "execution_count": 47,
   "id": "ed263b2c",
   "metadata": {},
   "outputs": [
    {
     "data": {
      "text/plain": [
       "(array([[0.01089004, 0.01211138, 0.0121622 , 0.01226858, 0.01229166],\n",
       "        [0.01016994, 0.01052321, 0.01055977, 0.01118593, 0.01149584],\n",
       "        [0.01019462, 0.01055398, 0.01058672, 0.01121617, 0.01149584],\n",
       "        [0.01194543, 0.01206593, 0.01214536, 0.01214919, 0.01217523]]),\n",
       " array([[32, 17, 12, 78, 41],\n",
       "        [13, 12, 41, 73, 50],\n",
       "        [13, 12, 41, 73, 50],\n",
       "        [12, 17, 33, 13, 41]]))"
      ]
     },
     "execution_count": 47,
     "metadata": {},
     "output_type": "execute_result"
    }
   ],
   "source": [
    "neigh.kneighbors(Xtest)"
   ]
  },
  {
   "cell_type": "code",
   "execution_count": null,
   "id": "809a14fa",
   "metadata": {},
   "outputs": [],
   "source": []
  }
 ],
 "metadata": {
  "kernelspec": {
   "display_name": "Python 3",
   "language": "python",
   "name": "python3"
  },
  "language_info": {
   "codemirror_mode": {
    "name": "ipython",
    "version": 3
   },
   "file_extension": ".py",
   "mimetype": "text/x-python",
   "name": "python",
   "nbconvert_exporter": "python",
   "pygments_lexer": "ipython3",
   "version": "3.7.10"
  }
 },
 "nbformat": 4,
 "nbformat_minor": 5
}
