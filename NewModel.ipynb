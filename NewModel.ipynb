{
 "cells": [
  {
   "cell_type": "code",
   "execution_count": 1,
   "metadata": {},
   "outputs": [],
   "source": [
    "import pandas as pd\n",
    "import pickle\n",
    "import numpy as np\n",
    "import matplotlib.pyplot as plt\n",
    "from sklearn.preprocessing import OneHotEncoder\n",
    "from sklearn.cluster import KMeans\n",
    "from sklearn.decomposition import PCA,TruncatedSVD,SparsePCA\n",
    "from sklearn.model_selection import train_test_split\n",
    "from sklearn.metrics import precision_score,recall_score,f1_score,confusion_matrix,accuracy_score\n",
    "from sklearn.svm import SVC\n",
    "from sklearn.pipeline import Pipeline"
   ]
  },
  {
   "cell_type": "code",
   "execution_count": 2,
   "metadata": {},
   "outputs": [],
   "source": [
    "datafile = 'Data/Enzyme_aligned.txt'\n",
    "\n",
    "enz_names = []\n",
    "X = []\n",
    "y = []\n",
    "\n",
    "with open(datafile,'r') as f:\n",
    "    for lines in f:\n",
    "        enz_val = lines.strip('\\n').split(',')\n",
    "        enz_names.append(enz_val[0])\n",
    "        X.append(list(enz_val[1]))\n",
    "        y.append(enz_val[2])"
   ]
  },
  {
   "cell_type": "code",
   "execution_count": 3,
   "metadata": {},
   "outputs": [],
   "source": [
    "smallX = [x[:5] for x in X]"
   ]
  },
  {
   "cell_type": "code",
   "execution_count": 4,
   "metadata": {},
   "outputs": [],
   "source": [
    "smallXarr = np.array(smallX)"
   ]
  },
  {
   "cell_type": "code",
   "execution_count": 5,
   "metadata": {},
   "outputs": [],
   "source": [
    "Xarr = np.array(X)"
   ]
  },
  {
   "cell_type": "code",
   "execution_count": 6,
   "metadata": {},
   "outputs": [
    {
     "data": {
      "text/plain": [
       "OneHotEncoder()"
      ]
     },
     "execution_count": 6,
     "metadata": {},
     "output_type": "execute_result"
    }
   ],
   "source": [
    "ohe = OneHotEncoder()\n",
    "ohe.fit(Xarr)\n"
   ]
  },
  {
   "cell_type": "code",
   "execution_count": 7,
   "metadata": {},
   "outputs": [],
   "source": [
    "X_enc = ohe.transform(Xarr).toarray()\n",
    "y_enc = np.array(y)"
   ]
  },
  {
   "cell_type": "code",
   "execution_count": 8,
   "metadata": {},
   "outputs": [],
   "source": [
    "lencat = [(ci,lc) for ci,lc in zip(range(len(ohe.categories_)),list(map(len,ohe.categories_)))]"
   ]
  },
  {
   "cell_type": "code",
   "execution_count": 9,
   "metadata": {},
   "outputs": [],
   "source": [
    "catnummap = {}\n",
    "\n",
    "currval = 0\n",
    "nextval = 0\n",
    "\n",
    "for i,j in lencat:\n",
    "    nextval += j\n",
    "    catnummap[i] = list(range(currval,nextval))\n",
    "    currval=nextval\n",
    "    "
   ]
  },
  {
   "cell_type": "code",
   "execution_count": 10,
   "metadata": {},
   "outputs": [],
   "source": [
    "numcatmap = {num:cat for cat,nums in catnummap.items() for num in nums}"
   ]
  },
  {
   "cell_type": "code",
   "execution_count": 11,
   "metadata": {},
   "outputs": [
    {
     "data": {
      "text/plain": [
       "SelectKBest(score_func=<function chi2 at 0x2b2c6fead378>)"
      ]
     },
     "execution_count": 11,
     "metadata": {},
     "output_type": "execute_result"
    }
   ],
   "source": [
    "from sklearn.feature_selection import SelectKBest,f_classif,mutual_info_classif,chi2\n",
    "\n",
    "skbest = SelectKBest(score_func=chi2)\n",
    "skbest.fit(X_enc,y_enc)"
   ]
  },
  {
   "cell_type": "code",
   "execution_count": 12,
   "metadata": {},
   "outputs": [
    {
     "data": {
      "text/plain": [
       "array([ 818,  848,  821, 1032,  797,  420,  805, 1507, 1090,  849,  734,\n",
       "        864, 1171, 1589,  858,  702, 1461, 1469, 1252,  958, 1519, 1495,\n",
       "       1103,  437, 1363, 1207,  986, 1499, 1442,  763, 1184, 1483, 1085,\n",
       "        951,  772,  969, 1320, 1057, 1412,  880, 1529,  979,  960, 1182,\n",
       "        464, 1313, 1643,  726, 1513,  553])"
      ]
     },
     "execution_count": 12,
     "metadata": {},
     "output_type": "execute_result"
    }
   ],
   "source": [
    "np.argsort(skbest.scores_)[::-1][:50]"
   ]
  },
  {
   "cell_type": "code",
   "execution_count": 45,
   "metadata": {},
   "outputs": [
    {
     "data": {
      "text/plain": [
       "22.38975817923187"
      ]
     },
     "execution_count": 45,
     "metadata": {},
     "output_type": "execute_result"
    }
   ],
   "source": [
    "skbest.scores_[1032]"
   ]
  },
  {
   "cell_type": "code",
   "execution_count": 15,
   "metadata": {},
   "outputs": [],
   "source": [
    "best50pos = []\n",
    "\n",
    "for idx in np.argsort(skbest.scores_)[::-1][:50]:\n",
    "    best50pos.append(numcatmap[idx])"
   ]
  },
  {
   "cell_type": "code",
   "execution_count": 46,
   "metadata": {},
   "outputs": [
    {
     "data": {
      "text/plain": [
       "[236,\n",
       " 242,\n",
       " 236,\n",
       " 290,\n",
       " 229,\n",
       " 127,\n",
       " 233,\n",
       " 408,\n",
       " 302,\n",
       " 242,\n",
       " 208,\n",
       " 246,\n",
       " 321,\n",
       " 428,\n",
       " 245,\n",
       " 200,\n",
       " 399,\n",
       " 400,\n",
       " 351,\n",
       " 272,\n",
       " 409,\n",
       " 406,\n",
       " 304,\n",
       " 130,\n",
       " 379,\n",
       " 330,\n",
       " 281,\n",
       " 407,\n",
       " 397,\n",
       " 219,\n",
       " 323,\n",
       " 405,\n",
       " 301,\n",
       " 271,\n",
       " 221,\n",
       " 276,\n",
       " 364,\n",
       " 295,\n",
       " 394,\n",
       " 251,\n",
       " 411,\n",
       " 279,\n",
       " 272,\n",
       " 323,\n",
       " 135,\n",
       " 363,\n",
       " 441,\n",
       " 207,\n",
       " 409,\n",
       " 153]"
      ]
     },
     "execution_count": 46,
     "metadata": {},
     "output_type": "execute_result"
    }
   ],
   "source": [
    "best50pos"
   ]
  },
  {
   "cell_type": "code",
   "execution_count": 16,
   "metadata": {},
   "outputs": [],
   "source": [
    "mypos = sorted(set(best50pos))"
   ]
  },
  {
   "cell_type": "code",
   "execution_count": 17,
   "metadata": {
    "scrolled": true
   },
   "outputs": [
    {
     "data": {
      "text/plain": [
       "[127,\n",
       " 130,\n",
       " 135,\n",
       " 153,\n",
       " 200,\n",
       " 207,\n",
       " 208,\n",
       " 219,\n",
       " 221,\n",
       " 229,\n",
       " 233,\n",
       " 236,\n",
       " 242,\n",
       " 245,\n",
       " 246,\n",
       " 251,\n",
       " 271,\n",
       " 272,\n",
       " 276,\n",
       " 279,\n",
       " 281,\n",
       " 290,\n",
       " 295,\n",
       " 301,\n",
       " 302,\n",
       " 304,\n",
       " 321,\n",
       " 323,\n",
       " 330,\n",
       " 351,\n",
       " 363,\n",
       " 364,\n",
       " 379,\n",
       " 394,\n",
       " 397,\n",
       " 399,\n",
       " 400,\n",
       " 405,\n",
       " 406,\n",
       " 407,\n",
       " 408,\n",
       " 409,\n",
       " 411,\n",
       " 428,\n",
       " 441]"
      ]
     },
     "execution_count": 17,
     "metadata": {},
     "output_type": "execute_result"
    }
   ],
   "source": [
    "mypos"
   ]
  },
  {
   "cell_type": "code",
   "execution_count": 18,
   "metadata": {},
   "outputs": [
    {
     "data": {
      "text/plain": [
       "45"
      ]
     },
     "execution_count": 18,
     "metadata": {},
     "output_type": "execute_result"
    }
   ],
   "source": [
    "len(mypos)"
   ]
  },
  {
   "cell_type": "code",
   "execution_count": 19,
   "metadata": {},
   "outputs": [],
   "source": [
    "with open('Data/BestPosition.txt','w') as f:\n",
    "    for pos in mypos:\n",
    "        f.write(str(pos))\n",
    "        f.write('\\n')"
   ]
  },
  {
   "cell_type": "code",
   "execution_count": 20,
   "metadata": {},
   "outputs": [
    {
     "data": {
      "text/plain": [
       "array(['-', 'K', 'N', 'R', 'S'], dtype='<U1')"
      ]
     },
     "execution_count": 20,
     "metadata": {},
     "output_type": "execute_result"
    }
   ],
   "source": [
    "ohe.categories_[146]"
   ]
  },
  {
   "cell_type": "code",
   "execution_count": 21,
   "metadata": {},
   "outputs": [
    {
     "data": {
      "text/plain": [
       "array([['-', '-', '-', ..., '-', '-', '-'],\n",
       "       ['-', '-', '-', ..., '-', '-', '-'],\n",
       "       ['-', '-', '-', ..., '-', '-', '-'],\n",
       "       ...,\n",
       "       ['-', '-', 'M', ..., '-', '-', '-'],\n",
       "       ['-', '-', 'M', ..., '-', '-', '-'],\n",
       "       ['-', '-', 'M', ..., '-', '-', '-']], dtype='<U1')"
      ]
     },
     "execution_count": 21,
     "metadata": {},
     "output_type": "execute_result"
    }
   ],
   "source": [
    "Xarr"
   ]
  },
  {
   "cell_type": "code",
   "execution_count": 22,
   "metadata": {},
   "outputs": [],
   "source": [
    "X_processed = Xarr[:,mypos]"
   ]
  },
  {
   "cell_type": "code",
   "execution_count": 23,
   "metadata": {},
   "outputs": [
    {
     "data": {
      "text/plain": [
       "array([['R', 'K', 'L', ..., 'Q', 'A', 'N'],\n",
       "       ['W', 'K', 'L', ..., 'E', 'G', 'R'],\n",
       "       ['W', 'G', 'L', ..., 'E', 'S', 'K'],\n",
       "       ...,\n",
       "       ['R', 'K', 'L', ..., 'Q', 'G', 'N'],\n",
       "       ['R', 'K', 'L', ..., 'Q', 'G', 'N'],\n",
       "       ['R', 'K', 'L', ..., 'Q', 'G', 'N']], dtype='<U1')"
      ]
     },
     "execution_count": 23,
     "metadata": {},
     "output_type": "execute_result"
    }
   ],
   "source": [
    "X_processed"
   ]
  },
  {
   "cell_type": "code",
   "execution_count": 24,
   "metadata": {},
   "outputs": [
    {
     "data": {
      "text/plain": [
       "array(['3', '3', '1', '1', '2', '1', '2', '3', '1', '1', '2', '1', '3',\n",
       "       '3', '1', '2', '2', '3', '1', '1', '1', '1', '1', '1', '1', '1',\n",
       "       '1', '1', '1', '1', '1', '3', '2', '1', '1', '1', '3', '1', '1',\n",
       "       '3', '3', '3', '3', '3', '3', '3', '3', '3', '2', '1', '3', '3',\n",
       "       '2', '2', '3', '3', '3', '2', '1', '3', '3', '3', '3', '3', '3',\n",
       "       '3', '3', '3', '3', '3', '3', '3', '1', '3', '2', '3', '2', '3',\n",
       "       '3', '3', '3', '3', '3', '3', '2', '3', '3', '3', '3', '3', '3',\n",
       "       '1', '1', '1', '2', '2', '3', '1', '1', '1', '1', '1', '1', '2',\n",
       "       '2', '2'], dtype='<U1')"
      ]
     },
     "execution_count": 24,
     "metadata": {},
     "output_type": "execute_result"
    }
   ],
   "source": [
    "y_enc"
   ]
  },
  {
   "cell_type": "code",
   "execution_count": 25,
   "metadata": {},
   "outputs": [
    {
     "data": {
      "text/plain": [
       "OneHotEncoder()"
      ]
     },
     "execution_count": 25,
     "metadata": {},
     "output_type": "execute_result"
    }
   ],
   "source": [
    "ohe_proc = OneHotEncoder()\n",
    "ohe_proc.fit(X_processed)"
   ]
  },
  {
   "cell_type": "code",
   "execution_count": 26,
   "metadata": {},
   "outputs": [],
   "source": [
    "Xtrain = ohe_proc.transform(X_processed).toarray()"
   ]
  },
  {
   "cell_type": "code",
   "execution_count": 27,
   "metadata": {},
   "outputs": [
    {
     "data": {
      "text/plain": [
       "array([[0., 0., 1., ..., 0., 0., 0.],\n",
       "       [0., 0., 0., ..., 0., 0., 0.],\n",
       "       [0., 0., 0., ..., 0., 0., 0.],\n",
       "       ...,\n",
       "       [0., 0., 1., ..., 0., 0., 0.],\n",
       "       [0., 0., 1., ..., 0., 0., 0.],\n",
       "       [0., 0., 1., ..., 0., 0., 0.]])"
      ]
     },
     "execution_count": 27,
     "metadata": {},
     "output_type": "execute_result"
    }
   ],
   "source": [
    "Xtrain"
   ]
  },
  {
   "cell_type": "code",
   "execution_count": 28,
   "metadata": {},
   "outputs": [
    {
     "data": {
      "text/plain": [
       "(106, 280)"
      ]
     },
     "execution_count": 28,
     "metadata": {},
     "output_type": "execute_result"
    }
   ],
   "source": [
    "Xtrain.shape"
   ]
  },
  {
   "cell_type": "code",
   "execution_count": 29,
   "metadata": {},
   "outputs": [],
   "source": [
    "steps = [('pca',PCA(n_components=35)),('SVM',SVC(C=1,gamma='scale',kernel='rbf'))]\n",
    "pipe = Pipeline(steps)\n"
   ]
  },
  {
   "cell_type": "code",
   "execution_count": 30,
   "metadata": {},
   "outputs": [
    {
     "data": {
      "text/plain": [
       "Pipeline(steps=[('pca', PCA(n_components=35)), ('SVM', SVC(C=1))])"
      ]
     },
     "execution_count": 30,
     "metadata": {},
     "output_type": "execute_result"
    }
   ],
   "source": [
    "pipe.fit(Xtrain,y_enc)"
   ]
  },
  {
   "cell_type": "code",
   "execution_count": 31,
   "metadata": {},
   "outputs": [],
   "source": [
    "ypred = pipe.predict(Xtrain)"
   ]
  },
  {
   "cell_type": "code",
   "execution_count": 32,
   "metadata": {},
   "outputs": [
    {
     "data": {
      "text/plain": [
       "0.839622641509434"
      ]
     },
     "execution_count": 32,
     "metadata": {},
     "output_type": "execute_result"
    }
   ],
   "source": [
    "accuracy_score(ypred,y_enc)"
   ]
  },
  {
   "cell_type": "code",
   "execution_count": 33,
   "metadata": {},
   "outputs": [
    {
     "data": {
      "text/plain": [
       "(106, 45)"
      ]
     },
     "execution_count": 33,
     "metadata": {},
     "output_type": "execute_result"
    }
   ],
   "source": [
    "X_processed.shape"
   ]
  },
  {
   "cell_type": "code",
   "execution_count": 34,
   "metadata": {},
   "outputs": [
    {
     "name": "stdout",
     "output_type": "stream",
     "text": [
      "0\n",
      "10\n",
      "20\n",
      "30\n",
      "40\n",
      "50\n",
      "60\n",
      "70\n",
      "80\n",
      "90\n"
     ]
    }
   ],
   "source": [
    "tracc = []\n",
    "teacc = []\n",
    "for i in range(100):\n",
    "    X_train, X_test, y_train, y_test = train_test_split(X_processed, y_enc, test_size=0.33, random_state=i)\n",
    "    oheenc= OneHotEncoder(handle_unknown='ignore')\n",
    "    oheenc.fit(X_train)\n",
    "    X_train_e = oheenc.transform(X_train).toarray()\n",
    "    X_test_e = oheenc.transform(X_test).toarray()\n",
    "    steps = [('pca',PCA(n_components=35)),('SVM',SVC(C=1,gamma='scale',kernel='rbf'))]\n",
    "    pipe = Pipeline(steps)\n",
    "    pipe.fit(X_train_e,y_train)\n",
    "    ypredtrain = pipe.predict(X_train_e)\n",
    "    ypredtest = pipe.predict(X_test_e)\n",
    "    trainacc = accuracy_score(y_train,ypredtrain)\n",
    "    testacc = accuracy_score(y_test,ypredtest)\n",
    "    tracc.append(trainacc)\n",
    "    teacc.append(testacc)\n",
    "    if i%10==0:\n",
    "        print(i)"
   ]
  },
  {
   "cell_type": "code",
   "execution_count": 35,
   "metadata": {},
   "outputs": [
    {
     "data": {
      "text/plain": [
       "<matplotlib.legend.Legend at 0x2b2c71312518>"
      ]
     },
     "execution_count": 35,
     "metadata": {},
     "output_type": "execute_result"
    },
    {
     "data": {
      "image/png": "[encoded data removed]",
      "text/plain": [
       "<Figure size 432x288 with 1 Axes>"
      ]
     },
     "metadata": {
      "needs_background": "light"
     },
     "output_type": "display_data"
    }
   ],
   "source": [
    "plt.plot(tracc,label='train')\n",
    "plt.plot(teacc,label='test')\n",
    "plt.legend()"
   ]
  },
  {
   "cell_type": "code",
   "execution_count": 36,
   "metadata": {},
   "outputs": [
    {
     "data": {
      "text/plain": [
       "0.7037142857142858"
      ]
     },
     "execution_count": 36,
     "metadata": {},
     "output_type": "execute_result"
    }
   ],
   "source": [
    "np.mean(teacc)"
   ]
  },
  {
   "cell_type": "code",
   "execution_count": 37,
   "metadata": {},
   "outputs": [
    {
     "data": {
      "text/plain": [
       "0.8332394366197182"
      ]
     },
     "execution_count": 37,
     "metadata": {},
     "output_type": "execute_result"
    }
   ],
   "source": [
    "np.mean(tracc)"
   ]
  },
  {
   "cell_type": "code",
   "execution_count": 38,
   "metadata": {},
   "outputs": [
    {
     "data": {
      "text/plain": [
       "0.4857142857142857"
      ]
     },
     "execution_count": 38,
     "metadata": {},
     "output_type": "execute_result"
    }
   ],
   "source": [
    "min(teacc)"
   ]
  },
  {
   "cell_type": "code",
   "execution_count": 39,
   "metadata": {},
   "outputs": [
    {
     "data": {
      "text/plain": [
       "0.7605633802816901"
      ]
     },
     "execution_count": 39,
     "metadata": {},
     "output_type": "execute_result"
    }
   ],
   "source": [
    "min(tracc)"
   ]
  },
  {
   "cell_type": "code",
   "execution_count": 40,
   "metadata": {},
   "outputs": [
    {
     "data": {
      "text/plain": [
       "0.08118057473488174"
      ]
     },
     "execution_count": 40,
     "metadata": {},
     "output_type": "execute_result"
    }
   ],
   "source": [
    "np.std(teacc)"
   ]
  },
  {
   "cell_type": "code",
   "execution_count": 41,
   "metadata": {},
   "outputs": [
    {
     "data": {
      "text/plain": [
       "(array([ 1.,  5.,  9., 10.,  6., 25., 15., 23.,  4.,  2.]),\n",
       " array([0.48571429, 0.52571429, 0.56571429, 0.60571429, 0.64571429,\n",
       "        0.68571429, 0.72571429, 0.76571429, 0.80571429, 0.84571429,\n",
       "        0.88571429]),\n",
       " <BarContainer object of 10 artists>)"
      ]
     },
     "execution_count": 41,
     "metadata": {},
     "output_type": "execute_result"
    },
    {
     "data": {
      "image/png": "[encoded data removed]",
      "text/plain": [
       "<Figure size 432x288 with 1 Axes>"
      ]
     },
     "metadata": {
      "needs_background": "light"
     },
     "output_type": "display_data"
    }
   ],
   "source": [
    "plt.hist(teacc)"
   ]
  },
  {
   "cell_type": "code",
   "execution_count": null,
   "metadata": {},
   "outputs": [],
   "source": []
  }
 ],
 "metadata": {
  "kernelspec": {
   "display_name": "Python 3",
   "language": "python",
   "name": "python3"
  },
  "language_info": {
   "codemirror_mode": {
    "name": "ipython",
    "version": 3
   },
   "file_extension": ".py",
   "mimetype": "text/x-python",
   "name": "python",
   "nbconvert_exporter": "python",
   "pygments_lexer": "ipython3",
   "version": "3.6.7"
  }
 },
 "nbformat": 4,
 "nbformat_minor": 4
}
