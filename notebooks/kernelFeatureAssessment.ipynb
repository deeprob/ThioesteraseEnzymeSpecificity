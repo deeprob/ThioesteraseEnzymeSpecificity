{
 "cells": [
  {
   "cell_type": "code",
   "execution_count": 1,
   "metadata": {},
   "outputs": [],
   "source": [
    "import os\n",
    "import pandas as pd\n",
    "from sklearn.model_selection import train_test_split\n",
    "import itertools \n",
    "import multiprocessing as mp\n",
    "import numpy as np\n",
    "import sys\n",
    "\n",
    "sys.path.append('../')\n",
    "from baseModels.SVM.model import SVM"
   ]
  },
  {
   "cell_type": "code",
   "execution_count": 2,
   "metadata": {},
   "outputs": [],
   "source": [
    "feature_dir = '../featEngg/kernelMethods/data/featvec/'\n",
    "feature_files = [f.name for f in os.scandir(feature_dir) if f.name.endswith('.csv.gz')]"
   ]
  },
  {
   "cell_type": "code",
   "execution_count": 3,
   "metadata": {},
   "outputs": [],
   "source": [
    "label_file = '../data/LabelFiles/EnzymeLabelsMultiClass.csv'"
   ]
  },
  {
   "cell_type": "code",
   "execution_count": 4,
   "metadata": {},
   "outputs": [],
   "source": [
    "def model_evaluate(filename,random_seed):\n",
    "    df1 = pd.read_csv(feature_dir+filename,header=None)\n",
    "    df2 = pd.read_csv(label_file,header=None)\n",
    "    df = df1.merge(df2,on=0)\n",
    "    enz_names = df[0].values\n",
    "    X = df.iloc[:,1:-1].values\n",
    "    y = df.iloc[:,-1].values\n",
    "    if X.shape[1]<40:\n",
    "        n_comp = int(0.75*X.shape[1])\n",
    "    else:\n",
    "        n_comp=40\n",
    "    X_train, X_test, y_train, y_test,enz_train,enz_test = train_test_split(X, y,enz_names, test_size=0.25, random_state=random_seed)\n",
    "    svm = SVM(X_train,X_test,y_train,y_test,verbose=False,optimize=False, pca_comp=n_comp,kern='rbf',regC=30)\n",
    "    return svm.acc_train,svm.acc_test\n",
    " "
   ]
  },
  {
   "cell_type": "code",
   "execution_count": 5,
   "metadata": {},
   "outputs": [
    {
     "data": {
      "text/plain": [
       "8"
      ]
     },
     "execution_count": 5,
     "metadata": {},
     "output_type": "execute_result"
    }
   ],
   "source": [
    "mp.cpu_count()"
   ]
  },
  {
   "cell_type": "code",
   "execution_count": 6,
   "metadata": {},
   "outputs": [],
   "source": [
    "pool = mp.Pool(mp.cpu_count())"
   ]
  },
  {
   "cell_type": "code",
   "execution_count": 7,
   "metadata": {},
   "outputs": [],
   "source": [
    "iterable = list(itertools.product(feature_files,range(100)))"
   ]
  },
  {
   "cell_type": "code",
   "execution_count": 8,
   "metadata": {},
   "outputs": [
    {
     "name": "stdout",
     "output_type": "stream",
     "text": [
      "CPU times: user 90 ms, sys: 65.7 ms, total: 156 ms\n",
      "Wall time: 2min 16s\n"
     ]
    }
   ],
   "source": [
    "%%time\n",
    "model_accs = list(pool.starmap(model_evaluate,iterable))"
   ]
  },
  {
   "cell_type": "code",
   "execution_count": 9,
   "metadata": {},
   "outputs": [],
   "source": [
    "mydict = dict()\n",
    "\n",
    "for m,acc in zip(iterable,model_accs):\n",
    "    model_name=m[0].replace('.csv.gz','')\n",
    "    seed = m[1]\n",
    "    if model_name not in mydict:\n",
    "        mydict[model_name] = {seed:acc}\n",
    "    else:\n",
    "        mydict[model_name][seed] = acc"
   ]
  },
  {
   "cell_type": "code",
   "execution_count": 10,
   "metadata": {},
   "outputs": [],
   "source": [
    "def get_model_stats(mname):\n",
    "    train_accs = [v[0] for k,v in mydict[mname].items()]\n",
    "    test_accs = [v[1] for k,v in mydict[mname].items()]\n",
    "    return {'train_min':min(train_accs),'train_mean':np.mean(train_accs),\n",
    "            'train_max':max(train_accs),'train_std':np.std(train_accs),\n",
    "            'test_min':min(test_accs),'test_mean':np.mean(test_accs),\n",
    "            'test_max':max(test_accs),'test_std':np.std(test_accs)}"
   ]
  },
  {
   "cell_type": "code",
   "execution_count": 11,
   "metadata": {},
   "outputs": [
    {
     "data": {
      "text/plain": [
       "{'train_min': 0.8604651162790697,\n",
       " 'train_mean': 0.9050000000000001,\n",
       " 'train_max': 0.9534883720930233,\n",
       " 'train_std': 0.020143817687374305,\n",
       " 'test_min': 0.4827586206896552,\n",
       " 'test_mean': 0.7148275862068965,\n",
       " 'test_max': 0.9655172413793104,\n",
       " 'test_std': 0.0877591287838418}"
      ]
     },
     "execution_count": 11,
     "metadata": {},
     "output_type": "execute_result"
    }
   ],
   "source": [
    "get_model_stats('mismatchKernel')"
   ]
  },
  {
   "cell_type": "code",
   "execution_count": 12,
   "metadata": {},
   "outputs": [],
   "source": [
    "results_dict= {mname:get_model_stats(mname) for mname in mydict.keys()}\n",
    "    "
   ]
  },
  {
   "cell_type": "code",
   "execution_count": 13,
   "metadata": {},
   "outputs": [],
   "source": [
    "results_df = pd.DataFrame(results_dict).T"
   ]
  },
  {
   "cell_type": "code",
   "execution_count": 14,
   "metadata": {},
   "outputs": [],
   "source": [
    "results_df.to_csv('../data/SimResults/KernelResults.csv',index=True)"
   ]
  },
  {
   "cell_type": "code",
   "execution_count": 15,
   "metadata": {},
   "outputs": [
    {
     "data": {
      "text/html": [
       "<div>\n",
       "<style scoped>\n",
       "    .dataframe tbody tr th:only-of-type {\n",
       "        vertical-align: middle;\n",
       "    }\n",
       "\n",
       "    .dataframe tbody tr th {\n",
       "        vertical-align: top;\n",
       "    }\n",
       "\n",
       "    .dataframe thead th {\n",
       "        text-align: right;\n",
       "    }\n",
       "</style>\n",
       "<table border=\"1\" class=\"dataframe\">\n",
       "  <thead>\n",
       "    <tr style=\"text-align: right;\">\n",
       "      <th></th>\n",
       "      <th>train_min</th>\n",
       "      <th>train_mean</th>\n",
       "      <th>train_max</th>\n",
       "      <th>train_std</th>\n",
       "      <th>test_min</th>\n",
       "      <th>test_mean</th>\n",
       "      <th>test_max</th>\n",
       "      <th>test_std</th>\n",
       "    </tr>\n",
       "  </thead>\n",
       "  <tbody>\n",
       "    <tr>\n",
       "      <th>mismatchKernel</th>\n",
       "      <td>0.860465</td>\n",
       "      <td>0.905000</td>\n",
       "      <td>0.953488</td>\n",
       "      <td>0.020144</td>\n",
       "      <td>0.482759</td>\n",
       "      <td>0.714828</td>\n",
       "      <td>0.965517</td>\n",
       "      <td>0.087759</td>\n",
       "    </tr>\n",
       "    <tr>\n",
       "      <th>gappyKernel</th>\n",
       "      <td>0.848837</td>\n",
       "      <td>0.910814</td>\n",
       "      <td>0.976744</td>\n",
       "      <td>0.023375</td>\n",
       "      <td>0.448276</td>\n",
       "      <td>0.736897</td>\n",
       "      <td>0.896552</td>\n",
       "      <td>0.072930</td>\n",
       "    </tr>\n",
       "    <tr>\n",
       "      <th>spectrumKernel</th>\n",
       "      <td>0.860465</td>\n",
       "      <td>0.915814</td>\n",
       "      <td>0.976744</td>\n",
       "      <td>0.022911</td>\n",
       "      <td>0.448276</td>\n",
       "      <td>0.744483</td>\n",
       "      <td>0.896552</td>\n",
       "      <td>0.074772</td>\n",
       "    </tr>\n",
       "  </tbody>\n",
       "</table>\n",
       "</div>"
      ],
      "text/plain": [
       "                train_min  train_mean  train_max  train_std  test_min  \\\n",
       "mismatchKernel   0.860465    0.905000   0.953488   0.020144  0.482759   \n",
       "gappyKernel      0.848837    0.910814   0.976744   0.023375  0.448276   \n",
       "spectrumKernel   0.860465    0.915814   0.976744   0.022911  0.448276   \n",
       "\n",
       "                test_mean  test_max  test_std  \n",
       "mismatchKernel   0.714828  0.965517  0.087759  \n",
       "gappyKernel      0.736897  0.896552  0.072930  \n",
       "spectrumKernel   0.744483  0.896552  0.074772  "
      ]
     },
     "execution_count": 15,
     "metadata": {},
     "output_type": "execute_result"
    }
   ],
   "source": [
    "results_df.sort_values('train_mean')"
   ]
  },
  {
   "cell_type": "code",
   "execution_count": null,
   "metadata": {},
   "outputs": [],
   "source": []
  }
 ],
 "metadata": {
  "kernelspec": {
   "display_name": "Python 3",
   "language": "python",
   "name": "python3"
  },
  "language_info": {
   "codemirror_mode": {
    "name": "ipython",
    "version": 3
   },
   "file_extension": ".py",
   "mimetype": "text/x-python",
   "name": "python",
   "nbconvert_exporter": "python",
   "pygments_lexer": "ipython3",
   "version": "3.7.9"
  }
 },
 "nbformat": 4,
 "nbformat_minor": 4
}
