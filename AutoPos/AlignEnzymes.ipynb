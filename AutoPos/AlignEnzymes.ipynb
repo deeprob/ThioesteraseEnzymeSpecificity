{
 "cells": [
  {
   "cell_type": "code",
   "execution_count": 1,
   "metadata": {},
   "outputs": [],
   "source": [
    "# Import Enzyme Sequences\n",
    "import sys\n",
    "sys.path.append('../')\n",
    "import helper\n",
    "\n",
    "enzyme_datafile = '../Data/Enzyme-Dataset-Modified.csv'\n",
    "X,y,enz_names = helper.parseEnzymeFile(enzyme_datafile)"
   ]
  },
  {
   "cell_type": "code",
   "execution_count": 4,
   "metadata": {},
   "outputs": [],
   "source": [
    "# Create Fasta file\n",
    "with open('../Data/Enzyme-Fasta.fa','w') as f:\n",
    "    for e,x in zip(enz_names,X):\n",
    "        f.write('>'+e)\n",
    "        f.write('\\n')\n",
    "        f.write(x)\n",
    "        f.write('\\n')"
   ]
  },
  {
   "cell_type": "code",
   "execution_count": 5,
   "metadata": {},
   "outputs": [],
   "source": [
    "# use bash to align fasta files\n",
    "# !mafft --clustalout Enzyme-Fasta.fa > Modified-Alignment.maf"
   ]
  },
  {
   "cell_type": "code",
   "execution_count": 16,
   "metadata": {},
   "outputs": [],
   "source": [
    "# Alignment file proper parsing\n",
    "\n",
    "aligned_file = '../Data/Modified-Alignment.maf'\n",
    "\n",
    "with open(aligned_file,'r') as f:\n",
    "    Aligned = ['' for a in range(116)]\n",
    "    counter = 0\n",
    "    for i,lines in enumerate(f):\n",
    "        if i<3:\n",
    "            continue\n",
    "        elif i>1062:\n",
    "            break\n",
    "        elif i in [119,120,237,238,355,356,473,474,591,592,709,710,827,828,945,946]:\n",
    "            counter = 0\n",
    "            continue\n",
    "        else:\n",
    "            enz_val = lines.strip('\\n').split()\n",
    "            Aligned[counter]+=enz_val[1]\n",
    "            counter+=1    "
   ]
  },
  {
   "cell_type": "code",
   "execution_count": 20,
   "metadata": {},
   "outputs": [],
   "source": [
    "# Write alignment file\n",
    "enz_aligned_file = '../Data/Modified-Enzyme-Alignment.txt'\n",
    "\n",
    "with open(enz_aligned_file,'w') as f:\n",
    "    for e,algn,yi in zip(enz_names,Aligned,y):\n",
    "        f.write(e+','+algn+','+str(yi))\n",
    "        f.write('\\n')"
   ]
  }
 ],
 "metadata": {
  "kernelspec": {
   "display_name": "Python 3",
   "language": "python",
   "name": "python3"
  },
  "language_info": {
   "codemirror_mode": {
    "name": "ipython",
    "version": 3
   },
   "file_extension": ".py",
   "mimetype": "text/x-python",
   "name": "python",
   "nbconvert_exporter": "python",
   "pygments_lexer": "ipython3",
   "version": "3.7.9"
  }
 },
 "nbformat": 4,
 "nbformat_minor": 4
}
