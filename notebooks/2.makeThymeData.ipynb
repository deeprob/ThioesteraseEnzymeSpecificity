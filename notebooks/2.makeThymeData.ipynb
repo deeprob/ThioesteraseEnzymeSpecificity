{
 "cells": [
  {
   "cell_type": "code",
   "execution_count": 1,
   "metadata": {},
   "outputs": [],
   "source": [
    "import pandas as pd"
   ]
  },
  {
   "cell_type": "code",
   "execution_count": 2,
   "metadata": {},
   "outputs": [],
   "source": [
    "raw_thyme_datafile = '../data/raw/thyme_dataset_truncV2.xlsx'"
   ]
  },
  {
   "cell_type": "code",
   "execution_count": 5,
   "metadata": {},
   "outputs": [],
   "source": [
    "'''Files needed:\n",
    "- 1 csv file with thyme_enz_alias,thyme_enz_name mapping\n",
    "- 1 csv file with thyme_enz_alias,thyme_enz_sequence (from signal peptides)\n",
    "- 1 csv file with thyme_enz_alias,thyme_enz_sequence (from Mike's truncated list)\n",
    "- 1 fasta file with header as thyme_enz_alias and second line as thyme_sequence (from signal peptides)\n",
    "- 1 fasta file with header as thyme_enz_alias and second line as thyme_sequence (from Mike's truncated list)'''\n",
    "\n",
    "raw_thyme_df1 = pd.read_excel(raw_thyme_datafile, sheet_name='thyme_dataset_signalP5.0', header=None)\n",
    "raw_thyme_df2 = pd.read_excel(raw_thyme_datafile,sheet_name='thyme_dataset_MAJ_trunc', header=None)"
   ]
  },
  {
   "cell_type": "code",
   "execution_count": 6,
   "metadata": {},
   "outputs": [],
   "source": [
    "raw_thyme_df = raw_thyme_df1.merge(raw_thyme_df2, left_index=True, right_index=True)"
   ]
  },
  {
   "cell_type": "code",
   "execution_count": 7,
   "metadata": {},
   "outputs": [],
   "source": [
    "#assign proper column names\n",
    "raw_thyme_df.columns = ['enzNames1','sequence1','enzNames2','sequence2']\n",
    "\n",
    "#make all the sequences upper and get rid of -\n",
    "def upSeq(seqString):\n",
    "    return seqString.upper().replace('-','')\n",
    "\n",
    "raw_thyme_df['sequence1'] = raw_thyme_df.sequence1.apply(upSeq)\n",
    "raw_thyme_df['sequence2'] = raw_thyme_df.sequence2.apply(upSeq)\n",
    "\n",
    "#get rid of sequences with values in 'B', 'J', 'O', 'U', 'X' and 'Z'\n",
    "thyme_df_raw = raw_thyme_df.loc[~raw_thyme_df['sequence1'].str.contains('B|J|O|U|X|Z')]\n",
    "thyme_df = thyme_df_raw.loc[~thyme_df_raw['sequence2'].str.contains('B|J|O|U|X|Z')]\n",
    "\n",
    "# give enz_alias\n",
    "enz_alias_thyme = [f'thyme_enz_{i}' for i in range(len(thyme_df['enzNames1']))]\n",
    "thyme_df = thyme_df.assign(enzAlias=enz_alias_thyme)\n",
    "\n",
    "\n",
    "# create dictionary mapping between alias and enzyme names\n",
    "enz_thyme_mapdict = dict(zip(thyme_df['enzAlias'],thyme_df['enzNames1']))"
   ]
  },
  {
   "cell_type": "code",
   "execution_count": 8,
   "metadata": {
    "scrolled": true
   },
   "outputs": [
    {
     "data": {
      "text/html": [
       "<div>\n",
       "<style scoped>\n",
       "    .dataframe tbody tr th:only-of-type {\n",
       "        vertical-align: middle;\n",
       "    }\n",
       "\n",
       "    .dataframe tbody tr th {\n",
       "        vertical-align: top;\n",
       "    }\n",
       "\n",
       "    .dataframe thead th {\n",
       "        text-align: right;\n",
       "    }\n",
       "</style>\n",
       "<table border=\"1\" class=\"dataframe\">\n",
       "  <thead>\n",
       "    <tr style=\"text-align: right;\">\n",
       "      <th></th>\n",
       "      <th>enzNames1</th>\n",
       "      <th>sequence1</th>\n",
       "      <th>enzNames2</th>\n",
       "      <th>sequence2</th>\n",
       "      <th>enzAlias</th>\n",
       "    </tr>\n",
       "  </thead>\n",
       "  <tbody>\n",
       "    <tr>\n",
       "      <th>0</th>\n",
       "      <td>Uncharacterized_protein__ECO_0000313_EMBL_EMT1...</td>\n",
       "      <td>MAGSVASGFFPTPGSSPAASARGSKNMSGELPESLSVRGMVAKPNT...</td>\n",
       "      <td>Uncharacterized protein {ECO:0000313|EMBL:EMT1...</td>\n",
       "      <td>MHIEIYRYPAWGDVVEIETWCQSEGRIGTRRDWILKDIANAEVTGC...</td>\n",
       "      <td>thyme_enz_0</td>\n",
       "    </tr>\n",
       "    <tr>\n",
       "      <th>1</th>\n",
       "      <td>Uncharacterized_protein__ECO_0000313_EMBL_EMT1...</td>\n",
       "      <td>MAGSIAAAAFFPGPPAPPPPKSALGERPDSLDVRGMAAKQASSSSA...</td>\n",
       "      <td>Uncharacterized protein {ECO:0000313|EMBL:EMT1...</td>\n",
       "      <td>MHIEIYRYPAWGDVVEIETWCQSEGRIGTRRDWILKDIANAEVTGC...</td>\n",
       "      <td>thyme_enz_1</td>\n",
       "    </tr>\n",
       "    <tr>\n",
       "      <th>2</th>\n",
       "      <td>Uncharacterized_protein__ECO_0000313_EMBL_EMT1...</td>\n",
       "      <td>MANTTLSSGTIYHSRVLIRCSSSERGGQQRSNAAVRVNGAAHRATL...</td>\n",
       "      <td>Uncharacterized protein {ECO:0000313|EMBL:EMT1...</td>\n",
       "      <td>MSDVVEIETWCQTEGRIGTRRDWIIKDFASSEVIGRATSKWVMMNQ...</td>\n",
       "      <td>thyme_enz_2</td>\n",
       "    </tr>\n",
       "    <tr>\n",
       "      <th>3</th>\n",
       "      <td>Uncharacterized_protein__ECO_0000313_EMBL_EMT3...</td>\n",
       "      <td>MGQPHIISPSSANYKTVDGRQYPRRICQCFIKHRITVPRIDAYWPS...</td>\n",
       "      <td>Uncharacterized protein {ECO:0000313|EMBL:EMT3...</td>\n",
       "      <td>MRKLHLIWVTSRMHIEIYKYPAWTDVVEIETWCQSEGRIGTRRDWI...</td>\n",
       "      <td>thyme_enz_3</td>\n",
       "    </tr>\n",
       "    <tr>\n",
       "      <th>5</th>\n",
       "      <td>Uncharacterized_protein__ECO_0000313_EMBL_ERN0...</td>\n",
       "      <td>MAMANRVGLVNLLGLVETENFRERKCNYVLRCEKREVRGVRNVNRV...</td>\n",
       "      <td>Uncharacterized protein {ECO:0000313|EMBL:ERN0...</td>\n",
       "      <td>MDVVEIEHWCQGEGKIGTRRDWILKDLASGEVIGRATSKWVMMNQD...</td>\n",
       "      <td>thyme_enz_4</td>\n",
       "    </tr>\n",
       "  </tbody>\n",
       "</table>\n",
       "</div>"
      ],
      "text/plain": [
       "                                           enzNames1  \\\n",
       "0  Uncharacterized_protein__ECO_0000313_EMBL_EMT1...   \n",
       "1  Uncharacterized_protein__ECO_0000313_EMBL_EMT1...   \n",
       "2  Uncharacterized_protein__ECO_0000313_EMBL_EMT1...   \n",
       "3  Uncharacterized_protein__ECO_0000313_EMBL_EMT3...   \n",
       "5  Uncharacterized_protein__ECO_0000313_EMBL_ERN0...   \n",
       "\n",
       "                                           sequence1  \\\n",
       "0  MAGSVASGFFPTPGSSPAASARGSKNMSGELPESLSVRGMVAKPNT...   \n",
       "1  MAGSIAAAAFFPGPPAPPPPKSALGERPDSLDVRGMAAKQASSSSA...   \n",
       "2  MANTTLSSGTIYHSRVLIRCSSSERGGQQRSNAAVRVNGAAHRATL...   \n",
       "3  MGQPHIISPSSANYKTVDGRQYPRRICQCFIKHRITVPRIDAYWPS...   \n",
       "5  MAMANRVGLVNLLGLVETENFRERKCNYVLRCEKREVRGVRNVNRV...   \n",
       "\n",
       "                                           enzNames2  \\\n",
       "0  Uncharacterized protein {ECO:0000313|EMBL:EMT1...   \n",
       "1  Uncharacterized protein {ECO:0000313|EMBL:EMT1...   \n",
       "2  Uncharacterized protein {ECO:0000313|EMBL:EMT1...   \n",
       "3  Uncharacterized protein {ECO:0000313|EMBL:EMT3...   \n",
       "5  Uncharacterized protein {ECO:0000313|EMBL:ERN0...   \n",
       "\n",
       "                                           sequence2     enzAlias  \n",
       "0  MHIEIYRYPAWGDVVEIETWCQSEGRIGTRRDWILKDIANAEVTGC...  thyme_enz_0  \n",
       "1  MHIEIYRYPAWGDVVEIETWCQSEGRIGTRRDWILKDIANAEVTGC...  thyme_enz_1  \n",
       "2  MSDVVEIETWCQTEGRIGTRRDWIIKDFASSEVIGRATSKWVMMNQ...  thyme_enz_2  \n",
       "3  MRKLHLIWVTSRMHIEIYKYPAWTDVVEIETWCQSEGRIGTRRDWI...  thyme_enz_3  \n",
       "5  MDVVEIEHWCQGEGKIGTRRDWILKDLASGEVIGRATSKWVMMNQD...  thyme_enz_4  "
      ]
     },
     "execution_count": 8,
     "metadata": {},
     "output_type": "execute_result"
    }
   ],
   "source": [
    "thyme_df.head()"
   ]
  },
  {
   "cell_type": "code",
   "execution_count": 9,
   "metadata": {},
   "outputs": [],
   "source": [
    "# save the csv sequence file\n",
    "thyme_df.loc[:,['enzAlias','sequence1']].to_csv('../data/seq/ThymeEnzymeSequence1.csv',header=None,index=None)\n",
    "thyme_df.loc[:,['enzAlias','sequence2']].to_csv('../data/seq/ThymeEnzymeSequence2.csv',header=None,index=None)\n",
    "\n",
    "\n",
    "#save the enzyme name mappings\n",
    "thyme_df.loc[:,['enzAlias','enzNames1']].to_csv('../data/ThymeEnzymeNameMap.csv',header=None,index=None)\n",
    "\n",
    "#createFastafileThyme1\n",
    "with open('../data/seq/ThymeEnzymeFasta1.fa','w') as f:\n",
    "    for enzal,enzseq in zip(thyme_df.enzAlias,thyme_df.sequence1):\n",
    "        f.write('>'+enzal)\n",
    "        f.write('\\n')\n",
    "        f.write(enzseq+'\\n')\n",
    "        \n",
    "#createFastafileTest\n",
    "with open('../data/seq/ThymeEnzymeFasta2.fa','w') as f:\n",
    "    for enzal,enzseq in zip(thyme_df.enzAlias,thyme_df.sequence2):\n",
    "        f.write('>'+enzal)\n",
    "        f.write('\\n')\n",
    "        f.write(enzseq+'\\n')"
   ]
  },
  {
   "cell_type": "code",
   "execution_count": null,
   "metadata": {},
   "outputs": [],
   "source": []
  }
 ],
 "metadata": {
  "kernelspec": {
   "display_name": "Python 3",
   "language": "python",
   "name": "python3"
  },
  "language_info": {
   "codemirror_mode": {
    "name": "ipython",
    "version": 3
   },
   "file_extension": ".py",
   "mimetype": "text/x-python",
   "name": "python",
   "nbconvert_exporter": "python",
   "pygments_lexer": "ipython3",
   "version": "3.8.3"
  }
 },
 "nbformat": 4,
 "nbformat_minor": 4
}
