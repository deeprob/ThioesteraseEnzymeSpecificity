{
 "cells": [
  {
   "cell_type": "code",
   "execution_count": 1,
   "metadata": {},
   "outputs": [],
   "source": [
    "# modules\n",
    "import os\n",
    "import pandas as pd\n",
    "from sklearn.model_selection import train_test_split\n",
    "from IndModels.ModelsEdited import NGModel,GAACModel\n",
    "import numpy as np\n",
    "from AutoPos.AutoPosModel import AutoPosClass\n",
    "from sklearn.feature_selection import chi2\n",
    "from mySVM.model import SVM\n",
    "from Ensemble.model import Ensemble\n",
    "import multiprocessing as mp\n",
    "from sklearn.metrics import precision_score"
   ]
  },
  {
   "cell_type": "code",
   "execution_count": 2,
   "metadata": {},
   "outputs": [],
   "source": [
    "class TEClassification:\n",
    "    \n",
    "    def __init__(self,enzymedata,alignedenzymedata,enzymenamemap,\n",
    "                ifeaturefilenames,ifeaturelabelfile,random_seed=None):\n",
    "        \n",
    "        self.random_seed = random_seed\n",
    "        \n",
    "        # original data based on which everything is obtained\n",
    "        self.df = pd.read_csv(enzymedata,header=None)\n",
    "        self.enz_names = self.df[0].values\n",
    "        self.X = self.df.iloc[:,1].values\n",
    "        self.y = self.df.iloc[:,-1].values\n",
    "        \n",
    "        # training and testing data for kmer and gaakmer - will be used for others as well\n",
    "        self.X_train, self.X_test, self.y_train, self.y_test,self.enz_train,self.enz_test = train_test_split(self.X, self.y,self.enz_names, test_size=0.25, random_state=self.random_seed)\n",
    "        \n",
    "        #ng and gaang model\n",
    "        self.ngmodel = NGModel(self.X_train,self.X_test,self.y_train,self.y_test,random_seed=self.random_seed)\n",
    "        self.gmodel = GAACModel(self.X_train,self.X_test,self.y_train,self.y_test,random_seed=self.random_seed)\n",
    "\n",
    "        # aligned data for autopos\n",
    "        self.df_algn = pd.read_csv(alignedenzymedata,header=None).set_index(0)\n",
    "        \n",
    "        # make train test for autopos based on train test for original data\n",
    "        self.df_algn_train = self.df_algn.loc[self.enz_train]\n",
    "        self.df_algn_test = self.df_algn.loc[self.enz_test]\n",
    "        \n",
    "        self.X_train_algn,self.y_train_algn = self.df_algn_train[1].values,self.df_algn_train[2].values\n",
    "        self.X_test_algn,self.y_test_algn = self.df_algn_test[1].values,self.df_algn_test[2].values\n",
    "    \n",
    "        \n",
    "        #autopos model\n",
    "        self.apmodel = AutoPosClass(self.X_train_algn,self.X_test_algn,self.y_train_algn,self.y_test_algn,chi2,None,50,imp=True,verbose=False)\n",
    "        \n",
    "        # the ifeature vectors are mapped to the original enzyme names (will change this later)\n",
    "        # get the alias to original name mappings\n",
    "        self.df_enmap = pd.read_csv(enzymenamemap,header=None)\n",
    "        self.enz_mapdict = dict(zip(self.df_enmap[0],self.df_enmap[1]))\n",
    "        \n",
    "        self.ifeat_label_file = ifeaturelabelfile\n",
    "        \n",
    "        # getting all SVM objects together \n",
    "        self.SVMobjects = list(map(self.get_model_ifeat,ifeaturefilenames))\n",
    "        self.SVMobjects.extend([self.ngmodel.SVMobject,self.gmodel.SVMobject,self.apmodel.SVMobject])\n",
    "        \n",
    "        # select only the best models based on training\n",
    "        self.best_idx,self.best_models = self.select_top_7_models(self.SVMobjects)\n",
    "        \n",
    "        # getting all model predictions together\n",
    "        self.all_model_preds = [svmo.ypredtest for svmo in self.best_models]\n",
    "        self.en = Ensemble(self.all_model_preds,self.y_test)\n",
    "        self.precision = precision_score(self.y_test,self.en.preds)\n",
    "        \n",
    "        pass\n",
    "    \n",
    "    \n",
    "    def get_model_ifeat(self,ifeatfilename):\n",
    "        df1 = pd.read_csv(ifeatfilename,header=None)\n",
    "        df2 = pd.read_csv(self.ifeat_label_file,header=None)\n",
    "        df_feat = df1.merge(df2,on=0).set_index(0)\n",
    "        enz_name_train = [self.enz_mapdict[al] for al in self.enz_train]\n",
    "        enz_name_test = [self.enz_mapdict[al] for al in self.enz_test]\n",
    "        df_feat_train = df_feat.loc[enz_name_train]\n",
    "        df_feat_test = df_feat.loc[enz_name_test]\n",
    "        X_train_feat,y_train_feat = df_feat_train.iloc[:,0:-1].values,df_feat_train.iloc[:,-1].values\n",
    "        X_test_feat,y_test_feat = df_feat_test.iloc[:,0:-1].values,df_feat_test.iloc[:,-1].values\n",
    "        if X_train_feat.shape[1]<40:\n",
    "            n_comp = int(0.75*X_train_feat.shape[1])\n",
    "        else:\n",
    "            n_comp=40\n",
    "        svm = SVM(X_train_feat,X_test_feat,y_train_feat,y_test_feat,verbose=False,optimize=False, pca_comp=n_comp,random_seed=self.random_seed)\n",
    "        return svm\n",
    "        \n",
    "    def select_top_7_models(self,SVMOs):\n",
    "        svm_train_accs = [svmo.acc_train for svmo in SVMOs]\n",
    "        sorted_idx = np.argsort(svm_train_accs)[::-1]\n",
    "        best_idx = sorted_idx[:3]\n",
    "        return best_idx,np.array(SVMOs)[best_idx]\n",
    "        "
   ]
  },
  {
   "cell_type": "code",
   "execution_count": 3,
   "metadata": {},
   "outputs": [
    {
     "name": "stdout",
     "output_type": "stream",
     "text": [
      "CPU times: user 2.56 s, sys: 362 ms, total: 2.92 s\n",
      "Wall time: 13min 54s\n"
     ]
    }
   ],
   "source": [
    "%%time\n",
    "if __name__=='__main__':\n",
    "    # Sequence and label files for autopos,kmer and gaa-kmer\n",
    "    datadir = 'Data/TE_ML_Data/'\n",
    "    enz_file = datadir + 'EnzymeDatasetBinary.csv'\n",
    "    enz_file_aligned = datadir + 'EnzymeDatasetAlignedBinary.csv'\n",
    "\n",
    "    # Feature files for iFeature \n",
    "    ifeatdatadir = 'Data/FeatureVectors/iFeatureVectors/'\n",
    "    ifeature_files = [ifeatdatadir+f.name for f in os.scandir(ifeatdatadir)]\n",
    "    ifeatlabelfile = 'Data/Labels/'+'Labels_BinaryClassification.csv'\n",
    "\n",
    "    # alias to original enzyme name\n",
    "    enz_name_map = datadir + 'EnzymeNameMap.csv'\n",
    "    te = TEClassification(enz_file,enz_file_aligned,enz_name_map,\n",
    "                          ifeature_files,ifeatlabelfile,random_seed=7)\n",
    "    \n",
    "    def multi_func(rs):\n",
    "        te_i = TEClassification(enz_file,enz_file_aligned,enz_name_map,\n",
    "                          ifeature_files,ifeatlabelfile,random_seed=rs)\n",
    "        return te_i.precision,te_i.en.acc    \n",
    "    \n",
    "    pool = mp.Pool(mp.cpu_count())\n",
    "\n",
    "    \n",
    "    \n",
    "    \n",
    "    metrics = list(pool.map(multi_func,range(10000)))\n",
    "    \n"
   ]
  },
  {
   "cell_type": "code",
   "execution_count": 4,
   "metadata": {},
   "outputs": [],
   "source": [
    "prec = [acc[0] for acc in metrics]\n",
    "accs = [acc[1] for acc in metrics]"
   ]
  },
  {
   "cell_type": "code",
   "execution_count": 5,
   "metadata": {
    "scrolled": true
   },
   "outputs": [
    {
     "name": "stdout",
     "output_type": "stream",
     "text": [
      "0.42857142857142855 0.8677437478670877 1.0 0.09853095842781763\n"
     ]
    }
   ],
   "source": [
    "print(min(prec),np.mean(prec),max(prec),np.std(prec))"
   ]
  },
  {
   "cell_type": "code",
   "execution_count": 6,
   "metadata": {},
   "outputs": [
    {
     "name": "stdout",
     "output_type": "stream",
     "text": [
      "0.5862068965517241 0.8657172413793103 1.0 0.06075238098611091\n"
     ]
    }
   ],
   "source": [
    "print(min(accs),np.mean(accs),max(accs),np.std(accs))"
   ]
  },
  {
   "cell_type": "code",
   "execution_count": 7,
   "metadata": {},
   "outputs": [],
   "source": [
    "import matplotlib.pyplot as plt\n",
    "%matplotlib inline"
   ]
  },
  {
   "cell_type": "code",
   "execution_count": 9,
   "metadata": {},
   "outputs": [
    {
     "data": {
      "text/plain": [
       "(array([   7.,   21.,   58.,  177.,  384., 1090., 1420., 2036., 2894.,\n",
       "        1913.]),\n",
       " array([0.42857143, 0.48571429, 0.54285714, 0.6       , 0.65714286,\n",
       "        0.71428571, 0.77142857, 0.82857143, 0.88571429, 0.94285714,\n",
       "        1.        ]),\n",
       " <BarContainer object of 10 artists>)"
      ]
     },
     "execution_count": 9,
     "metadata": {},
     "output_type": "execute_result"
    },
    {
     "data": {
      "image/png": "[encoded data removed]",
      "text/plain": [
       "<Figure size 432x288 with 1 Axes>"
      ]
     },
     "metadata": {
      "needs_background": "light"
     },
     "output_type": "display_data"
    }
   ],
   "source": [
    "plt.hist(prec)"
   ]
  },
  {
   "cell_type": "code",
   "execution_count": 10,
   "metadata": {},
   "outputs": [
    {
     "data": {
      "text/plain": [
       "(array([   7.,   22.,   68.,  185.,  481., 2655., 2197., 2187., 1470.,\n",
       "         728.]),\n",
       " array([0.5862069 , 0.62758621, 0.66896552, 0.71034483, 0.75172414,\n",
       "        0.79310345, 0.83448276, 0.87586207, 0.91724138, 0.95862069,\n",
       "        1.        ]),\n",
       " <BarContainer object of 10 artists>)"
      ]
     },
     "execution_count": 10,
     "metadata": {},
     "output_type": "execute_result"
    },
    {
     "data": {
      "image/png": "[encoded data removed]",
      "text/plain": [
       "<Figure size 432x288 with 1 Axes>"
      ]
     },
     "metadata": {
      "needs_background": "light"
     },
     "output_type": "display_data"
    }
   ],
   "source": [
    "plt.hist(accs)"
   ]
  },
  {
   "cell_type": "code",
   "execution_count": null,
   "metadata": {},
   "outputs": [],
   "source": []
  }
 ],
 "metadata": {
  "kernelspec": {
   "display_name": "Python 3",
   "language": "python",
   "name": "python3"
  },
  "language_info": {
   "codemirror_mode": {
    "name": "ipython",
    "version": 3
   },
   "file_extension": ".py",
   "mimetype": "text/x-python",
   "name": "python",
   "nbconvert_exporter": "python",
   "pygments_lexer": "ipython3",
   "version": "3.6.7"
  }
 },
 "nbformat": 4,
 "nbformat_minor": 4
}
